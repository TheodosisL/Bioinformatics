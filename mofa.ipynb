{
 "cells": [
  {
   "cell_type": "code",
   "execution_count": 1,
   "id": "cfce5e7e-0b00-4fc7-a519-c73330d19512",
   "metadata": {
    "scrolled": true,
    "vscode": {
     "languageId": "r"
    }
   },
   "outputs": [
    {
     "name": "stderr",
     "output_type": "stream",
     "text": [
      "Loading required package: ggplot2\n",
      "\n",
      "Loading required package: ggpubr\n",
      "\n",
      "Loading required package: S4Vectors\n",
      "\n",
      "Loading required package: stats4\n",
      "\n",
      "Loading required package: BiocGenerics\n",
      "\n",
      "\n",
      "Attaching package: ‘BiocGenerics’\n",
      "\n",
      "\n",
      "The following objects are masked from ‘package:stats’:\n",
      "\n",
      "    IQR, mad, sd, var, xtabs\n",
      "\n",
      "\n",
      "The following objects are masked from ‘package:base’:\n",
      "\n",
      "    anyDuplicated, aperm, append, as.data.frame, basename, cbind,\n",
      "    colnames, dirname, do.call, duplicated, eval, evalq, Filter, Find,\n",
      "    get, grep, grepl, intersect, is.unsorted, lapply, Map, mapply,\n",
      "    match, mget, order, paste, pmax, pmax.int, pmin, pmin.int,\n",
      "    Position, rank, rbind, Reduce, rownames, sapply, setdiff, sort,\n",
      "    table, tapply, union, unique, unsplit, which.max, which.min\n",
      "\n",
      "\n",
      "\n",
      "Attaching package: ‘S4Vectors’\n",
      "\n",
      "\n",
      "The following object is masked from ‘package:utils’:\n",
      "\n",
      "    findMatches\n",
      "\n",
      "\n",
      "The following objects are masked from ‘package:base’:\n",
      "\n",
      "    expand.grid, I, unname\n",
      "\n",
      "\n",
      "Loading required package: IRanges\n",
      "\n",
      "Loading required package: GenomicRanges\n",
      "\n",
      "Loading required package: GenomeInfoDb\n",
      "\n",
      "Loading required package: SummarizedExperiment\n",
      "\n",
      "Loading required package: MatrixGenerics\n",
      "\n",
      "Loading required package: matrixStats\n",
      "\n",
      "\n",
      "Attaching package: ‘MatrixGenerics’\n",
      "\n",
      "\n",
      "The following objects are masked from ‘package:matrixStats’:\n",
      "\n",
      "    colAlls, colAnyNAs, colAnys, colAvgsPerRowSet, colCollapse,\n",
      "    colCounts, colCummaxs, colCummins, colCumprods, colCumsums,\n",
      "    colDiffs, colIQRDiffs, colIQRs, colLogSumExps, colMadDiffs,\n",
      "    colMads, colMaxs, colMeans2, colMedians, colMins, colOrderStats,\n",
      "    colProds, colQuantiles, colRanges, colRanks, colSdDiffs, colSds,\n",
      "    colSums2, colTabulates, colVarDiffs, colVars, colWeightedMads,\n",
      "    colWeightedMeans, colWeightedMedians, colWeightedSds,\n",
      "    colWeightedVars, rowAlls, rowAnyNAs, rowAnys, rowAvgsPerColSet,\n",
      "    rowCollapse, rowCounts, rowCummaxs, rowCummins, rowCumprods,\n",
      "    rowCumsums, rowDiffs, rowIQRDiffs, rowIQRs, rowLogSumExps,\n",
      "    rowMadDiffs, rowMads, rowMaxs, rowMeans2, rowMedians, rowMins,\n",
      "    rowOrderStats, rowProds, rowQuantiles, rowRanges, rowRanks,\n",
      "    rowSdDiffs, rowSds, rowSums2, rowTabulates, rowVarDiffs, rowVars,\n",
      "    rowWeightedMads, rowWeightedMeans, rowWeightedMedians,\n",
      "    rowWeightedSds, rowWeightedVars\n",
      "\n",
      "\n",
      "Loading required package: Biobase\n",
      "\n",
      "Welcome to Bioconductor\n",
      "\n",
      "    Vignettes contain introductory material; view with\n",
      "    'browseVignettes()'. To cite Bioconductor, see\n",
      "    'citation(\"Biobase\")', and for packages 'citation(\"pkgname\")'.\n",
      "\n",
      "\n",
      "\n",
      "Attaching package: ‘Biobase’\n",
      "\n",
      "\n",
      "The following object is masked from ‘package:MatrixGenerics’:\n",
      "\n",
      "    rowMedians\n",
      "\n",
      "\n",
      "The following objects are masked from ‘package:matrixStats’:\n",
      "\n",
      "    anyMissing, rowMedians\n",
      "\n",
      "\n",
      "\n",
      "Attaching package: ‘MOFA2’\n",
      "\n",
      "\n",
      "The following object is masked from ‘package:stats’:\n",
      "\n",
      "    predict\n",
      "\n",
      "\n"
     ]
    }
   ],
   "source": [
    "setwd('/home/thlamp/tcga/data')\n",
    "library(TCGAbiolinks)\n",
    "library(survminer)\n",
    "library(DESeq2)\n",
    "library(MOFA2)\n",
    "library(MOFAdata)"
   ]
  },
  {
   "cell_type": "markdown",
   "id": "4c986ff9-e636-4cb8-8088-3c7178637d9a",
   "metadata": {},
   "source": [
    "# Find complete samples"
   ]
  },
  {
   "cell_type": "code",
   "execution_count": 2,
   "id": "387fc9be-e4e4-47c4-9954-b1cd170ed066",
   "metadata": {
    "vscode": {
     "languageId": "r"
    }
   },
   "outputs": [
    {
     "data": {
      "text/plain": [
       "class: RangedSummarizedExperiment \n",
       "dim: 60660 421 \n",
       "metadata(1): data_release\n",
       "assays(6): unstranded stranded_first ... fpkm_unstrand fpkm_uq_unstrand\n",
       "rownames(60660): ENSG00000000003.15 ENSG00000000005.6 ...\n",
       "  ENSG00000288674.1 ENSG00000288675.1\n",
       "rowData names(10): source type ... hgnc_id havana_gene\n",
       "colnames(421): TCGA-FV-A3I0-01A-11R-A22L-07\n",
       "  TCGA-DD-A3A6-11A-11R-A22L-07 ... TCGA-CC-A5UD-01A-11R-A28V-07\n",
       "  TCGA-BC-A10W-11A-11R-A131-07\n",
       "colData names(64): barcode patient ... released sample.aux"
      ]
     },
     "metadata": {},
     "output_type": "display_data"
    }
   ],
   "source": [
    "dataPrep <- readRDS(\"downloaded_dataPrep.rds\")\n",
    "dataPrep"
   ]
  },
  {
   "cell_type": "code",
   "execution_count": 3,
   "id": "e5b08264-c08d-4e6d-8de0-7ea8fba08f83",
   "metadata": {
    "vscode": {
     "languageId": "r"
    }
   },
   "outputs": [],
   "source": [
    "dataAssy.miR <- readRDS(\"downloaded_dataAssy_miR.rds\")"
   ]
  },
  {
   "cell_type": "markdown",
   "id": "f0f6a03f-2fa6-47b6-b2d4-c5f1561fa7bd",
   "metadata": {},
   "source": [
    "## Take columns that start with \"read_count_\" (for raw data) and create matrix"
   ]
  },
  {
   "cell_type": "code",
   "execution_count": 4,
   "id": "c4450522-e125-49f8-a4cf-af1cde2033aa",
   "metadata": {
    "scrolled": true,
    "vscode": {
     "languageId": "r"
    }
   },
   "outputs": [
    {
     "data": {
      "text/html": [
       "<table class=\"dataframe\">\n",
       "<caption>A data.frame: 2 × 422</caption>\n",
       "<thead>\n",
       "\t<tr><th></th><th scope=col>TCGA-FV-A3I0-01A-11R-A22J-13</th><th scope=col>TCGA-ES-A2HS-01A-11R-A17X-13</th><th scope=col>TCGA-UB-A7MA-01A-11R-A343-13</th><th scope=col>TCGA-DD-A4NV-01A-11R-A310-13</th><th scope=col>TCGA-T1-A6J8-01A-11R-A32J-13</th><th scope=col>TCGA-DD-AADF-01A-11R-A41H-13</th><th scope=col>TCGA-DD-AACP-01A-11R-A41H-13</th><th scope=col>TCGA-CC-5261-01A-01R-A130-13</th><th scope=col>TCGA-DD-A1EC-11A-11R-A130-13</th><th scope=col>TCGA-DD-AADN-01A-11R-A41H-13</th><th scope=col>⋯</th><th scope=col>TCGA-DD-AADY-01A-11R-A41H-13</th><th scope=col>TCGA-CC-A7IH-01A-11R-A33A-13</th><th scope=col>TCGA-CC-A7IJ-01A-11R-A343-13</th><th scope=col>TCGA-G3-AAV1-01A-11R-A38M-13</th><th scope=col>TCGA-BC-A10X-01A-11R-A130-13</th><th scope=col>TCGA-G3-A25Z-01A-11R-A16S-13</th><th scope=col>TCGA-DD-A3A2-11A-11R-A214-13</th><th scope=col>TCGA-DD-A3A2-01A-11R-A214-13</th><th scope=col>TCGA-ZS-A9CG-01A-11R-A37G-13</th><th scope=col>TCGA-ZP-A9D0-01A-11R-A37G-13</th></tr>\n",
       "\t<tr><th></th><th scope=col>&lt;int&gt;</th><th scope=col>&lt;int&gt;</th><th scope=col>&lt;int&gt;</th><th scope=col>&lt;int&gt;</th><th scope=col>&lt;int&gt;</th><th scope=col>&lt;int&gt;</th><th scope=col>&lt;int&gt;</th><th scope=col>&lt;int&gt;</th><th scope=col>&lt;int&gt;</th><th scope=col>&lt;int&gt;</th><th scope=col>⋯</th><th scope=col>&lt;int&gt;</th><th scope=col>&lt;int&gt;</th><th scope=col>&lt;int&gt;</th><th scope=col>&lt;int&gt;</th><th scope=col>&lt;int&gt;</th><th scope=col>&lt;int&gt;</th><th scope=col>&lt;int&gt;</th><th scope=col>&lt;int&gt;</th><th scope=col>&lt;int&gt;</th><th scope=col>&lt;int&gt;</th></tr>\n",
       "</thead>\n",
       "<tbody>\n",
       "\t<tr><th scope=row>hsa-let-7a-1</th><td>68731</td><td>16966</td><td>44411</td><td>41938</td><td>59698</td><td>30805</td><td>26385</td><td>141609</td><td>100036</td><td>12907</td><td>⋯</td><td>46125</td><td>23894</td><td>102617</td><td>22193</td><td>75118</td><td>57368</td><td>28422</td><td>10481</td><td>31753</td><td>16776</td></tr>\n",
       "\t<tr><th scope=row>hsa-let-7a-2</th><td>68386</td><td>17161</td><td>44620</td><td>41873</td><td>59753</td><td>30638</td><td>26314</td><td>140961</td><td> 99931</td><td>12863</td><td>⋯</td><td>46136</td><td>23652</td><td>103224</td><td>22293</td><td>75366</td><td>57330</td><td>28642</td><td>10356</td><td>31748</td><td>16823</td></tr>\n",
       "</tbody>\n",
       "</table>\n"
      ],
      "text/latex": [
       "A data.frame: 2 × 422\n",
       "\\begin{tabular}{r|lllllllllllllllllllll}\n",
       "  & TCGA-FV-A3I0-01A-11R-A22J-13 & TCGA-ES-A2HS-01A-11R-A17X-13 & TCGA-UB-A7MA-01A-11R-A343-13 & TCGA-DD-A4NV-01A-11R-A310-13 & TCGA-T1-A6J8-01A-11R-A32J-13 & TCGA-DD-AADF-01A-11R-A41H-13 & TCGA-DD-AACP-01A-11R-A41H-13 & TCGA-CC-5261-01A-01R-A130-13 & TCGA-DD-A1EC-11A-11R-A130-13 & TCGA-DD-AADN-01A-11R-A41H-13 & ⋯ & TCGA-DD-AADY-01A-11R-A41H-13 & TCGA-CC-A7IH-01A-11R-A33A-13 & TCGA-CC-A7IJ-01A-11R-A343-13 & TCGA-G3-AAV1-01A-11R-A38M-13 & TCGA-BC-A10X-01A-11R-A130-13 & TCGA-G3-A25Z-01A-11R-A16S-13 & TCGA-DD-A3A2-11A-11R-A214-13 & TCGA-DD-A3A2-01A-11R-A214-13 & TCGA-ZS-A9CG-01A-11R-A37G-13 & TCGA-ZP-A9D0-01A-11R-A37G-13\\\\\n",
       "  & <int> & <int> & <int> & <int> & <int> & <int> & <int> & <int> & <int> & <int> & ⋯ & <int> & <int> & <int> & <int> & <int> & <int> & <int> & <int> & <int> & <int>\\\\\n",
       "\\hline\n",
       "\thsa-let-7a-1 & 68731 & 16966 & 44411 & 41938 & 59698 & 30805 & 26385 & 141609 & 100036 & 12907 & ⋯ & 46125 & 23894 & 102617 & 22193 & 75118 & 57368 & 28422 & 10481 & 31753 & 16776\\\\\n",
       "\thsa-let-7a-2 & 68386 & 17161 & 44620 & 41873 & 59753 & 30638 & 26314 & 140961 &  99931 & 12863 & ⋯ & 46136 & 23652 & 103224 & 22293 & 75366 & 57330 & 28642 & 10356 & 31748 & 16823\\\\\n",
       "\\end{tabular}\n"
      ],
      "text/markdown": [
       "\n",
       "A data.frame: 2 × 422\n",
       "\n",
       "| <!--/--> | TCGA-FV-A3I0-01A-11R-A22J-13 &lt;int&gt; | TCGA-ES-A2HS-01A-11R-A17X-13 &lt;int&gt; | TCGA-UB-A7MA-01A-11R-A343-13 &lt;int&gt; | TCGA-DD-A4NV-01A-11R-A310-13 &lt;int&gt; | TCGA-T1-A6J8-01A-11R-A32J-13 &lt;int&gt; | TCGA-DD-AADF-01A-11R-A41H-13 &lt;int&gt; | TCGA-DD-AACP-01A-11R-A41H-13 &lt;int&gt; | TCGA-CC-5261-01A-01R-A130-13 &lt;int&gt; | TCGA-DD-A1EC-11A-11R-A130-13 &lt;int&gt; | TCGA-DD-AADN-01A-11R-A41H-13 &lt;int&gt; | ⋯ ⋯ | TCGA-DD-AADY-01A-11R-A41H-13 &lt;int&gt; | TCGA-CC-A7IH-01A-11R-A33A-13 &lt;int&gt; | TCGA-CC-A7IJ-01A-11R-A343-13 &lt;int&gt; | TCGA-G3-AAV1-01A-11R-A38M-13 &lt;int&gt; | TCGA-BC-A10X-01A-11R-A130-13 &lt;int&gt; | TCGA-G3-A25Z-01A-11R-A16S-13 &lt;int&gt; | TCGA-DD-A3A2-11A-11R-A214-13 &lt;int&gt; | TCGA-DD-A3A2-01A-11R-A214-13 &lt;int&gt; | TCGA-ZS-A9CG-01A-11R-A37G-13 &lt;int&gt; | TCGA-ZP-A9D0-01A-11R-A37G-13 &lt;int&gt; |\n",
       "|---|---|---|---|---|---|---|---|---|---|---|---|---|---|---|---|---|---|---|---|---|---|\n",
       "| hsa-let-7a-1 | 68731 | 16966 | 44411 | 41938 | 59698 | 30805 | 26385 | 141609 | 100036 | 12907 | ⋯ | 46125 | 23894 | 102617 | 22193 | 75118 | 57368 | 28422 | 10481 | 31753 | 16776 |\n",
       "| hsa-let-7a-2 | 68386 | 17161 | 44620 | 41873 | 59753 | 30638 | 26314 | 140961 |  99931 | 12863 | ⋯ | 46136 | 23652 | 103224 | 22293 | 75366 | 57330 | 28642 | 10356 | 31748 | 16823 |\n",
       "\n"
      ],
      "text/plain": [
       "             TCGA-FV-A3I0-01A-11R-A22J-13 TCGA-ES-A2HS-01A-11R-A17X-13\n",
       "hsa-let-7a-1 68731                        16966                       \n",
       "hsa-let-7a-2 68386                        17161                       \n",
       "             TCGA-UB-A7MA-01A-11R-A343-13 TCGA-DD-A4NV-01A-11R-A310-13\n",
       "hsa-let-7a-1 44411                        41938                       \n",
       "hsa-let-7a-2 44620                        41873                       \n",
       "             TCGA-T1-A6J8-01A-11R-A32J-13 TCGA-DD-AADF-01A-11R-A41H-13\n",
       "hsa-let-7a-1 59698                        30805                       \n",
       "hsa-let-7a-2 59753                        30638                       \n",
       "             TCGA-DD-AACP-01A-11R-A41H-13 TCGA-CC-5261-01A-01R-A130-13\n",
       "hsa-let-7a-1 26385                        141609                      \n",
       "hsa-let-7a-2 26314                        140961                      \n",
       "             TCGA-DD-A1EC-11A-11R-A130-13 TCGA-DD-AADN-01A-11R-A41H-13 ⋯\n",
       "hsa-let-7a-1 100036                       12907                        ⋯\n",
       "hsa-let-7a-2  99931                       12863                        ⋯\n",
       "             TCGA-DD-AADY-01A-11R-A41H-13 TCGA-CC-A7IH-01A-11R-A33A-13\n",
       "hsa-let-7a-1 46125                        23894                       \n",
       "hsa-let-7a-2 46136                        23652                       \n",
       "             TCGA-CC-A7IJ-01A-11R-A343-13 TCGA-G3-AAV1-01A-11R-A38M-13\n",
       "hsa-let-7a-1 102617                       22193                       \n",
       "hsa-let-7a-2 103224                       22293                       \n",
       "             TCGA-BC-A10X-01A-11R-A130-13 TCGA-G3-A25Z-01A-11R-A16S-13\n",
       "hsa-let-7a-1 75118                        57368                       \n",
       "hsa-let-7a-2 75366                        57330                       \n",
       "             TCGA-DD-A3A2-11A-11R-A214-13 TCGA-DD-A3A2-01A-11R-A214-13\n",
       "hsa-let-7a-1 28422                        10481                       \n",
       "hsa-let-7a-2 28642                        10356                       \n",
       "             TCGA-ZS-A9CG-01A-11R-A37G-13 TCGA-ZP-A9D0-01A-11R-A37G-13\n",
       "hsa-let-7a-1 31753                        16776                       \n",
       "hsa-let-7a-2 31748                        16823                       "
      ]
     },
     "metadata": {},
     "output_type": "display_data"
    }
   ],
   "source": [
    "read_countData <-  colnames(dataAssy.miR)[grep(\"read_count_\", colnames(dataAssy.miR))]\n",
    "\n",
    "data_matrix_miR <- dataAssy.miR[,read_countData]\n",
    "\n",
    "colnames(data_matrix_miR) <- gsub(\"read_count_\",\"\", colnames(data_matrix_miR))\n",
    "\n",
    "head(data_matrix_miR, 2)"
   ]
  },
  {
   "cell_type": "code",
   "execution_count": 5,
   "id": "9d4e7c6b-07a6-4924-b189-d27b071d7f4e",
   "metadata": {
    "vscode": {
     "languageId": "r"
    }
   },
   "outputs": [
    {
     "data": {
      "text/plain": [
       "class: RangedSummarizedExperiment \n",
       "dim: 485577 427 \n",
       "metadata(1): data_release\n",
       "assays(1): ''\n",
       "rownames(485577): cg13869341 cg14008030 ... cg11478607 cg08417382\n",
       "rowData names(52): address_A address_B ... MASK_extBase MASK_general\n",
       "colnames(427): TCGA-BC-A110-11A-11D-A132-05\n",
       "  TCGA-G3-A3CG-01A-11D-A20Z-05 ... TCGA-ZS-A9CG-01A-11D-A36Y-05\n",
       "  TCGA-ZP-A9D0-01A-11D-A36Y-05\n",
       "colData names(64): barcode patient ... released sample.aux"
      ]
     },
     "metadata": {},
     "output_type": "display_data"
    }
   ],
   "source": [
    "data_met <- readRDS(\"downloaded_data_met.rds\")\n",
    "data_met"
   ]
  },
  {
   "cell_type": "code",
   "execution_count": null,
   "id": "d22a8046-878b-4502-9ac8-1082339f65ee",
   "metadata": {
    "vscode": {
     "languageId": "r"
    }
   },
   "outputs": [],
   "source": [
    "mRNASamples <- colData(dataPrep)$sample\n",
    "\n",
    "miRNASamples <- colnames(data_matrix_miR)\n",
    "# keep first 16 characters from colnames, which are sample ids\n",
    "miRNASamples <- substr(miRNASamples, 0, 16)\n",
    " \n",
    "methylationSamples <- colData(data_met)$sample"
   ]
  },
  {
   "cell_type": "code",
   "execution_count": 7,
   "id": "adbdaae4-7cb1-4a17-8321-37953b636af0",
   "metadata": {
    "vscode": {
     "languageId": "r"
    }
   },
   "outputs": [
    {
     "data": {
      "text/html": [
       "408"
      ],
      "text/latex": [
       "408"
      ],
      "text/markdown": [
       "408"
      ],
      "text/plain": [
       "[1] 408"
      ]
     },
     "metadata": {},
     "output_type": "display_data"
    }
   ],
   "source": [
    "completeSamples <- Reduce(intersect, list(mRNASamples, miRNASamples, methylationSamples))\n",
    "length(completeSamples)"
   ]
  },
  {
   "cell_type": "markdown",
   "id": "c6011758-ecc2-40f6-9ab4-d5cc45ebafd6",
   "metadata": {},
   "source": [
    "# mRNA"
   ]
  },
  {
   "cell_type": "code",
   "execution_count": 8,
   "id": "797f6103-beb9-4e92-a117-49101b454dff",
   "metadata": {
    "vscode": {
     "languageId": "r"
    }
   },
   "outputs": [
    {
     "data": {
      "text/plain": [
       "class: RangedSummarizedExperiment \n",
       "dim: 60660 421 \n",
       "metadata(1): data_release\n",
       "assays(6): unstranded stranded_first ... fpkm_unstrand fpkm_uq_unstrand\n",
       "rownames(60660): ENSG00000000003.15 ENSG00000000005.6 ...\n",
       "  ENSG00000288674.1 ENSG00000288675.1\n",
       "rowData names(10): source type ... hgnc_id havana_gene\n",
       "colnames(421): TCGA-FV-A3I0-01A-11R-A22L-07\n",
       "  TCGA-DD-A3A6-11A-11R-A22L-07 ... TCGA-CC-A5UD-01A-11R-A28V-07\n",
       "  TCGA-BC-A10W-11A-11R-A131-07\n",
       "colData names(64): barcode patient ... released sample.aux"
      ]
     },
     "metadata": {},
     "output_type": "display_data"
    }
   ],
   "source": [
    "dataPrep <- readRDS(\"downloaded_dataPrep.rds\")\n",
    "dataPrep"
   ]
  },
  {
   "cell_type": "markdown",
   "id": "9c9ffadb-0efe-4aa4-aa5e-137b3a04a0b9",
   "metadata": {},
   "source": [
    "## Filtering for duplicated samples"
   ]
  },
  {
   "cell_type": "code",
   "execution_count": 9,
   "id": "23573496-09a0-4081-91ef-5fb139c86ba5",
   "metadata": {
    "vscode": {
     "languageId": "r"
    }
   },
   "outputs": [],
   "source": [
    "# duplicates_index_to_remove <- function(patient,input_matrix) {\n",
    "#   # for every element in patient search colnames that start with this sample id, whih are from duplicated samples \n",
    "#   duplicated_columns <- colnames(input_matrix)[grep(patient, colnames(input_matrix))]\n",
    "    \n",
    "#   # Count zeros in the specified columns\n",
    "#   zero_counts <- colSums(input_matrix[, duplicated_columns] == 0)\n",
    "#   print(zero_counts)\n",
    "\n",
    "#   # find which column for every duplicated sample has more zeros\n",
    "#   index_of_larger_number <- which.max(zero_counts)\n",
    "\n",
    "#   # Find the index from the matrix, of the column with more zeros to remove\n",
    "#   column_index_to_remove <- which(colnames(input_matrix) %in% duplicated_columns[index_of_larger_number])\n",
    "\n",
    "#   return (column_index_to_remove)\n",
    "# }"
   ]
  },
  {
   "cell_type": "code",
   "execution_count": 10,
   "id": "d0efd545-d8d2-4a79-a2f5-dab6eaf95f24",
   "metadata": {
    "vscode": {
     "languageId": "r"
    }
   },
   "outputs": [],
   "source": [
    "# # find duplicated samples in colData(dataPrep)\n",
    "# patient_duplicates <- colData(dataPrep)$sample[which(duplicated(colData(dataPrep)$sample))]\n",
    "\n",
    "# # use function duplicates_index_to_remove for every element in patient_duplicates\n",
    "# patient_duplicates_to_remove <- sapply(patient_duplicates, duplicates_index_to_remove, input_matrix = assay(dataPrep,\"unstranded\"))\n",
    "\n",
    "# print(\"Index of duplicates with the most zeros per patient with duplicates\")\n",
    "# patient_duplicates_to_remove\n",
    "\n",
    "# print(\"The names of the columns that will be removed\")\n",
    "# colnames(dataPrep)[patient_duplicates_to_remove]\n",
    "# samples_to_remove <- colnames(dataPrep)[patient_duplicates_to_remove]"
   ]
  },
  {
   "cell_type": "code",
   "execution_count": 11,
   "id": "07548775-bbcb-476a-90e6-9254c2c6b491",
   "metadata": {
    "vscode": {
     "languageId": "r"
    }
   },
   "outputs": [],
   "source": [
    "# # Remove the specified-duplicated columns\n",
    "# dataPrep <- dataPrep[, which(!colnames(dataPrep) %in% samples_to_remove)]\n",
    "# dataPrep"
   ]
  },
  {
   "cell_type": "code",
   "execution_count": 12,
   "id": "da810b6f-8d26-4feb-9fef-ed2ee0f097bd",
   "metadata": {
    "vscode": {
     "languageId": "r"
    }
   },
   "outputs": [],
   "source": [
    "# length(colData(dataPrep)$sample)\n",
    "# which(duplicated(colData(dataPrep)$sample))"
   ]
  },
  {
   "cell_type": "code",
   "execution_count": 13,
   "id": "ac5da9d5-6620-4343-b85a-9a9cbc53369f",
   "metadata": {
    "vscode": {
     "languageId": "r"
    }
   },
   "outputs": [],
   "source": [
    "# which(colData(dataPrep)$barcode %in% c('TCGA-BL-A13J-01A-11R-A10U-07','TCGA-BL-A13I-01A-11R-A277-07','TCGA-BL-A0C8-01A-11R-A10U-07'))\n",
    "# which(colnames(dataPrep) %in% c('TCGA-BL-A13J-01A-11R-A10U-07','TCGA-BL-A13I-01A-11R-A277-07','TCGA-BL-A0C8-01A-11R-A10U-07'))"
   ]
  },
  {
   "cell_type": "markdown",
   "id": "63f82f49-c384-4141-9b5e-12eacc9eff32",
   "metadata": {},
   "source": [
    "## Filtering for complete samples"
   ]
  },
  {
   "cell_type": "code",
   "execution_count": 14,
   "id": "cddfab5a-fa87-4b92-8545-e9faacb21cb7",
   "metadata": {
    "vscode": {
     "languageId": "r"
    }
   },
   "outputs": [
    {
     "data": {
      "text/plain": [
       "class: RangedSummarizedExperiment \n",
       "dim: 60660 408 \n",
       "metadata(1): data_release\n",
       "assays(6): unstranded stranded_first ... fpkm_unstrand fpkm_uq_unstrand\n",
       "rownames(60660): ENSG00000000003.15 ENSG00000000005.6 ...\n",
       "  ENSG00000288674.1 ENSG00000288675.1\n",
       "rowData names(10): source type ... hgnc_id havana_gene\n",
       "colnames(408): TCGA-FV-A3I0-01A-11R-A22L-07\n",
       "  TCGA-DD-A3A6-01A-11R-A22L-07 ... TCGA-CC-A5UD-01A-11R-A28V-07\n",
       "  TCGA-BC-A10W-11A-11R-A131-07\n",
       "colData names(64): barcode patient ... released sample.aux"
      ]
     },
     "metadata": {},
     "output_type": "display_data"
    }
   ],
   "source": [
    "# # Remove the specified-duplicated columns\n",
    "dataPrep <- dataPrep[, which(colData(dataPrep)$sample %in% completeSamples)]\n",
    "dataPrep"
   ]
  },
  {
   "cell_type": "code",
   "execution_count": 15,
   "id": "9e3f320c-ac58-4a36-a85d-f4b928b35f4e",
   "metadata": {
    "vscode": {
     "languageId": "r"
    }
   },
   "outputs": [],
   "source": [
    "colnames(dataPrep) <- colData(dataPrep)$sample"
   ]
  },
  {
   "cell_type": "markdown",
   "id": "eaadebb2-4529-42f0-9d8b-b78e47ee7cee",
   "metadata": {},
   "source": [
    "## Filtering selected features "
   ]
  },
  {
   "cell_type": "code",
   "execution_count": 16,
   "id": "0b9a6cbe-3960-4bc8-a7ac-8f8b2c0247ad",
   "metadata": {
    "vscode": {
     "languageId": "r"
    }
   },
   "outputs": [
    {
     "data": {
      "text/html": [
       "<table class=\"dataframe\">\n",
       "<caption>A data.frame: 3 × 1</caption>\n",
       "<thead>\n",
       "\t<tr><th></th><th scope=col>x</th></tr>\n",
       "\t<tr><th></th><th scope=col>&lt;chr&gt;</th></tr>\n",
       "</thead>\n",
       "<tbody>\n",
       "\t<tr><th scope=row>1</th><td>ENSG00000160339.16</td></tr>\n",
       "\t<tr><th scope=row>2</th><td>ENSG00000019169.10</td></tr>\n",
       "\t<tr><th scope=row>3</th><td>ENSG00000136011.15</td></tr>\n",
       "</tbody>\n",
       "</table>\n"
      ],
      "text/latex": [
       "A data.frame: 3 × 1\n",
       "\\begin{tabular}{r|l}\n",
       "  & x\\\\\n",
       "  & <chr>\\\\\n",
       "\\hline\n",
       "\t1 & ENSG00000160339.16\\\\\n",
       "\t2 & ENSG00000019169.10\\\\\n",
       "\t3 & ENSG00000136011.15\\\\\n",
       "\\end{tabular}\n"
      ],
      "text/markdown": [
       "\n",
       "A data.frame: 3 × 1\n",
       "\n",
       "| <!--/--> | x &lt;chr&gt; |\n",
       "|---|---|\n",
       "| 1 | ENSG00000160339.16 |\n",
       "| 2 | ENSG00000019169.10 |\n",
       "| 3 | ENSG00000136011.15 |\n",
       "\n"
      ],
      "text/plain": [
       "  x                 \n",
       "1 ENSG00000160339.16\n",
       "2 ENSG00000019169.10\n",
       "3 ENSG00000136011.15"
      ]
     },
     "metadata": {},
     "output_type": "display_data"
    }
   ],
   "source": [
    "selectedFeatures<- read.csv(\"/home/thlamp/tcga/data/DEGs450.csv\")\n",
    "head(selectedFeatures, 3)"
   ]
  },
  {
   "cell_type": "code",
   "execution_count": 17,
   "id": "3ce28d9a-8f91-4531-9270-ef40421503e3",
   "metadata": {
    "vscode": {
     "languageId": "r"
    }
   },
   "outputs": [
    {
     "data": {
      "text/plain": [
       "class: RangedSummarizedExperiment \n",
       "dim: 150 408 \n",
       "metadata(1): data_release\n",
       "assays(6): unstranded stranded_first ... fpkm_unstrand fpkm_uq_unstrand\n",
       "rownames(150): ENSG00000007350.17 ENSG00000019169.10 ...\n",
       "  ENSG00000273777.5 ENSG00000286403.1\n",
       "rowData names(10): source type ... hgnc_id havana_gene\n",
       "colnames(408): TCGA-FV-A3I0-01A TCGA-DD-A3A6-01A ... TCGA-CC-A5UD-01A\n",
       "  TCGA-BC-A10W-11A\n",
       "colData names(64): barcode patient ... released sample.aux"
      ]
     },
     "metadata": {},
     "output_type": "display_data"
    }
   ],
   "source": [
    "dataPrep <- dataPrep[which(rownames(dataPrep) %in% selectedFeatures$x),]\n",
    "dataPrep"
   ]
  },
  {
   "cell_type": "markdown",
   "id": "9a83309a-3f95-4d26-a4a3-d7da3fd3f4bc",
   "metadata": {},
   "source": [
    "## State MOFA model"
   ]
  },
  {
   "cell_type": "code",
   "execution_count": 18,
   "id": "602363cd-16c9-4def-a558-0c43ad967b85",
   "metadata": {
    "vscode": {
     "languageId": "r"
    }
   },
   "outputs": [
    {
     "name": "stderr",
     "output_type": "stream",
     "text": [
      "-- note: fitType='parametric', but the dispersion trend was not well captured by the\n",
      "   function: y = a/x + b, and a local regression fit was automatically substituted.\n",
      "   specify fitType='local' or 'mean' to avoid this message next time.\n",
      "\n"
     ]
    },
    {
     "data": {
      "text/html": [
       "<table class=\"dataframe\">\n",
       "<caption>A matrix: 2 × 408 of type dbl</caption>\n",
       "<thead>\n",
       "\t<tr><th></th><th scope=col>TCGA-FV-A3I0-01A</th><th scope=col>TCGA-DD-A3A6-01A</th><th scope=col>TCGA-BD-A3ER-01A</th><th scope=col>TCGA-CC-5261-01A</th><th scope=col>TCGA-DD-AAVZ-01A</th><th scope=col>TCGA-DD-AADN-01A</th><th scope=col>TCGA-DD-A1EB-01A</th><th scope=col>TCGA-LG-A9QD-01A</th><th scope=col>TCGA-G3-A25T-01A</th><th scope=col>TCGA-XR-A8TE-01A</th><th scope=col>⋯</th><th scope=col>TCGA-FV-A2QR-01A</th><th scope=col>TCGA-DD-AADY-01A</th><th scope=col>TCGA-BW-A5NO-01A</th><th scope=col>TCGA-CC-A7IJ-01A</th><th scope=col>TCGA-2Y-A9H8-01A</th><th scope=col>TCGA-BC-A10X-01A</th><th scope=col>TCGA-DD-A3A2-11A</th><th scope=col>TCGA-DD-A3A2-01A</th><th scope=col>TCGA-CC-A5UD-01A</th><th scope=col>TCGA-BC-A10W-11A</th></tr>\n",
       "</thead>\n",
       "<tbody>\n",
       "\t<tr><th scope=row>ENSG00000007350.17</th><td>-2.005792</td><td>3.668439</td><td>0.008955007</td><td>-0.7072536</td><td>-2.744387</td><td>-2.530052</td><td>-0.7269816</td><td>0.1496377</td><td>-2.037746</td><td>-1.049837</td><td>⋯</td><td>-2.237870</td><td>-0.04683096</td><td>0.3309628</td><td>-3.070753</td><td>-3.202897</td><td> 3.337705</td><td> 3.283273</td><td> 0.6638941</td><td>-3.828411</td><td> 3.483122</td></tr>\n",
       "\t<tr><th scope=row>ENSG00000019169.10</th><td> 3.770181</td><td>4.862798</td><td>3.655328409</td><td> 0.4305947</td><td>-5.128186</td><td> 5.235758</td><td> 4.8880551</td><td>2.8254859</td><td> 5.331767</td><td> 6.245451</td><td>⋯</td><td> 4.688055</td><td> 1.03912578</td><td>1.7541576</td><td>-1.180819</td><td> 3.241514</td><td>12.954035</td><td>16.244889</td><td>13.3355976</td><td>-1.905900</td><td>14.414473</td></tr>\n",
       "</tbody>\n",
       "</table>\n"
      ],
      "text/latex": [
       "A matrix: 2 × 408 of type dbl\n",
       "\\begin{tabular}{r|lllllllllllllllllllll}\n",
       "  & TCGA-FV-A3I0-01A & TCGA-DD-A3A6-01A & TCGA-BD-A3ER-01A & TCGA-CC-5261-01A & TCGA-DD-AAVZ-01A & TCGA-DD-AADN-01A & TCGA-DD-A1EB-01A & TCGA-LG-A9QD-01A & TCGA-G3-A25T-01A & TCGA-XR-A8TE-01A & ⋯ & TCGA-FV-A2QR-01A & TCGA-DD-AADY-01A & TCGA-BW-A5NO-01A & TCGA-CC-A7IJ-01A & TCGA-2Y-A9H8-01A & TCGA-BC-A10X-01A & TCGA-DD-A3A2-11A & TCGA-DD-A3A2-01A & TCGA-CC-A5UD-01A & TCGA-BC-A10W-11A\\\\\n",
       "\\hline\n",
       "\tENSG00000007350.17 & -2.005792 & 3.668439 & 0.008955007 & -0.7072536 & -2.744387 & -2.530052 & -0.7269816 & 0.1496377 & -2.037746 & -1.049837 & ⋯ & -2.237870 & -0.04683096 & 0.3309628 & -3.070753 & -3.202897 &  3.337705 &  3.283273 &  0.6638941 & -3.828411 &  3.483122\\\\\n",
       "\tENSG00000019169.10 &  3.770181 & 4.862798 & 3.655328409 &  0.4305947 & -5.128186 &  5.235758 &  4.8880551 & 2.8254859 &  5.331767 &  6.245451 & ⋯ &  4.688055 &  1.03912578 & 1.7541576 & -1.180819 &  3.241514 & 12.954035 & 16.244889 & 13.3355976 & -1.905900 & 14.414473\\\\\n",
       "\\end{tabular}\n"
      ],
      "text/markdown": [
       "\n",
       "A matrix: 2 × 408 of type dbl\n",
       "\n",
       "| <!--/--> | TCGA-FV-A3I0-01A | TCGA-DD-A3A6-01A | TCGA-BD-A3ER-01A | TCGA-CC-5261-01A | TCGA-DD-AAVZ-01A | TCGA-DD-AADN-01A | TCGA-DD-A1EB-01A | TCGA-LG-A9QD-01A | TCGA-G3-A25T-01A | TCGA-XR-A8TE-01A | ⋯ | TCGA-FV-A2QR-01A | TCGA-DD-AADY-01A | TCGA-BW-A5NO-01A | TCGA-CC-A7IJ-01A | TCGA-2Y-A9H8-01A | TCGA-BC-A10X-01A | TCGA-DD-A3A2-11A | TCGA-DD-A3A2-01A | TCGA-CC-A5UD-01A | TCGA-BC-A10W-11A |\n",
       "|---|---|---|---|---|---|---|---|---|---|---|---|---|---|---|---|---|---|---|---|---|---|\n",
       "| ENSG00000007350.17 | -2.005792 | 3.668439 | 0.008955007 | -0.7072536 | -2.744387 | -2.530052 | -0.7269816 | 0.1496377 | -2.037746 | -1.049837 | ⋯ | -2.237870 | -0.04683096 | 0.3309628 | -3.070753 | -3.202897 |  3.337705 |  3.283273 |  0.6638941 | -3.828411 |  3.483122 |\n",
       "| ENSG00000019169.10 |  3.770181 | 4.862798 | 3.655328409 |  0.4305947 | -5.128186 |  5.235758 |  4.8880551 | 2.8254859 |  5.331767 |  6.245451 | ⋯ |  4.688055 |  1.03912578 | 1.7541576 | -1.180819 |  3.241514 | 12.954035 | 16.244889 | 13.3355976 | -1.905900 | 14.414473 |\n",
       "\n"
      ],
      "text/plain": [
       "                   TCGA-FV-A3I0-01A TCGA-DD-A3A6-01A TCGA-BD-A3ER-01A\n",
       "ENSG00000007350.17 -2.005792        3.668439         0.008955007     \n",
       "ENSG00000019169.10  3.770181        4.862798         3.655328409     \n",
       "                   TCGA-CC-5261-01A TCGA-DD-AAVZ-01A TCGA-DD-AADN-01A\n",
       "ENSG00000007350.17 -0.7072536       -2.744387        -2.530052       \n",
       "ENSG00000019169.10  0.4305947       -5.128186         5.235758       \n",
       "                   TCGA-DD-A1EB-01A TCGA-LG-A9QD-01A TCGA-G3-A25T-01A\n",
       "ENSG00000007350.17 -0.7269816       0.1496377        -2.037746       \n",
       "ENSG00000019169.10  4.8880551       2.8254859         5.331767       \n",
       "                   TCGA-XR-A8TE-01A ⋯ TCGA-FV-A2QR-01A TCGA-DD-AADY-01A\n",
       "ENSG00000007350.17 -1.049837        ⋯ -2.237870        -0.04683096     \n",
       "ENSG00000019169.10  6.245451        ⋯  4.688055         1.03912578     \n",
       "                   TCGA-BW-A5NO-01A TCGA-CC-A7IJ-01A TCGA-2Y-A9H8-01A\n",
       "ENSG00000007350.17 0.3309628        -3.070753        -3.202897       \n",
       "ENSG00000019169.10 1.7541576        -1.180819         3.241514       \n",
       "                   TCGA-BC-A10X-01A TCGA-DD-A3A2-11A TCGA-DD-A3A2-01A\n",
       "ENSG00000007350.17  3.337705         3.283273         0.6638941      \n",
       "ENSG00000019169.10 12.954035        16.244889        13.3355976      \n",
       "                   TCGA-CC-A5UD-01A TCGA-BC-A10W-11A\n",
       "ENSG00000007350.17 -3.828411         3.483122       \n",
       "ENSG00000019169.10 -1.905900        14.414473       "
      ]
     },
     "metadata": {},
     "output_type": "display_data"
    }
   ],
   "source": [
    "# Create a DESeqDataSet object\n",
    "dds <- DESeqDataSetFromMatrix(countData = assay(dataPrep,\"unstranded\"),\n",
    "                              colData = colData(dataPrep),\n",
    "                              design = ~ 1)\n",
    "\n",
    "\n",
    "# Estimate size factors\n",
    "dds <- estimateSizeFactors(dds)\n",
    "\n",
    "# Perform variance-stabilizing transformation with design information\n",
    "vsd <- varianceStabilizingTransformation(dds, blind = TRUE)\n",
    "\n",
    "# Extract the normalized counts\n",
    "normalized_counts <- assay(vsd)\n",
    "\n",
    "head(normalized_counts, 2)"
   ]
  },
  {
   "cell_type": "markdown",
   "id": "ed5f57f1-d2d7-4d5d-861c-3fc2f5286491",
   "metadata": {
    "jp-MarkdownHeadingCollapsed": true
   },
   "source": [
    "### check data"
   ]
  },
  {
   "cell_type": "code",
   "execution_count": 25,
   "id": "c561dfcc-1698-4646-a9a1-ad80e8f1927b",
   "metadata": {
    "vscode": {
     "languageId": "r"
    }
   },
   "outputs": [
    {
     "data": {
      "text/html": [
       "TRUE"
      ],
      "text/latex": [
       "TRUE"
      ],
      "text/markdown": [
       "TRUE"
      ],
      "text/plain": [
       "[1] TRUE"
      ]
     },
     "metadata": {},
     "output_type": "display_data"
    }
   ],
   "source": [
    "# check order of colnames in matrix and colData\n",
    "identical(colnames(normalized_counts), colData(dataPrep)$barcode)"
   ]
  },
  {
   "cell_type": "code",
   "execution_count": 26,
   "id": "28f787be-409c-4bf4-a2f5-7f4b8f503bb5",
   "metadata": {
    "vscode": {
     "languageId": "r"
    }
   },
   "outputs": [
    {
     "data": {
      "text/html": [
       "TRUE"
      ],
      "text/latex": [
       "TRUE"
      ],
      "text/markdown": [
       "TRUE"
      ],
      "text/plain": [
       "[1] TRUE"
      ]
     },
     "metadata": {},
     "output_type": "display_data"
    },
    {
     "data": {
      "text/html": [
       "TRUE"
      ],
      "text/latex": [
       "TRUE"
      ],
      "text/markdown": [
       "TRUE"
      ],
      "text/plain": [
       "[1] TRUE"
      ]
     },
     "metadata": {},
     "output_type": "display_data"
    }
   ],
   "source": [
    "# find index of states by grep in colnames\n",
    "x<-grep(\"-11A-\", colnames(normalized_counts))\n",
    "y<-grep(\"-11A-\", colnames(normalized_counts), invert=TRUE)\n",
    "\n",
    "# compare index of states by grep in colnames with index of NT/TP in colData\n",
    "identical(x, which(colData(dataPrep)$shortLetterCode %in% \"NT\"))\n",
    "identical(y, which(colData(dataPrep)$shortLetterCode %in% \"TP\"))"
   ]
  },
  {
   "cell_type": "markdown",
   "id": "b0463c6a-3061-48f1-b0c0-54f0e641bead",
   "metadata": {},
   "source": [
    "## Tumor stage MOFA model"
   ]
  },
  {
   "cell_type": "code",
   "execution_count": 19,
   "id": "47270e1f-a361-4dc7-81b9-f86c99745792",
   "metadata": {
    "scrolled": true,
    "vscode": {
     "languageId": "r"
    }
   },
   "outputs": [
    {
     "data": {
      "text/html": [
       "<style>\n",
       ".list-inline {list-style: none; margin:0; padding: 0}\n",
       ".list-inline>li {display: inline-block}\n",
       ".list-inline>li:not(:last-child)::after {content: \"\\00b7\"; padding: 0 .5ex}\n",
       "</style>\n",
       "<ol class=list-inline><li>2000</li><li>406</li></ol>\n"
      ],
      "text/latex": [
       "\\begin{enumerate*}\n",
       "\\item 2000\n",
       "\\item 406\n",
       "\\end{enumerate*}\n"
      ],
      "text/markdown": [
       "1. 2000\n",
       "2. 406\n",
       "\n",
       "\n"
      ],
      "text/plain": [
       "[1] 2000  406"
      ]
     },
     "metadata": {},
     "output_type": "display_data"
    },
    {
     "data": {
      "text/html": [
       "<style>\n",
       ".list-inline {list-style: none; margin:0; padding: 0}\n",
       ".list-inline>li {display: inline-block}\n",
       ".list-inline>li:not(:last-child)::after {content: \"\\00b7\"; padding: 0 .5ex}\n",
       "</style>\n",
       "<ol class=list-inline><li>2000</li><li>404</li></ol>\n"
      ],
      "text/latex": [
       "\\begin{enumerate*}\n",
       "\\item 2000\n",
       "\\item 404\n",
       "\\end{enumerate*}\n"
      ],
      "text/markdown": [
       "1. 2000\n",
       "2. 404\n",
       "\n",
       "\n"
      ],
      "text/plain": [
       "[1] 2000  404"
      ]
     },
     "metadata": {},
     "output_type": "display_data"
    }
   ],
   "source": [
    "dataPrep <- dataPrep[,which(colData(dataPrep)$shortLetterCode %in% \"TP\")]\n",
    "dim(dataPrep)\n",
    "dataPrep <- dataPrep[,which(!colData(dataPrep)$ajcc_pathologic_stage  %in% NA)]\n",
    "dim(dataPrep)"
   ]
  },
  {
   "cell_type": "code",
   "execution_count": 20,
   "id": "58b4193b-ac20-46b9-b248-a3ea627eb44c",
   "metadata": {
    "vscode": {
     "languageId": "r"
    }
   },
   "outputs": [
    {
     "data": {
      "text/html": [
       "<table class=\"dataframe\">\n",
       "<caption>A matrix: 2 × 404 of type dbl</caption>\n",
       "<thead>\n",
       "\t<tr><th></th><th scope=col>TCGA-CU-A3KJ-01A</th><th scope=col>TCGA-K4-A3WU-01B</th><th scope=col>TCGA-DK-A3IU-01A</th><th scope=col>TCGA-GV-A40G-01A</th><th scope=col>TCGA-DK-A3IN-01A</th><th scope=col>TCGA-SY-A9G0-01A</th><th scope=col>TCGA-XF-A9SU-01A</th><th scope=col>TCGA-UY-A78O-01A</th><th scope=col>TCGA-GD-A2C5-01A</th><th scope=col>TCGA-G2-A2EK-01A</th><th scope=col>⋯</th><th scope=col>TCGA-DK-A1AD-01A</th><th scope=col>TCGA-XF-AAMJ-01A</th><th scope=col>TCGA-DK-A1A6-01A</th><th scope=col>TCGA-XF-AAN2-01A</th><th scope=col>TCGA-GU-A42Q-01A</th><th scope=col>TCGA-GC-A4ZW-01A</th><th scope=col>TCGA-XF-AAMY-01A</th><th scope=col>TCGA-XF-AAN7-01A</th><th scope=col>TCGA-E7-A6MD-01A</th><th scope=col>TCGA-ZF-A9R5-01A</th></tr>\n",
       "</thead>\n",
       "<tbody>\n",
       "\t<tr><th scope=row>ENSG00000000003.15</th><td>11.76353</td><td>14.29300</td><td>10.64870</td><td>13.33954</td><td>12.36204</td><td>11.76163</td><td>12.31894</td><td>13.56799</td><td>13.28282</td><td>14.08727</td><td>⋯</td><td>14.42904</td><td>12.57242</td><td>13.27070</td><td>11.86477</td><td>10.89763</td><td>13.09511</td><td>13.12161</td><td>12.17689</td><td>12.60601</td><td>14.33528</td></tr>\n",
       "\t<tr><th scope=row>ENSG00000000419.13</th><td>11.90282</td><td>11.49734</td><td>11.64532</td><td>11.81922</td><td>10.96108</td><td>11.63830</td><td>11.38279</td><td>11.94002</td><td>11.63557</td><td>11.88206</td><td>⋯</td><td>11.64496</td><td>11.34744</td><td>12.44894</td><td>11.78058</td><td>11.56383</td><td>11.78028</td><td>11.36586</td><td>11.12770</td><td>11.21504</td><td>11.17671</td></tr>\n",
       "</tbody>\n",
       "</table>\n"
      ],
      "text/latex": [
       "A matrix: 2 × 404 of type dbl\n",
       "\\begin{tabular}{r|lllllllllllllllllllll}\n",
       "  & TCGA-CU-A3KJ-01A & TCGA-K4-A3WU-01B & TCGA-DK-A3IU-01A & TCGA-GV-A40G-01A & TCGA-DK-A3IN-01A & TCGA-SY-A9G0-01A & TCGA-XF-A9SU-01A & TCGA-UY-A78O-01A & TCGA-GD-A2C5-01A & TCGA-G2-A2EK-01A & ⋯ & TCGA-DK-A1AD-01A & TCGA-XF-AAMJ-01A & TCGA-DK-A1A6-01A & TCGA-XF-AAN2-01A & TCGA-GU-A42Q-01A & TCGA-GC-A4ZW-01A & TCGA-XF-AAMY-01A & TCGA-XF-AAN7-01A & TCGA-E7-A6MD-01A & TCGA-ZF-A9R5-01A\\\\\n",
       "\\hline\n",
       "\tENSG00000000003.15 & 11.76353 & 14.29300 & 10.64870 & 13.33954 & 12.36204 & 11.76163 & 12.31894 & 13.56799 & 13.28282 & 14.08727 & ⋯ & 14.42904 & 12.57242 & 13.27070 & 11.86477 & 10.89763 & 13.09511 & 13.12161 & 12.17689 & 12.60601 & 14.33528\\\\\n",
       "\tENSG00000000419.13 & 11.90282 & 11.49734 & 11.64532 & 11.81922 & 10.96108 & 11.63830 & 11.38279 & 11.94002 & 11.63557 & 11.88206 & ⋯ & 11.64496 & 11.34744 & 12.44894 & 11.78058 & 11.56383 & 11.78028 & 11.36586 & 11.12770 & 11.21504 & 11.17671\\\\\n",
       "\\end{tabular}\n"
      ],
      "text/markdown": [
       "\n",
       "A matrix: 2 × 404 of type dbl\n",
       "\n",
       "| <!--/--> | TCGA-CU-A3KJ-01A | TCGA-K4-A3WU-01B | TCGA-DK-A3IU-01A | TCGA-GV-A40G-01A | TCGA-DK-A3IN-01A | TCGA-SY-A9G0-01A | TCGA-XF-A9SU-01A | TCGA-UY-A78O-01A | TCGA-GD-A2C5-01A | TCGA-G2-A2EK-01A | ⋯ | TCGA-DK-A1AD-01A | TCGA-XF-AAMJ-01A | TCGA-DK-A1A6-01A | TCGA-XF-AAN2-01A | TCGA-GU-A42Q-01A | TCGA-GC-A4ZW-01A | TCGA-XF-AAMY-01A | TCGA-XF-AAN7-01A | TCGA-E7-A6MD-01A | TCGA-ZF-A9R5-01A |\n",
       "|---|---|---|---|---|---|---|---|---|---|---|---|---|---|---|---|---|---|---|---|---|---|\n",
       "| ENSG00000000003.15 | 11.76353 | 14.29300 | 10.64870 | 13.33954 | 12.36204 | 11.76163 | 12.31894 | 13.56799 | 13.28282 | 14.08727 | ⋯ | 14.42904 | 12.57242 | 13.27070 | 11.86477 | 10.89763 | 13.09511 | 13.12161 | 12.17689 | 12.60601 | 14.33528 |\n",
       "| ENSG00000000419.13 | 11.90282 | 11.49734 | 11.64532 | 11.81922 | 10.96108 | 11.63830 | 11.38279 | 11.94002 | 11.63557 | 11.88206 | ⋯ | 11.64496 | 11.34744 | 12.44894 | 11.78058 | 11.56383 | 11.78028 | 11.36586 | 11.12770 | 11.21504 | 11.17671 |\n",
       "\n"
      ],
      "text/plain": [
       "                   TCGA-CU-A3KJ-01A TCGA-K4-A3WU-01B TCGA-DK-A3IU-01A\n",
       "ENSG00000000003.15 11.76353         14.29300         10.64870        \n",
       "ENSG00000000419.13 11.90282         11.49734         11.64532        \n",
       "                   TCGA-GV-A40G-01A TCGA-DK-A3IN-01A TCGA-SY-A9G0-01A\n",
       "ENSG00000000003.15 13.33954         12.36204         11.76163        \n",
       "ENSG00000000419.13 11.81922         10.96108         11.63830        \n",
       "                   TCGA-XF-A9SU-01A TCGA-UY-A78O-01A TCGA-GD-A2C5-01A\n",
       "ENSG00000000003.15 12.31894         13.56799         13.28282        \n",
       "ENSG00000000419.13 11.38279         11.94002         11.63557        \n",
       "                   TCGA-G2-A2EK-01A ⋯ TCGA-DK-A1AD-01A TCGA-XF-AAMJ-01A\n",
       "ENSG00000000003.15 14.08727         ⋯ 14.42904         12.57242        \n",
       "ENSG00000000419.13 11.88206         ⋯ 11.64496         11.34744        \n",
       "                   TCGA-DK-A1A6-01A TCGA-XF-AAN2-01A TCGA-GU-A42Q-01A\n",
       "ENSG00000000003.15 13.27070         11.86477         10.89763        \n",
       "ENSG00000000419.13 12.44894         11.78058         11.56383        \n",
       "                   TCGA-GC-A4ZW-01A TCGA-XF-AAMY-01A TCGA-XF-AAN7-01A\n",
       "ENSG00000000003.15 13.09511         13.12161         12.17689        \n",
       "ENSG00000000419.13 11.78028         11.36586         11.12770        \n",
       "                   TCGA-E7-A6MD-01A TCGA-ZF-A9R5-01A\n",
       "ENSG00000000003.15 12.60601         14.33528        \n",
       "ENSG00000000419.13 11.21504         11.17671        "
      ]
     },
     "metadata": {},
     "output_type": "display_data"
    }
   ],
   "source": [
    "# Create a DESeqDataSet object\n",
    "dds <- DESeqDataSetFromMatrix(countData = assay(dataPrep,\"unstranded\"),\n",
    "                              colData = colData(dataPrep),\n",
    "                              design = ~ 1)\n",
    "\n",
    "# Estimate size factors\n",
    "dds <- estimateSizeFactors(dds)\n",
    "\n",
    "# Perform variance-stabilizing transformation with design information\n",
    "vsd <- varianceStabilizingTransformation(dds, blind = TRUE)\n",
    "\n",
    "# Extract the normalized counts\n",
    "normalized_counts <- assay(vsd)\n",
    "\n",
    "head(normalized_counts, 2)"
   ]
  },
  {
   "cell_type": "markdown",
   "id": "5714e331-79f4-496d-a37e-d1d96fb6b19a",
   "metadata": {},
   "source": [
    "### check data"
   ]
  },
  {
   "cell_type": "markdown",
   "id": "f17ee48e-31ba-4089-b9f4-341f8d700af4",
   "metadata": {},
   "source": [
    "## MOFA mRNA"
   ]
  },
  {
   "cell_type": "code",
   "execution_count": 11,
   "id": "58dadb58-6d2d-4ddb-978d-db202eb098aa",
   "metadata": {
    "vscode": {
     "languageId": "r"
    }
   },
   "outputs": [
    {
     "ename": "ERROR",
     "evalue": "Error in data.frame(sample, shortLetterCode, ajcc_pathologic_stage, age_at_diagnosis, : arguments imply differing number of rows: 421, 0\n",
     "output_type": "error",
     "traceback": [
      "Error in data.frame(sample, shortLetterCode, ajcc_pathologic_stage, age_at_diagnosis, : arguments imply differing number of rows: 421, 0\nTraceback:\n",
      "1. data.frame(sample, shortLetterCode, ajcc_pathologic_stage, age_at_diagnosis, \n .     cigarettes_per_day, gender, ethnicity, age_at_index, race, \n .     days_to_death)",
      "2. stop(gettextf(\"arguments imply differing number of rows: %s\", \n .     paste(unique(nrows), collapse = \", \")), domain = NA)"
     ]
    }
   ],
   "source": [
    "sample <- colnames(normalized_counts)\n",
    "\n",
    "shortLetterCode <- \"\"\n",
    "shortLetterCode <- apply(as.matrix(sample),1, function (x){dataPrep$shortLetterCode[which(dataPrep$sample %in% x)]})\n",
    "\n",
    "ajcc_pathologic_stage <- \"\"\n",
    "ajcc_pathologic_stage <- apply(as.matrix(sample),1, function (x){dataPrep$ajcc_pathologic_stage[which(dataPrep$sample %in% x)]})\n",
    "\n",
    "age_at_diagnosis <- \"\"\n",
    "age_at_diagnosis <- apply(as.matrix(sample),1, function (x){dataPrep$age_at_diagnosis[which(dataPrep$sample %in% x)]})\n",
    "\n",
    "primary_diagnosis <- \"\"\n",
    "primary_diagnosis <- apply(as.matrix(sample),1, function (x){dataPrep$primary_diagnosis[which(dataPrep$sample %in% x)]})\n",
    "\n",
    "cigarettes_per_day  <- \"\"\n",
    "cigarettes_per_day  <- apply(as.matrix(sample),1, function (x){dataPrep$cigarettes_per_day [which(dataPrep$sample %in% x)]})\n",
    "\n",
    "gender <- \"\"\n",
    "gender <- apply(as.matrix(sample),1, function (x){dataPrep$gender[which(dataPrep$sample %in% x)]})\n",
    "\n",
    "ethnicity <- \"\"\n",
    "ethnicity <- apply(as.matrix(sample),1, function (x){dataPrep$ethnicity[which(dataPrep$sample %in% x)]})\n",
    "\n",
    "age_at_index <- \"\"\n",
    "age_at_index <- apply(as.matrix(sample),1, function (x){dataPrep$age_at_index[which(dataPrep$sample %in% x)]})\n",
    "\n",
    "race <- \"\"\n",
    "race <- apply(as.matrix(sample),1, function (x){dataPrep$race[which(dataPrep$sample %in% x)]})\n",
    "\n",
    "days_to_death <- \"\"\n",
    "days_to_death <- apply(as.matrix(sample),1, function (x){dataPrep$days_to_death[which(dataPrep$sample %in% x)]})\n",
    "\n",
    "mrna_samples <- data.frame(sample, shortLetterCode, ajcc_pathologic_stage, age_at_diagnosis, cigarettes_per_day, gender,ethnicity, \n",
    "                           age_at_index, race, days_to_death)\n",
    "head(mrna_samples,2)"
   ]
  },
  {
   "cell_type": "markdown",
   "id": "7786879d-8ab9-4edd-9377-ac7bae583290",
   "metadata": {},
   "source": [
    "### Biomart transcriptIDs to ensemblIDs"
   ]
  },
  {
   "cell_type": "code",
   "execution_count": 116,
   "id": "b61acd6f-c795-4b7d-9898-b7342884778a",
   "metadata": {
    "vscode": {
     "languageId": "r"
    }
   },
   "outputs": [],
   "source": [
    "library(biomaRt)"
   ]
  },
  {
   "cell_type": "code",
   "execution_count": 117,
   "id": "6009bcab-9cf4-46b8-b147-8b61ddea6b53",
   "metadata": {
    "vscode": {
     "languageId": "r"
    }
   },
   "outputs": [],
   "source": [
    "ensembl <- useEnsembl(biomart = 'genes',dataset = \"hsapiens_gene_ensembl\",version = 102)"
   ]
  },
  {
   "cell_type": "markdown",
   "id": "b496aba0-096c-4c4d-b2c9-b8396ba81b24",
   "metadata": {},
   "source": [
    "#### Search for unique transcriptIDs to avoid repetitions of same transcriptIDs"
   ]
  },
  {
   "cell_type": "code",
   "execution_count": 118,
   "id": "7a6818d0-df8f-4ac3-a2b2-d49319941cb2",
   "metadata": {
    "vscode": {
     "languageId": "r"
    }
   },
   "outputs": [
    {
     "data": {
      "text/html": [
       "1000"
      ],
      "text/latex": [
       "1000"
      ],
      "text/markdown": [
       "1000"
      ],
      "text/plain": [
       "[1] 1000"
      ]
     },
     "metadata": {},
     "output_type": "display_data"
    }
   ],
   "source": [
    "# check number of rownames to be sure there are all in bm_results with ensembl_gene_id\n",
    "length(rownames(normalized_counts))"
   ]
  },
  {
   "cell_type": "code",
   "execution_count": 119,
   "id": "1b50f42f-0c57-42c9-9a5b-06e7bb3a791a",
   "metadata": {
    "vscode": {
     "languageId": "r"
    }
   },
   "outputs": [
    {
     "data": {
      "text/html": [
       "<table class=\"dataframe\">\n",
       "<caption>A data.frame: 423 × 3</caption>\n",
       "<thead>\n",
       "\t<tr><th></th><th scope=col>name</th><th scope=col>description</th><th scope=col>page</th></tr>\n",
       "\t<tr><th></th><th scope=col>&lt;chr&gt;</th><th scope=col>&lt;chr&gt;</th><th scope=col>&lt;chr&gt;</th></tr>\n",
       "</thead>\n",
       "<tbody>\n",
       "\t<tr><th scope=row>1</th><td>ensembl_gene_id                    </td><td>Gene stable ID                                                </td><td>feature_page</td></tr>\n",
       "\t<tr><th scope=row>2</th><td>ensembl_gene_id_version            </td><td>Gene stable ID version                                        </td><td>feature_page</td></tr>\n",
       "\t<tr><th scope=row>3</th><td>ensembl_transcript_id              </td><td>Transcript stable ID                                          </td><td>feature_page</td></tr>\n",
       "\t<tr><th scope=row>4</th><td>ensembl_transcript_id_version      </td><td>Transcript stable ID version                                  </td><td>feature_page</td></tr>\n",
       "\t<tr><th scope=row>5</th><td>ensembl_peptide_id                 </td><td>Protein stable ID                                             </td><td>feature_page</td></tr>\n",
       "\t<tr><th scope=row>6</th><td>ensembl_peptide_id_version         </td><td>Protein stable ID version                                     </td><td>feature_page</td></tr>\n",
       "\t<tr><th scope=row>7</th><td>ensembl_exon_id                    </td><td>Exon stable ID                                                </td><td>feature_page</td></tr>\n",
       "\t<tr><th scope=row>51</th><td>clone_based_ensembl_gene           </td><td>Clone-based (Ensembl) gene ID                                 </td><td>feature_page</td></tr>\n",
       "\t<tr><th scope=row>52</th><td>clone_based_ensembl_transcript     </td><td>Clone-based (Ensembl) transcript ID                           </td><td>feature_page</td></tr>\n",
       "\t<tr><th scope=row>200</th><td>ensembl_gene_id                    </td><td>Gene stable ID                                                </td><td>structure   </td></tr>\n",
       "\t<tr><th scope=row>201</th><td>ensembl_gene_id_version            </td><td>Gene stable ID version                                        </td><td>structure   </td></tr>\n",
       "\t<tr><th scope=row>203</th><td>ensembl_transcript_id              </td><td>Transcript stable ID                                          </td><td>structure   </td></tr>\n",
       "\t<tr><th scope=row>204</th><td>ensembl_transcript_id_version      </td><td>Transcript stable ID version                                  </td><td>structure   </td></tr>\n",
       "\t<tr><th scope=row>206</th><td>ensembl_peptide_id                 </td><td>Protein stable ID                                             </td><td>structure   </td></tr>\n",
       "\t<tr><th scope=row>207</th><td>ensembl_peptide_id_version         </td><td>Protein stable ID version                                     </td><td>structure   </td></tr>\n",
       "\t<tr><th scope=row>237</th><td>ensembl_exon_id                    </td><td>Exon stable ID                                                </td><td>structure   </td></tr>\n",
       "\t<tr><th scope=row>240</th><td>ensembl_gene_id                    </td><td>Gene stable ID                                                </td><td>homologs    </td></tr>\n",
       "\t<tr><th scope=row>241</th><td>ensembl_gene_id_version            </td><td>Gene stable ID version                                        </td><td>homologs    </td></tr>\n",
       "\t<tr><th scope=row>243</th><td>ensembl_transcript_id              </td><td>Transcript stable ID                                          </td><td>homologs    </td></tr>\n",
       "\t<tr><th scope=row>244</th><td>ensembl_transcript_id_version      </td><td>Transcript stable ID version                                  </td><td>homologs    </td></tr>\n",
       "\t<tr><th scope=row>246</th><td>ensembl_peptide_id                 </td><td>Protein stable ID                                             </td><td>homologs    </td></tr>\n",
       "\t<tr><th scope=row>247</th><td>ensembl_peptide_id_version         </td><td>Protein stable ID version                                     </td><td>homologs    </td></tr>\n",
       "\t<tr><th scope=row>259</th><td>cabingdonii_homolog_ensembl_gene   </td><td>Abingdon island giant tortoise gene stable ID                 </td><td>homologs    </td></tr>\n",
       "\t<tr><th scope=row>261</th><td>cabingdonii_homolog_ensembl_peptide</td><td>Abingdon island giant tortoise protein or transcript stable ID</td><td>homologs    </td></tr>\n",
       "\t<tr><th scope=row>273</th><td>gagassizii_homolog_ensembl_gene    </td><td>Agassiz's desert tortoise gene stable ID                      </td><td>homologs    </td></tr>\n",
       "\t<tr><th scope=row>275</th><td>gagassizii_homolog_ensembl_peptide </td><td>Agassiz's desert tortoise protein or transcript stable ID     </td><td>homologs    </td></tr>\n",
       "\t<tr><th scope=row>287</th><td>mspretus_homolog_ensembl_gene      </td><td>Algerian mouse gene stable ID                                 </td><td>homologs    </td></tr>\n",
       "\t<tr><th scope=row>289</th><td>mspretus_homolog_ensembl_peptide   </td><td>Algerian mouse protein or transcript stable ID                </td><td>homologs    </td></tr>\n",
       "\t<tr><th scope=row>301</th><td>vpacos_homolog_ensembl_gene        </td><td>Alpaca gene stable ID                                         </td><td>homologs    </td></tr>\n",
       "\t<tr><th scope=row>303</th><td>vpacos_homolog_ensembl_peptide     </td><td>Alpaca protein or transcript stable ID                        </td><td>homologs    </td></tr>\n",
       "\t<tr><th scope=row>⋮</th><td>⋮</td><td>⋮</td><td>⋮</td></tr>\n",
       "\t<tr><th scope=row>2840</th><td>sldorsalis_homolog_ensembl_peptide</td><td>Yellowtail amberjack protein or transcript stable ID</td><td>homologs   </td></tr>\n",
       "\t<tr><th scope=row>2852</th><td>tguttata_homolog_ensembl_gene     </td><td>Zebra finch gene stable ID                          </td><td>homologs   </td></tr>\n",
       "\t<tr><th scope=row>2854</th><td>tguttata_homolog_ensembl_peptide  </td><td>Zebra finch protein or transcript stable ID         </td><td>homologs   </td></tr>\n",
       "\t<tr><th scope=row>2866</th><td>mzebra_homolog_ensembl_gene       </td><td>Zebra mbuna gene stable ID                          </td><td>homologs   </td></tr>\n",
       "\t<tr><th scope=row>2868</th><td>mzebra_homolog_ensembl_peptide    </td><td>Zebra mbuna protein or transcript stable ID         </td><td>homologs   </td></tr>\n",
       "\t<tr><th scope=row>2880</th><td>drerio_homolog_ensembl_gene       </td><td>Zebrafish gene stable ID                            </td><td>homologs   </td></tr>\n",
       "\t<tr><th scope=row>2882</th><td>drerio_homolog_ensembl_peptide    </td><td>Zebrafish protein or transcript stable ID           </td><td>homologs   </td></tr>\n",
       "\t<tr><th scope=row>2894</th><td>marmatus_homolog_ensembl_gene     </td><td>Zig-zag eel gene stable ID                          </td><td>homologs   </td></tr>\n",
       "\t<tr><th scope=row>2896</th><td>marmatus_homolog_ensembl_peptide  </td><td>Zig-zag eel protein or transcript stable ID         </td><td>homologs   </td></tr>\n",
       "\t<tr><th scope=row>2908</th><td>hsapiens_paralog_ensembl_gene     </td><td>Human paralogue gene stable ID                      </td><td>homologs   </td></tr>\n",
       "\t<tr><th scope=row>2910</th><td>hsapiens_paralog_ensembl_peptide  </td><td>Human paralogue protein or transcript ID            </td><td>homologs   </td></tr>\n",
       "\t<tr><th scope=row>2919</th><td>ensembl_gene_id                   </td><td>Gene stable ID                                      </td><td>snp        </td></tr>\n",
       "\t<tr><th scope=row>2920</th><td>ensembl_gene_id_version           </td><td>Gene stable ID version                              </td><td>snp        </td></tr>\n",
       "\t<tr><th scope=row>2922</th><td>ensembl_transcript_id             </td><td>Transcript stable ID                                </td><td>snp        </td></tr>\n",
       "\t<tr><th scope=row>2923</th><td>ensembl_transcript_id_version     </td><td>Transcript stable ID version                        </td><td>snp        </td></tr>\n",
       "\t<tr><th scope=row>2925</th><td>ensembl_peptide_id                </td><td>Protein stable ID                                   </td><td>snp        </td></tr>\n",
       "\t<tr><th scope=row>2926</th><td>ensembl_peptide_id_version        </td><td>Protein stable ID version                           </td><td>snp        </td></tr>\n",
       "\t<tr><th scope=row>2963</th><td>ensembl_gene_id                   </td><td>Gene stable ID                                      </td><td>snp_somatic</td></tr>\n",
       "\t<tr><th scope=row>2964</th><td>ensembl_gene_id_version           </td><td>Gene stable ID version                              </td><td>snp_somatic</td></tr>\n",
       "\t<tr><th scope=row>2966</th><td>ensembl_transcript_id             </td><td>Transcript stable ID                                </td><td>snp_somatic</td></tr>\n",
       "\t<tr><th scope=row>2967</th><td>ensembl_transcript_id_version     </td><td>Transcript stable ID version                        </td><td>snp_somatic</td></tr>\n",
       "\t<tr><th scope=row>2969</th><td>ensembl_peptide_id                </td><td>Protein stable ID                                   </td><td>snp_somatic</td></tr>\n",
       "\t<tr><th scope=row>2970</th><td>ensembl_peptide_id_version        </td><td>Protein stable ID version                           </td><td>snp_somatic</td></tr>\n",
       "\t<tr><th scope=row>3012</th><td>ensembl_gene_id                   </td><td>Gene stable ID                                      </td><td>sequences  </td></tr>\n",
       "\t<tr><th scope=row>3013</th><td>ensembl_gene_id_version           </td><td>Gene stable ID version                              </td><td>sequences  </td></tr>\n",
       "\t<tr><th scope=row>3031</th><td>ensembl_transcript_id             </td><td>Transcript stable ID                                </td><td>sequences  </td></tr>\n",
       "\t<tr><th scope=row>3032</th><td>ensembl_transcript_id_version     </td><td>Transcript stable ID version                        </td><td>sequences  </td></tr>\n",
       "\t<tr><th scope=row>3033</th><td>ensembl_peptide_id                </td><td>Protein stable ID                                   </td><td>sequences  </td></tr>\n",
       "\t<tr><th scope=row>3034</th><td>ensembl_peptide_id_version        </td><td>Protein stable ID version                           </td><td>sequences  </td></tr>\n",
       "\t<tr><th scope=row>3046</th><td>ensembl_exon_id                   </td><td>Exon stable ID                                      </td><td>sequences  </td></tr>\n",
       "</tbody>\n",
       "</table>\n"
      ],
      "text/latex": [
       "A data.frame: 423 × 3\n",
       "\\begin{tabular}{r|lll}\n",
       "  & name & description & page\\\\\n",
       "  & <chr> & <chr> & <chr>\\\\\n",
       "\\hline\n",
       "\t1 & ensembl\\_gene\\_id                     & Gene stable ID                                                 & feature\\_page\\\\\n",
       "\t2 & ensembl\\_gene\\_id\\_version             & Gene stable ID version                                         & feature\\_page\\\\\n",
       "\t3 & ensembl\\_transcript\\_id               & Transcript stable ID                                           & feature\\_page\\\\\n",
       "\t4 & ensembl\\_transcript\\_id\\_version       & Transcript stable ID version                                   & feature\\_page\\\\\n",
       "\t5 & ensembl\\_peptide\\_id                  & Protein stable ID                                              & feature\\_page\\\\\n",
       "\t6 & ensembl\\_peptide\\_id\\_version          & Protein stable ID version                                      & feature\\_page\\\\\n",
       "\t7 & ensembl\\_exon\\_id                     & Exon stable ID                                                 & feature\\_page\\\\\n",
       "\t51 & clone\\_based\\_ensembl\\_gene            & Clone-based (Ensembl) gene ID                                  & feature\\_page\\\\\n",
       "\t52 & clone\\_based\\_ensembl\\_transcript      & Clone-based (Ensembl) transcript ID                            & feature\\_page\\\\\n",
       "\t200 & ensembl\\_gene\\_id                     & Gene stable ID                                                 & structure   \\\\\n",
       "\t201 & ensembl\\_gene\\_id\\_version             & Gene stable ID version                                         & structure   \\\\\n",
       "\t203 & ensembl\\_transcript\\_id               & Transcript stable ID                                           & structure   \\\\\n",
       "\t204 & ensembl\\_transcript\\_id\\_version       & Transcript stable ID version                                   & structure   \\\\\n",
       "\t206 & ensembl\\_peptide\\_id                  & Protein stable ID                                              & structure   \\\\\n",
       "\t207 & ensembl\\_peptide\\_id\\_version          & Protein stable ID version                                      & structure   \\\\\n",
       "\t237 & ensembl\\_exon\\_id                     & Exon stable ID                                                 & structure   \\\\\n",
       "\t240 & ensembl\\_gene\\_id                     & Gene stable ID                                                 & homologs    \\\\\n",
       "\t241 & ensembl\\_gene\\_id\\_version             & Gene stable ID version                                         & homologs    \\\\\n",
       "\t243 & ensembl\\_transcript\\_id               & Transcript stable ID                                           & homologs    \\\\\n",
       "\t244 & ensembl\\_transcript\\_id\\_version       & Transcript stable ID version                                   & homologs    \\\\\n",
       "\t246 & ensembl\\_peptide\\_id                  & Protein stable ID                                              & homologs    \\\\\n",
       "\t247 & ensembl\\_peptide\\_id\\_version          & Protein stable ID version                                      & homologs    \\\\\n",
       "\t259 & cabingdonii\\_homolog\\_ensembl\\_gene    & Abingdon island giant tortoise gene stable ID                  & homologs    \\\\\n",
       "\t261 & cabingdonii\\_homolog\\_ensembl\\_peptide & Abingdon island giant tortoise protein or transcript stable ID & homologs    \\\\\n",
       "\t273 & gagassizii\\_homolog\\_ensembl\\_gene     & Agassiz's desert tortoise gene stable ID                       & homologs    \\\\\n",
       "\t275 & gagassizii\\_homolog\\_ensembl\\_peptide  & Agassiz's desert tortoise protein or transcript stable ID      & homologs    \\\\\n",
       "\t287 & mspretus\\_homolog\\_ensembl\\_gene       & Algerian mouse gene stable ID                                  & homologs    \\\\\n",
       "\t289 & mspretus\\_homolog\\_ensembl\\_peptide    & Algerian mouse protein or transcript stable ID                 & homologs    \\\\\n",
       "\t301 & vpacos\\_homolog\\_ensembl\\_gene         & Alpaca gene stable ID                                          & homologs    \\\\\n",
       "\t303 & vpacos\\_homolog\\_ensembl\\_peptide      & Alpaca protein or transcript stable ID                         & homologs    \\\\\n",
       "\t⋮ & ⋮ & ⋮ & ⋮\\\\\n",
       "\t2840 & sldorsalis\\_homolog\\_ensembl\\_peptide & Yellowtail amberjack protein or transcript stable ID & homologs   \\\\\n",
       "\t2852 & tguttata\\_homolog\\_ensembl\\_gene      & Zebra finch gene stable ID                           & homologs   \\\\\n",
       "\t2854 & tguttata\\_homolog\\_ensembl\\_peptide   & Zebra finch protein or transcript stable ID          & homologs   \\\\\n",
       "\t2866 & mzebra\\_homolog\\_ensembl\\_gene        & Zebra mbuna gene stable ID                           & homologs   \\\\\n",
       "\t2868 & mzebra\\_homolog\\_ensembl\\_peptide     & Zebra mbuna protein or transcript stable ID          & homologs   \\\\\n",
       "\t2880 & drerio\\_homolog\\_ensembl\\_gene        & Zebrafish gene stable ID                             & homologs   \\\\\n",
       "\t2882 & drerio\\_homolog\\_ensembl\\_peptide     & Zebrafish protein or transcript stable ID            & homologs   \\\\\n",
       "\t2894 & marmatus\\_homolog\\_ensembl\\_gene      & Zig-zag eel gene stable ID                           & homologs   \\\\\n",
       "\t2896 & marmatus\\_homolog\\_ensembl\\_peptide   & Zig-zag eel protein or transcript stable ID          & homologs   \\\\\n",
       "\t2908 & hsapiens\\_paralog\\_ensembl\\_gene      & Human paralogue gene stable ID                       & homologs   \\\\\n",
       "\t2910 & hsapiens\\_paralog\\_ensembl\\_peptide   & Human paralogue protein or transcript ID             & homologs   \\\\\n",
       "\t2919 & ensembl\\_gene\\_id                    & Gene stable ID                                       & snp        \\\\\n",
       "\t2920 & ensembl\\_gene\\_id\\_version            & Gene stable ID version                               & snp        \\\\\n",
       "\t2922 & ensembl\\_transcript\\_id              & Transcript stable ID                                 & snp        \\\\\n",
       "\t2923 & ensembl\\_transcript\\_id\\_version      & Transcript stable ID version                         & snp        \\\\\n",
       "\t2925 & ensembl\\_peptide\\_id                 & Protein stable ID                                    & snp        \\\\\n",
       "\t2926 & ensembl\\_peptide\\_id\\_version         & Protein stable ID version                            & snp        \\\\\n",
       "\t2963 & ensembl\\_gene\\_id                    & Gene stable ID                                       & snp\\_somatic\\\\\n",
       "\t2964 & ensembl\\_gene\\_id\\_version            & Gene stable ID version                               & snp\\_somatic\\\\\n",
       "\t2966 & ensembl\\_transcript\\_id              & Transcript stable ID                                 & snp\\_somatic\\\\\n",
       "\t2967 & ensembl\\_transcript\\_id\\_version      & Transcript stable ID version                         & snp\\_somatic\\\\\n",
       "\t2969 & ensembl\\_peptide\\_id                 & Protein stable ID                                    & snp\\_somatic\\\\\n",
       "\t2970 & ensembl\\_peptide\\_id\\_version         & Protein stable ID version                            & snp\\_somatic\\\\\n",
       "\t3012 & ensembl\\_gene\\_id                    & Gene stable ID                                       & sequences  \\\\\n",
       "\t3013 & ensembl\\_gene\\_id\\_version            & Gene stable ID version                               & sequences  \\\\\n",
       "\t3031 & ensembl\\_transcript\\_id              & Transcript stable ID                                 & sequences  \\\\\n",
       "\t3032 & ensembl\\_transcript\\_id\\_version      & Transcript stable ID version                         & sequences  \\\\\n",
       "\t3033 & ensembl\\_peptide\\_id                 & Protein stable ID                                    & sequences  \\\\\n",
       "\t3034 & ensembl\\_peptide\\_id\\_version         & Protein stable ID version                            & sequences  \\\\\n",
       "\t3046 & ensembl\\_exon\\_id                    & Exon stable ID                                       & sequences  \\\\\n",
       "\\end{tabular}\n"
      ],
      "text/markdown": [
       "\n",
       "A data.frame: 423 × 3\n",
       "\n",
       "| <!--/--> | name &lt;chr&gt; | description &lt;chr&gt; | page &lt;chr&gt; |\n",
       "|---|---|---|---|\n",
       "| 1 | ensembl_gene_id                     | Gene stable ID                                                 | feature_page |\n",
       "| 2 | ensembl_gene_id_version             | Gene stable ID version                                         | feature_page |\n",
       "| 3 | ensembl_transcript_id               | Transcript stable ID                                           | feature_page |\n",
       "| 4 | ensembl_transcript_id_version       | Transcript stable ID version                                   | feature_page |\n",
       "| 5 | ensembl_peptide_id                  | Protein stable ID                                              | feature_page |\n",
       "| 6 | ensembl_peptide_id_version          | Protein stable ID version                                      | feature_page |\n",
       "| 7 | ensembl_exon_id                     | Exon stable ID                                                 | feature_page |\n",
       "| 51 | clone_based_ensembl_gene            | Clone-based (Ensembl) gene ID                                  | feature_page |\n",
       "| 52 | clone_based_ensembl_transcript      | Clone-based (Ensembl) transcript ID                            | feature_page |\n",
       "| 200 | ensembl_gene_id                     | Gene stable ID                                                 | structure    |\n",
       "| 201 | ensembl_gene_id_version             | Gene stable ID version                                         | structure    |\n",
       "| 203 | ensembl_transcript_id               | Transcript stable ID                                           | structure    |\n",
       "| 204 | ensembl_transcript_id_version       | Transcript stable ID version                                   | structure    |\n",
       "| 206 | ensembl_peptide_id                  | Protein stable ID                                              | structure    |\n",
       "| 207 | ensembl_peptide_id_version          | Protein stable ID version                                      | structure    |\n",
       "| 237 | ensembl_exon_id                     | Exon stable ID                                                 | structure    |\n",
       "| 240 | ensembl_gene_id                     | Gene stable ID                                                 | homologs     |\n",
       "| 241 | ensembl_gene_id_version             | Gene stable ID version                                         | homologs     |\n",
       "| 243 | ensembl_transcript_id               | Transcript stable ID                                           | homologs     |\n",
       "| 244 | ensembl_transcript_id_version       | Transcript stable ID version                                   | homologs     |\n",
       "| 246 | ensembl_peptide_id                  | Protein stable ID                                              | homologs     |\n",
       "| 247 | ensembl_peptide_id_version          | Protein stable ID version                                      | homologs     |\n",
       "| 259 | cabingdonii_homolog_ensembl_gene    | Abingdon island giant tortoise gene stable ID                  | homologs     |\n",
       "| 261 | cabingdonii_homolog_ensembl_peptide | Abingdon island giant tortoise protein or transcript stable ID | homologs     |\n",
       "| 273 | gagassizii_homolog_ensembl_gene     | Agassiz's desert tortoise gene stable ID                       | homologs     |\n",
       "| 275 | gagassizii_homolog_ensembl_peptide  | Agassiz's desert tortoise protein or transcript stable ID      | homologs     |\n",
       "| 287 | mspretus_homolog_ensembl_gene       | Algerian mouse gene stable ID                                  | homologs     |\n",
       "| 289 | mspretus_homolog_ensembl_peptide    | Algerian mouse protein or transcript stable ID                 | homologs     |\n",
       "| 301 | vpacos_homolog_ensembl_gene         | Alpaca gene stable ID                                          | homologs     |\n",
       "| 303 | vpacos_homolog_ensembl_peptide      | Alpaca protein or transcript stable ID                         | homologs     |\n",
       "| ⋮ | ⋮ | ⋮ | ⋮ |\n",
       "| 2840 | sldorsalis_homolog_ensembl_peptide | Yellowtail amberjack protein or transcript stable ID | homologs    |\n",
       "| 2852 | tguttata_homolog_ensembl_gene      | Zebra finch gene stable ID                           | homologs    |\n",
       "| 2854 | tguttata_homolog_ensembl_peptide   | Zebra finch protein or transcript stable ID          | homologs    |\n",
       "| 2866 | mzebra_homolog_ensembl_gene        | Zebra mbuna gene stable ID                           | homologs    |\n",
       "| 2868 | mzebra_homolog_ensembl_peptide     | Zebra mbuna protein or transcript stable ID          | homologs    |\n",
       "| 2880 | drerio_homolog_ensembl_gene        | Zebrafish gene stable ID                             | homologs    |\n",
       "| 2882 | drerio_homolog_ensembl_peptide     | Zebrafish protein or transcript stable ID            | homologs    |\n",
       "| 2894 | marmatus_homolog_ensembl_gene      | Zig-zag eel gene stable ID                           | homologs    |\n",
       "| 2896 | marmatus_homolog_ensembl_peptide   | Zig-zag eel protein or transcript stable ID          | homologs    |\n",
       "| 2908 | hsapiens_paralog_ensembl_gene      | Human paralogue gene stable ID                       | homologs    |\n",
       "| 2910 | hsapiens_paralog_ensembl_peptide   | Human paralogue protein or transcript ID             | homologs    |\n",
       "| 2919 | ensembl_gene_id                    | Gene stable ID                                       | snp         |\n",
       "| 2920 | ensembl_gene_id_version            | Gene stable ID version                               | snp         |\n",
       "| 2922 | ensembl_transcript_id              | Transcript stable ID                                 | snp         |\n",
       "| 2923 | ensembl_transcript_id_version      | Transcript stable ID version                         | snp         |\n",
       "| 2925 | ensembl_peptide_id                 | Protein stable ID                                    | snp         |\n",
       "| 2926 | ensembl_peptide_id_version         | Protein stable ID version                            | snp         |\n",
       "| 2963 | ensembl_gene_id                    | Gene stable ID                                       | snp_somatic |\n",
       "| 2964 | ensembl_gene_id_version            | Gene stable ID version                               | snp_somatic |\n",
       "| 2966 | ensembl_transcript_id              | Transcript stable ID                                 | snp_somatic |\n",
       "| 2967 | ensembl_transcript_id_version      | Transcript stable ID version                         | snp_somatic |\n",
       "| 2969 | ensembl_peptide_id                 | Protein stable ID                                    | snp_somatic |\n",
       "| 2970 | ensembl_peptide_id_version         | Protein stable ID version                            | snp_somatic |\n",
       "| 3012 | ensembl_gene_id                    | Gene stable ID                                       | sequences   |\n",
       "| 3013 | ensembl_gene_id_version            | Gene stable ID version                               | sequences   |\n",
       "| 3031 | ensembl_transcript_id              | Transcript stable ID                                 | sequences   |\n",
       "| 3032 | ensembl_transcript_id_version      | Transcript stable ID version                         | sequences   |\n",
       "| 3033 | ensembl_peptide_id                 | Protein stable ID                                    | sequences   |\n",
       "| 3034 | ensembl_peptide_id_version         | Protein stable ID version                            | sequences   |\n",
       "| 3046 | ensembl_exon_id                    | Exon stable ID                                       | sequences   |\n",
       "\n"
      ],
      "text/plain": [
       "     name                               \n",
       "1    ensembl_gene_id                    \n",
       "2    ensembl_gene_id_version            \n",
       "3    ensembl_transcript_id              \n",
       "4    ensembl_transcript_id_version      \n",
       "5    ensembl_peptide_id                 \n",
       "6    ensembl_peptide_id_version         \n",
       "7    ensembl_exon_id                    \n",
       "51   clone_based_ensembl_gene           \n",
       "52   clone_based_ensembl_transcript     \n",
       "200  ensembl_gene_id                    \n",
       "201  ensembl_gene_id_version            \n",
       "203  ensembl_transcript_id              \n",
       "204  ensembl_transcript_id_version      \n",
       "206  ensembl_peptide_id                 \n",
       "207  ensembl_peptide_id_version         \n",
       "237  ensembl_exon_id                    \n",
       "240  ensembl_gene_id                    \n",
       "241  ensembl_gene_id_version            \n",
       "243  ensembl_transcript_id              \n",
       "244  ensembl_transcript_id_version      \n",
       "246  ensembl_peptide_id                 \n",
       "247  ensembl_peptide_id_version         \n",
       "259  cabingdonii_homolog_ensembl_gene   \n",
       "261  cabingdonii_homolog_ensembl_peptide\n",
       "273  gagassizii_homolog_ensembl_gene    \n",
       "275  gagassizii_homolog_ensembl_peptide \n",
       "287  mspretus_homolog_ensembl_gene      \n",
       "289  mspretus_homolog_ensembl_peptide   \n",
       "301  vpacos_homolog_ensembl_gene        \n",
       "303  vpacos_homolog_ensembl_peptide     \n",
       "⋮    ⋮                                  \n",
       "2840 sldorsalis_homolog_ensembl_peptide \n",
       "2852 tguttata_homolog_ensembl_gene      \n",
       "2854 tguttata_homolog_ensembl_peptide   \n",
       "2866 mzebra_homolog_ensembl_gene        \n",
       "2868 mzebra_homolog_ensembl_peptide     \n",
       "2880 drerio_homolog_ensembl_gene        \n",
       "2882 drerio_homolog_ensembl_peptide     \n",
       "2894 marmatus_homolog_ensembl_gene      \n",
       "2896 marmatus_homolog_ensembl_peptide   \n",
       "2908 hsapiens_paralog_ensembl_gene      \n",
       "2910 hsapiens_paralog_ensembl_peptide   \n",
       "2919 ensembl_gene_id                    \n",
       "2920 ensembl_gene_id_version            \n",
       "2922 ensembl_transcript_id              \n",
       "2923 ensembl_transcript_id_version      \n",
       "2925 ensembl_peptide_id                 \n",
       "2926 ensembl_peptide_id_version         \n",
       "2963 ensembl_gene_id                    \n",
       "2964 ensembl_gene_id_version            \n",
       "2966 ensembl_transcript_id              \n",
       "2967 ensembl_transcript_id_version      \n",
       "2969 ensembl_peptide_id                 \n",
       "2970 ensembl_peptide_id_version         \n",
       "3012 ensembl_gene_id                    \n",
       "3013 ensembl_gene_id_version            \n",
       "3031 ensembl_transcript_id              \n",
       "3032 ensembl_transcript_id_version      \n",
       "3033 ensembl_peptide_id                 \n",
       "3034 ensembl_peptide_id_version         \n",
       "3046 ensembl_exon_id                    \n",
       "     description                                                   \n",
       "1    Gene stable ID                                                \n",
       "2    Gene stable ID version                                        \n",
       "3    Transcript stable ID                                          \n",
       "4    Transcript stable ID version                                  \n",
       "5    Protein stable ID                                             \n",
       "6    Protein stable ID version                                     \n",
       "7    Exon stable ID                                                \n",
       "51   Clone-based (Ensembl) gene ID                                 \n",
       "52   Clone-based (Ensembl) transcript ID                           \n",
       "200  Gene stable ID                                                \n",
       "201  Gene stable ID version                                        \n",
       "203  Transcript stable ID                                          \n",
       "204  Transcript stable ID version                                  \n",
       "206  Protein stable ID                                             \n",
       "207  Protein stable ID version                                     \n",
       "237  Exon stable ID                                                \n",
       "240  Gene stable ID                                                \n",
       "241  Gene stable ID version                                        \n",
       "243  Transcript stable ID                                          \n",
       "244  Transcript stable ID version                                  \n",
       "246  Protein stable ID                                             \n",
       "247  Protein stable ID version                                     \n",
       "259  Abingdon island giant tortoise gene stable ID                 \n",
       "261  Abingdon island giant tortoise protein or transcript stable ID\n",
       "273  Agassiz's desert tortoise gene stable ID                      \n",
       "275  Agassiz's desert tortoise protein or transcript stable ID     \n",
       "287  Algerian mouse gene stable ID                                 \n",
       "289  Algerian mouse protein or transcript stable ID                \n",
       "301  Alpaca gene stable ID                                         \n",
       "303  Alpaca protein or transcript stable ID                        \n",
       "⋮    ⋮                                                             \n",
       "2840 Yellowtail amberjack protein or transcript stable ID          \n",
       "2852 Zebra finch gene stable ID                                    \n",
       "2854 Zebra finch protein or transcript stable ID                   \n",
       "2866 Zebra mbuna gene stable ID                                    \n",
       "2868 Zebra mbuna protein or transcript stable ID                   \n",
       "2880 Zebrafish gene stable ID                                      \n",
       "2882 Zebrafish protein or transcript stable ID                     \n",
       "2894 Zig-zag eel gene stable ID                                    \n",
       "2896 Zig-zag eel protein or transcript stable ID                   \n",
       "2908 Human paralogue gene stable ID                                \n",
       "2910 Human paralogue protein or transcript ID                      \n",
       "2919 Gene stable ID                                                \n",
       "2920 Gene stable ID version                                        \n",
       "2922 Transcript stable ID                                          \n",
       "2923 Transcript stable ID version                                  \n",
       "2925 Protein stable ID                                             \n",
       "2926 Protein stable ID version                                     \n",
       "2963 Gene stable ID                                                \n",
       "2964 Gene stable ID version                                        \n",
       "2966 Transcript stable ID                                          \n",
       "2967 Transcript stable ID version                                  \n",
       "2969 Protein stable ID                                             \n",
       "2970 Protein stable ID version                                     \n",
       "3012 Gene stable ID                                                \n",
       "3013 Gene stable ID version                                        \n",
       "3031 Transcript stable ID                                          \n",
       "3032 Transcript stable ID version                                  \n",
       "3033 Protein stable ID                                             \n",
       "3034 Protein stable ID version                                     \n",
       "3046 Exon stable ID                                                \n",
       "     page        \n",
       "1    feature_page\n",
       "2    feature_page\n",
       "3    feature_page\n",
       "4    feature_page\n",
       "5    feature_page\n",
       "6    feature_page\n",
       "7    feature_page\n",
       "51   feature_page\n",
       "52   feature_page\n",
       "200  structure   \n",
       "201  structure   \n",
       "203  structure   \n",
       "204  structure   \n",
       "206  structure   \n",
       "207  structure   \n",
       "237  structure   \n",
       "240  homologs    \n",
       "241  homologs    \n",
       "243  homologs    \n",
       "244  homologs    \n",
       "246  homologs    \n",
       "247  homologs    \n",
       "259  homologs    \n",
       "261  homologs    \n",
       "273  homologs    \n",
       "275  homologs    \n",
       "287  homologs    \n",
       "289  homologs    \n",
       "301  homologs    \n",
       "303  homologs    \n",
       "⋮    ⋮           \n",
       "2840 homologs    \n",
       "2852 homologs    \n",
       "2854 homologs    \n",
       "2866 homologs    \n",
       "2868 homologs    \n",
       "2880 homologs    \n",
       "2882 homologs    \n",
       "2894 homologs    \n",
       "2896 homologs    \n",
       "2908 homologs    \n",
       "2910 homologs    \n",
       "2919 snp         \n",
       "2920 snp         \n",
       "2922 snp         \n",
       "2923 snp         \n",
       "2925 snp         \n",
       "2926 snp         \n",
       "2963 snp_somatic \n",
       "2964 snp_somatic \n",
       "2966 snp_somatic \n",
       "2967 snp_somatic \n",
       "2969 snp_somatic \n",
       "2970 snp_somatic \n",
       "3012 sequences   \n",
       "3013 sequences   \n",
       "3031 sequences   \n",
       "3032 sequences   \n",
       "3033 sequences   \n",
       "3034 sequences   \n",
       "3046 sequences   "
      ]
     },
     "metadata": {},
     "output_type": "display_data"
    }
   ],
   "source": [
    "searchAttributes(mart = ensembl, pattern = \"ensembl\")"
   ]
  },
  {
   "cell_type": "code",
   "execution_count": 120,
   "id": "a5533a2a-a473-4fc8-adf6-e4b66f415d45",
   "metadata": {
    "vscode": {
     "languageId": "r"
    }
   },
   "outputs": [],
   "source": [
    "gene_ids_versions <- rownames(normalized_counts)\n",
    "\n",
    "bm_results <- getBM(attributes = c('ensembl_gene_id', 'ensembl_gene_id_version'),\n",
    "      filters = 'ensembl_gene_id_version',\n",
    "      values = gene_ids_versions, \n",
    "      mart = ensembl)"
   ]
  },
  {
   "cell_type": "code",
   "execution_count": 121,
   "id": "bb8062fd-2766-42e4-b225-bb7806356d9c",
   "metadata": {
    "vscode": {
     "languageId": "r"
    }
   },
   "outputs": [
    {
     "data": {
      "text/html": [
       "<style>\n",
       ".list-inline {list-style: none; margin:0; padding: 0}\n",
       ".list-inline>li {display: inline-block}\n",
       ".list-inline>li:not(:last-child)::after {content: \"\\00b7\"; padding: 0 .5ex}\n",
       "</style>\n",
       "<ol class=list-inline><li>1000</li><li>2</li></ol>\n"
      ],
      "text/latex": [
       "\\begin{enumerate*}\n",
       "\\item 1000\n",
       "\\item 2\n",
       "\\end{enumerate*}\n"
      ],
      "text/markdown": [
       "1. 1000\n",
       "2. 2\n",
       "\n",
       "\n"
      ],
      "text/plain": [
       "[1] 1000    2"
      ]
     },
     "metadata": {},
     "output_type": "display_data"
    },
    {
     "data": {
      "text/html": [
       "<table class=\"dataframe\">\n",
       "<caption>A data.frame: 2 × 2</caption>\n",
       "<thead>\n",
       "\t<tr><th></th><th scope=col>ensembl_gene_id</th><th scope=col>ensembl_gene_id_version</th></tr>\n",
       "\t<tr><th></th><th scope=col>&lt;chr&gt;</th><th scope=col>&lt;chr&gt;</th></tr>\n",
       "</thead>\n",
       "<tbody>\n",
       "\t<tr><th scope=row>1</th><td>ENSG00000002586</td><td>ENSG00000002586.20</td></tr>\n",
       "\t<tr><th scope=row>2</th><td>ENSG00000005022</td><td>ENSG00000005022.6 </td></tr>\n",
       "</tbody>\n",
       "</table>\n"
      ],
      "text/latex": [
       "A data.frame: 2 × 2\n",
       "\\begin{tabular}{r|ll}\n",
       "  & ensembl\\_gene\\_id & ensembl\\_gene\\_id\\_version\\\\\n",
       "  & <chr> & <chr>\\\\\n",
       "\\hline\n",
       "\t1 & ENSG00000002586 & ENSG00000002586.20\\\\\n",
       "\t2 & ENSG00000005022 & ENSG00000005022.6 \\\\\n",
       "\\end{tabular}\n"
      ],
      "text/markdown": [
       "\n",
       "A data.frame: 2 × 2\n",
       "\n",
       "| <!--/--> | ensembl_gene_id &lt;chr&gt; | ensembl_gene_id_version &lt;chr&gt; |\n",
       "|---|---|---|\n",
       "| 1 | ENSG00000002586 | ENSG00000002586.20 |\n",
       "| 2 | ENSG00000005022 | ENSG00000005022.6  |\n",
       "\n"
      ],
      "text/plain": [
       "  ensembl_gene_id ensembl_gene_id_version\n",
       "1 ENSG00000002586 ENSG00000002586.20     \n",
       "2 ENSG00000005022 ENSG00000005022.6      "
      ]
     },
     "metadata": {},
     "output_type": "display_data"
    }
   ],
   "source": [
    "dim(bm_results)\n",
    "head(bm_results,2)"
   ]
  },
  {
   "cell_type": "code",
   "execution_count": 122,
   "id": "e20f0b8b-536d-47af-9f30-ffb69ec71422",
   "metadata": {
    "vscode": {
     "languageId": "r"
    }
   },
   "outputs": [
    {
     "data": {
      "text/html": [
       "<style>\n",
       ".list-inline {list-style: none; margin:0; padding: 0}\n",
       ".list-inline>li {display: inline-block}\n",
       ".list-inline>li:not(:last-child)::after {content: \"\\00b7\"; padding: 0 .5ex}\n",
       "</style>\n",
       "<ol class=list-inline><li>1000</li><li>2</li></ol>\n"
      ],
      "text/latex": [
       "\\begin{enumerate*}\n",
       "\\item 1000\n",
       "\\item 2\n",
       "\\end{enumerate*}\n"
      ],
      "text/markdown": [
       "1. 1000\n",
       "2. 2\n",
       "\n",
       "\n"
      ],
      "text/plain": [
       "[1] 1000    2"
      ]
     },
     "metadata": {},
     "output_type": "display_data"
    }
   ],
   "source": [
    "# Load the tidyverse package\n",
    "library(tidyverse)\n",
    "\n",
    "# Create the initial data frame\n",
    "df <- data.frame(\n",
    "  ensembl_gene_id_version = gene_ids_versions[grep(\"PAR_Y\", gene_ids_versions)]\n",
    ")\n",
    "\n",
    "# Use regular expressions to extract the desired part and add it as a new column\n",
    "df <- df %>%\n",
    "  mutate(\n",
    "    ensembl_gene_id = str_remove(ensembl_gene_id_version, \"\\\\.\\\\d+\")\n",
    "  )\n",
    "\n",
    "# Reorder the columns of df to match bm_results\n",
    "df <- df[, colnames(bm_results)]\n",
    "\n",
    "# Combine the two data frames using rbind\n",
    "bm_results <- rbind(bm_results, df)\n",
    "\n",
    "dim(bm_results)"
   ]
  },
  {
   "cell_type": "markdown",
   "id": "7d6eb4c0-d806-447a-8308-e1c112bff3c0",
   "metadata": {},
   "source": [
    "#### Match ensembl_gene_id with the data from mapping_data by ensembl_transcript_id"
   ]
  },
  {
   "cell_type": "code",
   "execution_count": 123,
   "id": "43cc1863-22af-465f-a052-bfafeda8c2f5",
   "metadata": {
    "vscode": {
     "languageId": "r"
    }
   },
   "outputs": [
    {
     "data": {
      "text/html": [
       "<table class=\"dataframe\">\n",
       "<caption>A matrix: 2 × 423 of type dbl</caption>\n",
       "<thead>\n",
       "\t<tr><th></th><th scope=col>TCGA-CU-A3KJ-01A</th><th scope=col>TCGA-K4-A3WU-01B</th><th scope=col>TCGA-DK-A3IU-01A</th><th scope=col>TCGA-GV-A40G-01A</th><th scope=col>TCGA-DK-A3IN-01A</th><th scope=col>TCGA-SY-A9G0-01A</th><th scope=col>TCGA-XF-A9SU-01A</th><th scope=col>TCGA-UY-A78O-01A</th><th scope=col>TCGA-GD-A2C5-01A</th><th scope=col>TCGA-G2-A2EK-01A</th><th scope=col>⋯</th><th scope=col>TCGA-DK-A1AD-01A</th><th scope=col>TCGA-XF-AAMJ-01A</th><th scope=col>TCGA-DK-A1A6-01A</th><th scope=col>TCGA-XF-AAN2-01A</th><th scope=col>TCGA-GU-A42Q-01A</th><th scope=col>TCGA-GC-A4ZW-01A</th><th scope=col>TCGA-XF-AAMY-01A</th><th scope=col>TCGA-XF-AAN7-01A</th><th scope=col>TCGA-E7-A6MD-01A</th><th scope=col>TCGA-ZF-A9R5-01A</th></tr>\n",
       "</thead>\n",
       "<tbody>\n",
       "\t<tr><th scope=row>ENSG00000002586</th><td>14.52979</td><td>13.98095</td><td>13.46209</td><td>14.40897</td><td>13.05310</td><td>13.8249</td><td>14.07211</td><td>13.15975</td><td>12.96384</td><td>12.86549</td><td>⋯</td><td>11.67596</td><td>14.15895</td><td>13.16802</td><td>13.01508</td><td>12.61082</td><td>14.03964</td><td>13.40969</td><td>14.91011</td><td>13.03294</td><td>11.73564</td></tr>\n",
       "\t<tr><th scope=row>ENSG00000005022</th><td>14.03737</td><td>13.12509</td><td>12.89316</td><td>13.78490</td><td>13.56822</td><td>12.8805</td><td>13.29391</td><td>13.56997</td><td>13.73354</td><td>13.52359</td><td>⋯</td><td>13.73161</td><td>13.37535</td><td>14.01804</td><td>14.01231</td><td>13.73887</td><td>15.59624</td><td>12.65848</td><td>13.90818</td><td>14.05366</td><td>13.64436</td></tr>\n",
       "</tbody>\n",
       "</table>\n"
      ],
      "text/latex": [
       "A matrix: 2 × 423 of type dbl\n",
       "\\begin{tabular}{r|lllllllllllllllllllll}\n",
       "  & TCGA-CU-A3KJ-01A & TCGA-K4-A3WU-01B & TCGA-DK-A3IU-01A & TCGA-GV-A40G-01A & TCGA-DK-A3IN-01A & TCGA-SY-A9G0-01A & TCGA-XF-A9SU-01A & TCGA-UY-A78O-01A & TCGA-GD-A2C5-01A & TCGA-G2-A2EK-01A & ⋯ & TCGA-DK-A1AD-01A & TCGA-XF-AAMJ-01A & TCGA-DK-A1A6-01A & TCGA-XF-AAN2-01A & TCGA-GU-A42Q-01A & TCGA-GC-A4ZW-01A & TCGA-XF-AAMY-01A & TCGA-XF-AAN7-01A & TCGA-E7-A6MD-01A & TCGA-ZF-A9R5-01A\\\\\n",
       "\\hline\n",
       "\tENSG00000002586 & 14.52979 & 13.98095 & 13.46209 & 14.40897 & 13.05310 & 13.8249 & 14.07211 & 13.15975 & 12.96384 & 12.86549 & ⋯ & 11.67596 & 14.15895 & 13.16802 & 13.01508 & 12.61082 & 14.03964 & 13.40969 & 14.91011 & 13.03294 & 11.73564\\\\\n",
       "\tENSG00000005022 & 14.03737 & 13.12509 & 12.89316 & 13.78490 & 13.56822 & 12.8805 & 13.29391 & 13.56997 & 13.73354 & 13.52359 & ⋯ & 13.73161 & 13.37535 & 14.01804 & 14.01231 & 13.73887 & 15.59624 & 12.65848 & 13.90818 & 14.05366 & 13.64436\\\\\n",
       "\\end{tabular}\n"
      ],
      "text/markdown": [
       "\n",
       "A matrix: 2 × 423 of type dbl\n",
       "\n",
       "| <!--/--> | TCGA-CU-A3KJ-01A | TCGA-K4-A3WU-01B | TCGA-DK-A3IU-01A | TCGA-GV-A40G-01A | TCGA-DK-A3IN-01A | TCGA-SY-A9G0-01A | TCGA-XF-A9SU-01A | TCGA-UY-A78O-01A | TCGA-GD-A2C5-01A | TCGA-G2-A2EK-01A | ⋯ | TCGA-DK-A1AD-01A | TCGA-XF-AAMJ-01A | TCGA-DK-A1A6-01A | TCGA-XF-AAN2-01A | TCGA-GU-A42Q-01A | TCGA-GC-A4ZW-01A | TCGA-XF-AAMY-01A | TCGA-XF-AAN7-01A | TCGA-E7-A6MD-01A | TCGA-ZF-A9R5-01A |\n",
       "|---|---|---|---|---|---|---|---|---|---|---|---|---|---|---|---|---|---|---|---|---|---|\n",
       "| ENSG00000002586 | 14.52979 | 13.98095 | 13.46209 | 14.40897 | 13.05310 | 13.8249 | 14.07211 | 13.15975 | 12.96384 | 12.86549 | ⋯ | 11.67596 | 14.15895 | 13.16802 | 13.01508 | 12.61082 | 14.03964 | 13.40969 | 14.91011 | 13.03294 | 11.73564 |\n",
       "| ENSG00000005022 | 14.03737 | 13.12509 | 12.89316 | 13.78490 | 13.56822 | 12.8805 | 13.29391 | 13.56997 | 13.73354 | 13.52359 | ⋯ | 13.73161 | 13.37535 | 14.01804 | 14.01231 | 13.73887 | 15.59624 | 12.65848 | 13.90818 | 14.05366 | 13.64436 |\n",
       "\n"
      ],
      "text/plain": [
       "                TCGA-CU-A3KJ-01A TCGA-K4-A3WU-01B TCGA-DK-A3IU-01A\n",
       "ENSG00000002586 14.52979         13.98095         13.46209        \n",
       "ENSG00000005022 14.03737         13.12509         12.89316        \n",
       "                TCGA-GV-A40G-01A TCGA-DK-A3IN-01A TCGA-SY-A9G0-01A\n",
       "ENSG00000002586 14.40897         13.05310         13.8249         \n",
       "ENSG00000005022 13.78490         13.56822         12.8805         \n",
       "                TCGA-XF-A9SU-01A TCGA-UY-A78O-01A TCGA-GD-A2C5-01A\n",
       "ENSG00000002586 14.07211         13.15975         12.96384        \n",
       "ENSG00000005022 13.29391         13.56997         13.73354        \n",
       "                TCGA-G2-A2EK-01A ⋯ TCGA-DK-A1AD-01A TCGA-XF-AAMJ-01A\n",
       "ENSG00000002586 12.86549         ⋯ 11.67596         14.15895        \n",
       "ENSG00000005022 13.52359         ⋯ 13.73161         13.37535        \n",
       "                TCGA-DK-A1A6-01A TCGA-XF-AAN2-01A TCGA-GU-A42Q-01A\n",
       "ENSG00000002586 13.16802         13.01508         12.61082        \n",
       "ENSG00000005022 14.01804         14.01231         13.73887        \n",
       "                TCGA-GC-A4ZW-01A TCGA-XF-AAMY-01A TCGA-XF-AAN7-01A\n",
       "ENSG00000002586 14.03964         13.40969         14.91011        \n",
       "ENSG00000005022 15.59624         12.65848         13.90818        \n",
       "                TCGA-E7-A6MD-01A TCGA-ZF-A9R5-01A\n",
       "ENSG00000002586 13.03294         11.73564        \n",
       "ENSG00000005022 14.05366         13.64436        "
      ]
     },
     "metadata": {},
     "output_type": "display_data"
    }
   ],
   "source": [
    "rownames(normalized_counts) <- apply(as.matrix(rownames(normalized_counts)),1, function (x){bm_results$ensembl_gene_id[which(bm_results$ensembl_gene_id_version %in% x)]})\n",
    "head(normalized_counts, 2)"
   ]
  },
  {
   "cell_type": "markdown",
   "id": "0d00140d-4265-43be-b866-fe476c580665",
   "metadata": {
    "jp-MarkdownHeadingCollapsed": true
   },
   "source": [
    "#### check gene names"
   ]
  },
  {
   "cell_type": "code",
   "execution_count": 124,
   "id": "4c20df04-eff0-47e5-afb7-6b2f6a43d504",
   "metadata": {
    "vscode": {
     "languageId": "r"
    }
   },
   "outputs": [
    {
     "data": {
      "text/html": [
       "<table class=\"dataframe\">\n",
       "<caption>A data.frame: 6 × 1</caption>\n",
       "<thead>\n",
       "\t<tr><th></th><th scope=col>gene_ids</th></tr>\n",
       "\t<tr><th></th><th scope=col>&lt;chr&gt;</th></tr>\n",
       "</thead>\n",
       "<tbody>\n",
       "\t<tr><th scope=row>1</th><td>ENSG00000000003.15</td></tr>\n",
       "\t<tr><th scope=row>2</th><td>ENSG00000000419.13</td></tr>\n",
       "\t<tr><th scope=row>3</th><td>ENSG00000001617.12</td></tr>\n",
       "\t<tr><th scope=row>4</th><td>ENSG00000002549.12</td></tr>\n",
       "\t<tr><th scope=row>5</th><td>ENSG00000002586.20</td></tr>\n",
       "\t<tr><th scope=row>6</th><td>ENSG00000002834.18</td></tr>\n",
       "</tbody>\n",
       "</table>\n"
      ],
      "text/latex": [
       "A data.frame: 6 × 1\n",
       "\\begin{tabular}{r|l}\n",
       "  & gene\\_ids\\\\\n",
       "  & <chr>\\\\\n",
       "\\hline\n",
       "\t1 & ENSG00000000003.15\\\\\n",
       "\t2 & ENSG00000000419.13\\\\\n",
       "\t3 & ENSG00000001617.12\\\\\n",
       "\t4 & ENSG00000002549.12\\\\\n",
       "\t5 & ENSG00000002586.20\\\\\n",
       "\t6 & ENSG00000002834.18\\\\\n",
       "\\end{tabular}\n"
      ],
      "text/markdown": [
       "\n",
       "A data.frame: 6 × 1\n",
       "\n",
       "| <!--/--> | gene_ids &lt;chr&gt; |\n",
       "|---|---|\n",
       "| 1 | ENSG00000000003.15 |\n",
       "| 2 | ENSG00000000419.13 |\n",
       "| 3 | ENSG00000001617.12 |\n",
       "| 4 | ENSG00000002549.12 |\n",
       "| 5 | ENSG00000002586.20 |\n",
       "| 6 | ENSG00000002834.18 |\n",
       "\n"
      ],
      "text/plain": [
       "  gene_ids          \n",
       "1 ENSG00000000003.15\n",
       "2 ENSG00000000419.13\n",
       "3 ENSG00000001617.12\n",
       "4 ENSG00000002549.12\n",
       "5 ENSG00000002586.20\n",
       "6 ENSG00000002834.18"
      ]
     },
     "metadata": {},
     "output_type": "display_data"
    }
   ],
   "source": [
    "test_df <- data.frame(gene_ids=gene_ids_versions)\n",
    "head(test_df)"
   ]
  },
  {
   "cell_type": "code",
   "execution_count": 125,
   "id": "bbb29df8-b55e-4c27-af2d-d564ccc0eecb",
   "metadata": {
    "vscode": {
     "languageId": "r"
    }
   },
   "outputs": [
    {
     "data": {
      "text/html": [
       "<table class=\"dataframe\">\n",
       "<caption>A data.frame: 6 × 2</caption>\n",
       "<thead>\n",
       "\t<tr><th></th><th scope=col>gene_ids</th><th scope=col>modified_gene_ids</th></tr>\n",
       "\t<tr><th></th><th scope=col>&lt;chr&gt;</th><th scope=col>&lt;chr&gt;</th></tr>\n",
       "</thead>\n",
       "<tbody>\n",
       "\t<tr><th scope=row>1</th><td>ENSG00000000003.15</td><td>ENSG00000000003</td></tr>\n",
       "\t<tr><th scope=row>2</th><td>ENSG00000000419.13</td><td>ENSG00000000419</td></tr>\n",
       "\t<tr><th scope=row>3</th><td>ENSG00000001617.12</td><td>ENSG00000001617</td></tr>\n",
       "\t<tr><th scope=row>4</th><td>ENSG00000002549.12</td><td>ENSG00000002549</td></tr>\n",
       "\t<tr><th scope=row>5</th><td>ENSG00000002586.20</td><td>ENSG00000002586</td></tr>\n",
       "\t<tr><th scope=row>6</th><td>ENSG00000002834.18</td><td>ENSG00000002834</td></tr>\n",
       "</tbody>\n",
       "</table>\n"
      ],
      "text/latex": [
       "A data.frame: 6 × 2\n",
       "\\begin{tabular}{r|ll}\n",
       "  & gene\\_ids & modified\\_gene\\_ids\\\\\n",
       "  & <chr> & <chr>\\\\\n",
       "\\hline\n",
       "\t1 & ENSG00000000003.15 & ENSG00000000003\\\\\n",
       "\t2 & ENSG00000000419.13 & ENSG00000000419\\\\\n",
       "\t3 & ENSG00000001617.12 & ENSG00000001617\\\\\n",
       "\t4 & ENSG00000002549.12 & ENSG00000002549\\\\\n",
       "\t5 & ENSG00000002586.20 & ENSG00000002586\\\\\n",
       "\t6 & ENSG00000002834.18 & ENSG00000002834\\\\\n",
       "\\end{tabular}\n"
      ],
      "text/markdown": [
       "\n",
       "A data.frame: 6 × 2\n",
       "\n",
       "| <!--/--> | gene_ids &lt;chr&gt; | modified_gene_ids &lt;chr&gt; |\n",
       "|---|---|---|\n",
       "| 1 | ENSG00000000003.15 | ENSG00000000003 |\n",
       "| 2 | ENSG00000000419.13 | ENSG00000000419 |\n",
       "| 3 | ENSG00000001617.12 | ENSG00000001617 |\n",
       "| 4 | ENSG00000002549.12 | ENSG00000002549 |\n",
       "| 5 | ENSG00000002586.20 | ENSG00000002586 |\n",
       "| 6 | ENSG00000002834.18 | ENSG00000002834 |\n",
       "\n"
      ],
      "text/plain": [
       "  gene_ids           modified_gene_ids\n",
       "1 ENSG00000000003.15 ENSG00000000003  \n",
       "2 ENSG00000000419.13 ENSG00000000419  \n",
       "3 ENSG00000001617.12 ENSG00000001617  \n",
       "4 ENSG00000002549.12 ENSG00000002549  \n",
       "5 ENSG00000002586.20 ENSG00000002586  \n",
       "6 ENSG00000002834.18 ENSG00000002834  "
      ]
     },
     "metadata": {},
     "output_type": "display_data"
    }
   ],
   "source": [
    "test_df$modified_gene_ids <- test_df$gene_ids\n",
    "test_df$modified_gene_ids <- gsub(\"\\\\..*$\", \"\", test_df$modified_gene_ids)\n",
    "head(test_df)"
   ]
  },
  {
   "cell_type": "code",
   "execution_count": 126,
   "id": "dc8d5f26-ca98-4cfb-9371-eddc7fbf0238",
   "metadata": {
    "vscode": {
     "languageId": "r"
    }
   },
   "outputs": [
    {
     "data": {
      "text/html": [
       "TRUE"
      ],
      "text/latex": [
       "TRUE"
      ],
      "text/markdown": [
       "TRUE"
      ],
      "text/plain": [
       "[1] TRUE"
      ]
     },
     "metadata": {},
     "output_type": "display_data"
    }
   ],
   "source": [
    "identical(rownames(normalized_counts), test_df$modified_gene_ids)"
   ]
  },
  {
   "cell_type": "code",
   "execution_count": 97,
   "id": "0c7d70bc-5fe4-49a7-9a0a-7a7370aaa864",
   "metadata": {
    "vscode": {
     "languageId": "r"
    }
   },
   "outputs": [
    {
     "data": {
      "text/html": [
       "TRUE"
      ],
      "text/latex": [
       "TRUE"
      ],
      "text/markdown": [
       "TRUE"
      ],
      "text/plain": [
       "[1] TRUE"
      ]
     },
     "metadata": {},
     "output_type": "display_data"
    }
   ],
   "source": [
    "# check order of colnames in matrix and colData\n",
    "identical(colnames(normalized_counts), colData(dataPrep)$barcode)"
   ]
  },
  {
   "cell_type": "code",
   "execution_count": 98,
   "id": "55b3f194-a636-4e7b-a7cc-7400e8ee579b",
   "metadata": {
    "vscode": {
     "languageId": "r"
    }
   },
   "outputs": [
    {
     "data": {
      "text/html": [
       "TRUE"
      ],
      "text/latex": [
       "TRUE"
      ],
      "text/markdown": [
       "TRUE"
      ],
      "text/plain": [
       "[1] TRUE"
      ]
     },
     "metadata": {},
     "output_type": "display_data"
    },
    {
     "data": {
      "text/html": [
       "TRUE"
      ],
      "text/latex": [
       "TRUE"
      ],
      "text/markdown": [
       "TRUE"
      ],
      "text/plain": [
       "[1] TRUE"
      ]
     },
     "metadata": {},
     "output_type": "display_data"
    }
   ],
   "source": [
    "# find index of states by grep in colnames\n",
    "x<-grep(\"-11A-\", colnames(normalized_counts))\n",
    "y<-grep(\"-11A-\", colnames(normalized_counts), invert=TRUE)\n",
    "\n",
    "# compare index of states by grep in colnames with index of NT/TP in colData\n",
    "identical(x, which(colData(dataPrep)$shortLetterCode %in% \"NT\"))\n",
    "identical(y, which(colData(dataPrep)$shortLetterCode %in% \"TP\"))"
   ]
  },
  {
   "cell_type": "markdown",
   "id": "07e72c1d-d7c9-446d-97fc-130b86fded92",
   "metadata": {},
   "source": [
    "# miRNA"
   ]
  },
  {
   "cell_type": "code",
   "execution_count": 19,
   "id": "3de9bb06-45b0-4b45-ab9c-b09a791393bc",
   "metadata": {
    "vscode": {
     "languageId": "r"
    }
   },
   "outputs": [],
   "source": [
    "dataAssy.miR <- readRDS(\"downloaded_dataAssy_miR.rds\")"
   ]
  },
  {
   "cell_type": "markdown",
   "id": "369c3a51-a3e4-43e4-956f-11e1303d9c13",
   "metadata": {},
   "source": [
    "## Take columns that start with \"read_count_\" (for raw data) and create matrix"
   ]
  },
  {
   "cell_type": "code",
   "execution_count": 20,
   "id": "89057cd3-03ec-4d0b-9b88-35366f41bbeb",
   "metadata": {
    "vscode": {
     "languageId": "r"
    }
   },
   "outputs": [
    {
     "data": {
      "text/html": [
       "<table class=\"dataframe\">\n",
       "<caption>A data.frame: 2 × 422</caption>\n",
       "<thead>\n",
       "\t<tr><th></th><th scope=col>TCGA-FV-A3I0-01A-11R-A22J-13</th><th scope=col>TCGA-ES-A2HS-01A-11R-A17X-13</th><th scope=col>TCGA-UB-A7MA-01A-11R-A343-13</th><th scope=col>TCGA-DD-A4NV-01A-11R-A310-13</th><th scope=col>TCGA-T1-A6J8-01A-11R-A32J-13</th><th scope=col>TCGA-DD-AADF-01A-11R-A41H-13</th><th scope=col>TCGA-DD-AACP-01A-11R-A41H-13</th><th scope=col>TCGA-CC-5261-01A-01R-A130-13</th><th scope=col>TCGA-DD-A1EC-11A-11R-A130-13</th><th scope=col>TCGA-DD-AADN-01A-11R-A41H-13</th><th scope=col>⋯</th><th scope=col>TCGA-DD-AADY-01A-11R-A41H-13</th><th scope=col>TCGA-CC-A7IH-01A-11R-A33A-13</th><th scope=col>TCGA-CC-A7IJ-01A-11R-A343-13</th><th scope=col>TCGA-G3-AAV1-01A-11R-A38M-13</th><th scope=col>TCGA-BC-A10X-01A-11R-A130-13</th><th scope=col>TCGA-G3-A25Z-01A-11R-A16S-13</th><th scope=col>TCGA-DD-A3A2-11A-11R-A214-13</th><th scope=col>TCGA-DD-A3A2-01A-11R-A214-13</th><th scope=col>TCGA-ZS-A9CG-01A-11R-A37G-13</th><th scope=col>TCGA-ZP-A9D0-01A-11R-A37G-13</th></tr>\n",
       "\t<tr><th></th><th scope=col>&lt;int&gt;</th><th scope=col>&lt;int&gt;</th><th scope=col>&lt;int&gt;</th><th scope=col>&lt;int&gt;</th><th scope=col>&lt;int&gt;</th><th scope=col>&lt;int&gt;</th><th scope=col>&lt;int&gt;</th><th scope=col>&lt;int&gt;</th><th scope=col>&lt;int&gt;</th><th scope=col>&lt;int&gt;</th><th scope=col>⋯</th><th scope=col>&lt;int&gt;</th><th scope=col>&lt;int&gt;</th><th scope=col>&lt;int&gt;</th><th scope=col>&lt;int&gt;</th><th scope=col>&lt;int&gt;</th><th scope=col>&lt;int&gt;</th><th scope=col>&lt;int&gt;</th><th scope=col>&lt;int&gt;</th><th scope=col>&lt;int&gt;</th><th scope=col>&lt;int&gt;</th></tr>\n",
       "</thead>\n",
       "<tbody>\n",
       "\t<tr><th scope=row>hsa-let-7a-1</th><td>68731</td><td>16966</td><td>44411</td><td>41938</td><td>59698</td><td>30805</td><td>26385</td><td>141609</td><td>100036</td><td>12907</td><td>⋯</td><td>46125</td><td>23894</td><td>102617</td><td>22193</td><td>75118</td><td>57368</td><td>28422</td><td>10481</td><td>31753</td><td>16776</td></tr>\n",
       "\t<tr><th scope=row>hsa-let-7a-2</th><td>68386</td><td>17161</td><td>44620</td><td>41873</td><td>59753</td><td>30638</td><td>26314</td><td>140961</td><td> 99931</td><td>12863</td><td>⋯</td><td>46136</td><td>23652</td><td>103224</td><td>22293</td><td>75366</td><td>57330</td><td>28642</td><td>10356</td><td>31748</td><td>16823</td></tr>\n",
       "</tbody>\n",
       "</table>\n"
      ],
      "text/latex": [
       "A data.frame: 2 × 422\n",
       "\\begin{tabular}{r|lllllllllllllllllllll}\n",
       "  & TCGA-FV-A3I0-01A-11R-A22J-13 & TCGA-ES-A2HS-01A-11R-A17X-13 & TCGA-UB-A7MA-01A-11R-A343-13 & TCGA-DD-A4NV-01A-11R-A310-13 & TCGA-T1-A6J8-01A-11R-A32J-13 & TCGA-DD-AADF-01A-11R-A41H-13 & TCGA-DD-AACP-01A-11R-A41H-13 & TCGA-CC-5261-01A-01R-A130-13 & TCGA-DD-A1EC-11A-11R-A130-13 & TCGA-DD-AADN-01A-11R-A41H-13 & ⋯ & TCGA-DD-AADY-01A-11R-A41H-13 & TCGA-CC-A7IH-01A-11R-A33A-13 & TCGA-CC-A7IJ-01A-11R-A343-13 & TCGA-G3-AAV1-01A-11R-A38M-13 & TCGA-BC-A10X-01A-11R-A130-13 & TCGA-G3-A25Z-01A-11R-A16S-13 & TCGA-DD-A3A2-11A-11R-A214-13 & TCGA-DD-A3A2-01A-11R-A214-13 & TCGA-ZS-A9CG-01A-11R-A37G-13 & TCGA-ZP-A9D0-01A-11R-A37G-13\\\\\n",
       "  & <int> & <int> & <int> & <int> & <int> & <int> & <int> & <int> & <int> & <int> & ⋯ & <int> & <int> & <int> & <int> & <int> & <int> & <int> & <int> & <int> & <int>\\\\\n",
       "\\hline\n",
       "\thsa-let-7a-1 & 68731 & 16966 & 44411 & 41938 & 59698 & 30805 & 26385 & 141609 & 100036 & 12907 & ⋯ & 46125 & 23894 & 102617 & 22193 & 75118 & 57368 & 28422 & 10481 & 31753 & 16776\\\\\n",
       "\thsa-let-7a-2 & 68386 & 17161 & 44620 & 41873 & 59753 & 30638 & 26314 & 140961 &  99931 & 12863 & ⋯ & 46136 & 23652 & 103224 & 22293 & 75366 & 57330 & 28642 & 10356 & 31748 & 16823\\\\\n",
       "\\end{tabular}\n"
      ],
      "text/markdown": [
       "\n",
       "A data.frame: 2 × 422\n",
       "\n",
       "| <!--/--> | TCGA-FV-A3I0-01A-11R-A22J-13 &lt;int&gt; | TCGA-ES-A2HS-01A-11R-A17X-13 &lt;int&gt; | TCGA-UB-A7MA-01A-11R-A343-13 &lt;int&gt; | TCGA-DD-A4NV-01A-11R-A310-13 &lt;int&gt; | TCGA-T1-A6J8-01A-11R-A32J-13 &lt;int&gt; | TCGA-DD-AADF-01A-11R-A41H-13 &lt;int&gt; | TCGA-DD-AACP-01A-11R-A41H-13 &lt;int&gt; | TCGA-CC-5261-01A-01R-A130-13 &lt;int&gt; | TCGA-DD-A1EC-11A-11R-A130-13 &lt;int&gt; | TCGA-DD-AADN-01A-11R-A41H-13 &lt;int&gt; | ⋯ ⋯ | TCGA-DD-AADY-01A-11R-A41H-13 &lt;int&gt; | TCGA-CC-A7IH-01A-11R-A33A-13 &lt;int&gt; | TCGA-CC-A7IJ-01A-11R-A343-13 &lt;int&gt; | TCGA-G3-AAV1-01A-11R-A38M-13 &lt;int&gt; | TCGA-BC-A10X-01A-11R-A130-13 &lt;int&gt; | TCGA-G3-A25Z-01A-11R-A16S-13 &lt;int&gt; | TCGA-DD-A3A2-11A-11R-A214-13 &lt;int&gt; | TCGA-DD-A3A2-01A-11R-A214-13 &lt;int&gt; | TCGA-ZS-A9CG-01A-11R-A37G-13 &lt;int&gt; | TCGA-ZP-A9D0-01A-11R-A37G-13 &lt;int&gt; |\n",
       "|---|---|---|---|---|---|---|---|---|---|---|---|---|---|---|---|---|---|---|---|---|---|\n",
       "| hsa-let-7a-1 | 68731 | 16966 | 44411 | 41938 | 59698 | 30805 | 26385 | 141609 | 100036 | 12907 | ⋯ | 46125 | 23894 | 102617 | 22193 | 75118 | 57368 | 28422 | 10481 | 31753 | 16776 |\n",
       "| hsa-let-7a-2 | 68386 | 17161 | 44620 | 41873 | 59753 | 30638 | 26314 | 140961 |  99931 | 12863 | ⋯ | 46136 | 23652 | 103224 | 22293 | 75366 | 57330 | 28642 | 10356 | 31748 | 16823 |\n",
       "\n"
      ],
      "text/plain": [
       "             TCGA-FV-A3I0-01A-11R-A22J-13 TCGA-ES-A2HS-01A-11R-A17X-13\n",
       "hsa-let-7a-1 68731                        16966                       \n",
       "hsa-let-7a-2 68386                        17161                       \n",
       "             TCGA-UB-A7MA-01A-11R-A343-13 TCGA-DD-A4NV-01A-11R-A310-13\n",
       "hsa-let-7a-1 44411                        41938                       \n",
       "hsa-let-7a-2 44620                        41873                       \n",
       "             TCGA-T1-A6J8-01A-11R-A32J-13 TCGA-DD-AADF-01A-11R-A41H-13\n",
       "hsa-let-7a-1 59698                        30805                       \n",
       "hsa-let-7a-2 59753                        30638                       \n",
       "             TCGA-DD-AACP-01A-11R-A41H-13 TCGA-CC-5261-01A-01R-A130-13\n",
       "hsa-let-7a-1 26385                        141609                      \n",
       "hsa-let-7a-2 26314                        140961                      \n",
       "             TCGA-DD-A1EC-11A-11R-A130-13 TCGA-DD-AADN-01A-11R-A41H-13 ⋯\n",
       "hsa-let-7a-1 100036                       12907                        ⋯\n",
       "hsa-let-7a-2  99931                       12863                        ⋯\n",
       "             TCGA-DD-AADY-01A-11R-A41H-13 TCGA-CC-A7IH-01A-11R-A33A-13\n",
       "hsa-let-7a-1 46125                        23894                       \n",
       "hsa-let-7a-2 46136                        23652                       \n",
       "             TCGA-CC-A7IJ-01A-11R-A343-13 TCGA-G3-AAV1-01A-11R-A38M-13\n",
       "hsa-let-7a-1 102617                       22193                       \n",
       "hsa-let-7a-2 103224                       22293                       \n",
       "             TCGA-BC-A10X-01A-11R-A130-13 TCGA-G3-A25Z-01A-11R-A16S-13\n",
       "hsa-let-7a-1 75118                        57368                       \n",
       "hsa-let-7a-2 75366                        57330                       \n",
       "             TCGA-DD-A3A2-11A-11R-A214-13 TCGA-DD-A3A2-01A-11R-A214-13\n",
       "hsa-let-7a-1 28422                        10481                       \n",
       "hsa-let-7a-2 28642                        10356                       \n",
       "             TCGA-ZS-A9CG-01A-11R-A37G-13 TCGA-ZP-A9D0-01A-11R-A37G-13\n",
       "hsa-let-7a-1 31753                        16776                       \n",
       "hsa-let-7a-2 31748                        16823                       "
      ]
     },
     "metadata": {},
     "output_type": "display_data"
    }
   ],
   "source": [
    "read_countData <-  colnames(dataAssy.miR)[grep(\"read_count_\", colnames(dataAssy.miR))]\n",
    "\n",
    "data_matrix_miR <- dataAssy.miR[,read_countData]\n",
    "\n",
    "colnames(data_matrix_miR) <- gsub(\"read_count_\",\"\", colnames(data_matrix_miR))\n",
    "\n",
    "head(data_matrix_miR, 2)"
   ]
  },
  {
   "cell_type": "markdown",
   "id": "4c3d06f1-6bca-45c0-a0f0-65bbace12c86",
   "metadata": {},
   "source": [
    "## Filtering for duplicated samples"
   ]
  },
  {
   "cell_type": "code",
   "execution_count": 21,
   "id": "4f23a9cf-cfc2-4597-b161-7f8729099bfe",
   "metadata": {
    "vscode": {
     "languageId": "r"
    }
   },
   "outputs": [],
   "source": [
    "# duplicates_index_to_remove <- function(patient,input_matrix) {\n",
    "#   # for every element in patient search colnames that start with this sample id, whih are from duplicated samples \n",
    "#   duplicated_columns <- colnames(input_matrix)[grep(patient, colnames(input_matrix))]\n",
    "    \n",
    "#   # Count zeros in the specified columns\n",
    "#   zero_counts <- colSums(input_matrix[, duplicated_columns] == 0)\n",
    "#   print(zero_counts)\n",
    "\n",
    "#   # find which column for every duplicated sample has more zeros\n",
    "#   index_of_larger_number <- which.max(zero_counts)\n",
    "\n",
    "#   # Find the index from the matrix, of the column with more zeros to remove\n",
    "#   column_index_to_remove <- which(colnames(input_matrix) %in% duplicated_columns[index_of_larger_number])\n",
    "\n",
    "#   return (column_index_to_remove)\n",
    "# }"
   ]
  },
  {
   "cell_type": "code",
   "execution_count": 22,
   "id": "62956674-8f6b-4743-8af8-c0359ff6dd48",
   "metadata": {
    "scrolled": true,
    "vscode": {
     "languageId": "r"
    }
   },
   "outputs": [],
   "source": [
    "# # keep first 16 characters from colnames, which are sample ids\n",
    "# sample_ids <- substr(colnames(data_matrix_miR), 0, 16)\n",
    "\n",
    "# # find duplicated samples in colData(dataPrep)\n",
    "# patient_duplicates <- sample_ids[which(duplicated(sample_ids))]\n",
    "\n",
    "# # use function duplicates_index_to_remove for every element in patient_duplicates\n",
    "# patient_duplicates_to_remove <- sapply(patient_duplicates, duplicates_index_to_remove, input_matrix = data_matrix_miR)\n",
    "\n",
    "# print(\"Index of duplicates with the most zeros per patient with duplicates\")\n",
    "# patient_duplicates_to_remove\n",
    "\n",
    "# print(\"The names of the columns that will be removed\")\n",
    "# colnames(data_matrix_miR)[patient_duplicates_to_remove]\n",
    "# samples_to_remove <- colnames(data_matrix_miR)[patient_duplicates_to_remove]"
   ]
  },
  {
   "cell_type": "code",
   "execution_count": 23,
   "id": "ea1cf674-0198-42bf-8702-e3eabaa513b0",
   "metadata": {
    "vscode": {
     "languageId": "r"
    }
   },
   "outputs": [],
   "source": [
    "# # Remove the specified-duplicated columns\n",
    "# data_matrix_miR <- data_matrix_miR[, which(!colnames(data_matrix_miR) %in% samples_to_remove)]\n",
    "# dim(data_matrix_miR)"
   ]
  },
  {
   "cell_type": "markdown",
   "id": "3b1f59d7-bb71-4cef-8c31-de791cc51f47",
   "metadata": {},
   "source": [
    "## Filtering for complete samples"
   ]
  },
  {
   "cell_type": "code",
   "execution_count": 24,
   "id": "7d5235d2-b333-47c8-ba04-cb57876dbd99",
   "metadata": {
    "vscode": {
     "languageId": "r"
    }
   },
   "outputs": [
    {
     "data": {
      "text/html": [
       "<style>\n",
       ".list-inline {list-style: none; margin:0; padding: 0}\n",
       ".list-inline>li {display: inline-block}\n",
       ".list-inline>li:not(:last-child)::after {content: \"\\00b7\"; padding: 0 .5ex}\n",
       "</style>\n",
       "<ol class=list-inline><li>1881</li><li>408</li></ol>\n"
      ],
      "text/latex": [
       "\\begin{enumerate*}\n",
       "\\item 1881\n",
       "\\item 408\n",
       "\\end{enumerate*}\n"
      ],
      "text/markdown": [
       "1. 1881\n",
       "2. 408\n",
       "\n",
       "\n"
      ],
      "text/plain": [
       "[1] 1881  408"
      ]
     },
     "metadata": {},
     "output_type": "display_data"
    }
   ],
   "source": [
    "# keep first 16 characters from colnames, which are sample ids\n",
    "colnames(data_matrix_miR) <- substr(colnames(data_matrix_miR), 0, 16)\n",
    "\n",
    "# Remove the specified-duplicated columns\n",
    "data_matrix_miR <- data_matrix_miR[, which(colnames(data_matrix_miR) %in% completeSamples)]\n",
    "dim(data_matrix_miR)"
   ]
  },
  {
   "cell_type": "markdown",
   "id": "5336164d-af7c-43e2-bf96-2d5d9faf114e",
   "metadata": {},
   "source": [
    "## Filtering selected features "
   ]
  },
  {
   "cell_type": "code",
   "execution_count": 25,
   "id": "f51922dc-f28e-42cb-9f1f-356073910ef5",
   "metadata": {
    "vscode": {
     "languageId": "r"
    }
   },
   "outputs": [
    {
     "data": {
      "text/html": [
       "<table class=\"dataframe\">\n",
       "<caption>A data.frame: 3 × 1</caption>\n",
       "<thead>\n",
       "\t<tr><th></th><th scope=col>x</th></tr>\n",
       "\t<tr><th></th><th scope=col>&lt;chr&gt;</th></tr>\n",
       "</thead>\n",
       "<tbody>\n",
       "\t<tr><th scope=row>1</th><td>ENSG00000160339.16</td></tr>\n",
       "\t<tr><th scope=row>2</th><td>ENSG00000019169.10</td></tr>\n",
       "\t<tr><th scope=row>3</th><td>ENSG00000136011.15</td></tr>\n",
       "</tbody>\n",
       "</table>\n"
      ],
      "text/latex": [
       "A data.frame: 3 × 1\n",
       "\\begin{tabular}{r|l}\n",
       "  & x\\\\\n",
       "  & <chr>\\\\\n",
       "\\hline\n",
       "\t1 & ENSG00000160339.16\\\\\n",
       "\t2 & ENSG00000019169.10\\\\\n",
       "\t3 & ENSG00000136011.15\\\\\n",
       "\\end{tabular}\n"
      ],
      "text/markdown": [
       "\n",
       "A data.frame: 3 × 1\n",
       "\n",
       "| <!--/--> | x &lt;chr&gt; |\n",
       "|---|---|\n",
       "| 1 | ENSG00000160339.16 |\n",
       "| 2 | ENSG00000019169.10 |\n",
       "| 3 | ENSG00000136011.15 |\n",
       "\n"
      ],
      "text/plain": [
       "  x                 \n",
       "1 ENSG00000160339.16\n",
       "2 ENSG00000019169.10\n",
       "3 ENSG00000136011.15"
      ]
     },
     "metadata": {},
     "output_type": "display_data"
    }
   ],
   "source": [
    "selectedFeatures<- read.csv(\"/home/thlamp/tcga/data/DEGs450.csv\")\n",
    "head(selectedFeatures, 3)"
   ]
  },
  {
   "cell_type": "code",
   "execution_count": 26,
   "id": "1087d837-7458-413b-a0b0-eb5959f1b481",
   "metadata": {
    "vscode": {
     "languageId": "r"
    }
   },
   "outputs": [
    {
     "data": {
      "text/html": [
       "<style>\n",
       ".list-inline {list-style: none; margin:0; padding: 0}\n",
       ".list-inline>li {display: inline-block}\n",
       ".list-inline>li:not(:last-child)::after {content: \"\\00b7\"; padding: 0 .5ex}\n",
       "</style>\n",
       "<ol class=list-inline><li>150</li><li>408</li></ol>\n"
      ],
      "text/latex": [
       "\\begin{enumerate*}\n",
       "\\item 150\n",
       "\\item 408\n",
       "\\end{enumerate*}\n"
      ],
      "text/markdown": [
       "1. 150\n",
       "2. 408\n",
       "\n",
       "\n"
      ],
      "text/plain": [
       "[1] 150 408"
      ]
     },
     "metadata": {},
     "output_type": "display_data"
    }
   ],
   "source": [
    "data_matrix_miR <- data_matrix_miR[which(rownames(data_matrix_miR) %in% selectedFeatures$x),]\n",
    "dim(data_matrix_miR)"
   ]
  },
  {
   "cell_type": "markdown",
   "id": "645c6476-eb11-441f-a064-39af34416d57",
   "metadata": {},
   "source": [
    "## Prepare meatadata for MOFA"
   ]
  },
  {
   "cell_type": "code",
   "execution_count": 27,
   "id": "4841817f-cb18-4437-a91c-4a704c5634d4",
   "metadata": {
    "vscode": {
     "languageId": "r"
    }
   },
   "outputs": [],
   "source": [
    "dataPrep <- readRDS(\"downloaded_dataPrep.rds\")\n",
    "data_met <- readRDS(\"downloaded_data_met.rds\")"
   ]
  },
  {
   "cell_type": "code",
   "execution_count": 28,
   "id": "ee2beb82-aa30-4547-a169-72abec441679",
   "metadata": {
    "vscode": {
     "languageId": "r"
    }
   },
   "outputs": [
    {
     "data": {
      "text/plain": [
       "DataFrame with 2 rows and 3 columns\n",
       "                                       sample shortLetterCode\n",
       "                                  <character>     <character>\n",
       "TCGA-FV-A3I0-01A-11R-A22L-07 TCGA-FV-A3I0-01A              TP\n",
       "TCGA-DD-A3A6-11A-11R-A22L-07 TCGA-DD-A3A6-11A              NT\n",
       "                             ajcc_pathologic_stage\n",
       "                                       <character>\n",
       "TCGA-FV-A3I0-01A-11R-A22L-07              Stage II\n",
       "TCGA-DD-A3A6-11A-11R-A22L-07              Stage II"
      ]
     },
     "metadata": {},
     "output_type": "display_data"
    },
    {
     "data": {
      "text/plain": [
       "DataFrame with 2 rows and 3 columns\n",
       "                                       sample shortLetterCode\n",
       "                                  <character>     <character>\n",
       "TCGA-BC-A110-11A-11D-A132-05 TCGA-BC-A110-11A              NT\n",
       "TCGA-G3-A3CG-01A-11D-A20Z-05 TCGA-G3-A3CG-01A              TP\n",
       "                             ajcc_pathologic_stage\n",
       "                                       <character>\n",
       "TCGA-BC-A110-11A-11D-A132-05                    NA\n",
       "TCGA-G3-A3CG-01A-11D-A20Z-05               Stage I"
      ]
     },
     "metadata": {},
     "output_type": "display_data"
    }
   ],
   "source": [
    "mrna_coldata <- colData(dataPrep)[, c(\"sample\", \"shortLetterCode\", \"ajcc_pathologic_stage\")]\n",
    "head(mrna_coldata, 2)\n",
    "meth_coldata <- colData(data_met)[, c(\"sample\", \"shortLetterCode\", \"ajcc_pathologic_stage\")]\n",
    "head(meth_coldata, 2)"
   ]
  },
  {
   "cell_type": "code",
   "execution_count": 29,
   "id": "deb4dd78-de13-4c45-ba49-81b63b36e9a0",
   "metadata": {
    "vscode": {
     "languageId": "r"
    }
   },
   "outputs": [
    {
     "data": {
      "text/html": [
       "<style>\n",
       ".list-inline {list-style: none; margin:0; padding: 0}\n",
       ".list-inline>li {display: inline-block}\n",
       ".list-inline>li:not(:last-child)::after {content: \"\\00b7\"; padding: 0 .5ex}\n",
       "</style>\n",
       "<ol class=list-inline><li>848</li><li>3</li></ol>\n"
      ],
      "text/latex": [
       "\\begin{enumerate*}\n",
       "\\item 848\n",
       "\\item 3\n",
       "\\end{enumerate*}\n"
      ],
      "text/markdown": [
       "1. 848\n",
       "2. 3\n",
       "\n",
       "\n"
      ],
      "text/plain": [
       "[1] 848   3"
      ]
     },
     "metadata": {},
     "output_type": "display_data"
    }
   ],
   "source": [
    "mirna_coldata <- rbind(mrna_coldata, meth_coldata)\n",
    "dim(mirna_coldata)"
   ]
  },
  {
   "cell_type": "code",
   "execution_count": 30,
   "id": "fc700389-7951-44ad-859b-87c5e841f229",
   "metadata": {
    "vscode": {
     "languageId": "r"
    }
   },
   "outputs": [
    {
     "data": {
      "text/html": [
       "<style>\n",
       ".list-inline {list-style: none; margin:0; padding: 0}\n",
       ".list-inline>li {display: inline-block}\n",
       ".list-inline>li:not(:last-child)::after {content: \"\\00b7\"; padding: 0 .5ex}\n",
       "</style>\n",
       "<ol class=list-inline><li>436</li><li>3</li></ol>\n"
      ],
      "text/latex": [
       "\\begin{enumerate*}\n",
       "\\item 436\n",
       "\\item 3\n",
       "\\end{enumerate*}\n"
      ],
      "text/markdown": [
       "1. 436\n",
       "2. 3\n",
       "\n",
       "\n"
      ],
      "text/plain": [
       "[1] 436   3"
      ]
     },
     "metadata": {},
     "output_type": "display_data"
    }
   ],
   "source": [
    "mirna_coldata <- mirna_coldata[!duplicated(mirna_coldata[,\"sample\"]),]\n",
    "dim(mirna_coldata)"
   ]
  },
  {
   "cell_type": "code",
   "execution_count": 31,
   "id": "e4ccc57a-9340-430a-a1df-98f0e21afb29",
   "metadata": {
    "vscode": {
     "languageId": "r"
    }
   },
   "outputs": [
    {
     "data": {
      "text/html": [
       "<table class=\"dataframe\">\n",
       "<caption>A data.frame: 2 × 1</caption>\n",
       "<thead>\n",
       "\t<tr><th></th><th scope=col>sample</th></tr>\n",
       "\t<tr><th></th><th scope=col>&lt;chr&gt;</th></tr>\n",
       "</thead>\n",
       "<tbody>\n",
       "\t<tr><th scope=row>1</th><td>TCGA-FV-A3I0-01A</td></tr>\n",
       "\t<tr><th scope=row>2</th><td>TCGA-ES-A2HS-01A</td></tr>\n",
       "</tbody>\n",
       "</table>\n"
      ],
      "text/latex": [
       "A data.frame: 2 × 1\n",
       "\\begin{tabular}{r|l}\n",
       "  & sample\\\\\n",
       "  & <chr>\\\\\n",
       "\\hline\n",
       "\t1 & TCGA-FV-A3I0-01A\\\\\n",
       "\t2 & TCGA-ES-A2HS-01A\\\\\n",
       "\\end{tabular}\n"
      ],
      "text/markdown": [
       "\n",
       "A data.frame: 2 × 1\n",
       "\n",
       "| <!--/--> | sample &lt;chr&gt; |\n",
       "|---|---|\n",
       "| 1 | TCGA-FV-A3I0-01A |\n",
       "| 2 | TCGA-ES-A2HS-01A |\n",
       "\n"
      ],
      "text/plain": [
       "  sample          \n",
       "1 TCGA-FV-A3I0-01A\n",
       "2 TCGA-ES-A2HS-01A"
      ]
     },
     "metadata": {},
     "output_type": "display_data"
    }
   ],
   "source": [
    "miRcolData <- data.frame(sample=colnames(data_matrix_miR))\n",
    "head(miRcolData,2)"
   ]
  },
  {
   "cell_type": "code",
   "execution_count": 32,
   "id": "1db5e92c-2f2a-4a20-8457-bf1af29430be",
   "metadata": {
    "vscode": {
     "languageId": "r"
    }
   },
   "outputs": [],
   "source": [
    "# miRcolData$sample <- \"\"\n",
    "# miRcolData$sample <- substr(miRcolData$barcode, 0, 16)\n",
    "# head(miRcolData,2)"
   ]
  },
  {
   "cell_type": "code",
   "execution_count": 33,
   "id": "851d0156-a281-4bfc-9fb4-82ae815225bb",
   "metadata": {
    "vscode": {
     "languageId": "r"
    }
   },
   "outputs": [
    {
     "data": {
      "text/html": [
       "<style>\n",
       ".list-inline {list-style: none; margin:0; padding: 0}\n",
       ".list-inline>li {display: inline-block}\n",
       ".list-inline>li:not(:last-child)::after {content: \"\\00b7\"; padding: 0 .5ex}\n",
       "</style>\n",
       "<ol class=list-inline><li>408</li><li>3</li></ol>\n"
      ],
      "text/latex": [
       "\\begin{enumerate*}\n",
       "\\item 408\n",
       "\\item 3\n",
       "\\end{enumerate*}\n"
      ],
      "text/markdown": [
       "1. 408\n",
       "2. 3\n",
       "\n",
       "\n"
      ],
      "text/plain": [
       "[1] 408   3"
      ]
     },
     "metadata": {},
     "output_type": "display_data"
    },
    {
     "data": {
      "text/html": [
       "<table class=\"dataframe\">\n",
       "<caption>A data.frame: 2 × 3</caption>\n",
       "<thead>\n",
       "\t<tr><th></th><th scope=col>sample</th><th scope=col>shortLetterCode</th><th scope=col>ajcc_pathologic_stage</th></tr>\n",
       "\t<tr><th></th><th scope=col>&lt;chr&gt;</th><th scope=col>&lt;chr&gt;</th><th scope=col>&lt;chr&gt;</th></tr>\n",
       "</thead>\n",
       "<tbody>\n",
       "\t<tr><th scope=row>1</th><td>TCGA-FV-A3I0-01A</td><td>TP</td><td>Stage II</td></tr>\n",
       "\t<tr><th scope=row>2</th><td>TCGA-ES-A2HS-01A</td><td>TP</td><td>Stage I </td></tr>\n",
       "</tbody>\n",
       "</table>\n"
      ],
      "text/latex": [
       "A data.frame: 2 × 3\n",
       "\\begin{tabular}{r|lll}\n",
       "  & sample & shortLetterCode & ajcc\\_pathologic\\_stage\\\\\n",
       "  & <chr> & <chr> & <chr>\\\\\n",
       "\\hline\n",
       "\t1 & TCGA-FV-A3I0-01A & TP & Stage II\\\\\n",
       "\t2 & TCGA-ES-A2HS-01A & TP & Stage I \\\\\n",
       "\\end{tabular}\n"
      ],
      "text/markdown": [
       "\n",
       "A data.frame: 2 × 3\n",
       "\n",
       "| <!--/--> | sample &lt;chr&gt; | shortLetterCode &lt;chr&gt; | ajcc_pathologic_stage &lt;chr&gt; |\n",
       "|---|---|---|---|\n",
       "| 1 | TCGA-FV-A3I0-01A | TP | Stage II |\n",
       "| 2 | TCGA-ES-A2HS-01A | TP | Stage I  |\n",
       "\n"
      ],
      "text/plain": [
       "  sample           shortLetterCode ajcc_pathologic_stage\n",
       "1 TCGA-FV-A3I0-01A TP              Stage II             \n",
       "2 TCGA-ES-A2HS-01A TP              Stage I              "
      ]
     },
     "metadata": {},
     "output_type": "display_data"
    }
   ],
   "source": [
    "miRcolData$shortLetterCode <- \"\"\n",
    "miRcolData$shortLetterCode <- apply(as.matrix(miRcolData$sample),1, function (x){mirna_coldata$shortLetterCode[which(mirna_coldata$sample %in% x)]})\n",
    "\n",
    "miRcolData$ajcc_pathologic_stage <- \"\"\n",
    "miRcolData$ajcc_pathologic_stage <- apply(as.matrix(miRcolData$sample),1, function (x){mirna_coldata$ajcc_pathologic_stage[which(mirna_coldata$sample %in% x)]})\n",
    "\n",
    "dim(miRcolData)\n",
    "head(miRcolData,2)"
   ]
  },
  {
   "cell_type": "markdown",
   "id": "50549e79-9e00-4b04-b7ba-b8898eab177f",
   "metadata": {},
   "source": [
    "## State MOFA model"
   ]
  },
  {
   "cell_type": "code",
   "execution_count": 34,
   "id": "246bf5ad-418d-4e58-a369-dccb27991e98",
   "metadata": {
    "vscode": {
     "languageId": "r"
    }
   },
   "outputs": [
    {
     "data": {
      "text/html": [
       "TRUE"
      ],
      "text/latex": [
       "TRUE"
      ],
      "text/markdown": [
       "TRUE"
      ],
      "text/plain": [
       "[1] TRUE"
      ]
     },
     "metadata": {},
     "output_type": "display_data"
    }
   ],
   "source": [
    "identical(colnames(data_matrix_miR), miRcolData$sample)"
   ]
  },
  {
   "cell_type": "code",
   "execution_count": 35,
   "id": "4d0887ee-c476-4b68-9c9f-a8085ce07fdf",
   "metadata": {
    "scrolled": true,
    "vscode": {
     "languageId": "r"
    }
   },
   "outputs": [
    {
     "name": "stderr",
     "output_type": "stream",
     "text": [
      "-- note: fitType='parametric', but the dispersion trend was not well captured by the\n",
      "   function: y = a/x + b, and a local regression fit was automatically substituted.\n",
      "   specify fitType='local' or 'mean' to avoid this message next time.\n",
      "\n"
     ]
    },
    {
     "data": {
      "text/html": [
       "<table class=\"dataframe\">\n",
       "<caption>A matrix: 2 × 408 of type dbl</caption>\n",
       "<thead>\n",
       "\t<tr><th></th><th scope=col>TCGA-FV-A3I0-01A</th><th scope=col>TCGA-ES-A2HS-01A</th><th scope=col>TCGA-UB-A7MA-01A</th><th scope=col>TCGA-DD-A4NV-01A</th><th scope=col>TCGA-T1-A6J8-01A</th><th scope=col>TCGA-DD-AADF-01A</th><th scope=col>TCGA-DD-AACP-01A</th><th scope=col>TCGA-CC-5261-01A</th><th scope=col>TCGA-DD-A1EC-11A</th><th scope=col>TCGA-DD-AADN-01A</th><th scope=col>⋯</th><th scope=col>TCGA-DD-AADY-01A</th><th scope=col>TCGA-CC-A7IH-01A</th><th scope=col>TCGA-CC-A7IJ-01A</th><th scope=col>TCGA-G3-AAV1-01A</th><th scope=col>TCGA-BC-A10X-01A</th><th scope=col>TCGA-G3-A25Z-01A</th><th scope=col>TCGA-DD-A3A2-11A</th><th scope=col>TCGA-DD-A3A2-01A</th><th scope=col>TCGA-ZS-A9CG-01A</th><th scope=col>TCGA-ZP-A9D0-01A</th></tr>\n",
       "</thead>\n",
       "<tbody>\n",
       "\t<tr><th scope=row>hsa-let-7c</th><td>12.01826</td><td>14.68580</td><td>12.07306</td><td>14.28009</td><td>13.80003</td><td>13.32884</td><td>12.14940</td><td>13.16593</td><td>14.79799</td><td>11.91559</td><td>⋯</td><td>12.00031</td><td>14.05701</td><td>14.73196</td><td>13.02025</td><td>14.86466</td><td>13.67965</td><td>14.30978</td><td>14.73234</td><td>14.37286</td><td>13.47230</td></tr>\n",
       "\t<tr><th scope=row>hsa-mir-101-1</th><td>14.66983</td><td>16.88868</td><td>14.19257</td><td>15.60742</td><td>15.27675</td><td>15.90613</td><td>14.27829</td><td>15.17924</td><td>16.52022</td><td>14.38930</td><td>⋯</td><td>16.00567</td><td>17.03607</td><td>15.06988</td><td>16.32449</td><td>15.81956</td><td>15.52838</td><td>16.56375</td><td>15.94249</td><td>15.44887</td><td>15.38138</td></tr>\n",
       "</tbody>\n",
       "</table>\n"
      ],
      "text/latex": [
       "A matrix: 2 × 408 of type dbl\n",
       "\\begin{tabular}{r|lllllllllllllllllllll}\n",
       "  & TCGA-FV-A3I0-01A & TCGA-ES-A2HS-01A & TCGA-UB-A7MA-01A & TCGA-DD-A4NV-01A & TCGA-T1-A6J8-01A & TCGA-DD-AADF-01A & TCGA-DD-AACP-01A & TCGA-CC-5261-01A & TCGA-DD-A1EC-11A & TCGA-DD-AADN-01A & ⋯ & TCGA-DD-AADY-01A & TCGA-CC-A7IH-01A & TCGA-CC-A7IJ-01A & TCGA-G3-AAV1-01A & TCGA-BC-A10X-01A & TCGA-G3-A25Z-01A & TCGA-DD-A3A2-11A & TCGA-DD-A3A2-01A & TCGA-ZS-A9CG-01A & TCGA-ZP-A9D0-01A\\\\\n",
       "\\hline\n",
       "\thsa-let-7c & 12.01826 & 14.68580 & 12.07306 & 14.28009 & 13.80003 & 13.32884 & 12.14940 & 13.16593 & 14.79799 & 11.91559 & ⋯ & 12.00031 & 14.05701 & 14.73196 & 13.02025 & 14.86466 & 13.67965 & 14.30978 & 14.73234 & 14.37286 & 13.47230\\\\\n",
       "\thsa-mir-101-1 & 14.66983 & 16.88868 & 14.19257 & 15.60742 & 15.27675 & 15.90613 & 14.27829 & 15.17924 & 16.52022 & 14.38930 & ⋯ & 16.00567 & 17.03607 & 15.06988 & 16.32449 & 15.81956 & 15.52838 & 16.56375 & 15.94249 & 15.44887 & 15.38138\\\\\n",
       "\\end{tabular}\n"
      ],
      "text/markdown": [
       "\n",
       "A matrix: 2 × 408 of type dbl\n",
       "\n",
       "| <!--/--> | TCGA-FV-A3I0-01A | TCGA-ES-A2HS-01A | TCGA-UB-A7MA-01A | TCGA-DD-A4NV-01A | TCGA-T1-A6J8-01A | TCGA-DD-AADF-01A | TCGA-DD-AACP-01A | TCGA-CC-5261-01A | TCGA-DD-A1EC-11A | TCGA-DD-AADN-01A | ⋯ | TCGA-DD-AADY-01A | TCGA-CC-A7IH-01A | TCGA-CC-A7IJ-01A | TCGA-G3-AAV1-01A | TCGA-BC-A10X-01A | TCGA-G3-A25Z-01A | TCGA-DD-A3A2-11A | TCGA-DD-A3A2-01A | TCGA-ZS-A9CG-01A | TCGA-ZP-A9D0-01A |\n",
       "|---|---|---|---|---|---|---|---|---|---|---|---|---|---|---|---|---|---|---|---|---|---|\n",
       "| hsa-let-7c | 12.01826 | 14.68580 | 12.07306 | 14.28009 | 13.80003 | 13.32884 | 12.14940 | 13.16593 | 14.79799 | 11.91559 | ⋯ | 12.00031 | 14.05701 | 14.73196 | 13.02025 | 14.86466 | 13.67965 | 14.30978 | 14.73234 | 14.37286 | 13.47230 |\n",
       "| hsa-mir-101-1 | 14.66983 | 16.88868 | 14.19257 | 15.60742 | 15.27675 | 15.90613 | 14.27829 | 15.17924 | 16.52022 | 14.38930 | ⋯ | 16.00567 | 17.03607 | 15.06988 | 16.32449 | 15.81956 | 15.52838 | 16.56375 | 15.94249 | 15.44887 | 15.38138 |\n",
       "\n"
      ],
      "text/plain": [
       "              TCGA-FV-A3I0-01A TCGA-ES-A2HS-01A TCGA-UB-A7MA-01A\n",
       "hsa-let-7c    12.01826         14.68580         12.07306        \n",
       "hsa-mir-101-1 14.66983         16.88868         14.19257        \n",
       "              TCGA-DD-A4NV-01A TCGA-T1-A6J8-01A TCGA-DD-AADF-01A\n",
       "hsa-let-7c    14.28009         13.80003         13.32884        \n",
       "hsa-mir-101-1 15.60742         15.27675         15.90613        \n",
       "              TCGA-DD-AACP-01A TCGA-CC-5261-01A TCGA-DD-A1EC-11A\n",
       "hsa-let-7c    12.14940         13.16593         14.79799        \n",
       "hsa-mir-101-1 14.27829         15.17924         16.52022        \n",
       "              TCGA-DD-AADN-01A ⋯ TCGA-DD-AADY-01A TCGA-CC-A7IH-01A\n",
       "hsa-let-7c    11.91559         ⋯ 12.00031         14.05701        \n",
       "hsa-mir-101-1 14.38930         ⋯ 16.00567         17.03607        \n",
       "              TCGA-CC-A7IJ-01A TCGA-G3-AAV1-01A TCGA-BC-A10X-01A\n",
       "hsa-let-7c    14.73196         13.02025         14.86466        \n",
       "hsa-mir-101-1 15.06988         16.32449         15.81956        \n",
       "              TCGA-G3-A25Z-01A TCGA-DD-A3A2-11A TCGA-DD-A3A2-01A\n",
       "hsa-let-7c    13.67965         14.30978         14.73234        \n",
       "hsa-mir-101-1 15.52838         16.56375         15.94249        \n",
       "              TCGA-ZS-A9CG-01A TCGA-ZP-A9D0-01A\n",
       "hsa-let-7c    14.37286         13.47230        \n",
       "hsa-mir-101-1 15.44887         15.38138        "
      ]
     },
     "metadata": {},
     "output_type": "display_data"
    }
   ],
   "source": [
    "# Create a DESeqDataSet object\n",
    "miRdds <- DESeqDataSetFromMatrix(countData = data_matrix_miR,\n",
    "                              colData = miRcolData,\n",
    "                              design = ~1)\n",
    "\n",
    "# Estimate size factors\n",
    "miRdds <- estimateSizeFactors(miRdds)\n",
    "\n",
    "miRvst <- varianceStabilizingTransformation(miRdds, blind = TRUE)\n",
    "\n",
    "# Extract the normalized counts\n",
    "normalized_counts_miR <- assay(miRvst)\n",
    "\n",
    "head(normalized_counts_miR, 2)"
   ]
  },
  {
   "cell_type": "markdown",
   "id": "cc28e294-1708-4002-97a8-46144b2a1019",
   "metadata": {},
   "source": [
    "-- note: fitType='parametric', but the dispersion trend was not well captured by the\n",
    "   function: y = a/x + b, and a local regression fit was automatically substituted.\n",
    "   specify fitType='local' or 'mean' to avoid this message next time."
   ]
  },
  {
   "cell_type": "markdown",
   "id": "5982554e-8545-4b31-a5de-d112fd3fa839",
   "metadata": {
    "jp-MarkdownHeadingCollapsed": true
   },
   "source": [
    "### check data"
   ]
  },
  {
   "cell_type": "code",
   "execution_count": 43,
   "id": "665245aa-dbaf-48af-af19-09961978c6a7",
   "metadata": {
    "vscode": {
     "languageId": "r"
    }
   },
   "outputs": [
    {
     "data": {
      "text/html": [
       "TRUE"
      ],
      "text/latex": [
       "TRUE"
      ],
      "text/markdown": [
       "TRUE"
      ],
      "text/plain": [
       "[1] TRUE"
      ]
     },
     "metadata": {},
     "output_type": "display_data"
    }
   ],
   "source": [
    "# check order of colnames in matrix and colData\n",
    "identical(colnames(normalized_counts_miR), miRcolData$barcode)"
   ]
  },
  {
   "cell_type": "code",
   "execution_count": 44,
   "id": "25ceed7e-4463-40ab-8fba-1ba6566580fa",
   "metadata": {
    "vscode": {
     "languageId": "r"
    }
   },
   "outputs": [
    {
     "data": {
      "text/html": [
       "TRUE"
      ],
      "text/latex": [
       "TRUE"
      ],
      "text/markdown": [
       "TRUE"
      ],
      "text/plain": [
       "[1] TRUE"
      ]
     },
     "metadata": {},
     "output_type": "display_data"
    },
    {
     "data": {
      "text/html": [
       "TRUE"
      ],
      "text/latex": [
       "TRUE"
      ],
      "text/markdown": [
       "TRUE"
      ],
      "text/plain": [
       "[1] TRUE"
      ]
     },
     "metadata": {},
     "output_type": "display_data"
    }
   ],
   "source": [
    "# find index of states by grep in colnames\n",
    "x<-grep(\"-11A-\", colnames(normalized_counts_miR))\n",
    "y<-grep(\"-11A-\", colnames(normalized_counts_miR), invert=TRUE)\n",
    "\n",
    "# compare index of states by grep in colnames with index of NT/TP in colData\n",
    "identical(x, which(miRcolData$shortLetterCode %in% \"NT\"))\n",
    "identical(y, which(miRcolData$shortLetterCode %in% \"TP\"))"
   ]
  },
  {
   "cell_type": "markdown",
   "id": "bbfdf1b4-6088-4db0-ab3d-e626e4762a26",
   "metadata": {},
   "source": [
    "## Tumor stage for MOFA"
   ]
  },
  {
   "cell_type": "code",
   "execution_count": 45,
   "id": "5f9774b6-19b6-4620-ad10-4606ca1f4484",
   "metadata": {
    "vscode": {
     "languageId": "r"
    }
   },
   "outputs": [
    {
     "data": {
      "text/html": [
       "<style>\n",
       ".list-inline {list-style: none; margin:0; padding: 0}\n",
       ".list-inline>li {display: inline-block}\n",
       ".list-inline>li:not(:last-child)::after {content: \"\\00b7\"; padding: 0 .5ex}\n",
       "</style>\n",
       "<ol class=list-inline><li>406</li><li>3</li></ol>\n"
      ],
      "text/latex": [
       "\\begin{enumerate*}\n",
       "\\item 406\n",
       "\\item 3\n",
       "\\end{enumerate*}\n"
      ],
      "text/markdown": [
       "1. 406\n",
       "2. 3\n",
       "\n",
       "\n"
      ],
      "text/plain": [
       "[1] 406   3"
      ]
     },
     "metadata": {},
     "output_type": "display_data"
    },
    {
     "data": {
      "text/html": [
       "<style>\n",
       ".list-inline {list-style: none; margin:0; padding: 0}\n",
       ".list-inline>li {display: inline-block}\n",
       ".list-inline>li:not(:last-child)::after {content: \"\\00b7\"; padding: 0 .5ex}\n",
       "</style>\n",
       "<ol class=list-inline><li>404</li><li>3</li></ol>\n"
      ],
      "text/latex": [
       "\\begin{enumerate*}\n",
       "\\item 404\n",
       "\\item 3\n",
       "\\end{enumerate*}\n"
      ],
      "text/markdown": [
       "1. 404\n",
       "2. 3\n",
       "\n",
       "\n"
      ],
      "text/plain": [
       "[1] 404   3"
      ]
     },
     "metadata": {},
     "output_type": "display_data"
    }
   ],
   "source": [
    "miRcolData <- miRcolData[which(miRcolData$shortLetterCode %in% \"TP\"), ]\n",
    "dim(miRcolData)\n",
    "miRcolData <- miRcolData[which(!miRcolData$ajcc_pathologic_stage %in% NA), ]\n",
    "dim(miRcolData)"
   ]
  },
  {
   "cell_type": "code",
   "execution_count": 46,
   "id": "c160ee4d-742e-4622-8515-597e760413ff",
   "metadata": {
    "vscode": {
     "languageId": "r"
    }
   },
   "outputs": [
    {
     "data": {
      "text/html": [
       "<style>\n",
       ".list-inline {list-style: none; margin:0; padding: 0}\n",
       ".list-inline>li {display: inline-block}\n",
       ".list-inline>li:not(:last-child)::after {content: \"\\00b7\"; padding: 0 .5ex}\n",
       "</style>\n",
       "<ol class=list-inline><li>412</li><li>404</li></ol>\n"
      ],
      "text/latex": [
       "\\begin{enumerate*}\n",
       "\\item 412\n",
       "\\item 404\n",
       "\\end{enumerate*}\n"
      ],
      "text/markdown": [
       "1. 412\n",
       "2. 404\n",
       "\n",
       "\n"
      ],
      "text/plain": [
       "[1] 412 404"
      ]
     },
     "metadata": {},
     "output_type": "display_data"
    },
    {
     "data": {
      "text/html": [
       "<table class=\"dataframe\">\n",
       "<caption>A data.frame: 2 × 404</caption>\n",
       "<thead>\n",
       "\t<tr><th></th><th scope=col>TCGA-DK-A2I2-01A</th><th scope=col>TCGA-E7-A6MF-01A</th><th scope=col>TCGA-DK-A3IV-01A</th><th scope=col>TCGA-FD-A6TA-01A</th><th scope=col>TCGA-FD-A62S-01A</th><th scope=col>TCGA-BT-A20T-01A</th><th scope=col>TCGA-UY-A78M-01A</th><th scope=col>TCGA-DK-AA6L-01A</th><th scope=col>TCGA-FD-A5BT-01A</th><th scope=col>TCGA-KQ-A41S-01A</th><th scope=col>⋯</th><th scope=col>TCGA-XF-AAMH-01A</th><th scope=col>TCGA-GU-A764-01A</th><th scope=col>TCGA-ZF-A9RE-01A</th><th scope=col>TCGA-4Z-AA7M-01A</th><th scope=col>TCGA-GD-A3OQ-01A</th><th scope=col>TCGA-CU-A3YL-01A</th><th scope=col>TCGA-FD-A5C0-01A</th><th scope=col>TCGA-GU-A42R-01A</th><th scope=col>TCGA-FD-A6TI-01A</th><th scope=col>TCGA-DK-A6B1-01A</th></tr>\n",
       "\t<tr><th></th><th scope=col>&lt;int&gt;</th><th scope=col>&lt;int&gt;</th><th scope=col>&lt;int&gt;</th><th scope=col>&lt;int&gt;</th><th scope=col>&lt;int&gt;</th><th scope=col>&lt;int&gt;</th><th scope=col>&lt;int&gt;</th><th scope=col>&lt;int&gt;</th><th scope=col>&lt;int&gt;</th><th scope=col>&lt;int&gt;</th><th scope=col>⋯</th><th scope=col>&lt;int&gt;</th><th scope=col>&lt;int&gt;</th><th scope=col>&lt;int&gt;</th><th scope=col>&lt;int&gt;</th><th scope=col>&lt;int&gt;</th><th scope=col>&lt;int&gt;</th><th scope=col>&lt;int&gt;</th><th scope=col>&lt;int&gt;</th><th scope=col>&lt;int&gt;</th><th scope=col>&lt;int&gt;</th></tr>\n",
       "</thead>\n",
       "<tbody>\n",
       "\t<tr><th scope=row>hsa-let-7a-1</th><td>18587</td><td>44934</td><td>69295</td><td>33473</td><td>41076</td><td>38391</td><td>18145</td><td>63904</td><td>41545</td><td>41340</td><td>⋯</td><td>30927</td><td>28192</td><td>28570</td><td>55839</td><td>19261</td><td>24243</td><td>17404</td><td>46205</td><td>77266</td><td>90126</td></tr>\n",
       "\t<tr><th scope=row>hsa-let-7a-2</th><td>18617</td><td>45179</td><td>68297</td><td>33315</td><td>41241</td><td>38219</td><td>18167</td><td>63826</td><td>41446</td><td>41514</td><td>⋯</td><td>30864</td><td>28379</td><td>28746</td><td>55893</td><td>19361</td><td>23998</td><td>17723</td><td>45906</td><td>76637</td><td>89419</td></tr>\n",
       "</tbody>\n",
       "</table>\n"
      ],
      "text/latex": [
       "A data.frame: 2 × 404\n",
       "\\begin{tabular}{r|lllllllllllllllllllll}\n",
       "  & TCGA-DK-A2I2-01A & TCGA-E7-A6MF-01A & TCGA-DK-A3IV-01A & TCGA-FD-A6TA-01A & TCGA-FD-A62S-01A & TCGA-BT-A20T-01A & TCGA-UY-A78M-01A & TCGA-DK-AA6L-01A & TCGA-FD-A5BT-01A & TCGA-KQ-A41S-01A & ⋯ & TCGA-XF-AAMH-01A & TCGA-GU-A764-01A & TCGA-ZF-A9RE-01A & TCGA-4Z-AA7M-01A & TCGA-GD-A3OQ-01A & TCGA-CU-A3YL-01A & TCGA-FD-A5C0-01A & TCGA-GU-A42R-01A & TCGA-FD-A6TI-01A & TCGA-DK-A6B1-01A\\\\\n",
       "  & <int> & <int> & <int> & <int> & <int> & <int> & <int> & <int> & <int> & <int> & ⋯ & <int> & <int> & <int> & <int> & <int> & <int> & <int> & <int> & <int> & <int>\\\\\n",
       "\\hline\n",
       "\thsa-let-7a-1 & 18587 & 44934 & 69295 & 33473 & 41076 & 38391 & 18145 & 63904 & 41545 & 41340 & ⋯ & 30927 & 28192 & 28570 & 55839 & 19261 & 24243 & 17404 & 46205 & 77266 & 90126\\\\\n",
       "\thsa-let-7a-2 & 18617 & 45179 & 68297 & 33315 & 41241 & 38219 & 18167 & 63826 & 41446 & 41514 & ⋯ & 30864 & 28379 & 28746 & 55893 & 19361 & 23998 & 17723 & 45906 & 76637 & 89419\\\\\n",
       "\\end{tabular}\n"
      ],
      "text/markdown": [
       "\n",
       "A data.frame: 2 × 404\n",
       "\n",
       "| <!--/--> | TCGA-DK-A2I2-01A &lt;int&gt; | TCGA-E7-A6MF-01A &lt;int&gt; | TCGA-DK-A3IV-01A &lt;int&gt; | TCGA-FD-A6TA-01A &lt;int&gt; | TCGA-FD-A62S-01A &lt;int&gt; | TCGA-BT-A20T-01A &lt;int&gt; | TCGA-UY-A78M-01A &lt;int&gt; | TCGA-DK-AA6L-01A &lt;int&gt; | TCGA-FD-A5BT-01A &lt;int&gt; | TCGA-KQ-A41S-01A &lt;int&gt; | ⋯ ⋯ | TCGA-XF-AAMH-01A &lt;int&gt; | TCGA-GU-A764-01A &lt;int&gt; | TCGA-ZF-A9RE-01A &lt;int&gt; | TCGA-4Z-AA7M-01A &lt;int&gt; | TCGA-GD-A3OQ-01A &lt;int&gt; | TCGA-CU-A3YL-01A &lt;int&gt; | TCGA-FD-A5C0-01A &lt;int&gt; | TCGA-GU-A42R-01A &lt;int&gt; | TCGA-FD-A6TI-01A &lt;int&gt; | TCGA-DK-A6B1-01A &lt;int&gt; |\n",
       "|---|---|---|---|---|---|---|---|---|---|---|---|---|---|---|---|---|---|---|---|---|---|\n",
       "| hsa-let-7a-1 | 18587 | 44934 | 69295 | 33473 | 41076 | 38391 | 18145 | 63904 | 41545 | 41340 | ⋯ | 30927 | 28192 | 28570 | 55839 | 19261 | 24243 | 17404 | 46205 | 77266 | 90126 |\n",
       "| hsa-let-7a-2 | 18617 | 45179 | 68297 | 33315 | 41241 | 38219 | 18167 | 63826 | 41446 | 41514 | ⋯ | 30864 | 28379 | 28746 | 55893 | 19361 | 23998 | 17723 | 45906 | 76637 | 89419 |\n",
       "\n"
      ],
      "text/plain": [
       "             TCGA-DK-A2I2-01A TCGA-E7-A6MF-01A TCGA-DK-A3IV-01A\n",
       "hsa-let-7a-1 18587            44934            69295           \n",
       "hsa-let-7a-2 18617            45179            68297           \n",
       "             TCGA-FD-A6TA-01A TCGA-FD-A62S-01A TCGA-BT-A20T-01A\n",
       "hsa-let-7a-1 33473            41076            38391           \n",
       "hsa-let-7a-2 33315            41241            38219           \n",
       "             TCGA-UY-A78M-01A TCGA-DK-AA6L-01A TCGA-FD-A5BT-01A\n",
       "hsa-let-7a-1 18145            63904            41545           \n",
       "hsa-let-7a-2 18167            63826            41446           \n",
       "             TCGA-KQ-A41S-01A ⋯ TCGA-XF-AAMH-01A TCGA-GU-A764-01A\n",
       "hsa-let-7a-1 41340            ⋯ 30927            28192           \n",
       "hsa-let-7a-2 41514            ⋯ 30864            28379           \n",
       "             TCGA-ZF-A9RE-01A TCGA-4Z-AA7M-01A TCGA-GD-A3OQ-01A\n",
       "hsa-let-7a-1 28570            55839            19261           \n",
       "hsa-let-7a-2 28746            55893            19361           \n",
       "             TCGA-CU-A3YL-01A TCGA-FD-A5C0-01A TCGA-GU-A42R-01A\n",
       "hsa-let-7a-1 24243            17404            46205           \n",
       "hsa-let-7a-2 23998            17723            45906           \n",
       "             TCGA-FD-A6TI-01A TCGA-DK-A6B1-01A\n",
       "hsa-let-7a-1 77266            90126           \n",
       "hsa-let-7a-2 76637            89419           "
      ]
     },
     "metadata": {},
     "output_type": "display_data"
    }
   ],
   "source": [
    "data_matrix_miR <- data_matrix_miR[, miRcolData$sample]\n",
    "dim(data_matrix_miR)\n",
    "head(data_matrix_miR, 2)"
   ]
  },
  {
   "cell_type": "code",
   "execution_count": 47,
   "id": "cf508077-abd6-49be-8893-8b1ca350247b",
   "metadata": {
    "vscode": {
     "languageId": "r"
    }
   },
   "outputs": [
    {
     "data": {
      "text/html": [
       "TRUE"
      ],
      "text/latex": [
       "TRUE"
      ],
      "text/markdown": [
       "TRUE"
      ],
      "text/plain": [
       "[1] TRUE"
      ]
     },
     "metadata": {},
     "output_type": "display_data"
    }
   ],
   "source": [
    "identical(colnames(data_matrix_miR), miRcolData$sample)"
   ]
  },
  {
   "cell_type": "code",
   "execution_count": 48,
   "id": "9b96ec76-bede-4b1e-9330-d3bf0927323e",
   "metadata": {
    "vscode": {
     "languageId": "r"
    }
   },
   "outputs": [
    {
     "name": "stderr",
     "output_type": "stream",
     "text": [
      "-- note: fitType='parametric', but the dispersion trend was not well captured by the\n",
      "   function: y = a/x + b, and a local regression fit was automatically substituted.\n",
      "   specify fitType='local' or 'mean' to avoid this message next time.\n",
      "\n"
     ]
    },
    {
     "data": {
      "text/html": [
       "<table class=\"dataframe\">\n",
       "<caption>A matrix: 2 × 404 of type dbl</caption>\n",
       "<thead>\n",
       "\t<tr><th></th><th scope=col>TCGA-DK-A2I2-01A</th><th scope=col>TCGA-E7-A6MF-01A</th><th scope=col>TCGA-DK-A3IV-01A</th><th scope=col>TCGA-FD-A6TA-01A</th><th scope=col>TCGA-FD-A62S-01A</th><th scope=col>TCGA-BT-A20T-01A</th><th scope=col>TCGA-UY-A78M-01A</th><th scope=col>TCGA-DK-AA6L-01A</th><th scope=col>TCGA-FD-A5BT-01A</th><th scope=col>TCGA-KQ-A41S-01A</th><th scope=col>⋯</th><th scope=col>TCGA-XF-AAMH-01A</th><th scope=col>TCGA-GU-A764-01A</th><th scope=col>TCGA-ZF-A9RE-01A</th><th scope=col>TCGA-4Z-AA7M-01A</th><th scope=col>TCGA-GD-A3OQ-01A</th><th scope=col>TCGA-CU-A3YL-01A</th><th scope=col>TCGA-FD-A5C0-01A</th><th scope=col>TCGA-GU-A42R-01A</th><th scope=col>TCGA-FD-A6TI-01A</th><th scope=col>TCGA-DK-A6B1-01A</th></tr>\n",
       "</thead>\n",
       "<tbody>\n",
       "\t<tr><th scope=row>hsa-let-7a-1</th><td>14.18191</td><td>16.95684</td><td>15.24064</td><td>14.60994</td><td>14.66277</td><td>15.99551</td><td>14.95984</td><td>15.72317</td><td>14.56781</td><td>14.99458</td><td>⋯</td><td>14.18872</td><td>14.74935</td><td>15.87080</td><td>15.35694</td><td>14.78364</td><td>14.53320</td><td>14.26200</td><td>14.61685</td><td>15.35964</td><td>15.69282</td></tr>\n",
       "\t<tr><th scope=row>hsa-let-7a-2</th><td>14.18422</td><td>16.96448</td><td>15.22015</td><td>14.60320</td><td>14.66847</td><td>15.98921</td><td>14.96155</td><td>15.72145</td><td>14.56441</td><td>15.00053</td><td>⋯</td><td>14.18580</td><td>14.75874</td><td>15.87942</td><td>15.35830</td><td>14.79100</td><td>14.51872</td><td>14.28798</td><td>14.60760</td><td>15.34812</td><td>15.68175</td></tr>\n",
       "</tbody>\n",
       "</table>\n"
      ],
      "text/latex": [
       "A matrix: 2 × 404 of type dbl\n",
       "\\begin{tabular}{r|lllllllllllllllllllll}\n",
       "  & TCGA-DK-A2I2-01A & TCGA-E7-A6MF-01A & TCGA-DK-A3IV-01A & TCGA-FD-A6TA-01A & TCGA-FD-A62S-01A & TCGA-BT-A20T-01A & TCGA-UY-A78M-01A & TCGA-DK-AA6L-01A & TCGA-FD-A5BT-01A & TCGA-KQ-A41S-01A & ⋯ & TCGA-XF-AAMH-01A & TCGA-GU-A764-01A & TCGA-ZF-A9RE-01A & TCGA-4Z-AA7M-01A & TCGA-GD-A3OQ-01A & TCGA-CU-A3YL-01A & TCGA-FD-A5C0-01A & TCGA-GU-A42R-01A & TCGA-FD-A6TI-01A & TCGA-DK-A6B1-01A\\\\\n",
       "\\hline\n",
       "\thsa-let-7a-1 & 14.18191 & 16.95684 & 15.24064 & 14.60994 & 14.66277 & 15.99551 & 14.95984 & 15.72317 & 14.56781 & 14.99458 & ⋯ & 14.18872 & 14.74935 & 15.87080 & 15.35694 & 14.78364 & 14.53320 & 14.26200 & 14.61685 & 15.35964 & 15.69282\\\\\n",
       "\thsa-let-7a-2 & 14.18422 & 16.96448 & 15.22015 & 14.60320 & 14.66847 & 15.98921 & 14.96155 & 15.72145 & 14.56441 & 15.00053 & ⋯ & 14.18580 & 14.75874 & 15.87942 & 15.35830 & 14.79100 & 14.51872 & 14.28798 & 14.60760 & 15.34812 & 15.68175\\\\\n",
       "\\end{tabular}\n"
      ],
      "text/markdown": [
       "\n",
       "A matrix: 2 × 404 of type dbl\n",
       "\n",
       "| <!--/--> | TCGA-DK-A2I2-01A | TCGA-E7-A6MF-01A | TCGA-DK-A3IV-01A | TCGA-FD-A6TA-01A | TCGA-FD-A62S-01A | TCGA-BT-A20T-01A | TCGA-UY-A78M-01A | TCGA-DK-AA6L-01A | TCGA-FD-A5BT-01A | TCGA-KQ-A41S-01A | ⋯ | TCGA-XF-AAMH-01A | TCGA-GU-A764-01A | TCGA-ZF-A9RE-01A | TCGA-4Z-AA7M-01A | TCGA-GD-A3OQ-01A | TCGA-CU-A3YL-01A | TCGA-FD-A5C0-01A | TCGA-GU-A42R-01A | TCGA-FD-A6TI-01A | TCGA-DK-A6B1-01A |\n",
       "|---|---|---|---|---|---|---|---|---|---|---|---|---|---|---|---|---|---|---|---|---|---|\n",
       "| hsa-let-7a-1 | 14.18191 | 16.95684 | 15.24064 | 14.60994 | 14.66277 | 15.99551 | 14.95984 | 15.72317 | 14.56781 | 14.99458 | ⋯ | 14.18872 | 14.74935 | 15.87080 | 15.35694 | 14.78364 | 14.53320 | 14.26200 | 14.61685 | 15.35964 | 15.69282 |\n",
       "| hsa-let-7a-2 | 14.18422 | 16.96448 | 15.22015 | 14.60320 | 14.66847 | 15.98921 | 14.96155 | 15.72145 | 14.56441 | 15.00053 | ⋯ | 14.18580 | 14.75874 | 15.87942 | 15.35830 | 14.79100 | 14.51872 | 14.28798 | 14.60760 | 15.34812 | 15.68175 |\n",
       "\n"
      ],
      "text/plain": [
       "             TCGA-DK-A2I2-01A TCGA-E7-A6MF-01A TCGA-DK-A3IV-01A\n",
       "hsa-let-7a-1 14.18191         16.95684         15.24064        \n",
       "hsa-let-7a-2 14.18422         16.96448         15.22015        \n",
       "             TCGA-FD-A6TA-01A TCGA-FD-A62S-01A TCGA-BT-A20T-01A\n",
       "hsa-let-7a-1 14.60994         14.66277         15.99551        \n",
       "hsa-let-7a-2 14.60320         14.66847         15.98921        \n",
       "             TCGA-UY-A78M-01A TCGA-DK-AA6L-01A TCGA-FD-A5BT-01A\n",
       "hsa-let-7a-1 14.95984         15.72317         14.56781        \n",
       "hsa-let-7a-2 14.96155         15.72145         14.56441        \n",
       "             TCGA-KQ-A41S-01A ⋯ TCGA-XF-AAMH-01A TCGA-GU-A764-01A\n",
       "hsa-let-7a-1 14.99458         ⋯ 14.18872         14.74935        \n",
       "hsa-let-7a-2 15.00053         ⋯ 14.18580         14.75874        \n",
       "             TCGA-ZF-A9RE-01A TCGA-4Z-AA7M-01A TCGA-GD-A3OQ-01A\n",
       "hsa-let-7a-1 15.87080         15.35694         14.78364        \n",
       "hsa-let-7a-2 15.87942         15.35830         14.79100        \n",
       "             TCGA-CU-A3YL-01A TCGA-FD-A5C0-01A TCGA-GU-A42R-01A\n",
       "hsa-let-7a-1 14.53320         14.26200         14.61685        \n",
       "hsa-let-7a-2 14.51872         14.28798         14.60760        \n",
       "             TCGA-FD-A6TI-01A TCGA-DK-A6B1-01A\n",
       "hsa-let-7a-1 15.35964         15.69282        \n",
       "hsa-let-7a-2 15.34812         15.68175        "
      ]
     },
     "metadata": {},
     "output_type": "display_data"
    }
   ],
   "source": [
    "# Create a DESeqDataSet object\n",
    "miRdds <- DESeqDataSetFromMatrix(countData = data_matrix_miR,\n",
    "                              colData = miRcolData,\n",
    "                              design = ~ 1)\n",
    "\n",
    "# Estimate size factors\n",
    "miRdds <- estimateSizeFactors(miRdds)\n",
    "\n",
    "miRvst <- varianceStabilizingTransformation(miRdds, blind = TRUE)\n",
    "\n",
    "# Extract the normalized counts\n",
    "normalized_counts_miR <- assay(miRvst)\n",
    "\n",
    "head(normalized_counts_miR, 2)"
   ]
  },
  {
   "cell_type": "markdown",
   "id": "00137781-557c-4252-8210-79d593abfa49",
   "metadata": {
    "jp-MarkdownHeadingCollapsed": true
   },
   "source": [
    "### check data"
   ]
  },
  {
   "cell_type": "code",
   "execution_count": 115,
   "id": "cee51596-07ea-4ea2-ba8a-1855e1d947b2",
   "metadata": {
    "vscode": {
     "languageId": "r"
    }
   },
   "outputs": [
    {
     "data": {
      "text/html": [
       "TRUE"
      ],
      "text/latex": [
       "TRUE"
      ],
      "text/markdown": [
       "TRUE"
      ],
      "text/plain": [
       "[1] TRUE"
      ]
     },
     "metadata": {},
     "output_type": "display_data"
    }
   ],
   "source": [
    "# check order of colnames in matrix and colData\n",
    "identical(colnames(normalized_counts_miR), miRcolData$barcode)"
   ]
  },
  {
   "cell_type": "code",
   "execution_count": 116,
   "id": "073c294a-1ae9-40b4-817e-38c2b382d1ea",
   "metadata": {
    "vscode": {
     "languageId": "r"
    }
   },
   "outputs": [
    {
     "data": {
      "text/html": [
       "TRUE"
      ],
      "text/latex": [
       "TRUE"
      ],
      "text/markdown": [
       "TRUE"
      ],
      "text/plain": [
       "[1] TRUE"
      ]
     },
     "metadata": {},
     "output_type": "display_data"
    },
    {
     "data": {
      "text/html": [
       "0"
      ],
      "text/latex": [
       "0"
      ],
      "text/markdown": [
       "0"
      ],
      "text/plain": [
       "[1] 0"
      ]
     },
     "metadata": {},
     "output_type": "display_data"
    }
   ],
   "source": [
    "# find index of states by grep in colnames\n",
    "y<-grep(\"-11A-\", colnames(normalized_counts_miR), invert=TRUE)\n",
    "\n",
    "# compare index of states by grep in colnames with index of NT/TP in colData\n",
    "identical(y, which(miRcolData$shortLetterCode %in% \"TP\"))\n",
    "\n",
    "length(which(miRcolData$ajcc_pathologic_stage %in% NA))"
   ]
  },
  {
   "cell_type": "markdown",
   "id": "d1adc6ea-f089-4a51-90c4-50bf30e323f1",
   "metadata": {},
   "source": [
    "# Methylation"
   ]
  },
  {
   "cell_type": "code",
   "execution_count": 56,
   "id": "e9b43915-0517-451f-922a-2f806244c1c2",
   "metadata": {
    "vscode": {
     "languageId": "r"
    }
   },
   "outputs": [],
   "source": [
    "# Convertion to M-values for MOFA\n",
    "# processed_meth_mat_mean_with_na.rds has already removed the duplicated samples\n",
    "meth_mat_mean <- readRDS(\"processed_meth_mat_mean.rds\")"
   ]
  },
  {
   "cell_type": "code",
   "execution_count": 57,
   "id": "cfc217d2-b41c-4d68-b726-4537eb91670a",
   "metadata": {
    "vscode": {
     "languageId": "r"
    }
   },
   "outputs": [
    {
     "data": {
      "text/plain": [
       "class: RangedSummarizedExperiment \n",
       "dim: 485577 427 \n",
       "metadata(1): data_release\n",
       "assays(1): ''\n",
       "rownames(485577): cg13869341 cg14008030 ... cg11478607 cg08417382\n",
       "rowData names(52): address_A address_B ... MASK_extBase MASK_general\n",
       "colnames(427): TCGA-BC-A110-11A-11D-A132-05\n",
       "  TCGA-G3-A3CG-01A-11D-A20Z-05 ... TCGA-ZS-A9CG-01A-11D-A36Y-05\n",
       "  TCGA-ZP-A9D0-01A-11D-A36Y-05\n",
       "colData names(64): barcode patient ... released sample.aux"
      ]
     },
     "metadata": {},
     "output_type": "display_data"
    }
   ],
   "source": [
    "data_met <- readRDS(\"downloaded_data_met.rds\")\n",
    "data_met"
   ]
  },
  {
   "cell_type": "markdown",
   "id": "37633b7e-edb7-4ef6-a754-60cfea931ce5",
   "metadata": {},
   "source": [
    "## Filtering for duplicated samples"
   ]
  },
  {
   "cell_type": "code",
   "execution_count": 58,
   "id": "ace95179-8809-4701-bd85-2beab5f5ca2f",
   "metadata": {
    "vscode": {
     "languageId": "r"
    }
   },
   "outputs": [],
   "source": [
    "# data_met <- data_met[, !duplicated(colData(data_met)$sample)]\n",
    "# data_met"
   ]
  },
  {
   "cell_type": "markdown",
   "id": "c9188623-b9ed-4f76-9950-70b99650a62f",
   "metadata": {},
   "source": [
    "## Filtering for complete samples"
   ]
  },
  {
   "cell_type": "code",
   "execution_count": 59,
   "id": "aa6f2f55-2b79-45aa-a80b-31af385d15a3",
   "metadata": {
    "vscode": {
     "languageId": "r"
    }
   },
   "outputs": [
    {
     "data": {
      "text/html": [
       "<style>\n",
       ".list-inline {list-style: none; margin:0; padding: 0}\n",
       ".list-inline>li {display: inline-block}\n",
       ".list-inline>li:not(:last-child)::after {content: \"\\00b7\"; padding: 0 .5ex}\n",
       "</style>\n",
       "<ol class=list-inline><li>34925</li><li>408</li></ol>\n"
      ],
      "text/latex": [
       "\\begin{enumerate*}\n",
       "\\item 34925\n",
       "\\item 408\n",
       "\\end{enumerate*}\n"
      ],
      "text/markdown": [
       "1. 34925\n",
       "2. 408\n",
       "\n",
       "\n"
      ],
      "text/plain": [
       "[1] 34925   408"
      ]
     },
     "metadata": {},
     "output_type": "display_data"
    }
   ],
   "source": [
    "# keep first 16 characters from colnames, which are sample ids\n",
    "colnames(meth_mat_mean) <- substr(colnames(meth_mat_mean), 0, 16)\n",
    "\n",
    "# Remove the specified-duplicated columns\n",
    "meth_mat_mean <- meth_mat_mean[, which(colnames(meth_mat_mean) %in% completeSamples)]\n",
    "dim(meth_mat_mean)"
   ]
  },
  {
   "cell_type": "markdown",
   "id": "159bd9dd-79a5-4beb-bf0d-42349508eb52",
   "metadata": {},
   "source": [
    "## Filtering selected features"
   ]
  },
  {
   "cell_type": "code",
   "execution_count": 60,
   "id": "ffac6030-a2fa-4333-b96c-1a0650867254",
   "metadata": {
    "vscode": {
     "languageId": "r"
    }
   },
   "outputs": [
    {
     "data": {
      "text/html": [
       "<table class=\"dataframe\">\n",
       "<caption>A data.frame: 3 × 1</caption>\n",
       "<thead>\n",
       "\t<tr><th></th><th scope=col>x</th></tr>\n",
       "\t<tr><th></th><th scope=col>&lt;chr&gt;</th></tr>\n",
       "</thead>\n",
       "<tbody>\n",
       "\t<tr><th scope=row>1</th><td>ENSG00000160339.16</td></tr>\n",
       "\t<tr><th scope=row>2</th><td>ENSG00000019169.10</td></tr>\n",
       "\t<tr><th scope=row>3</th><td>ENSG00000136011.15</td></tr>\n",
       "</tbody>\n",
       "</table>\n"
      ],
      "text/latex": [
       "A data.frame: 3 × 1\n",
       "\\begin{tabular}{r|l}\n",
       "  & x\\\\\n",
       "  & <chr>\\\\\n",
       "\\hline\n",
       "\t1 & ENSG00000160339.16\\\\\n",
       "\t2 & ENSG00000019169.10\\\\\n",
       "\t3 & ENSG00000136011.15\\\\\n",
       "\\end{tabular}\n"
      ],
      "text/markdown": [
       "\n",
       "A data.frame: 3 × 1\n",
       "\n",
       "| <!--/--> | x &lt;chr&gt; |\n",
       "|---|---|\n",
       "| 1 | ENSG00000160339.16 |\n",
       "| 2 | ENSG00000019169.10 |\n",
       "| 3 | ENSG00000136011.15 |\n",
       "\n"
      ],
      "text/plain": [
       "  x                 \n",
       "1 ENSG00000160339.16\n",
       "2 ENSG00000019169.10\n",
       "3 ENSG00000136011.15"
      ]
     },
     "metadata": {},
     "output_type": "display_data"
    }
   ],
   "source": [
    "selectedFeatures<- read.csv(\"/home/thlamp/tcga/data/DEGs450.csv\")\n",
    "head(selectedFeatures, 3)"
   ]
  },
  {
   "cell_type": "code",
   "execution_count": 61,
   "id": "10c44498-807b-44d9-ba0d-c615a9c64ae9",
   "metadata": {
    "vscode": {
     "languageId": "r"
    }
   },
   "outputs": [
    {
     "data": {
      "text/html": [
       "<style>\n",
       ".list-inline {list-style: none; margin:0; padding: 0}\n",
       ".list-inline>li {display: inline-block}\n",
       ".list-inline>li:not(:last-child)::after {content: \"\\00b7\"; padding: 0 .5ex}\n",
       "</style>\n",
       "<ol class=list-inline><li>150</li><li>408</li></ol>\n"
      ],
      "text/latex": [
       "\\begin{enumerate*}\n",
       "\\item 150\n",
       "\\item 408\n",
       "\\end{enumerate*}\n"
      ],
      "text/markdown": [
       "1. 150\n",
       "2. 408\n",
       "\n",
       "\n"
      ],
      "text/plain": [
       "[1] 150 408"
      ]
     },
     "metadata": {},
     "output_type": "display_data"
    }
   ],
   "source": [
    "meth_mat_mean <- meth_mat_mean[which(rownames(meth_mat_mean) %in% selectedFeatures$x),]\n",
    "dim(meth_mat_mean)"
   ]
  },
  {
   "cell_type": "markdown",
   "id": "9c68e6b6-1c3b-4ee7-a329-549e953a5d6e",
   "metadata": {},
   "source": [
    "## State for MOFA model"
   ]
  },
  {
   "cell_type": "code",
   "execution_count": 62,
   "id": "48cc03e9-6ef7-43b7-a545-5f94d7ffdcfc",
   "metadata": {
    "vscode": {
     "languageId": "r"
    }
   },
   "outputs": [],
   "source": [
    "# Convertion to M-values for MOFA\n",
    "# meth_mat_mean <- readRDS(\"meth_mat_mean_with_na.rds\")"
   ]
  },
  {
   "cell_type": "code",
   "execution_count": 63,
   "id": "e8edea34-e156-4c48-8ee0-190aa1a04754",
   "metadata": {
    "vscode": {
     "languageId": "r"
    }
   },
   "outputs": [
    {
     "data": {
      "text/html": [
       "<style>\n",
       ".list-inline {list-style: none; margin:0; padding: 0}\n",
       ".list-inline>li {display: inline-block}\n",
       ".list-inline>li:not(:last-child)::after {content: \"\\00b7\"; padding: 0 .5ex}\n",
       "</style>\n",
       "<ol class=list-inline><li>150</li><li>408</li></ol>\n"
      ],
      "text/latex": [
       "\\begin{enumerate*}\n",
       "\\item 150\n",
       "\\item 408\n",
       "\\end{enumerate*}\n"
      ],
      "text/markdown": [
       "1. 150\n",
       "2. 408\n",
       "\n",
       "\n"
      ],
      "text/plain": [
       "[1] 150 408"
      ]
     },
     "metadata": {},
     "output_type": "display_data"
    },
    {
     "data": {
      "text/html": [
       "<table class=\"dataframe\">\n",
       "<caption>A matrix: 2 × 408 of type dbl</caption>\n",
       "<thead>\n",
       "\t<tr><th></th><th scope=col>TCGA-BC-A110-11A</th><th scope=col>TCGA-G3-A3CG-01A</th><th scope=col>TCGA-FV-A3I0-01A</th><th scope=col>TCGA-G3-AAV5-01A</th><th scope=col>TCGA-EP-A3JL-01A</th><th scope=col>TCGA-DD-A3A6-01A</th><th scope=col>TCGA-FV-A3I1-01A</th><th scope=col>TCGA-KR-A7K2-01A</th><th scope=col>TCGA-DD-AACP-01A</th><th scope=col>TCGA-CC-5261-01A</th><th scope=col>⋯</th><th scope=col>TCGA-CC-A7IF-01A</th><th scope=col>TCGA-FV-A2QR-11A</th><th scope=col>TCGA-DD-A39V-11A</th><th scope=col>TCGA-G3-A25V-01A</th><th scope=col>TCGA-CC-A7IH-01A</th><th scope=col>TCGA-G3-AAV1-01A</th><th scope=col>TCGA-2Y-A9H9-01A</th><th scope=col>TCGA-2Y-A9GW-01A</th><th scope=col>TCGA-ZS-A9CG-01A</th><th scope=col>TCGA-ZP-A9D0-01A</th></tr>\n",
       "</thead>\n",
       "<tbody>\n",
       "\t<tr><th scope=row>ENSG00000010319</th><td> 0.2911843</td><td>0.1005068</td><td>0.1844318</td><td>-0.0919322</td><td>-0.03779667</td><td> 0.7862665</td><td> 0.09263731</td><td>0.1036769</td><td>-0.004693073</td><td>0.2989035</td><td>⋯</td><td>0.1032848</td><td> 0.5127131</td><td> 0.6326737</td><td>-0.08909117</td><td>-0.07953877</td><td>-0.1893550</td><td>-0.7586651</td><td>0.08294856</td><td>-0.2666402</td><td>0.2377414</td></tr>\n",
       "\t<tr><th scope=row>ENSG00000092607</th><td>-0.5778018</td><td>0.4870179</td><td>2.1962976</td><td> 0.9571476</td><td> 0.21194973</td><td>-0.9250359</td><td>-0.27547691</td><td>0.9518820</td><td> 2.063170224</td><td>0.5862042</td><td>⋯</td><td>1.2039290</td><td>-0.8585055</td><td>-0.6236350</td><td>-0.51489886</td><td> 0.24861659</td><td> 0.8909564</td><td> 0.7931659</td><td>0.02110310</td><td>-0.1691787</td><td>0.5583310</td></tr>\n",
       "</tbody>\n",
       "</table>\n"
      ],
      "text/latex": [
       "A matrix: 2 × 408 of type dbl\n",
       "\\begin{tabular}{r|lllllllllllllllllllll}\n",
       "  & TCGA-BC-A110-11A & TCGA-G3-A3CG-01A & TCGA-FV-A3I0-01A & TCGA-G3-AAV5-01A & TCGA-EP-A3JL-01A & TCGA-DD-A3A6-01A & TCGA-FV-A3I1-01A & TCGA-KR-A7K2-01A & TCGA-DD-AACP-01A & TCGA-CC-5261-01A & ⋯ & TCGA-CC-A7IF-01A & TCGA-FV-A2QR-11A & TCGA-DD-A39V-11A & TCGA-G3-A25V-01A & TCGA-CC-A7IH-01A & TCGA-G3-AAV1-01A & TCGA-2Y-A9H9-01A & TCGA-2Y-A9GW-01A & TCGA-ZS-A9CG-01A & TCGA-ZP-A9D0-01A\\\\\n",
       "\\hline\n",
       "\tENSG00000010319 &  0.2911843 & 0.1005068 & 0.1844318 & -0.0919322 & -0.03779667 &  0.7862665 &  0.09263731 & 0.1036769 & -0.004693073 & 0.2989035 & ⋯ & 0.1032848 &  0.5127131 &  0.6326737 & -0.08909117 & -0.07953877 & -0.1893550 & -0.7586651 & 0.08294856 & -0.2666402 & 0.2377414\\\\\n",
       "\tENSG00000092607 & -0.5778018 & 0.4870179 & 2.1962976 &  0.9571476 &  0.21194973 & -0.9250359 & -0.27547691 & 0.9518820 &  2.063170224 & 0.5862042 & ⋯ & 1.2039290 & -0.8585055 & -0.6236350 & -0.51489886 &  0.24861659 &  0.8909564 &  0.7931659 & 0.02110310 & -0.1691787 & 0.5583310\\\\\n",
       "\\end{tabular}\n"
      ],
      "text/markdown": [
       "\n",
       "A matrix: 2 × 408 of type dbl\n",
       "\n",
       "| <!--/--> | TCGA-BC-A110-11A | TCGA-G3-A3CG-01A | TCGA-FV-A3I0-01A | TCGA-G3-AAV5-01A | TCGA-EP-A3JL-01A | TCGA-DD-A3A6-01A | TCGA-FV-A3I1-01A | TCGA-KR-A7K2-01A | TCGA-DD-AACP-01A | TCGA-CC-5261-01A | ⋯ | TCGA-CC-A7IF-01A | TCGA-FV-A2QR-11A | TCGA-DD-A39V-11A | TCGA-G3-A25V-01A | TCGA-CC-A7IH-01A | TCGA-G3-AAV1-01A | TCGA-2Y-A9H9-01A | TCGA-2Y-A9GW-01A | TCGA-ZS-A9CG-01A | TCGA-ZP-A9D0-01A |\n",
       "|---|---|---|---|---|---|---|---|---|---|---|---|---|---|---|---|---|---|---|---|---|---|\n",
       "| ENSG00000010319 |  0.2911843 | 0.1005068 | 0.1844318 | -0.0919322 | -0.03779667 |  0.7862665 |  0.09263731 | 0.1036769 | -0.004693073 | 0.2989035 | ⋯ | 0.1032848 |  0.5127131 |  0.6326737 | -0.08909117 | -0.07953877 | -0.1893550 | -0.7586651 | 0.08294856 | -0.2666402 | 0.2377414 |\n",
       "| ENSG00000092607 | -0.5778018 | 0.4870179 | 2.1962976 |  0.9571476 |  0.21194973 | -0.9250359 | -0.27547691 | 0.9518820 |  2.063170224 | 0.5862042 | ⋯ | 1.2039290 | -0.8585055 | -0.6236350 | -0.51489886 |  0.24861659 |  0.8909564 |  0.7931659 | 0.02110310 | -0.1691787 | 0.5583310 |\n",
       "\n"
      ],
      "text/plain": [
       "                TCGA-BC-A110-11A TCGA-G3-A3CG-01A TCGA-FV-A3I0-01A\n",
       "ENSG00000010319  0.2911843       0.1005068        0.1844318       \n",
       "ENSG00000092607 -0.5778018       0.4870179        2.1962976       \n",
       "                TCGA-G3-AAV5-01A TCGA-EP-A3JL-01A TCGA-DD-A3A6-01A\n",
       "ENSG00000010319 -0.0919322       -0.03779667       0.7862665      \n",
       "ENSG00000092607  0.9571476        0.21194973      -0.9250359      \n",
       "                TCGA-FV-A3I1-01A TCGA-KR-A7K2-01A TCGA-DD-AACP-01A\n",
       "ENSG00000010319  0.09263731      0.1036769        -0.004693073    \n",
       "ENSG00000092607 -0.27547691      0.9518820         2.063170224    \n",
       "                TCGA-CC-5261-01A ⋯ TCGA-CC-A7IF-01A TCGA-FV-A2QR-11A\n",
       "ENSG00000010319 0.2989035        ⋯ 0.1032848         0.5127131      \n",
       "ENSG00000092607 0.5862042        ⋯ 1.2039290        -0.8585055      \n",
       "                TCGA-DD-A39V-11A TCGA-G3-A25V-01A TCGA-CC-A7IH-01A\n",
       "ENSG00000010319  0.6326737       -0.08909117      -0.07953877     \n",
       "ENSG00000092607 -0.6236350       -0.51489886       0.24861659     \n",
       "                TCGA-G3-AAV1-01A TCGA-2Y-A9H9-01A TCGA-2Y-A9GW-01A\n",
       "ENSG00000010319 -0.1893550       -0.7586651       0.08294856      \n",
       "ENSG00000092607  0.8909564        0.7931659       0.02110310      \n",
       "                TCGA-ZS-A9CG-01A TCGA-ZP-A9D0-01A\n",
       "ENSG00000010319 -0.2666402       0.2377414       \n",
       "ENSG00000092607 -0.1691787       0.5583310       "
      ]
     },
     "metadata": {},
     "output_type": "display_data"
    }
   ],
   "source": [
    "m_values <- log2(meth_mat_mean / (1 - meth_mat_mean))\n",
    "\n",
    "dim(m_values)\n",
    "head(m_values, 2)"
   ]
  },
  {
   "cell_type": "code",
   "execution_count": 46,
   "id": "a6c3722c-0559-4fe3-b157-187ccdd9b244",
   "metadata": {
    "vscode": {
     "languageId": "r"
    }
   },
   "outputs": [
    {
     "data": {
      "text/html": [
       "<style>\n",
       ".list-inline {list-style: none; margin:0; padding: 0}\n",
       ".list-inline>li {display: inline-block}\n",
       ".list-inline>li:not(:last-child)::after {content: \"\\00b7\"; padding: 0 .5ex}\n",
       "</style>\n",
       "<ol class=list-inline><li>150</li><li>408</li></ol>\n"
      ],
      "text/latex": [
       "\\begin{enumerate*}\n",
       "\\item 150\n",
       "\\item 408\n",
       "\\end{enumerate*}\n"
      ],
      "text/markdown": [
       "1. 150\n",
       "2. 408\n",
       "\n",
       "\n"
      ],
      "text/plain": [
       "[1] 150 408"
      ]
     },
     "metadata": {},
     "output_type": "display_data"
    }
   ],
   "source": [
    "# Create a logical matrix indicating where NAs or NaNs are present\n",
    "is_na_nan <- is.na(m_values) | is.nan(m_values)\n",
    "\n",
    "# Summarize each row to check if all elements are NA or NaN\n",
    "all_na_nan_rows <- apply(is_na_nan, 1, all)\n",
    "\n",
    "# Identify row indices where all elements are TRUE\n",
    "rows_with_only_na_nan <- which(all_na_nan_rows)\n",
    "\n",
    "m_values <- m_values[!all_na_nan_rows, ]\n",
    "dim(m_values)"
   ]
  },
  {
   "cell_type": "markdown",
   "id": "7fc2f249-23b1-4ceb-b3cd-698330d0db66",
   "metadata": {
    "jp-MarkdownHeadingCollapsed": true
   },
   "source": [
    "## Tumor stage for MOFA model"
   ]
  },
  {
   "cell_type": "code",
   "execution_count": 55,
   "id": "7d31c5a9-1ce8-4662-8966-e9d070c4302f",
   "metadata": {
    "vscode": {
     "languageId": "r"
    }
   },
   "outputs": [
    {
     "data": {
      "text/html": [
       "<style>\n",
       ".list-inline {list-style: none; margin:0; padding: 0}\n",
       ".list-inline>li {display: inline-block}\n",
       ".list-inline>li:not(:last-child)::after {content: \"\\00b7\"; padding: 0 .5ex}\n",
       "</style>\n",
       "<ol class=list-inline><li>427</li><li>3</li></ol>\n"
      ],
      "text/latex": [
       "\\begin{enumerate*}\n",
       "\\item 427\n",
       "\\item 3\n",
       "\\end{enumerate*}\n"
      ],
      "text/markdown": [
       "1. 427\n",
       "2. 3\n",
       "\n",
       "\n"
      ],
      "text/plain": [
       "[1] 427   3"
      ]
     },
     "metadata": {},
     "output_type": "display_data"
    }
   ],
   "source": [
    "meth_data_stage <- colData(data_met)[which(colData(data_met)$sample  %in% colnames(meth_mat_mean)), c(\"sample\", \"shortLetterCode\", \"ajcc_pathologic_stage\")]\n",
    "dim(meth_data_stage)"
   ]
  },
  {
   "cell_type": "code",
   "execution_count": 56,
   "id": "21a3ec33-b2d6-4fb0-b383-571b674978b1",
   "metadata": {
    "vscode": {
     "languageId": "r"
    }
   },
   "outputs": [
    {
     "data": {
      "text/html": [
       "<style>\n",
       ".list-inline {list-style: none; margin:0; padding: 0}\n",
       ".list-inline>li {display: inline-block}\n",
       ".list-inline>li:not(:last-child)::after {content: \"\\00b7\"; padding: 0 .5ex}\n",
       "</style>\n",
       "<ol class=list-inline><li>377</li><li>3</li></ol>\n"
      ],
      "text/latex": [
       "\\begin{enumerate*}\n",
       "\\item 377\n",
       "\\item 3\n",
       "\\end{enumerate*}\n"
      ],
      "text/markdown": [
       "1. 377\n",
       "2. 3\n",
       "\n",
       "\n"
      ],
      "text/plain": [
       "[1] 377   3"
      ]
     },
     "metadata": {},
     "output_type": "display_data"
    },
    {
     "data": {
      "text/plain": [
       "DataFrame with 6 rows and 3 columns\n",
       "                                       sample shortLetterCode\n",
       "                                  <character>     <character>\n",
       "TCGA-G3-A3CG-01A-11D-A20Z-05 TCGA-G3-A3CG-01A              TP\n",
       "TCGA-FV-A3I0-01A-11D-A22H-05 TCGA-FV-A3I0-01A              TP\n",
       "TCGA-G3-AAV5-01A-11D-A36Y-05 TCGA-G3-AAV5-01A              TP\n",
       "TCGA-EP-A3JL-01A-11D-A20Z-05 TCGA-EP-A3JL-01A              TP\n",
       "TCGA-DD-A3A6-01A-11D-A22H-05 TCGA-DD-A3A6-01A              TP\n",
       "TCGA-FV-A3I1-01A-11D-A22H-05 TCGA-FV-A3I1-01A              TP\n",
       "                             ajcc_pathologic_stage\n",
       "                                       <character>\n",
       "TCGA-G3-A3CG-01A-11D-A20Z-05               Stage I\n",
       "TCGA-FV-A3I0-01A-11D-A22H-05              Stage II\n",
       "TCGA-G3-AAV5-01A-11D-A36Y-05              Stage II\n",
       "TCGA-EP-A3JL-01A-11D-A20Z-05               Stage I\n",
       "TCGA-DD-A3A6-01A-11D-A22H-05              Stage II\n",
       "TCGA-FV-A3I1-01A-11D-A22H-05              Stage II"
      ]
     },
     "metadata": {},
     "output_type": "display_data"
    },
    {
     "data": {
      "text/html": [
       "<style>\n",
       ".list-inline {list-style: none; margin:0; padding: 0}\n",
       ".list-inline>li {display: inline-block}\n",
       ".list-inline>li:not(:last-child)::after {content: \"\\00b7\"; padding: 0 .5ex}\n",
       "</style>\n",
       "<ol class=list-inline><li>353</li><li>3</li></ol>\n"
      ],
      "text/latex": [
       "\\begin{enumerate*}\n",
       "\\item 353\n",
       "\\item 3\n",
       "\\end{enumerate*}\n"
      ],
      "text/markdown": [
       "1. 353\n",
       "2. 3\n",
       "\n",
       "\n"
      ],
      "text/plain": [
       "[1] 353   3"
      ]
     },
     "metadata": {},
     "output_type": "display_data"
    }
   ],
   "source": [
    "meth_data_stage <- meth_data_stage[which(meth_data_stage$shortLetterCode %in% \"TP\"), ]\n",
    "dim(meth_data_stage)\n",
    "head(meth_data_stage)\n",
    "meth_data_stage <- meth_data_stage[which(!meth_data_stage$ajcc_pathologic_stage %in% NA), ]\n",
    "dim(meth_data_stage)"
   ]
  },
  {
   "cell_type": "code",
   "execution_count": 57,
   "id": "dfc289c3-1ed1-4dbb-bda0-ff78dda84347",
   "metadata": {
    "vscode": {
     "languageId": "r"
    }
   },
   "outputs": [
    {
     "data": {
      "text/html": [
       "<style>\n",
       ".list-inline {list-style: none; margin:0; padding: 0}\n",
       ".list-inline>li {display: inline-block}\n",
       ".list-inline>li:not(:last-child)::after {content: \"\\00b7\"; padding: 0 .5ex}\n",
       "</style>\n",
       "<ol class=list-inline><li>2000</li><li>404</li></ol>\n"
      ],
      "text/latex": [
       "\\begin{enumerate*}\n",
       "\\item 2000\n",
       "\\item 404\n",
       "\\end{enumerate*}\n"
      ],
      "text/markdown": [
       "1. 2000\n",
       "2. 404\n",
       "\n",
       "\n"
      ],
      "text/plain": [
       "[1] 2000  404"
      ]
     },
     "metadata": {},
     "output_type": "display_data"
    }
   ],
   "source": [
    "# keep only samlpes that are TP and have tumor stage\n",
    "meth_mat_mean <- meth_mat_mean[, meth_data_stage$sample]\n",
    "dim(meth_mat_mean)"
   ]
  },
  {
   "cell_type": "code",
   "execution_count": 58,
   "id": "53fab763-4799-45ca-a7e9-e52293b34f12",
   "metadata": {
    "vscode": {
     "languageId": "r"
    }
   },
   "outputs": [
    {
     "data": {
      "text/html": [
       "<style>\n",
       ".list-inline {list-style: none; margin:0; padding: 0}\n",
       ".list-inline>li {display: inline-block}\n",
       ".list-inline>li:not(:last-child)::after {content: \"\\00b7\"; padding: 0 .5ex}\n",
       "</style>\n",
       "<ol class=list-inline><li>2000</li><li>404</li></ol>\n"
      ],
      "text/latex": [
       "\\begin{enumerate*}\n",
       "\\item 2000\n",
       "\\item 404\n",
       "\\end{enumerate*}\n"
      ],
      "text/markdown": [
       "1. 2000\n",
       "2. 404\n",
       "\n",
       "\n"
      ],
      "text/plain": [
       "[1] 2000  404"
      ]
     },
     "metadata": {},
     "output_type": "display_data"
    },
    {
     "data": {
      "text/html": [
       "<table class=\"dataframe\">\n",
       "<caption>A matrix: 2 × 404 of type dbl</caption>\n",
       "<thead>\n",
       "\t<tr><th></th><th scope=col>TCGA-FD-A3NA-01A</th><th scope=col>TCGA-E7-A6MF-01A</th><th scope=col>TCGA-UY-A9PB-01A</th><th scope=col>TCGA-E7-A4IJ-01A</th><th scope=col>TCGA-DK-A3IV-01A</th><th scope=col>TCGA-FD-A6TA-01A</th><th scope=col>TCGA-GU-A42R-01A</th><th scope=col>TCGA-FD-A6TG-01A</th><th scope=col>TCGA-UY-A78M-01A</th><th scope=col>TCGA-FD-A5BT-01A</th><th scope=col>⋯</th><th scope=col>TCGA-CF-A7I0-01A</th><th scope=col>TCGA-E7-A8O7-01A</th><th scope=col>TCGA-G2-AA3B-01A</th><th scope=col>TCGA-E7-A7PW-01A</th><th scope=col>TCGA-CU-A3YL-01A</th><th scope=col>TCGA-FD-A6TH-01A</th><th scope=col>TCGA-FD-A5C0-01A</th><th scope=col>TCGA-BT-A20T-01A</th><th scope=col>TCGA-FD-A6TI-01A</th><th scope=col>TCGA-DK-A6B1-01A</th></tr>\n",
       "</thead>\n",
       "<tbody>\n",
       "\t<tr><th scope=row>ENSG00000021852</th><td>-0.4527657</td><td> 2.768443</td><td>-0.2678522</td><td> 1.180864</td><td>-0.223687723</td><td>-0.1919902</td><td> 3.122569</td><td> 0.06629804</td><td>-0.2754308</td><td> 0.6926800</td><td>⋯</td><td>-1.140143</td><td> 2.158394</td><td>-0.5484047</td><td> 2.67709</td><td> 1.170611</td><td>-1.557405</td><td> 0.5408274</td><td> 1.897684</td><td>-0.4529088</td><td> 1.266564</td></tr>\n",
       "\t<tr><th scope=row>ENSG00000053702</th><td>-1.6130857</td><td>-3.105513</td><td> 0.2147466</td><td>-1.933779</td><td> 0.005893377</td><td>-1.3631962</td><td>-2.264548</td><td>-1.87042350</td><td>-2.0073650</td><td>-0.5491429</td><td>⋯</td><td>-1.604400</td><td>-1.509684</td><td> 2.2313982</td><td>-2.23631</td><td>-1.642089</td><td>-1.556473</td><td>-1.1384676</td><td>-1.176498</td><td>-1.8472523</td><td>-3.047267</td></tr>\n",
       "</tbody>\n",
       "</table>\n"
      ],
      "text/latex": [
       "A matrix: 2 × 404 of type dbl\n",
       "\\begin{tabular}{r|lllllllllllllllllllll}\n",
       "  & TCGA-FD-A3NA-01A & TCGA-E7-A6MF-01A & TCGA-UY-A9PB-01A & TCGA-E7-A4IJ-01A & TCGA-DK-A3IV-01A & TCGA-FD-A6TA-01A & TCGA-GU-A42R-01A & TCGA-FD-A6TG-01A & TCGA-UY-A78M-01A & TCGA-FD-A5BT-01A & ⋯ & TCGA-CF-A7I0-01A & TCGA-E7-A8O7-01A & TCGA-G2-AA3B-01A & TCGA-E7-A7PW-01A & TCGA-CU-A3YL-01A & TCGA-FD-A6TH-01A & TCGA-FD-A5C0-01A & TCGA-BT-A20T-01A & TCGA-FD-A6TI-01A & TCGA-DK-A6B1-01A\\\\\n",
       "\\hline\n",
       "\tENSG00000021852 & -0.4527657 &  2.768443 & -0.2678522 &  1.180864 & -0.223687723 & -0.1919902 &  3.122569 &  0.06629804 & -0.2754308 &  0.6926800 & ⋯ & -1.140143 &  2.158394 & -0.5484047 &  2.67709 &  1.170611 & -1.557405 &  0.5408274 &  1.897684 & -0.4529088 &  1.266564\\\\\n",
       "\tENSG00000053702 & -1.6130857 & -3.105513 &  0.2147466 & -1.933779 &  0.005893377 & -1.3631962 & -2.264548 & -1.87042350 & -2.0073650 & -0.5491429 & ⋯ & -1.604400 & -1.509684 &  2.2313982 & -2.23631 & -1.642089 & -1.556473 & -1.1384676 & -1.176498 & -1.8472523 & -3.047267\\\\\n",
       "\\end{tabular}\n"
      ],
      "text/markdown": [
       "\n",
       "A matrix: 2 × 404 of type dbl\n",
       "\n",
       "| <!--/--> | TCGA-FD-A3NA-01A | TCGA-E7-A6MF-01A | TCGA-UY-A9PB-01A | TCGA-E7-A4IJ-01A | TCGA-DK-A3IV-01A | TCGA-FD-A6TA-01A | TCGA-GU-A42R-01A | TCGA-FD-A6TG-01A | TCGA-UY-A78M-01A | TCGA-FD-A5BT-01A | ⋯ | TCGA-CF-A7I0-01A | TCGA-E7-A8O7-01A | TCGA-G2-AA3B-01A | TCGA-E7-A7PW-01A | TCGA-CU-A3YL-01A | TCGA-FD-A6TH-01A | TCGA-FD-A5C0-01A | TCGA-BT-A20T-01A | TCGA-FD-A6TI-01A | TCGA-DK-A6B1-01A |\n",
       "|---|---|---|---|---|---|---|---|---|---|---|---|---|---|---|---|---|---|---|---|---|---|\n",
       "| ENSG00000021852 | -0.4527657 |  2.768443 | -0.2678522 |  1.180864 | -0.223687723 | -0.1919902 |  3.122569 |  0.06629804 | -0.2754308 |  0.6926800 | ⋯ | -1.140143 |  2.158394 | -0.5484047 |  2.67709 |  1.170611 | -1.557405 |  0.5408274 |  1.897684 | -0.4529088 |  1.266564 |\n",
       "| ENSG00000053702 | -1.6130857 | -3.105513 |  0.2147466 | -1.933779 |  0.005893377 | -1.3631962 | -2.264548 | -1.87042350 | -2.0073650 | -0.5491429 | ⋯ | -1.604400 | -1.509684 |  2.2313982 | -2.23631 | -1.642089 | -1.556473 | -1.1384676 | -1.176498 | -1.8472523 | -3.047267 |\n",
       "\n"
      ],
      "text/plain": [
       "                TCGA-FD-A3NA-01A TCGA-E7-A6MF-01A TCGA-UY-A9PB-01A\n",
       "ENSG00000021852 -0.4527657        2.768443        -0.2678522      \n",
       "ENSG00000053702 -1.6130857       -3.105513         0.2147466      \n",
       "                TCGA-E7-A4IJ-01A TCGA-DK-A3IV-01A TCGA-FD-A6TA-01A\n",
       "ENSG00000021852  1.180864        -0.223687723     -0.1919902      \n",
       "ENSG00000053702 -1.933779         0.005893377     -1.3631962      \n",
       "                TCGA-GU-A42R-01A TCGA-FD-A6TG-01A TCGA-UY-A78M-01A\n",
       "ENSG00000021852  3.122569         0.06629804      -0.2754308      \n",
       "ENSG00000053702 -2.264548        -1.87042350      -2.0073650      \n",
       "                TCGA-FD-A5BT-01A ⋯ TCGA-CF-A7I0-01A TCGA-E7-A8O7-01A\n",
       "ENSG00000021852  0.6926800       ⋯ -1.140143         2.158394       \n",
       "ENSG00000053702 -0.5491429       ⋯ -1.604400        -1.509684       \n",
       "                TCGA-G2-AA3B-01A TCGA-E7-A7PW-01A TCGA-CU-A3YL-01A\n",
       "ENSG00000021852 -0.5484047        2.67709          1.170611       \n",
       "ENSG00000053702  2.2313982       -2.23631         -1.642089       \n",
       "                TCGA-FD-A6TH-01A TCGA-FD-A5C0-01A TCGA-BT-A20T-01A\n",
       "ENSG00000021852 -1.557405         0.5408274        1.897684       \n",
       "ENSG00000053702 -1.556473        -1.1384676       -1.176498       \n",
       "                TCGA-FD-A6TI-01A TCGA-DK-A6B1-01A\n",
       "ENSG00000021852 -0.4529088        1.266564       \n",
       "ENSG00000053702 -1.8472523       -3.047267       "
      ]
     },
     "metadata": {},
     "output_type": "display_data"
    }
   ],
   "source": [
    "m_values <- log2(meth_mat_mean / (1 - meth_mat_mean))\n",
    "\n",
    "dim(m_values)\n",
    "head(m_values, 2)"
   ]
  },
  {
   "cell_type": "code",
   "execution_count": 59,
   "id": "e3e29a7f-40c7-4ecf-a360-2c2946da57f7",
   "metadata": {
    "vscode": {
     "languageId": "r"
    }
   },
   "outputs": [],
   "source": [
    "# Create a logical matrix indicating where NAs or NaNs are present\n",
    "is_na_nan <- is.na(m_values) | is.nan(m_values)\n",
    "\n",
    "# Summarize each row to check if all elements are NA or NaN\n",
    "all_na_nan_rows <- apply(is_na_nan, 1, all)\n",
    "\n",
    "# Identify row indices where all elements are TRUE\n",
    "rows_with_only_na_nan <- which(all_na_nan_rows)\n",
    "\n",
    "m_values <- m_values[!all_na_nan_rows, ]"
   ]
  },
  {
   "cell_type": "markdown",
   "id": "04fb7efb-d496-4a54-bf60-5a1bd70f3630",
   "metadata": {
    "jp-MarkdownHeadingCollapsed": true
   },
   "source": [
    "### check data"
   ]
  },
  {
   "cell_type": "code",
   "execution_count": 124,
   "id": "fcd6d8ac-d3c1-48b3-a636-0a317b4c71b2",
   "metadata": {
    "vscode": {
     "languageId": "r"
    }
   },
   "outputs": [
    {
     "ename": "ERROR",
     "evalue": "Error in eval(expr, envir, enclos): object 'selectedFeatures' not found\n",
     "output_type": "error",
     "traceback": [
      "Error in eval(expr, envir, enclos): object 'selectedFeatures' not found\nTraceback:\n",
      "1. identical(str_sort(rownames(m_values)), str_sort(selectedFeatures$V1[2413:4412]))",
      "2. str_sort(selectedFeatures$V1[2413:4412])",
      "3. stri_sort(x, decreasing = decreasing, na_last = na_last, opts_collator = opts)"
     ]
    }
   ],
   "source": [
    "identical(str_sort(rownames(m_values)), str_sort(selectedFeatures$V1[2413:4412]))"
   ]
  },
  {
   "cell_type": "code",
   "execution_count": null,
   "id": "0a6e8662-357b-496d-8ca4-bc42df07d0ba",
   "metadata": {
    "vscode": {
     "languageId": "r"
    }
   },
   "outputs": [],
   "source": [
    "unique(colData(data_met)[which(colData(data_met)$barcode %in% colnames(m_values)), \"shortLetterCode\"])\n",
    "unique(colData(data_met)[which(colData(data_met)$barcode %in% colnames(m_values)), \"ajcc_pathologic_stage\"])"
   ]
  },
  {
   "cell_type": "markdown",
   "id": "c2a2cfc2-9bd0-472d-b35b-137127647279",
   "metadata": {},
   "source": [
    "## MOFA meth"
   ]
  },
  {
   "cell_type": "code",
   "execution_count": 102,
   "id": "f1bec612-e2b7-4042-a943-12d4d89c3d68",
   "metadata": {
    "vscode": {
     "languageId": "r"
    }
   },
   "outputs": [
    {
     "ename": "ERROR",
     "evalue": "Error in data.frame(sample, shortLetterCode, ajcc_pathologic_stage, age_at_diagnosis, : arguments imply differing number of rows: 427, 0\n",
     "output_type": "error",
     "traceback": [
      "Error in data.frame(sample, shortLetterCode, ajcc_pathologic_stage, age_at_diagnosis, : arguments imply differing number of rows: 427, 0\nTraceback:\n",
      "1. data.frame(sample, shortLetterCode, ajcc_pathologic_stage, age_at_diagnosis, \n .     cigarettes_per_day, gender, ethnicity, age_at_index, race, \n .     days_to_death)",
      "2. stop(gettextf(\"arguments imply differing number of rows: %s\", \n .     paste(unique(nrows), collapse = \", \")), domain = NA)"
     ]
    }
   ],
   "source": [
    "sample <- colnames(m_values)\n",
    "\n",
    "shortLetterCode <- \"\"\n",
    "shortLetterCode <- apply(as.matrix(sample),1, function (x){data_met$shortLetterCode[which(data_met$sample %in% x)]})\n",
    "\n",
    "ajcc_pathologic_stage <- \"\"\n",
    "ajcc_pathologic_stage <- apply(as.matrix(sample),1, function (x){data_met$ajcc_pathologic_stage[which(data_met$sample %in% x)]})\n",
    "\n",
    "age_at_diagnosis <- \"\"\n",
    "age_at_diagnosis <- apply(as.matrix(sample),1, function (x){data_met$age_at_diagnosis[which(data_met$sample %in% x)]})\n",
    "\n",
    "primary_diagnosis <- \"\"\n",
    "primary_diagnosis <- apply(as.matrix(sample),1, function (x){data_met$primary_diagnosis[which(data_met$sample %in% x)]})\n",
    "\n",
    "cigarettes_per_day  <- \"\"\n",
    "cigarettes_per_day  <- apply(as.matrix(sample),1, function (x){data_met$cigarettes_per_day [which(data_met$sample %in% x)]})\n",
    "\n",
    "gender <- \"\"\n",
    "gender <- apply(as.matrix(sample),1, function (x){data_met$gender[which(data_met$sample %in% x)]})\n",
    "\n",
    "ethnicity <- \"\"\n",
    "ethnicity <- apply(as.matrix(sample),1, function (x){data_met$ethnicity[which(data_met$sample %in% x)]})\n",
    "\n",
    "age_at_index <- \"\"\n",
    "age_at_index <- apply(as.matrix(sample),1, function (x){data_met$age_at_index[which(data_met$sample %in% x)]})\n",
    "\n",
    "race <- \"\"\n",
    "race <- apply(as.matrix(sample),1, function (x){data_met$race[which(data_met$sample %in% x)]})\n",
    "\n",
    "days_to_death <- \"\"\n",
    "days_to_death <- apply(as.matrix(sample),1, function (x){data_met$days_to_death[which(data_met$sample %in% x)]})\n",
    "\n",
    "methylation_samples <- data.frame(sample, shortLetterCode, ajcc_pathologic_stage, age_at_diagnosis, cigarettes_per_day, gender, ethnicity, \n",
    "                           age_at_index, race, days_to_death)\n",
    "head(methylation_samples,2)"
   ]
  },
  {
   "cell_type": "markdown",
   "id": "810e67f3-a54e-4640-b51c-0d5b26be50b9",
   "metadata": {},
   "source": [
    "# MOFA"
   ]
  },
  {
   "cell_type": "markdown",
   "id": "48b70d54-2925-4323-a30d-4664edf15f64",
   "metadata": {
    "jp-MarkdownHeadingCollapsed": true
   },
   "source": [
    "## mRNA"
   ]
  },
  {
   "cell_type": "code",
   "execution_count": 36,
   "id": "7c7f8518-2c25-44a4-a0e8-412ae976ee04",
   "metadata": {
    "vscode": {
     "languageId": "r"
    }
   },
   "outputs": [
    {
     "data": {
      "text/html": [
       "<table class=\"dataframe\">\n",
       "<caption>A matrix: 2 × 408 of type dbl</caption>\n",
       "<thead>\n",
       "\t<tr><th></th><th scope=col>TCGA-FV-A3I0-01A</th><th scope=col>TCGA-DD-A3A6-01A</th><th scope=col>TCGA-BD-A3ER-01A</th><th scope=col>TCGA-CC-5261-01A</th><th scope=col>TCGA-DD-AAVZ-01A</th><th scope=col>TCGA-DD-AADN-01A</th><th scope=col>TCGA-DD-A1EB-01A</th><th scope=col>TCGA-LG-A9QD-01A</th><th scope=col>TCGA-G3-A25T-01A</th><th scope=col>TCGA-XR-A8TE-01A</th><th scope=col>⋯</th><th scope=col>TCGA-FV-A2QR-01A</th><th scope=col>TCGA-DD-AADY-01A</th><th scope=col>TCGA-BW-A5NO-01A</th><th scope=col>TCGA-CC-A7IJ-01A</th><th scope=col>TCGA-2Y-A9H8-01A</th><th scope=col>TCGA-BC-A10X-01A</th><th scope=col>TCGA-DD-A3A2-11A</th><th scope=col>TCGA-DD-A3A2-01A</th><th scope=col>TCGA-CC-A5UD-01A</th><th scope=col>TCGA-BC-A10W-11A</th></tr>\n",
       "</thead>\n",
       "<tbody>\n",
       "\t<tr><th scope=row>ENSG00000007350.17</th><td>-2.005792</td><td>3.668439</td><td>0.008955007</td><td>-0.7072536</td><td>-2.744387</td><td>-2.530052</td><td>-0.7269816</td><td>0.1496377</td><td>-2.037746</td><td>-1.049837</td><td>⋯</td><td>-2.237870</td><td>-0.04683096</td><td>0.3309628</td><td>-3.070753</td><td>-3.202897</td><td> 3.337705</td><td> 3.283273</td><td> 0.6638941</td><td>-3.828411</td><td> 3.483122</td></tr>\n",
       "\t<tr><th scope=row>ENSG00000019169.10</th><td> 3.770181</td><td>4.862798</td><td>3.655328409</td><td> 0.4305947</td><td>-5.128186</td><td> 5.235758</td><td> 4.8880551</td><td>2.8254859</td><td> 5.331767</td><td> 6.245451</td><td>⋯</td><td> 4.688055</td><td> 1.03912578</td><td>1.7541576</td><td>-1.180819</td><td> 3.241514</td><td>12.954035</td><td>16.244889</td><td>13.3355976</td><td>-1.905900</td><td>14.414473</td></tr>\n",
       "</tbody>\n",
       "</table>\n"
      ],
      "text/latex": [
       "A matrix: 2 × 408 of type dbl\n",
       "\\begin{tabular}{r|lllllllllllllllllllll}\n",
       "  & TCGA-FV-A3I0-01A & TCGA-DD-A3A6-01A & TCGA-BD-A3ER-01A & TCGA-CC-5261-01A & TCGA-DD-AAVZ-01A & TCGA-DD-AADN-01A & TCGA-DD-A1EB-01A & TCGA-LG-A9QD-01A & TCGA-G3-A25T-01A & TCGA-XR-A8TE-01A & ⋯ & TCGA-FV-A2QR-01A & TCGA-DD-AADY-01A & TCGA-BW-A5NO-01A & TCGA-CC-A7IJ-01A & TCGA-2Y-A9H8-01A & TCGA-BC-A10X-01A & TCGA-DD-A3A2-11A & TCGA-DD-A3A2-01A & TCGA-CC-A5UD-01A & TCGA-BC-A10W-11A\\\\\n",
       "\\hline\n",
       "\tENSG00000007350.17 & -2.005792 & 3.668439 & 0.008955007 & -0.7072536 & -2.744387 & -2.530052 & -0.7269816 & 0.1496377 & -2.037746 & -1.049837 & ⋯ & -2.237870 & -0.04683096 & 0.3309628 & -3.070753 & -3.202897 &  3.337705 &  3.283273 &  0.6638941 & -3.828411 &  3.483122\\\\\n",
       "\tENSG00000019169.10 &  3.770181 & 4.862798 & 3.655328409 &  0.4305947 & -5.128186 &  5.235758 &  4.8880551 & 2.8254859 &  5.331767 &  6.245451 & ⋯ &  4.688055 &  1.03912578 & 1.7541576 & -1.180819 &  3.241514 & 12.954035 & 16.244889 & 13.3355976 & -1.905900 & 14.414473\\\\\n",
       "\\end{tabular}\n"
      ],
      "text/markdown": [
       "\n",
       "A matrix: 2 × 408 of type dbl\n",
       "\n",
       "| <!--/--> | TCGA-FV-A3I0-01A | TCGA-DD-A3A6-01A | TCGA-BD-A3ER-01A | TCGA-CC-5261-01A | TCGA-DD-AAVZ-01A | TCGA-DD-AADN-01A | TCGA-DD-A1EB-01A | TCGA-LG-A9QD-01A | TCGA-G3-A25T-01A | TCGA-XR-A8TE-01A | ⋯ | TCGA-FV-A2QR-01A | TCGA-DD-AADY-01A | TCGA-BW-A5NO-01A | TCGA-CC-A7IJ-01A | TCGA-2Y-A9H8-01A | TCGA-BC-A10X-01A | TCGA-DD-A3A2-11A | TCGA-DD-A3A2-01A | TCGA-CC-A5UD-01A | TCGA-BC-A10W-11A |\n",
       "|---|---|---|---|---|---|---|---|---|---|---|---|---|---|---|---|---|---|---|---|---|---|\n",
       "| ENSG00000007350.17 | -2.005792 | 3.668439 | 0.008955007 | -0.7072536 | -2.744387 | -2.530052 | -0.7269816 | 0.1496377 | -2.037746 | -1.049837 | ⋯ | -2.237870 | -0.04683096 | 0.3309628 | -3.070753 | -3.202897 |  3.337705 |  3.283273 |  0.6638941 | -3.828411 |  3.483122 |\n",
       "| ENSG00000019169.10 |  3.770181 | 4.862798 | 3.655328409 |  0.4305947 | -5.128186 |  5.235758 |  4.8880551 | 2.8254859 |  5.331767 |  6.245451 | ⋯ |  4.688055 |  1.03912578 | 1.7541576 | -1.180819 |  3.241514 | 12.954035 | 16.244889 | 13.3355976 | -1.905900 | 14.414473 |\n",
       "\n"
      ],
      "text/plain": [
       "                   TCGA-FV-A3I0-01A TCGA-DD-A3A6-01A TCGA-BD-A3ER-01A\n",
       "ENSG00000007350.17 -2.005792        3.668439         0.008955007     \n",
       "ENSG00000019169.10  3.770181        4.862798         3.655328409     \n",
       "                   TCGA-CC-5261-01A TCGA-DD-AAVZ-01A TCGA-DD-AADN-01A\n",
       "ENSG00000007350.17 -0.7072536       -2.744387        -2.530052       \n",
       "ENSG00000019169.10  0.4305947       -5.128186         5.235758       \n",
       "                   TCGA-DD-A1EB-01A TCGA-LG-A9QD-01A TCGA-G3-A25T-01A\n",
       "ENSG00000007350.17 -0.7269816       0.1496377        -2.037746       \n",
       "ENSG00000019169.10  4.8880551       2.8254859         5.331767       \n",
       "                   TCGA-XR-A8TE-01A ⋯ TCGA-FV-A2QR-01A TCGA-DD-AADY-01A\n",
       "ENSG00000007350.17 -1.049837        ⋯ -2.237870        -0.04683096     \n",
       "ENSG00000019169.10  6.245451        ⋯  4.688055         1.03912578     \n",
       "                   TCGA-BW-A5NO-01A TCGA-CC-A7IJ-01A TCGA-2Y-A9H8-01A\n",
       "ENSG00000007350.17 0.3309628        -3.070753        -3.202897       \n",
       "ENSG00000019169.10 1.7541576        -1.180819         3.241514       \n",
       "                   TCGA-BC-A10X-01A TCGA-DD-A3A2-11A TCGA-DD-A3A2-01A\n",
       "ENSG00000007350.17  3.337705         3.283273         0.6638941      \n",
       "ENSG00000019169.10 12.954035        16.244889        13.3355976      \n",
       "                   TCGA-CC-A5UD-01A TCGA-BC-A10W-11A\n",
       "ENSG00000007350.17 -3.828411         3.483122       \n",
       "ENSG00000019169.10 -1.905900        14.414473       "
      ]
     },
     "metadata": {},
     "output_type": "display_data"
    }
   ],
   "source": [
    "head(normalized_counts, 2)"
   ]
  },
  {
   "cell_type": "code",
   "execution_count": 37,
   "id": "7e822b13-a616-427d-8dcc-57cddb175534",
   "metadata": {
    "vscode": {
     "languageId": "r"
    }
   },
   "outputs": [
    {
     "data": {
      "text/html": [
       "<table class=\"dataframe\">\n",
       "<caption>A data.frame: 2 × 9</caption>\n",
       "<thead>\n",
       "\t<tr><th></th><th scope=col>sample</th><th scope=col>shortLetterCode</th><th scope=col>ajcc_pathologic_stage</th><th scope=col>age_at_diagnosis</th><th scope=col>gender</th><th scope=col>ethnicity</th><th scope=col>age_at_index</th><th scope=col>race</th><th scope=col>days_to_death</th></tr>\n",
       "\t<tr><th></th><th scope=col>&lt;chr&gt;</th><th scope=col>&lt;chr&gt;</th><th scope=col>&lt;chr&gt;</th><th scope=col>&lt;int&gt;</th><th scope=col>&lt;chr&gt;</th><th scope=col>&lt;chr&gt;</th><th scope=col>&lt;int&gt;</th><th scope=col>&lt;chr&gt;</th><th scope=col>&lt;int&gt;</th></tr>\n",
       "</thead>\n",
       "<tbody>\n",
       "\t<tr><th scope=row>1</th><td>TCGA-FV-A3I0-01A</td><td>TP</td><td>Stage II</td><td>28101</td><td>female</td><td>not hispanic or latino</td><td>76</td><td>white</td><td>  NA</td></tr>\n",
       "\t<tr><th scope=row>2</th><td>TCGA-DD-A3A6-01A</td><td>TP</td><td>Stage II</td><td>26319</td><td>female</td><td>not hispanic or latino</td><td>72</td><td>white</td><td>3258</td></tr>\n",
       "</tbody>\n",
       "</table>\n"
      ],
      "text/latex": [
       "A data.frame: 2 × 9\n",
       "\\begin{tabular}{r|lllllllll}\n",
       "  & sample & shortLetterCode & ajcc\\_pathologic\\_stage & age\\_at\\_diagnosis & gender & ethnicity & age\\_at\\_index & race & days\\_to\\_death\\\\\n",
       "  & <chr> & <chr> & <chr> & <int> & <chr> & <chr> & <int> & <chr> & <int>\\\\\n",
       "\\hline\n",
       "\t1 & TCGA-FV-A3I0-01A & TP & Stage II & 28101 & female & not hispanic or latino & 76 & white &   NA\\\\\n",
       "\t2 & TCGA-DD-A3A6-01A & TP & Stage II & 26319 & female & not hispanic or latino & 72 & white & 3258\\\\\n",
       "\\end{tabular}\n"
      ],
      "text/markdown": [
       "\n",
       "A data.frame: 2 × 9\n",
       "\n",
       "| <!--/--> | sample &lt;chr&gt; | shortLetterCode &lt;chr&gt; | ajcc_pathologic_stage &lt;chr&gt; | age_at_diagnosis &lt;int&gt; | gender &lt;chr&gt; | ethnicity &lt;chr&gt; | age_at_index &lt;int&gt; | race &lt;chr&gt; | days_to_death &lt;int&gt; |\n",
       "|---|---|---|---|---|---|---|---|---|---|\n",
       "| 1 | TCGA-FV-A3I0-01A | TP | Stage II | 28101 | female | not hispanic or latino | 76 | white |   NA |\n",
       "| 2 | TCGA-DD-A3A6-01A | TP | Stage II | 26319 | female | not hispanic or latino | 72 | white | 3258 |\n",
       "\n"
      ],
      "text/plain": [
       "  sample           shortLetterCode ajcc_pathologic_stage age_at_diagnosis\n",
       "1 TCGA-FV-A3I0-01A TP              Stage II              28101           \n",
       "2 TCGA-DD-A3A6-01A TP              Stage II              26319           \n",
       "  gender ethnicity              age_at_index race  days_to_death\n",
       "1 female not hispanic or latino 76           white   NA         \n",
       "2 female not hispanic or latino 72           white 3258         "
      ]
     },
     "metadata": {},
     "output_type": "display_data"
    }
   ],
   "source": [
    "sample <- colnames(normalized_counts)\n",
    "\n",
    "shortLetterCode <- \"\"\n",
    "shortLetterCode <- apply(as.matrix(sample),1, function (x){dataPrep$shortLetterCode[which(dataPrep$sample %in% x)]})\n",
    "\n",
    "ajcc_pathologic_stage <- \"\"\n",
    "ajcc_pathologic_stage <- apply(as.matrix(sample),1, function (x){dataPrep$ajcc_pathologic_stage[which(dataPrep$sample %in% x)]})\n",
    "\n",
    "age_at_diagnosis <- \"\"\n",
    "age_at_diagnosis <- apply(as.matrix(sample),1, function (x){dataPrep$age_at_diagnosis[which(dataPrep$sample %in% x)]})\n",
    "\n",
    "primary_diagnosis <- \"\"\n",
    "primary_diagnosis <- apply(as.matrix(sample),1, function (x){dataPrep$primary_diagnosis[which(dataPrep$sample %in% x)]})\n",
    "\n",
    "gender <- \"\"\n",
    "gender <- apply(as.matrix(sample),1, function (x){dataPrep$gender[which(dataPrep$sample %in% x)]})\n",
    "\n",
    "ethnicity <- \"\"\n",
    "ethnicity <- apply(as.matrix(sample),1, function (x){dataPrep$ethnicity[which(dataPrep$sample %in% x)]})\n",
    "\n",
    "age_at_index <- \"\"\n",
    "age_at_index <- apply(as.matrix(sample),1, function (x){dataPrep$age_at_index[which(dataPrep$sample %in% x)]})\n",
    "\n",
    "race <- \"\"\n",
    "race <- apply(as.matrix(sample),1, function (x){dataPrep$race[which(dataPrep$sample %in% x)]})\n",
    "\n",
    "days_to_death <- \"\"\n",
    "days_to_death <- apply(as.matrix(sample),1, function (x){dataPrep$days_to_death[which(dataPrep$sample %in% x)]})\n",
    "\n",
    "mrna_samples <- data.frame(sample, shortLetterCode, ajcc_pathologic_stage, age_at_diagnosis, gender,ethnicity, \n",
    "                           age_at_index, race, days_to_death)\n",
    "head(mrna_samples,2)"
   ]
  },
  {
   "cell_type": "markdown",
   "id": "26c63412-a0f8-4dab-ba98-0a84cd439c82",
   "metadata": {},
   "source": [
    "### Add \"-1\" at the end of duplicate sample ids to modified_sample_ids to make integration easier."
   ]
  },
  {
   "cell_type": "code",
   "execution_count": 38,
   "id": "43d9b672-cede-4928-9896-05f46534ed65",
   "metadata": {
    "vscode": {
     "languageId": "r"
    }
   },
   "outputs": [],
   "source": [
    "# mrna_samples$modified_sample_ids <- mrna_samples$sample\n",
    "# modified_ids <- which(duplicated(mrna_samples$sample))\n",
    "# mrna_samples$modified_sample_ids[modified_ids] <- paste0(mrna_samples$modified_sample_ids[modified_ids], \"-1\")\n",
    "# head(mrna_samples,2)"
   ]
  },
  {
   "cell_type": "code",
   "execution_count": 39,
   "id": "e100e280-ecec-4684-a225-e3aa0f1c8876",
   "metadata": {
    "vscode": {
     "languageId": "r"
    }
   },
   "outputs": [],
   "source": [
    "# mrna_samples[mrna_samples$sample %in% c(\"TCGA-BL-A13J-01A\",\"TCGA-BL-A13I-01A\",\"TCGA-BL-A0C8-01A\"), ]"
   ]
  },
  {
   "cell_type": "markdown",
   "id": "067b7744-bec6-4252-9423-a732e953821b",
   "metadata": {},
   "source": [
    "### Replace barcodes with sample ids at colnames"
   ]
  },
  {
   "cell_type": "code",
   "execution_count": 40,
   "id": "f2a1315b-f34a-4caf-bbcb-530b53475d67",
   "metadata": {
    "vscode": {
     "languageId": "r"
    }
   },
   "outputs": [],
   "source": [
    "# colnames(normalized_counts) <- apply(as.matrix(colnames(normalized_counts)),1, function (x){mrna_samples$sample[which(mrna_samples$barcode %in% x)]})\n",
    "# head(normalized_counts, 1)"
   ]
  },
  {
   "cell_type": "markdown",
   "id": "a2c34ebe-220f-433a-8a1c-77f638291387",
   "metadata": {},
   "source": [
    "### Biomart transcriptIDs to ensemblIDs"
   ]
  },
  {
   "cell_type": "code",
   "execution_count": 41,
   "id": "b2f6a671-e2f8-4a5b-b931-a5fb60a72c2c",
   "metadata": {
    "vscode": {
     "languageId": "r"
    }
   },
   "outputs": [],
   "source": [
    "library(biomaRt)"
   ]
  },
  {
   "cell_type": "code",
   "execution_count": 42,
   "id": "3432e938-876c-4652-961b-27eda52a3fa2",
   "metadata": {
    "vscode": {
     "languageId": "r"
    }
   },
   "outputs": [],
   "source": [
    "ensembl <- useEnsembl(biomart = 'genes',dataset = \"hsapiens_gene_ensembl\",version = 102)"
   ]
  },
  {
   "cell_type": "markdown",
   "id": "716ee8ca-eb7b-411a-b598-ffdedb3c30ee",
   "metadata": {},
   "source": [
    "### Search for unique transcriptIDs to avoid repetitions of same transcriptIDs"
   ]
  },
  {
   "cell_type": "code",
   "execution_count": 43,
   "id": "fe77f284-c33d-45a2-b5a1-03ff8b152426",
   "metadata": {
    "vscode": {
     "languageId": "r"
    }
   },
   "outputs": [
    {
     "data": {
      "text/html": [
       "150"
      ],
      "text/latex": [
       "150"
      ],
      "text/markdown": [
       "150"
      ],
      "text/plain": [
       "[1] 150"
      ]
     },
     "metadata": {},
     "output_type": "display_data"
    }
   ],
   "source": [
    "# check number of rownames to be sure there are all in bm_results with ensembl_gene_id\n",
    "length(rownames(normalized_counts))"
   ]
  },
  {
   "cell_type": "code",
   "execution_count": 44,
   "id": "9a1ba363-42d0-4f59-a5cb-5bc844145328",
   "metadata": {
    "vscode": {
     "languageId": "r"
    }
   },
   "outputs": [
    {
     "data": {
      "text/html": [
       "<table class=\"dataframe\">\n",
       "<caption>A data.frame: 423 × 3</caption>\n",
       "<thead>\n",
       "\t<tr><th></th><th scope=col>name</th><th scope=col>description</th><th scope=col>page</th></tr>\n",
       "\t<tr><th></th><th scope=col>&lt;chr&gt;</th><th scope=col>&lt;chr&gt;</th><th scope=col>&lt;chr&gt;</th></tr>\n",
       "</thead>\n",
       "<tbody>\n",
       "\t<tr><th scope=row>1</th><td>ensembl_gene_id                    </td><td>Gene stable ID                                                </td><td>feature_page</td></tr>\n",
       "\t<tr><th scope=row>2</th><td>ensembl_gene_id_version            </td><td>Gene stable ID version                                        </td><td>feature_page</td></tr>\n",
       "\t<tr><th scope=row>3</th><td>ensembl_transcript_id              </td><td>Transcript stable ID                                          </td><td>feature_page</td></tr>\n",
       "\t<tr><th scope=row>4</th><td>ensembl_transcript_id_version      </td><td>Transcript stable ID version                                  </td><td>feature_page</td></tr>\n",
       "\t<tr><th scope=row>5</th><td>ensembl_peptide_id                 </td><td>Protein stable ID                                             </td><td>feature_page</td></tr>\n",
       "\t<tr><th scope=row>6</th><td>ensembl_peptide_id_version         </td><td>Protein stable ID version                                     </td><td>feature_page</td></tr>\n",
       "\t<tr><th scope=row>7</th><td>ensembl_exon_id                    </td><td>Exon stable ID                                                </td><td>feature_page</td></tr>\n",
       "\t<tr><th scope=row>51</th><td>clone_based_ensembl_gene           </td><td>Clone-based (Ensembl) gene ID                                 </td><td>feature_page</td></tr>\n",
       "\t<tr><th scope=row>52</th><td>clone_based_ensembl_transcript     </td><td>Clone-based (Ensembl) transcript ID                           </td><td>feature_page</td></tr>\n",
       "\t<tr><th scope=row>200</th><td>ensembl_gene_id                    </td><td>Gene stable ID                                                </td><td>structure   </td></tr>\n",
       "\t<tr><th scope=row>201</th><td>ensembl_gene_id_version            </td><td>Gene stable ID version                                        </td><td>structure   </td></tr>\n",
       "\t<tr><th scope=row>203</th><td>ensembl_transcript_id              </td><td>Transcript stable ID                                          </td><td>structure   </td></tr>\n",
       "\t<tr><th scope=row>204</th><td>ensembl_transcript_id_version      </td><td>Transcript stable ID version                                  </td><td>structure   </td></tr>\n",
       "\t<tr><th scope=row>206</th><td>ensembl_peptide_id                 </td><td>Protein stable ID                                             </td><td>structure   </td></tr>\n",
       "\t<tr><th scope=row>207</th><td>ensembl_peptide_id_version         </td><td>Protein stable ID version                                     </td><td>structure   </td></tr>\n",
       "\t<tr><th scope=row>237</th><td>ensembl_exon_id                    </td><td>Exon stable ID                                                </td><td>structure   </td></tr>\n",
       "\t<tr><th scope=row>240</th><td>ensembl_gene_id                    </td><td>Gene stable ID                                                </td><td>homologs    </td></tr>\n",
       "\t<tr><th scope=row>241</th><td>ensembl_gene_id_version            </td><td>Gene stable ID version                                        </td><td>homologs    </td></tr>\n",
       "\t<tr><th scope=row>243</th><td>ensembl_transcript_id              </td><td>Transcript stable ID                                          </td><td>homologs    </td></tr>\n",
       "\t<tr><th scope=row>244</th><td>ensembl_transcript_id_version      </td><td>Transcript stable ID version                                  </td><td>homologs    </td></tr>\n",
       "\t<tr><th scope=row>246</th><td>ensembl_peptide_id                 </td><td>Protein stable ID                                             </td><td>homologs    </td></tr>\n",
       "\t<tr><th scope=row>247</th><td>ensembl_peptide_id_version         </td><td>Protein stable ID version                                     </td><td>homologs    </td></tr>\n",
       "\t<tr><th scope=row>259</th><td>cabingdonii_homolog_ensembl_gene   </td><td>Abingdon island giant tortoise gene stable ID                 </td><td>homologs    </td></tr>\n",
       "\t<tr><th scope=row>261</th><td>cabingdonii_homolog_ensembl_peptide</td><td>Abingdon island giant tortoise protein or transcript stable ID</td><td>homologs    </td></tr>\n",
       "\t<tr><th scope=row>273</th><td>gagassizii_homolog_ensembl_gene    </td><td>Agassiz's desert tortoise gene stable ID                      </td><td>homologs    </td></tr>\n",
       "\t<tr><th scope=row>275</th><td>gagassizii_homolog_ensembl_peptide </td><td>Agassiz's desert tortoise protein or transcript stable ID     </td><td>homologs    </td></tr>\n",
       "\t<tr><th scope=row>287</th><td>mspretus_homolog_ensembl_gene      </td><td>Algerian mouse gene stable ID                                 </td><td>homologs    </td></tr>\n",
       "\t<tr><th scope=row>289</th><td>mspretus_homolog_ensembl_peptide   </td><td>Algerian mouse protein or transcript stable ID                </td><td>homologs    </td></tr>\n",
       "\t<tr><th scope=row>301</th><td>vpacos_homolog_ensembl_gene        </td><td>Alpaca gene stable ID                                         </td><td>homologs    </td></tr>\n",
       "\t<tr><th scope=row>303</th><td>vpacos_homolog_ensembl_peptide     </td><td>Alpaca protein or transcript stable ID                        </td><td>homologs    </td></tr>\n",
       "\t<tr><th scope=row>⋮</th><td>⋮</td><td>⋮</td><td>⋮</td></tr>\n",
       "\t<tr><th scope=row>2840</th><td>sldorsalis_homolog_ensembl_peptide</td><td>Yellowtail amberjack protein or transcript stable ID</td><td>homologs   </td></tr>\n",
       "\t<tr><th scope=row>2852</th><td>tguttata_homolog_ensembl_gene     </td><td>Zebra finch gene stable ID                          </td><td>homologs   </td></tr>\n",
       "\t<tr><th scope=row>2854</th><td>tguttata_homolog_ensembl_peptide  </td><td>Zebra finch protein or transcript stable ID         </td><td>homologs   </td></tr>\n",
       "\t<tr><th scope=row>2866</th><td>mzebra_homolog_ensembl_gene       </td><td>Zebra mbuna gene stable ID                          </td><td>homologs   </td></tr>\n",
       "\t<tr><th scope=row>2868</th><td>mzebra_homolog_ensembl_peptide    </td><td>Zebra mbuna protein or transcript stable ID         </td><td>homologs   </td></tr>\n",
       "\t<tr><th scope=row>2880</th><td>drerio_homolog_ensembl_gene       </td><td>Zebrafish gene stable ID                            </td><td>homologs   </td></tr>\n",
       "\t<tr><th scope=row>2882</th><td>drerio_homolog_ensembl_peptide    </td><td>Zebrafish protein or transcript stable ID           </td><td>homologs   </td></tr>\n",
       "\t<tr><th scope=row>2894</th><td>marmatus_homolog_ensembl_gene     </td><td>Zig-zag eel gene stable ID                          </td><td>homologs   </td></tr>\n",
       "\t<tr><th scope=row>2896</th><td>marmatus_homolog_ensembl_peptide  </td><td>Zig-zag eel protein or transcript stable ID         </td><td>homologs   </td></tr>\n",
       "\t<tr><th scope=row>2908</th><td>hsapiens_paralog_ensembl_gene     </td><td>Human paralogue gene stable ID                      </td><td>homologs   </td></tr>\n",
       "\t<tr><th scope=row>2910</th><td>hsapiens_paralog_ensembl_peptide  </td><td>Human paralogue protein or transcript ID            </td><td>homologs   </td></tr>\n",
       "\t<tr><th scope=row>2919</th><td>ensembl_gene_id                   </td><td>Gene stable ID                                      </td><td>snp        </td></tr>\n",
       "\t<tr><th scope=row>2920</th><td>ensembl_gene_id_version           </td><td>Gene stable ID version                              </td><td>snp        </td></tr>\n",
       "\t<tr><th scope=row>2922</th><td>ensembl_transcript_id             </td><td>Transcript stable ID                                </td><td>snp        </td></tr>\n",
       "\t<tr><th scope=row>2923</th><td>ensembl_transcript_id_version     </td><td>Transcript stable ID version                        </td><td>snp        </td></tr>\n",
       "\t<tr><th scope=row>2925</th><td>ensembl_peptide_id                </td><td>Protein stable ID                                   </td><td>snp        </td></tr>\n",
       "\t<tr><th scope=row>2926</th><td>ensembl_peptide_id_version        </td><td>Protein stable ID version                           </td><td>snp        </td></tr>\n",
       "\t<tr><th scope=row>2963</th><td>ensembl_gene_id                   </td><td>Gene stable ID                                      </td><td>snp_somatic</td></tr>\n",
       "\t<tr><th scope=row>2964</th><td>ensembl_gene_id_version           </td><td>Gene stable ID version                              </td><td>snp_somatic</td></tr>\n",
       "\t<tr><th scope=row>2966</th><td>ensembl_transcript_id             </td><td>Transcript stable ID                                </td><td>snp_somatic</td></tr>\n",
       "\t<tr><th scope=row>2967</th><td>ensembl_transcript_id_version     </td><td>Transcript stable ID version                        </td><td>snp_somatic</td></tr>\n",
       "\t<tr><th scope=row>2969</th><td>ensembl_peptide_id                </td><td>Protein stable ID                                   </td><td>snp_somatic</td></tr>\n",
       "\t<tr><th scope=row>2970</th><td>ensembl_peptide_id_version        </td><td>Protein stable ID version                           </td><td>snp_somatic</td></tr>\n",
       "\t<tr><th scope=row>3012</th><td>ensembl_gene_id                   </td><td>Gene stable ID                                      </td><td>sequences  </td></tr>\n",
       "\t<tr><th scope=row>3013</th><td>ensembl_gene_id_version           </td><td>Gene stable ID version                              </td><td>sequences  </td></tr>\n",
       "\t<tr><th scope=row>3031</th><td>ensembl_transcript_id             </td><td>Transcript stable ID                                </td><td>sequences  </td></tr>\n",
       "\t<tr><th scope=row>3032</th><td>ensembl_transcript_id_version     </td><td>Transcript stable ID version                        </td><td>sequences  </td></tr>\n",
       "\t<tr><th scope=row>3033</th><td>ensembl_peptide_id                </td><td>Protein stable ID                                   </td><td>sequences  </td></tr>\n",
       "\t<tr><th scope=row>3034</th><td>ensembl_peptide_id_version        </td><td>Protein stable ID version                           </td><td>sequences  </td></tr>\n",
       "\t<tr><th scope=row>3046</th><td>ensembl_exon_id                   </td><td>Exon stable ID                                      </td><td>sequences  </td></tr>\n",
       "</tbody>\n",
       "</table>\n"
      ],
      "text/latex": [
       "A data.frame: 423 × 3\n",
       "\\begin{tabular}{r|lll}\n",
       "  & name & description & page\\\\\n",
       "  & <chr> & <chr> & <chr>\\\\\n",
       "\\hline\n",
       "\t1 & ensembl\\_gene\\_id                     & Gene stable ID                                                 & feature\\_page\\\\\n",
       "\t2 & ensembl\\_gene\\_id\\_version             & Gene stable ID version                                         & feature\\_page\\\\\n",
       "\t3 & ensembl\\_transcript\\_id               & Transcript stable ID                                           & feature\\_page\\\\\n",
       "\t4 & ensembl\\_transcript\\_id\\_version       & Transcript stable ID version                                   & feature\\_page\\\\\n",
       "\t5 & ensembl\\_peptide\\_id                  & Protein stable ID                                              & feature\\_page\\\\\n",
       "\t6 & ensembl\\_peptide\\_id\\_version          & Protein stable ID version                                      & feature\\_page\\\\\n",
       "\t7 & ensembl\\_exon\\_id                     & Exon stable ID                                                 & feature\\_page\\\\\n",
       "\t51 & clone\\_based\\_ensembl\\_gene            & Clone-based (Ensembl) gene ID                                  & feature\\_page\\\\\n",
       "\t52 & clone\\_based\\_ensembl\\_transcript      & Clone-based (Ensembl) transcript ID                            & feature\\_page\\\\\n",
       "\t200 & ensembl\\_gene\\_id                     & Gene stable ID                                                 & structure   \\\\\n",
       "\t201 & ensembl\\_gene\\_id\\_version             & Gene stable ID version                                         & structure   \\\\\n",
       "\t203 & ensembl\\_transcript\\_id               & Transcript stable ID                                           & structure   \\\\\n",
       "\t204 & ensembl\\_transcript\\_id\\_version       & Transcript stable ID version                                   & structure   \\\\\n",
       "\t206 & ensembl\\_peptide\\_id                  & Protein stable ID                                              & structure   \\\\\n",
       "\t207 & ensembl\\_peptide\\_id\\_version          & Protein stable ID version                                      & structure   \\\\\n",
       "\t237 & ensembl\\_exon\\_id                     & Exon stable ID                                                 & structure   \\\\\n",
       "\t240 & ensembl\\_gene\\_id                     & Gene stable ID                                                 & homologs    \\\\\n",
       "\t241 & ensembl\\_gene\\_id\\_version             & Gene stable ID version                                         & homologs    \\\\\n",
       "\t243 & ensembl\\_transcript\\_id               & Transcript stable ID                                           & homologs    \\\\\n",
       "\t244 & ensembl\\_transcript\\_id\\_version       & Transcript stable ID version                                   & homologs    \\\\\n",
       "\t246 & ensembl\\_peptide\\_id                  & Protein stable ID                                              & homologs    \\\\\n",
       "\t247 & ensembl\\_peptide\\_id\\_version          & Protein stable ID version                                      & homologs    \\\\\n",
       "\t259 & cabingdonii\\_homolog\\_ensembl\\_gene    & Abingdon island giant tortoise gene stable ID                  & homologs    \\\\\n",
       "\t261 & cabingdonii\\_homolog\\_ensembl\\_peptide & Abingdon island giant tortoise protein or transcript stable ID & homologs    \\\\\n",
       "\t273 & gagassizii\\_homolog\\_ensembl\\_gene     & Agassiz's desert tortoise gene stable ID                       & homologs    \\\\\n",
       "\t275 & gagassizii\\_homolog\\_ensembl\\_peptide  & Agassiz's desert tortoise protein or transcript stable ID      & homologs    \\\\\n",
       "\t287 & mspretus\\_homolog\\_ensembl\\_gene       & Algerian mouse gene stable ID                                  & homologs    \\\\\n",
       "\t289 & mspretus\\_homolog\\_ensembl\\_peptide    & Algerian mouse protein or transcript stable ID                 & homologs    \\\\\n",
       "\t301 & vpacos\\_homolog\\_ensembl\\_gene         & Alpaca gene stable ID                                          & homologs    \\\\\n",
       "\t303 & vpacos\\_homolog\\_ensembl\\_peptide      & Alpaca protein or transcript stable ID                         & homologs    \\\\\n",
       "\t⋮ & ⋮ & ⋮ & ⋮\\\\\n",
       "\t2840 & sldorsalis\\_homolog\\_ensembl\\_peptide & Yellowtail amberjack protein or transcript stable ID & homologs   \\\\\n",
       "\t2852 & tguttata\\_homolog\\_ensembl\\_gene      & Zebra finch gene stable ID                           & homologs   \\\\\n",
       "\t2854 & tguttata\\_homolog\\_ensembl\\_peptide   & Zebra finch protein or transcript stable ID          & homologs   \\\\\n",
       "\t2866 & mzebra\\_homolog\\_ensembl\\_gene        & Zebra mbuna gene stable ID                           & homologs   \\\\\n",
       "\t2868 & mzebra\\_homolog\\_ensembl\\_peptide     & Zebra mbuna protein or transcript stable ID          & homologs   \\\\\n",
       "\t2880 & drerio\\_homolog\\_ensembl\\_gene        & Zebrafish gene stable ID                             & homologs   \\\\\n",
       "\t2882 & drerio\\_homolog\\_ensembl\\_peptide     & Zebrafish protein or transcript stable ID            & homologs   \\\\\n",
       "\t2894 & marmatus\\_homolog\\_ensembl\\_gene      & Zig-zag eel gene stable ID                           & homologs   \\\\\n",
       "\t2896 & marmatus\\_homolog\\_ensembl\\_peptide   & Zig-zag eel protein or transcript stable ID          & homologs   \\\\\n",
       "\t2908 & hsapiens\\_paralog\\_ensembl\\_gene      & Human paralogue gene stable ID                       & homologs   \\\\\n",
       "\t2910 & hsapiens\\_paralog\\_ensembl\\_peptide   & Human paralogue protein or transcript ID             & homologs   \\\\\n",
       "\t2919 & ensembl\\_gene\\_id                    & Gene stable ID                                       & snp        \\\\\n",
       "\t2920 & ensembl\\_gene\\_id\\_version            & Gene stable ID version                               & snp        \\\\\n",
       "\t2922 & ensembl\\_transcript\\_id              & Transcript stable ID                                 & snp        \\\\\n",
       "\t2923 & ensembl\\_transcript\\_id\\_version      & Transcript stable ID version                         & snp        \\\\\n",
       "\t2925 & ensembl\\_peptide\\_id                 & Protein stable ID                                    & snp        \\\\\n",
       "\t2926 & ensembl\\_peptide\\_id\\_version         & Protein stable ID version                            & snp        \\\\\n",
       "\t2963 & ensembl\\_gene\\_id                    & Gene stable ID                                       & snp\\_somatic\\\\\n",
       "\t2964 & ensembl\\_gene\\_id\\_version            & Gene stable ID version                               & snp\\_somatic\\\\\n",
       "\t2966 & ensembl\\_transcript\\_id              & Transcript stable ID                                 & snp\\_somatic\\\\\n",
       "\t2967 & ensembl\\_transcript\\_id\\_version      & Transcript stable ID version                         & snp\\_somatic\\\\\n",
       "\t2969 & ensembl\\_peptide\\_id                 & Protein stable ID                                    & snp\\_somatic\\\\\n",
       "\t2970 & ensembl\\_peptide\\_id\\_version         & Protein stable ID version                            & snp\\_somatic\\\\\n",
       "\t3012 & ensembl\\_gene\\_id                    & Gene stable ID                                       & sequences  \\\\\n",
       "\t3013 & ensembl\\_gene\\_id\\_version            & Gene stable ID version                               & sequences  \\\\\n",
       "\t3031 & ensembl\\_transcript\\_id              & Transcript stable ID                                 & sequences  \\\\\n",
       "\t3032 & ensembl\\_transcript\\_id\\_version      & Transcript stable ID version                         & sequences  \\\\\n",
       "\t3033 & ensembl\\_peptide\\_id                 & Protein stable ID                                    & sequences  \\\\\n",
       "\t3034 & ensembl\\_peptide\\_id\\_version         & Protein stable ID version                            & sequences  \\\\\n",
       "\t3046 & ensembl\\_exon\\_id                    & Exon stable ID                                       & sequences  \\\\\n",
       "\\end{tabular}\n"
      ],
      "text/markdown": [
       "\n",
       "A data.frame: 423 × 3\n",
       "\n",
       "| <!--/--> | name &lt;chr&gt; | description &lt;chr&gt; | page &lt;chr&gt; |\n",
       "|---|---|---|---|\n",
       "| 1 | ensembl_gene_id                     | Gene stable ID                                                 | feature_page |\n",
       "| 2 | ensembl_gene_id_version             | Gene stable ID version                                         | feature_page |\n",
       "| 3 | ensembl_transcript_id               | Transcript stable ID                                           | feature_page |\n",
       "| 4 | ensembl_transcript_id_version       | Transcript stable ID version                                   | feature_page |\n",
       "| 5 | ensembl_peptide_id                  | Protein stable ID                                              | feature_page |\n",
       "| 6 | ensembl_peptide_id_version          | Protein stable ID version                                      | feature_page |\n",
       "| 7 | ensembl_exon_id                     | Exon stable ID                                                 | feature_page |\n",
       "| 51 | clone_based_ensembl_gene            | Clone-based (Ensembl) gene ID                                  | feature_page |\n",
       "| 52 | clone_based_ensembl_transcript      | Clone-based (Ensembl) transcript ID                            | feature_page |\n",
       "| 200 | ensembl_gene_id                     | Gene stable ID                                                 | structure    |\n",
       "| 201 | ensembl_gene_id_version             | Gene stable ID version                                         | structure    |\n",
       "| 203 | ensembl_transcript_id               | Transcript stable ID                                           | structure    |\n",
       "| 204 | ensembl_transcript_id_version       | Transcript stable ID version                                   | structure    |\n",
       "| 206 | ensembl_peptide_id                  | Protein stable ID                                              | structure    |\n",
       "| 207 | ensembl_peptide_id_version          | Protein stable ID version                                      | structure    |\n",
       "| 237 | ensembl_exon_id                     | Exon stable ID                                                 | structure    |\n",
       "| 240 | ensembl_gene_id                     | Gene stable ID                                                 | homologs     |\n",
       "| 241 | ensembl_gene_id_version             | Gene stable ID version                                         | homologs     |\n",
       "| 243 | ensembl_transcript_id               | Transcript stable ID                                           | homologs     |\n",
       "| 244 | ensembl_transcript_id_version       | Transcript stable ID version                                   | homologs     |\n",
       "| 246 | ensembl_peptide_id                  | Protein stable ID                                              | homologs     |\n",
       "| 247 | ensembl_peptide_id_version          | Protein stable ID version                                      | homologs     |\n",
       "| 259 | cabingdonii_homolog_ensembl_gene    | Abingdon island giant tortoise gene stable ID                  | homologs     |\n",
       "| 261 | cabingdonii_homolog_ensembl_peptide | Abingdon island giant tortoise protein or transcript stable ID | homologs     |\n",
       "| 273 | gagassizii_homolog_ensembl_gene     | Agassiz's desert tortoise gene stable ID                       | homologs     |\n",
       "| 275 | gagassizii_homolog_ensembl_peptide  | Agassiz's desert tortoise protein or transcript stable ID      | homologs     |\n",
       "| 287 | mspretus_homolog_ensembl_gene       | Algerian mouse gene stable ID                                  | homologs     |\n",
       "| 289 | mspretus_homolog_ensembl_peptide    | Algerian mouse protein or transcript stable ID                 | homologs     |\n",
       "| 301 | vpacos_homolog_ensembl_gene         | Alpaca gene stable ID                                          | homologs     |\n",
       "| 303 | vpacos_homolog_ensembl_peptide      | Alpaca protein or transcript stable ID                         | homologs     |\n",
       "| ⋮ | ⋮ | ⋮ | ⋮ |\n",
       "| 2840 | sldorsalis_homolog_ensembl_peptide | Yellowtail amberjack protein or transcript stable ID | homologs    |\n",
       "| 2852 | tguttata_homolog_ensembl_gene      | Zebra finch gene stable ID                           | homologs    |\n",
       "| 2854 | tguttata_homolog_ensembl_peptide   | Zebra finch protein or transcript stable ID          | homologs    |\n",
       "| 2866 | mzebra_homolog_ensembl_gene        | Zebra mbuna gene stable ID                           | homologs    |\n",
       "| 2868 | mzebra_homolog_ensembl_peptide     | Zebra mbuna protein or transcript stable ID          | homologs    |\n",
       "| 2880 | drerio_homolog_ensembl_gene        | Zebrafish gene stable ID                             | homologs    |\n",
       "| 2882 | drerio_homolog_ensembl_peptide     | Zebrafish protein or transcript stable ID            | homologs    |\n",
       "| 2894 | marmatus_homolog_ensembl_gene      | Zig-zag eel gene stable ID                           | homologs    |\n",
       "| 2896 | marmatus_homolog_ensembl_peptide   | Zig-zag eel protein or transcript stable ID          | homologs    |\n",
       "| 2908 | hsapiens_paralog_ensembl_gene      | Human paralogue gene stable ID                       | homologs    |\n",
       "| 2910 | hsapiens_paralog_ensembl_peptide   | Human paralogue protein or transcript ID             | homologs    |\n",
       "| 2919 | ensembl_gene_id                    | Gene stable ID                                       | snp         |\n",
       "| 2920 | ensembl_gene_id_version            | Gene stable ID version                               | snp         |\n",
       "| 2922 | ensembl_transcript_id              | Transcript stable ID                                 | snp         |\n",
       "| 2923 | ensembl_transcript_id_version      | Transcript stable ID version                         | snp         |\n",
       "| 2925 | ensembl_peptide_id                 | Protein stable ID                                    | snp         |\n",
       "| 2926 | ensembl_peptide_id_version         | Protein stable ID version                            | snp         |\n",
       "| 2963 | ensembl_gene_id                    | Gene stable ID                                       | snp_somatic |\n",
       "| 2964 | ensembl_gene_id_version            | Gene stable ID version                               | snp_somatic |\n",
       "| 2966 | ensembl_transcript_id              | Transcript stable ID                                 | snp_somatic |\n",
       "| 2967 | ensembl_transcript_id_version      | Transcript stable ID version                         | snp_somatic |\n",
       "| 2969 | ensembl_peptide_id                 | Protein stable ID                                    | snp_somatic |\n",
       "| 2970 | ensembl_peptide_id_version         | Protein stable ID version                            | snp_somatic |\n",
       "| 3012 | ensembl_gene_id                    | Gene stable ID                                       | sequences   |\n",
       "| 3013 | ensembl_gene_id_version            | Gene stable ID version                               | sequences   |\n",
       "| 3031 | ensembl_transcript_id              | Transcript stable ID                                 | sequences   |\n",
       "| 3032 | ensembl_transcript_id_version      | Transcript stable ID version                         | sequences   |\n",
       "| 3033 | ensembl_peptide_id                 | Protein stable ID                                    | sequences   |\n",
       "| 3034 | ensembl_peptide_id_version         | Protein stable ID version                            | sequences   |\n",
       "| 3046 | ensembl_exon_id                    | Exon stable ID                                       | sequences   |\n",
       "\n"
      ],
      "text/plain": [
       "     name                               \n",
       "1    ensembl_gene_id                    \n",
       "2    ensembl_gene_id_version            \n",
       "3    ensembl_transcript_id              \n",
       "4    ensembl_transcript_id_version      \n",
       "5    ensembl_peptide_id                 \n",
       "6    ensembl_peptide_id_version         \n",
       "7    ensembl_exon_id                    \n",
       "51   clone_based_ensembl_gene           \n",
       "52   clone_based_ensembl_transcript     \n",
       "200  ensembl_gene_id                    \n",
       "201  ensembl_gene_id_version            \n",
       "203  ensembl_transcript_id              \n",
       "204  ensembl_transcript_id_version      \n",
       "206  ensembl_peptide_id                 \n",
       "207  ensembl_peptide_id_version         \n",
       "237  ensembl_exon_id                    \n",
       "240  ensembl_gene_id                    \n",
       "241  ensembl_gene_id_version            \n",
       "243  ensembl_transcript_id              \n",
       "244  ensembl_transcript_id_version      \n",
       "246  ensembl_peptide_id                 \n",
       "247  ensembl_peptide_id_version         \n",
       "259  cabingdonii_homolog_ensembl_gene   \n",
       "261  cabingdonii_homolog_ensembl_peptide\n",
       "273  gagassizii_homolog_ensembl_gene    \n",
       "275  gagassizii_homolog_ensembl_peptide \n",
       "287  mspretus_homolog_ensembl_gene      \n",
       "289  mspretus_homolog_ensembl_peptide   \n",
       "301  vpacos_homolog_ensembl_gene        \n",
       "303  vpacos_homolog_ensembl_peptide     \n",
       "⋮    ⋮                                  \n",
       "2840 sldorsalis_homolog_ensembl_peptide \n",
       "2852 tguttata_homolog_ensembl_gene      \n",
       "2854 tguttata_homolog_ensembl_peptide   \n",
       "2866 mzebra_homolog_ensembl_gene        \n",
       "2868 mzebra_homolog_ensembl_peptide     \n",
       "2880 drerio_homolog_ensembl_gene        \n",
       "2882 drerio_homolog_ensembl_peptide     \n",
       "2894 marmatus_homolog_ensembl_gene      \n",
       "2896 marmatus_homolog_ensembl_peptide   \n",
       "2908 hsapiens_paralog_ensembl_gene      \n",
       "2910 hsapiens_paralog_ensembl_peptide   \n",
       "2919 ensembl_gene_id                    \n",
       "2920 ensembl_gene_id_version            \n",
       "2922 ensembl_transcript_id              \n",
       "2923 ensembl_transcript_id_version      \n",
       "2925 ensembl_peptide_id                 \n",
       "2926 ensembl_peptide_id_version         \n",
       "2963 ensembl_gene_id                    \n",
       "2964 ensembl_gene_id_version            \n",
       "2966 ensembl_transcript_id              \n",
       "2967 ensembl_transcript_id_version      \n",
       "2969 ensembl_peptide_id                 \n",
       "2970 ensembl_peptide_id_version         \n",
       "3012 ensembl_gene_id                    \n",
       "3013 ensembl_gene_id_version            \n",
       "3031 ensembl_transcript_id              \n",
       "3032 ensembl_transcript_id_version      \n",
       "3033 ensembl_peptide_id                 \n",
       "3034 ensembl_peptide_id_version         \n",
       "3046 ensembl_exon_id                    \n",
       "     description                                                   \n",
       "1    Gene stable ID                                                \n",
       "2    Gene stable ID version                                        \n",
       "3    Transcript stable ID                                          \n",
       "4    Transcript stable ID version                                  \n",
       "5    Protein stable ID                                             \n",
       "6    Protein stable ID version                                     \n",
       "7    Exon stable ID                                                \n",
       "51   Clone-based (Ensembl) gene ID                                 \n",
       "52   Clone-based (Ensembl) transcript ID                           \n",
       "200  Gene stable ID                                                \n",
       "201  Gene stable ID version                                        \n",
       "203  Transcript stable ID                                          \n",
       "204  Transcript stable ID version                                  \n",
       "206  Protein stable ID                                             \n",
       "207  Protein stable ID version                                     \n",
       "237  Exon stable ID                                                \n",
       "240  Gene stable ID                                                \n",
       "241  Gene stable ID version                                        \n",
       "243  Transcript stable ID                                          \n",
       "244  Transcript stable ID version                                  \n",
       "246  Protein stable ID                                             \n",
       "247  Protein stable ID version                                     \n",
       "259  Abingdon island giant tortoise gene stable ID                 \n",
       "261  Abingdon island giant tortoise protein or transcript stable ID\n",
       "273  Agassiz's desert tortoise gene stable ID                      \n",
       "275  Agassiz's desert tortoise protein or transcript stable ID     \n",
       "287  Algerian mouse gene stable ID                                 \n",
       "289  Algerian mouse protein or transcript stable ID                \n",
       "301  Alpaca gene stable ID                                         \n",
       "303  Alpaca protein or transcript stable ID                        \n",
       "⋮    ⋮                                                             \n",
       "2840 Yellowtail amberjack protein or transcript stable ID          \n",
       "2852 Zebra finch gene stable ID                                    \n",
       "2854 Zebra finch protein or transcript stable ID                   \n",
       "2866 Zebra mbuna gene stable ID                                    \n",
       "2868 Zebra mbuna protein or transcript stable ID                   \n",
       "2880 Zebrafish gene stable ID                                      \n",
       "2882 Zebrafish protein or transcript stable ID                     \n",
       "2894 Zig-zag eel gene stable ID                                    \n",
       "2896 Zig-zag eel protein or transcript stable ID                   \n",
       "2908 Human paralogue gene stable ID                                \n",
       "2910 Human paralogue protein or transcript ID                      \n",
       "2919 Gene stable ID                                                \n",
       "2920 Gene stable ID version                                        \n",
       "2922 Transcript stable ID                                          \n",
       "2923 Transcript stable ID version                                  \n",
       "2925 Protein stable ID                                             \n",
       "2926 Protein stable ID version                                     \n",
       "2963 Gene stable ID                                                \n",
       "2964 Gene stable ID version                                        \n",
       "2966 Transcript stable ID                                          \n",
       "2967 Transcript stable ID version                                  \n",
       "2969 Protein stable ID                                             \n",
       "2970 Protein stable ID version                                     \n",
       "3012 Gene stable ID                                                \n",
       "3013 Gene stable ID version                                        \n",
       "3031 Transcript stable ID                                          \n",
       "3032 Transcript stable ID version                                  \n",
       "3033 Protein stable ID                                             \n",
       "3034 Protein stable ID version                                     \n",
       "3046 Exon stable ID                                                \n",
       "     page        \n",
       "1    feature_page\n",
       "2    feature_page\n",
       "3    feature_page\n",
       "4    feature_page\n",
       "5    feature_page\n",
       "6    feature_page\n",
       "7    feature_page\n",
       "51   feature_page\n",
       "52   feature_page\n",
       "200  structure   \n",
       "201  structure   \n",
       "203  structure   \n",
       "204  structure   \n",
       "206  structure   \n",
       "207  structure   \n",
       "237  structure   \n",
       "240  homologs    \n",
       "241  homologs    \n",
       "243  homologs    \n",
       "244  homologs    \n",
       "246  homologs    \n",
       "247  homologs    \n",
       "259  homologs    \n",
       "261  homologs    \n",
       "273  homologs    \n",
       "275  homologs    \n",
       "287  homologs    \n",
       "289  homologs    \n",
       "301  homologs    \n",
       "303  homologs    \n",
       "⋮    ⋮           \n",
       "2840 homologs    \n",
       "2852 homologs    \n",
       "2854 homologs    \n",
       "2866 homologs    \n",
       "2868 homologs    \n",
       "2880 homologs    \n",
       "2882 homologs    \n",
       "2894 homologs    \n",
       "2896 homologs    \n",
       "2908 homologs    \n",
       "2910 homologs    \n",
       "2919 snp         \n",
       "2920 snp         \n",
       "2922 snp         \n",
       "2923 snp         \n",
       "2925 snp         \n",
       "2926 snp         \n",
       "2963 snp_somatic \n",
       "2964 snp_somatic \n",
       "2966 snp_somatic \n",
       "2967 snp_somatic \n",
       "2969 snp_somatic \n",
       "2970 snp_somatic \n",
       "3012 sequences   \n",
       "3013 sequences   \n",
       "3031 sequences   \n",
       "3032 sequences   \n",
       "3033 sequences   \n",
       "3034 sequences   \n",
       "3046 sequences   "
      ]
     },
     "metadata": {},
     "output_type": "display_data"
    }
   ],
   "source": [
    "searchAttributes(mart = ensembl, pattern = \"ensembl\")"
   ]
  },
  {
   "cell_type": "code",
   "execution_count": 45,
   "id": "63260fdf-e0d6-44b0-8c69-06cca6db38eb",
   "metadata": {
    "vscode": {
     "languageId": "r"
    }
   },
   "outputs": [],
   "source": [
    "gene_ids_versions <- rownames(normalized_counts)\n",
    "\n",
    "bm_results <- getBM(attributes = c('ensembl_gene_id', 'ensembl_gene_id_version'),\n",
    "      filters = 'ensembl_gene_id_version',\n",
    "      values = gene_ids_versions, \n",
    "      mart = ensembl)"
   ]
  },
  {
   "cell_type": "code",
   "execution_count": 46,
   "id": "2d0b9488-8074-45f5-a4b7-fd16e77e096d",
   "metadata": {
    "vscode": {
     "languageId": "r"
    }
   },
   "outputs": [
    {
     "data": {
      "text/html": [
       "<style>\n",
       ".list-inline {list-style: none; margin:0; padding: 0}\n",
       ".list-inline>li {display: inline-block}\n",
       ".list-inline>li:not(:last-child)::after {content: \"\\00b7\"; padding: 0 .5ex}\n",
       "</style>\n",
       "<ol class=list-inline><li>150</li><li>2</li></ol>\n"
      ],
      "text/latex": [
       "\\begin{enumerate*}\n",
       "\\item 150\n",
       "\\item 2\n",
       "\\end{enumerate*}\n"
      ],
      "text/markdown": [
       "1. 150\n",
       "2. 2\n",
       "\n",
       "\n"
      ],
      "text/plain": [
       "[1] 150   2"
      ]
     },
     "metadata": {},
     "output_type": "display_data"
    },
    {
     "data": {
      "text/html": [
       "<table class=\"dataframe\">\n",
       "<caption>A data.frame: 2 × 2</caption>\n",
       "<thead>\n",
       "\t<tr><th></th><th scope=col>ensembl_gene_id</th><th scope=col>ensembl_gene_id_version</th></tr>\n",
       "\t<tr><th></th><th scope=col>&lt;chr&gt;</th><th scope=col>&lt;chr&gt;</th></tr>\n",
       "</thead>\n",
       "<tbody>\n",
       "\t<tr><th scope=row>1</th><td>ENSG00000007350</td><td>ENSG00000007350.17</td></tr>\n",
       "\t<tr><th scope=row>2</th><td>ENSG00000019169</td><td>ENSG00000019169.10</td></tr>\n",
       "</tbody>\n",
       "</table>\n"
      ],
      "text/latex": [
       "A data.frame: 2 × 2\n",
       "\\begin{tabular}{r|ll}\n",
       "  & ensembl\\_gene\\_id & ensembl\\_gene\\_id\\_version\\\\\n",
       "  & <chr> & <chr>\\\\\n",
       "\\hline\n",
       "\t1 & ENSG00000007350 & ENSG00000007350.17\\\\\n",
       "\t2 & ENSG00000019169 & ENSG00000019169.10\\\\\n",
       "\\end{tabular}\n"
      ],
      "text/markdown": [
       "\n",
       "A data.frame: 2 × 2\n",
       "\n",
       "| <!--/--> | ensembl_gene_id &lt;chr&gt; | ensembl_gene_id_version &lt;chr&gt; |\n",
       "|---|---|---|\n",
       "| 1 | ENSG00000007350 | ENSG00000007350.17 |\n",
       "| 2 | ENSG00000019169 | ENSG00000019169.10 |\n",
       "\n"
      ],
      "text/plain": [
       "  ensembl_gene_id ensembl_gene_id_version\n",
       "1 ENSG00000007350 ENSG00000007350.17     \n",
       "2 ENSG00000019169 ENSG00000019169.10     "
      ]
     },
     "metadata": {},
     "output_type": "display_data"
    }
   ],
   "source": [
    "dim(bm_results)\n",
    "head(bm_results,2)"
   ]
  },
  {
   "cell_type": "code",
   "execution_count": 47,
   "id": "8e243852-fb19-42b9-920d-825241771f55",
   "metadata": {
    "vscode": {
     "languageId": "r"
    }
   },
   "outputs": [
    {
     "name": "stderr",
     "output_type": "stream",
     "text": [
      "── \u001b[1mAttaching core tidyverse packages\u001b[22m ──────────────────────── tidyverse 2.0.0 ──\n",
      "\u001b[32m✔\u001b[39m \u001b[34mdplyr    \u001b[39m 1.1.3     \u001b[32m✔\u001b[39m \u001b[34mreadr    \u001b[39m 2.1.4\n",
      "\u001b[32m✔\u001b[39m \u001b[34mforcats  \u001b[39m 1.0.0     \u001b[32m✔\u001b[39m \u001b[34mstringr  \u001b[39m 1.5.0\n",
      "\u001b[32m✔\u001b[39m \u001b[34mlubridate\u001b[39m 1.9.3     \u001b[32m✔\u001b[39m \u001b[34mtibble   \u001b[39m 3.2.1\n",
      "\u001b[32m✔\u001b[39m \u001b[34mpurrr    \u001b[39m 1.0.2     \u001b[32m✔\u001b[39m \u001b[34mtidyr    \u001b[39m 1.3.0\n",
      "── \u001b[1mConflicts\u001b[22m ────────────────────────────────────────── tidyverse_conflicts() ──\n",
      "\u001b[31m✖\u001b[39m \u001b[34mlubridate\u001b[39m::\u001b[32m%within%()\u001b[39m    masks \u001b[34mIRanges\u001b[39m::%within%()\n",
      "\u001b[31m✖\u001b[39m \u001b[34mdplyr\u001b[39m::\u001b[32mcollapse()\u001b[39m        masks \u001b[34mIRanges\u001b[39m::collapse()\n",
      "\u001b[31m✖\u001b[39m \u001b[34mdplyr\u001b[39m::\u001b[32mcombine()\u001b[39m         masks \u001b[34mBiobase\u001b[39m::combine(), \u001b[34mBiocGenerics\u001b[39m::combine()\n",
      "\u001b[31m✖\u001b[39m \u001b[34mdplyr\u001b[39m::\u001b[32mcount()\u001b[39m           masks \u001b[34mmatrixStats\u001b[39m::count()\n",
      "\u001b[31m✖\u001b[39m \u001b[34mdplyr\u001b[39m::\u001b[32mdesc()\u001b[39m            masks \u001b[34mIRanges\u001b[39m::desc()\n",
      "\u001b[31m✖\u001b[39m \u001b[34mtidyr\u001b[39m::\u001b[32mexpand()\u001b[39m          masks \u001b[34mS4Vectors\u001b[39m::expand()\n",
      "\u001b[31m✖\u001b[39m \u001b[34mdplyr\u001b[39m::\u001b[32mfilter()\u001b[39m          masks \u001b[34mstats\u001b[39m::filter()\n",
      "\u001b[31m✖\u001b[39m \u001b[34mdplyr\u001b[39m::\u001b[32mfirst()\u001b[39m           masks \u001b[34mS4Vectors\u001b[39m::first()\n",
      "\u001b[31m✖\u001b[39m \u001b[34mdplyr\u001b[39m::\u001b[32mlag()\u001b[39m             masks \u001b[34mstats\u001b[39m::lag()\n",
      "\u001b[31m✖\u001b[39m \u001b[34mBiocGenerics\u001b[39m::\u001b[32mPosition()\u001b[39m masks \u001b[34mggplot2\u001b[39m::Position(), \u001b[34mbase\u001b[39m::Position()\n",
      "\u001b[31m✖\u001b[39m \u001b[34mpurrr\u001b[39m::\u001b[32mreduce()\u001b[39m          masks \u001b[34mGenomicRanges\u001b[39m::reduce(), \u001b[34mIRanges\u001b[39m::reduce()\n",
      "\u001b[31m✖\u001b[39m \u001b[34mdplyr\u001b[39m::\u001b[32mrename()\u001b[39m          masks \u001b[34mS4Vectors\u001b[39m::rename()\n",
      "\u001b[31m✖\u001b[39m \u001b[34mlubridate\u001b[39m::\u001b[32msecond()\u001b[39m      masks \u001b[34mS4Vectors\u001b[39m::second()\n",
      "\u001b[31m✖\u001b[39m \u001b[34mlubridate\u001b[39m::\u001b[32msecond<-()\u001b[39m    masks \u001b[34mS4Vectors\u001b[39m::second<-()\n",
      "\u001b[31m✖\u001b[39m \u001b[34mdplyr\u001b[39m::\u001b[32mselect()\u001b[39m          masks \u001b[34mbiomaRt\u001b[39m::select()\n",
      "\u001b[31m✖\u001b[39m \u001b[34mdplyr\u001b[39m::\u001b[32mslice()\u001b[39m           masks \u001b[34mIRanges\u001b[39m::slice()\n",
      "\u001b[36mℹ\u001b[39m Use the conflicted package (\u001b[3m\u001b[34m<http://conflicted.r-lib.org/>\u001b[39m\u001b[23m) to force all conflicts to become errors\n"
     ]
    },
    {
     "data": {
      "text/html": [
       "<style>\n",
       ".list-inline {list-style: none; margin:0; padding: 0}\n",
       ".list-inline>li {display: inline-block}\n",
       ".list-inline>li:not(:last-child)::after {content: \"\\00b7\"; padding: 0 .5ex}\n",
       "</style>\n",
       "<ol class=list-inline><li>150</li><li>2</li></ol>\n"
      ],
      "text/latex": [
       "\\begin{enumerate*}\n",
       "\\item 150\n",
       "\\item 2\n",
       "\\end{enumerate*}\n"
      ],
      "text/markdown": [
       "1. 150\n",
       "2. 2\n",
       "\n",
       "\n"
      ],
      "text/plain": [
       "[1] 150   2"
      ]
     },
     "metadata": {},
     "output_type": "display_data"
    }
   ],
   "source": [
    "# Load the tidyverse package\n",
    "library(tidyverse)\n",
    "\n",
    "# Create the initial data frame\n",
    "df <- data.frame(\n",
    "  ensembl_gene_id_version = gene_ids_versions[grep(\"PAR_Y\", gene_ids_versions)]\n",
    ")\n",
    "\n",
    "# Use regular expressions to extract the desired part and add it as a new column\n",
    "df <- df %>%\n",
    "  mutate(\n",
    "    ensembl_gene_id = str_remove(ensembl_gene_id_version, \"\\\\.\\\\d+\")\n",
    "  )\n",
    "\n",
    "# Reorder the columns of df to match bm_results\n",
    "df <- df[, colnames(bm_results)]\n",
    "\n",
    "# Combine the two data frames using rbind\n",
    "bm_results <- rbind(bm_results, df)\n",
    "\n",
    "dim(bm_results)"
   ]
  },
  {
   "cell_type": "markdown",
   "id": "76c1dd2d-1362-4967-9278-8b035f8b8570",
   "metadata": {},
   "source": [
    "### Match ensembl_gene_id with the data from mapping_data by ensembl_transcript_id"
   ]
  },
  {
   "cell_type": "code",
   "execution_count": 48,
   "id": "7b7ee3ba-523f-4b50-a062-4224c5039b2e",
   "metadata": {
    "vscode": {
     "languageId": "r"
    }
   },
   "outputs": [
    {
     "data": {
      "text/html": [
       "<table class=\"dataframe\">\n",
       "<caption>A matrix: 2 × 408 of type dbl</caption>\n",
       "<thead>\n",
       "\t<tr><th></th><th scope=col>TCGA-FV-A3I0-01A</th><th scope=col>TCGA-DD-A3A6-01A</th><th scope=col>TCGA-BD-A3ER-01A</th><th scope=col>TCGA-CC-5261-01A</th><th scope=col>TCGA-DD-AAVZ-01A</th><th scope=col>TCGA-DD-AADN-01A</th><th scope=col>TCGA-DD-A1EB-01A</th><th scope=col>TCGA-LG-A9QD-01A</th><th scope=col>TCGA-G3-A25T-01A</th><th scope=col>TCGA-XR-A8TE-01A</th><th scope=col>⋯</th><th scope=col>TCGA-FV-A2QR-01A</th><th scope=col>TCGA-DD-AADY-01A</th><th scope=col>TCGA-BW-A5NO-01A</th><th scope=col>TCGA-CC-A7IJ-01A</th><th scope=col>TCGA-2Y-A9H8-01A</th><th scope=col>TCGA-BC-A10X-01A</th><th scope=col>TCGA-DD-A3A2-11A</th><th scope=col>TCGA-DD-A3A2-01A</th><th scope=col>TCGA-CC-A5UD-01A</th><th scope=col>TCGA-BC-A10W-11A</th></tr>\n",
       "</thead>\n",
       "<tbody>\n",
       "\t<tr><th scope=row>ENSG00000007350</th><td>-2.005792</td><td>3.668439</td><td>0.008955007</td><td>-0.7072536</td><td>-2.744387</td><td>-2.530052</td><td>-0.7269816</td><td>0.1496377</td><td>-2.037746</td><td>-1.049837</td><td>⋯</td><td>-2.237870</td><td>-0.04683096</td><td>0.3309628</td><td>-3.070753</td><td>-3.202897</td><td> 3.337705</td><td> 3.283273</td><td> 0.6638941</td><td>-3.828411</td><td> 3.483122</td></tr>\n",
       "\t<tr><th scope=row>ENSG00000019169</th><td> 3.770181</td><td>4.862798</td><td>3.655328409</td><td> 0.4305947</td><td>-5.128186</td><td> 5.235758</td><td> 4.8880551</td><td>2.8254859</td><td> 5.331767</td><td> 6.245451</td><td>⋯</td><td> 4.688055</td><td> 1.03912578</td><td>1.7541576</td><td>-1.180819</td><td> 3.241514</td><td>12.954035</td><td>16.244889</td><td>13.3355976</td><td>-1.905900</td><td>14.414473</td></tr>\n",
       "</tbody>\n",
       "</table>\n"
      ],
      "text/latex": [
       "A matrix: 2 × 408 of type dbl\n",
       "\\begin{tabular}{r|lllllllllllllllllllll}\n",
       "  & TCGA-FV-A3I0-01A & TCGA-DD-A3A6-01A & TCGA-BD-A3ER-01A & TCGA-CC-5261-01A & TCGA-DD-AAVZ-01A & TCGA-DD-AADN-01A & TCGA-DD-A1EB-01A & TCGA-LG-A9QD-01A & TCGA-G3-A25T-01A & TCGA-XR-A8TE-01A & ⋯ & TCGA-FV-A2QR-01A & TCGA-DD-AADY-01A & TCGA-BW-A5NO-01A & TCGA-CC-A7IJ-01A & TCGA-2Y-A9H8-01A & TCGA-BC-A10X-01A & TCGA-DD-A3A2-11A & TCGA-DD-A3A2-01A & TCGA-CC-A5UD-01A & TCGA-BC-A10W-11A\\\\\n",
       "\\hline\n",
       "\tENSG00000007350 & -2.005792 & 3.668439 & 0.008955007 & -0.7072536 & -2.744387 & -2.530052 & -0.7269816 & 0.1496377 & -2.037746 & -1.049837 & ⋯ & -2.237870 & -0.04683096 & 0.3309628 & -3.070753 & -3.202897 &  3.337705 &  3.283273 &  0.6638941 & -3.828411 &  3.483122\\\\\n",
       "\tENSG00000019169 &  3.770181 & 4.862798 & 3.655328409 &  0.4305947 & -5.128186 &  5.235758 &  4.8880551 & 2.8254859 &  5.331767 &  6.245451 & ⋯ &  4.688055 &  1.03912578 & 1.7541576 & -1.180819 &  3.241514 & 12.954035 & 16.244889 & 13.3355976 & -1.905900 & 14.414473\\\\\n",
       "\\end{tabular}\n"
      ],
      "text/markdown": [
       "\n",
       "A matrix: 2 × 408 of type dbl\n",
       "\n",
       "| <!--/--> | TCGA-FV-A3I0-01A | TCGA-DD-A3A6-01A | TCGA-BD-A3ER-01A | TCGA-CC-5261-01A | TCGA-DD-AAVZ-01A | TCGA-DD-AADN-01A | TCGA-DD-A1EB-01A | TCGA-LG-A9QD-01A | TCGA-G3-A25T-01A | TCGA-XR-A8TE-01A | ⋯ | TCGA-FV-A2QR-01A | TCGA-DD-AADY-01A | TCGA-BW-A5NO-01A | TCGA-CC-A7IJ-01A | TCGA-2Y-A9H8-01A | TCGA-BC-A10X-01A | TCGA-DD-A3A2-11A | TCGA-DD-A3A2-01A | TCGA-CC-A5UD-01A | TCGA-BC-A10W-11A |\n",
       "|---|---|---|---|---|---|---|---|---|---|---|---|---|---|---|---|---|---|---|---|---|---|\n",
       "| ENSG00000007350 | -2.005792 | 3.668439 | 0.008955007 | -0.7072536 | -2.744387 | -2.530052 | -0.7269816 | 0.1496377 | -2.037746 | -1.049837 | ⋯ | -2.237870 | -0.04683096 | 0.3309628 | -3.070753 | -3.202897 |  3.337705 |  3.283273 |  0.6638941 | -3.828411 |  3.483122 |\n",
       "| ENSG00000019169 |  3.770181 | 4.862798 | 3.655328409 |  0.4305947 | -5.128186 |  5.235758 |  4.8880551 | 2.8254859 |  5.331767 |  6.245451 | ⋯ |  4.688055 |  1.03912578 | 1.7541576 | -1.180819 |  3.241514 | 12.954035 | 16.244889 | 13.3355976 | -1.905900 | 14.414473 |\n",
       "\n"
      ],
      "text/plain": [
       "                TCGA-FV-A3I0-01A TCGA-DD-A3A6-01A TCGA-BD-A3ER-01A\n",
       "ENSG00000007350 -2.005792        3.668439         0.008955007     \n",
       "ENSG00000019169  3.770181        4.862798         3.655328409     \n",
       "                TCGA-CC-5261-01A TCGA-DD-AAVZ-01A TCGA-DD-AADN-01A\n",
       "ENSG00000007350 -0.7072536       -2.744387        -2.530052       \n",
       "ENSG00000019169  0.4305947       -5.128186         5.235758       \n",
       "                TCGA-DD-A1EB-01A TCGA-LG-A9QD-01A TCGA-G3-A25T-01A\n",
       "ENSG00000007350 -0.7269816       0.1496377        -2.037746       \n",
       "ENSG00000019169  4.8880551       2.8254859         5.331767       \n",
       "                TCGA-XR-A8TE-01A ⋯ TCGA-FV-A2QR-01A TCGA-DD-AADY-01A\n",
       "ENSG00000007350 -1.049837        ⋯ -2.237870        -0.04683096     \n",
       "ENSG00000019169  6.245451        ⋯  4.688055         1.03912578     \n",
       "                TCGA-BW-A5NO-01A TCGA-CC-A7IJ-01A TCGA-2Y-A9H8-01A\n",
       "ENSG00000007350 0.3309628        -3.070753        -3.202897       \n",
       "ENSG00000019169 1.7541576        -1.180819         3.241514       \n",
       "                TCGA-BC-A10X-01A TCGA-DD-A3A2-11A TCGA-DD-A3A2-01A\n",
       "ENSG00000007350  3.337705         3.283273         0.6638941      \n",
       "ENSG00000019169 12.954035        16.244889        13.3355976      \n",
       "                TCGA-CC-A5UD-01A TCGA-BC-A10W-11A\n",
       "ENSG00000007350 -3.828411         3.483122       \n",
       "ENSG00000019169 -1.905900        14.414473       "
      ]
     },
     "metadata": {},
     "output_type": "display_data"
    }
   ],
   "source": [
    "rownames(normalized_counts) <- apply(as.matrix(rownames(normalized_counts)),1, function (x){bm_results$ensembl_gene_id[which(bm_results$ensembl_gene_id_version %in% x)]})\n",
    "head(normalized_counts, 2)"
   ]
  },
  {
   "cell_type": "markdown",
   "id": "c8a0d27e-ce9e-4328-ac4d-e9106f6a02f1",
   "metadata": {},
   "source": [
    "### check gene names"
   ]
  },
  {
   "cell_type": "code",
   "execution_count": 61,
   "id": "2ffa7ecd-ee9a-47ec-93d2-99e56eba77d4",
   "metadata": {
    "vscode": {
     "languageId": "r"
    }
   },
   "outputs": [
    {
     "data": {
      "text/html": [
       "<table class=\"dataframe\">\n",
       "<caption>A data.frame: 6 × 1</caption>\n",
       "<thead>\n",
       "\t<tr><th></th><th scope=col>gene_ids</th></tr>\n",
       "\t<tr><th></th><th scope=col>&lt;chr&gt;</th></tr>\n",
       "</thead>\n",
       "<tbody>\n",
       "\t<tr><th scope=row>1</th><td>ENSG00000007350.17</td></tr>\n",
       "\t<tr><th scope=row>2</th><td>ENSG00000019169.10</td></tr>\n",
       "\t<tr><th scope=row>3</th><td>ENSG00000043355.12</td></tr>\n",
       "\t<tr><th scope=row>4</th><td>ENSG00000053108.17</td></tr>\n",
       "\t<tr><th scope=row>5</th><td>ENSG00000060718.22</td></tr>\n",
       "\t<tr><th scope=row>6</th><td>ENSG00000063015.20</td></tr>\n",
       "</tbody>\n",
       "</table>\n"
      ],
      "text/latex": [
       "A data.frame: 6 × 1\n",
       "\\begin{tabular}{r|l}\n",
       "  & gene\\_ids\\\\\n",
       "  & <chr>\\\\\n",
       "\\hline\n",
       "\t1 & ENSG00000007350.17\\\\\n",
       "\t2 & ENSG00000019169.10\\\\\n",
       "\t3 & ENSG00000043355.12\\\\\n",
       "\t4 & ENSG00000053108.17\\\\\n",
       "\t5 & ENSG00000060718.22\\\\\n",
       "\t6 & ENSG00000063015.20\\\\\n",
       "\\end{tabular}\n"
      ],
      "text/markdown": [
       "\n",
       "A data.frame: 6 × 1\n",
       "\n",
       "| <!--/--> | gene_ids &lt;chr&gt; |\n",
       "|---|---|\n",
       "| 1 | ENSG00000007350.17 |\n",
       "| 2 | ENSG00000019169.10 |\n",
       "| 3 | ENSG00000043355.12 |\n",
       "| 4 | ENSG00000053108.17 |\n",
       "| 5 | ENSG00000060718.22 |\n",
       "| 6 | ENSG00000063015.20 |\n",
       "\n"
      ],
      "text/plain": [
       "  gene_ids          \n",
       "1 ENSG00000007350.17\n",
       "2 ENSG00000019169.10\n",
       "3 ENSG00000043355.12\n",
       "4 ENSG00000053108.17\n",
       "5 ENSG00000060718.22\n",
       "6 ENSG00000063015.20"
      ]
     },
     "metadata": {},
     "output_type": "display_data"
    }
   ],
   "source": [
    "test_df <- data.frame(gene_ids=gene_ids_versions)\n",
    "head(test_df)"
   ]
  },
  {
   "cell_type": "code",
   "execution_count": 62,
   "id": "4bf4cd12-202f-49af-be84-b89c264af128",
   "metadata": {
    "vscode": {
     "languageId": "r"
    }
   },
   "outputs": [
    {
     "data": {
      "text/html": [
       "<table class=\"dataframe\">\n",
       "<caption>A data.frame: 6 × 2</caption>\n",
       "<thead>\n",
       "\t<tr><th></th><th scope=col>gene_ids</th><th scope=col>modified_gene_ids</th></tr>\n",
       "\t<tr><th></th><th scope=col>&lt;chr&gt;</th><th scope=col>&lt;chr&gt;</th></tr>\n",
       "</thead>\n",
       "<tbody>\n",
       "\t<tr><th scope=row>1</th><td>ENSG00000007350.17</td><td>ENSG00000007350</td></tr>\n",
       "\t<tr><th scope=row>2</th><td>ENSG00000019169.10</td><td>ENSG00000019169</td></tr>\n",
       "\t<tr><th scope=row>3</th><td>ENSG00000043355.12</td><td>ENSG00000043355</td></tr>\n",
       "\t<tr><th scope=row>4</th><td>ENSG00000053108.17</td><td>ENSG00000053108</td></tr>\n",
       "\t<tr><th scope=row>5</th><td>ENSG00000060718.22</td><td>ENSG00000060718</td></tr>\n",
       "\t<tr><th scope=row>6</th><td>ENSG00000063015.20</td><td>ENSG00000063015</td></tr>\n",
       "</tbody>\n",
       "</table>\n"
      ],
      "text/latex": [
       "A data.frame: 6 × 2\n",
       "\\begin{tabular}{r|ll}\n",
       "  & gene\\_ids & modified\\_gene\\_ids\\\\\n",
       "  & <chr> & <chr>\\\\\n",
       "\\hline\n",
       "\t1 & ENSG00000007350.17 & ENSG00000007350\\\\\n",
       "\t2 & ENSG00000019169.10 & ENSG00000019169\\\\\n",
       "\t3 & ENSG00000043355.12 & ENSG00000043355\\\\\n",
       "\t4 & ENSG00000053108.17 & ENSG00000053108\\\\\n",
       "\t5 & ENSG00000060718.22 & ENSG00000060718\\\\\n",
       "\t6 & ENSG00000063015.20 & ENSG00000063015\\\\\n",
       "\\end{tabular}\n"
      ],
      "text/markdown": [
       "\n",
       "A data.frame: 6 × 2\n",
       "\n",
       "| <!--/--> | gene_ids &lt;chr&gt; | modified_gene_ids &lt;chr&gt; |\n",
       "|---|---|---|\n",
       "| 1 | ENSG00000007350.17 | ENSG00000007350 |\n",
       "| 2 | ENSG00000019169.10 | ENSG00000019169 |\n",
       "| 3 | ENSG00000043355.12 | ENSG00000043355 |\n",
       "| 4 | ENSG00000053108.17 | ENSG00000053108 |\n",
       "| 5 | ENSG00000060718.22 | ENSG00000060718 |\n",
       "| 6 | ENSG00000063015.20 | ENSG00000063015 |\n",
       "\n"
      ],
      "text/plain": [
       "  gene_ids           modified_gene_ids\n",
       "1 ENSG00000007350.17 ENSG00000007350  \n",
       "2 ENSG00000019169.10 ENSG00000019169  \n",
       "3 ENSG00000043355.12 ENSG00000043355  \n",
       "4 ENSG00000053108.17 ENSG00000053108  \n",
       "5 ENSG00000060718.22 ENSG00000060718  \n",
       "6 ENSG00000063015.20 ENSG00000063015  "
      ]
     },
     "metadata": {},
     "output_type": "display_data"
    }
   ],
   "source": [
    "test_df$modified_gene_ids <- test_df$gene_ids\n",
    "test_df$modified_gene_ids <- gsub(\"\\\\..*$\", \"\", test_df$modified_gene_ids)\n",
    "head(test_df)"
   ]
  },
  {
   "cell_type": "code",
   "execution_count": 63,
   "id": "4df6da23-ec66-4fbd-b845-81ecc0a7ef08",
   "metadata": {
    "vscode": {
     "languageId": "r"
    }
   },
   "outputs": [
    {
     "data": {
      "text/html": [
       "TRUE"
      ],
      "text/latex": [
       "TRUE"
      ],
      "text/markdown": [
       "TRUE"
      ],
      "text/plain": [
       "[1] TRUE"
      ]
     },
     "metadata": {},
     "output_type": "display_data"
    }
   ],
   "source": [
    "identical(rownames(normalized_counts), test_df$modified_gene_ids)"
   ]
  },
  {
   "cell_type": "markdown",
   "id": "ded5a4dc-42a2-45c6-a095-af65c4608b3c",
   "metadata": {
    "jp-MarkdownHeadingCollapsed": true
   },
   "source": [
    "## miRNA"
   ]
  },
  {
   "cell_type": "code",
   "execution_count": 49,
   "id": "ef3cc80f-985b-46ca-8664-60adb2c44770",
   "metadata": {
    "vscode": {
     "languageId": "r"
    }
   },
   "outputs": [
    {
     "data": {
      "text/html": [
       "<table class=\"dataframe\">\n",
       "<caption>A matrix: 2 × 408 of type dbl</caption>\n",
       "<thead>\n",
       "\t<tr><th></th><th scope=col>TCGA-FV-A3I0-01A</th><th scope=col>TCGA-ES-A2HS-01A</th><th scope=col>TCGA-UB-A7MA-01A</th><th scope=col>TCGA-DD-A4NV-01A</th><th scope=col>TCGA-T1-A6J8-01A</th><th scope=col>TCGA-DD-AADF-01A</th><th scope=col>TCGA-DD-AACP-01A</th><th scope=col>TCGA-CC-5261-01A</th><th scope=col>TCGA-DD-A1EC-11A</th><th scope=col>TCGA-DD-AADN-01A</th><th scope=col>⋯</th><th scope=col>TCGA-DD-AADY-01A</th><th scope=col>TCGA-CC-A7IH-01A</th><th scope=col>TCGA-CC-A7IJ-01A</th><th scope=col>TCGA-G3-AAV1-01A</th><th scope=col>TCGA-BC-A10X-01A</th><th scope=col>TCGA-G3-A25Z-01A</th><th scope=col>TCGA-DD-A3A2-11A</th><th scope=col>TCGA-DD-A3A2-01A</th><th scope=col>TCGA-ZS-A9CG-01A</th><th scope=col>TCGA-ZP-A9D0-01A</th></tr>\n",
       "</thead>\n",
       "<tbody>\n",
       "\t<tr><th scope=row>hsa-let-7c</th><td>12.01826</td><td>14.68580</td><td>12.07306</td><td>14.28009</td><td>13.80003</td><td>13.32884</td><td>12.14940</td><td>13.16593</td><td>14.79799</td><td>11.91559</td><td>⋯</td><td>12.00031</td><td>14.05701</td><td>14.73196</td><td>13.02025</td><td>14.86466</td><td>13.67965</td><td>14.30978</td><td>14.73234</td><td>14.37286</td><td>13.47230</td></tr>\n",
       "\t<tr><th scope=row>hsa-mir-101-1</th><td>14.66983</td><td>16.88868</td><td>14.19257</td><td>15.60742</td><td>15.27675</td><td>15.90613</td><td>14.27829</td><td>15.17924</td><td>16.52022</td><td>14.38930</td><td>⋯</td><td>16.00567</td><td>17.03607</td><td>15.06988</td><td>16.32449</td><td>15.81956</td><td>15.52838</td><td>16.56375</td><td>15.94249</td><td>15.44887</td><td>15.38138</td></tr>\n",
       "</tbody>\n",
       "</table>\n"
      ],
      "text/latex": [
       "A matrix: 2 × 408 of type dbl\n",
       "\\begin{tabular}{r|lllllllllllllllllllll}\n",
       "  & TCGA-FV-A3I0-01A & TCGA-ES-A2HS-01A & TCGA-UB-A7MA-01A & TCGA-DD-A4NV-01A & TCGA-T1-A6J8-01A & TCGA-DD-AADF-01A & TCGA-DD-AACP-01A & TCGA-CC-5261-01A & TCGA-DD-A1EC-11A & TCGA-DD-AADN-01A & ⋯ & TCGA-DD-AADY-01A & TCGA-CC-A7IH-01A & TCGA-CC-A7IJ-01A & TCGA-G3-AAV1-01A & TCGA-BC-A10X-01A & TCGA-G3-A25Z-01A & TCGA-DD-A3A2-11A & TCGA-DD-A3A2-01A & TCGA-ZS-A9CG-01A & TCGA-ZP-A9D0-01A\\\\\n",
       "\\hline\n",
       "\thsa-let-7c & 12.01826 & 14.68580 & 12.07306 & 14.28009 & 13.80003 & 13.32884 & 12.14940 & 13.16593 & 14.79799 & 11.91559 & ⋯ & 12.00031 & 14.05701 & 14.73196 & 13.02025 & 14.86466 & 13.67965 & 14.30978 & 14.73234 & 14.37286 & 13.47230\\\\\n",
       "\thsa-mir-101-1 & 14.66983 & 16.88868 & 14.19257 & 15.60742 & 15.27675 & 15.90613 & 14.27829 & 15.17924 & 16.52022 & 14.38930 & ⋯ & 16.00567 & 17.03607 & 15.06988 & 16.32449 & 15.81956 & 15.52838 & 16.56375 & 15.94249 & 15.44887 & 15.38138\\\\\n",
       "\\end{tabular}\n"
      ],
      "text/markdown": [
       "\n",
       "A matrix: 2 × 408 of type dbl\n",
       "\n",
       "| <!--/--> | TCGA-FV-A3I0-01A | TCGA-ES-A2HS-01A | TCGA-UB-A7MA-01A | TCGA-DD-A4NV-01A | TCGA-T1-A6J8-01A | TCGA-DD-AADF-01A | TCGA-DD-AACP-01A | TCGA-CC-5261-01A | TCGA-DD-A1EC-11A | TCGA-DD-AADN-01A | ⋯ | TCGA-DD-AADY-01A | TCGA-CC-A7IH-01A | TCGA-CC-A7IJ-01A | TCGA-G3-AAV1-01A | TCGA-BC-A10X-01A | TCGA-G3-A25Z-01A | TCGA-DD-A3A2-11A | TCGA-DD-A3A2-01A | TCGA-ZS-A9CG-01A | TCGA-ZP-A9D0-01A |\n",
       "|---|---|---|---|---|---|---|---|---|---|---|---|---|---|---|---|---|---|---|---|---|---|\n",
       "| hsa-let-7c | 12.01826 | 14.68580 | 12.07306 | 14.28009 | 13.80003 | 13.32884 | 12.14940 | 13.16593 | 14.79799 | 11.91559 | ⋯ | 12.00031 | 14.05701 | 14.73196 | 13.02025 | 14.86466 | 13.67965 | 14.30978 | 14.73234 | 14.37286 | 13.47230 |\n",
       "| hsa-mir-101-1 | 14.66983 | 16.88868 | 14.19257 | 15.60742 | 15.27675 | 15.90613 | 14.27829 | 15.17924 | 16.52022 | 14.38930 | ⋯ | 16.00567 | 17.03607 | 15.06988 | 16.32449 | 15.81956 | 15.52838 | 16.56375 | 15.94249 | 15.44887 | 15.38138 |\n",
       "\n"
      ],
      "text/plain": [
       "              TCGA-FV-A3I0-01A TCGA-ES-A2HS-01A TCGA-UB-A7MA-01A\n",
       "hsa-let-7c    12.01826         14.68580         12.07306        \n",
       "hsa-mir-101-1 14.66983         16.88868         14.19257        \n",
       "              TCGA-DD-A4NV-01A TCGA-T1-A6J8-01A TCGA-DD-AADF-01A\n",
       "hsa-let-7c    14.28009         13.80003         13.32884        \n",
       "hsa-mir-101-1 15.60742         15.27675         15.90613        \n",
       "              TCGA-DD-AACP-01A TCGA-CC-5261-01A TCGA-DD-A1EC-11A\n",
       "hsa-let-7c    12.14940         13.16593         14.79799        \n",
       "hsa-mir-101-1 14.27829         15.17924         16.52022        \n",
       "              TCGA-DD-AADN-01A ⋯ TCGA-DD-AADY-01A TCGA-CC-A7IH-01A\n",
       "hsa-let-7c    11.91559         ⋯ 12.00031         14.05701        \n",
       "hsa-mir-101-1 14.38930         ⋯ 16.00567         17.03607        \n",
       "              TCGA-CC-A7IJ-01A TCGA-G3-AAV1-01A TCGA-BC-A10X-01A\n",
       "hsa-let-7c    14.73196         13.02025         14.86466        \n",
       "hsa-mir-101-1 15.06988         16.32449         15.81956        \n",
       "              TCGA-G3-A25Z-01A TCGA-DD-A3A2-11A TCGA-DD-A3A2-01A\n",
       "hsa-let-7c    13.67965         14.30978         14.73234        \n",
       "hsa-mir-101-1 15.52838         16.56375         15.94249        \n",
       "              TCGA-ZS-A9CG-01A TCGA-ZP-A9D0-01A\n",
       "hsa-let-7c    14.37286         13.47230        \n",
       "hsa-mir-101-1 15.44887         15.38138        "
      ]
     },
     "metadata": {},
     "output_type": "display_data"
    }
   ],
   "source": [
    "head(normalized_counts_miR, 2)"
   ]
  },
  {
   "cell_type": "code",
   "execution_count": 50,
   "id": "a441e81e-82d3-488f-bbf1-780102cf8cb2",
   "metadata": {
    "vscode": {
     "languageId": "r"
    }
   },
   "outputs": [
    {
     "data": {
      "text/html": [
       "<table class=\"dataframe\">\n",
       "<caption>A data.frame: 2 × 3</caption>\n",
       "<thead>\n",
       "\t<tr><th></th><th scope=col>sample</th><th scope=col>shortLetterCode</th><th scope=col>ajcc_pathologic_stage</th></tr>\n",
       "\t<tr><th></th><th scope=col>&lt;chr&gt;</th><th scope=col>&lt;chr&gt;</th><th scope=col>&lt;chr&gt;</th></tr>\n",
       "</thead>\n",
       "<tbody>\n",
       "\t<tr><th scope=row>1</th><td>TCGA-FV-A3I0-01A</td><td>TP</td><td>Stage II</td></tr>\n",
       "\t<tr><th scope=row>2</th><td>TCGA-ES-A2HS-01A</td><td>TP</td><td>Stage I </td></tr>\n",
       "</tbody>\n",
       "</table>\n"
      ],
      "text/latex": [
       "A data.frame: 2 × 3\n",
       "\\begin{tabular}{r|lll}\n",
       "  & sample & shortLetterCode & ajcc\\_pathologic\\_stage\\\\\n",
       "  & <chr> & <chr> & <chr>\\\\\n",
       "\\hline\n",
       "\t1 & TCGA-FV-A3I0-01A & TP & Stage II\\\\\n",
       "\t2 & TCGA-ES-A2HS-01A & TP & Stage I \\\\\n",
       "\\end{tabular}\n"
      ],
      "text/markdown": [
       "\n",
       "A data.frame: 2 × 3\n",
       "\n",
       "| <!--/--> | sample &lt;chr&gt; | shortLetterCode &lt;chr&gt; | ajcc_pathologic_stage &lt;chr&gt; |\n",
       "|---|---|---|---|\n",
       "| 1 | TCGA-FV-A3I0-01A | TP | Stage II |\n",
       "| 2 | TCGA-ES-A2HS-01A | TP | Stage I  |\n",
       "\n"
      ],
      "text/plain": [
       "  sample           shortLetterCode ajcc_pathologic_stage\n",
       "1 TCGA-FV-A3I0-01A TP              Stage II             \n",
       "2 TCGA-ES-A2HS-01A TP              Stage I              "
      ]
     },
     "metadata": {},
     "output_type": "display_data"
    }
   ],
   "source": [
    "# miRcolData is the metadata that is needed to create DESeq2 object for miRNA\n",
    "head(miRcolData, 2)"
   ]
  },
  {
   "cell_type": "code",
   "execution_count": 66,
   "id": "c142b6ae-fccc-4276-a8e0-faa7fbe44c71",
   "metadata": {
    "vscode": {
     "languageId": "r"
    }
   },
   "outputs": [],
   "source": [
    "# miRcolData$modified_sample_ids <- miRcolData$sample\n",
    "\n",
    "# duplicated_sample_ids <- which(duplicated(miRcolData$sample))\n",
    "# duplicates_sample_ids <- miRcolData$sample[duplicated_sample_ids]\n",
    "\n",
    "# miRcolData$modified_sample_ids[duplicated_sample_ids] <- paste0(miRcolData$modified_sample_ids[duplicated_sample_ids], \"-1\")\n",
    "\n",
    "# head(miRcolData, 1)"
   ]
  },
  {
   "cell_type": "markdown",
   "id": "a9db71ca-2527-46b5-a148-ef6ca01238b5",
   "metadata": {},
   "source": [
    "### Keep 16 first characters of barcode that are the sample id"
   ]
  },
  {
   "cell_type": "code",
   "execution_count": 67,
   "id": "e483b09b-cfd1-45ba-9eb9-f32f342da6a7",
   "metadata": {
    "vscode": {
     "languageId": "r"
    }
   },
   "outputs": [],
   "source": [
    "# colnames(normalized_counts_miR) <- substr(colnames(normalized_counts_miR), 1, 16)   \n",
    "# head(normalized_counts_miR, 1)"
   ]
  },
  {
   "cell_type": "markdown",
   "id": "a9f6060e-37ad-4316-b512-16ba8324c0c6",
   "metadata": {},
   "source": [
    "### Paste \"-1\" at the end of duplicated sample ids to make easier the integration"
   ]
  },
  {
   "cell_type": "code",
   "execution_count": 68,
   "id": "9cbbb8a9-3e72-4c15-85e8-ee09948997c2",
   "metadata": {
    "vscode": {
     "languageId": "r"
    }
   },
   "outputs": [],
   "source": [
    "# duplicated_mirna <- which(duplicated(colnames(normalized_counts_miR)))\n",
    "# duplicates <- colnames(normalized_counts_miR)[duplicated_mirna]\n",
    "# colnames(normalized_counts_miR)[duplicated_mirna] <- paste0(colnames(normalized_counts_miR)[duplicated_mirna], \"-1\")"
   ]
  },
  {
   "cell_type": "code",
   "execution_count": 69,
   "id": "330e529c-7bc0-4337-8c21-af2daec4d852",
   "metadata": {
    "vscode": {
     "languageId": "r"
    }
   },
   "outputs": [],
   "source": [
    "# colnames(normalized_counts_miR)[which(colnames(normalized_counts_miR) %in% duplicates)]\n",
    "# colnames(normalized_counts_miR)[duplicated_mirna]"
   ]
  },
  {
   "cell_type": "markdown",
   "id": "b166277d-1948-4430-a4bc-cda6b51188fa",
   "metadata": {
    "jp-MarkdownHeadingCollapsed": true
   },
   "source": [
    "## Methylation"
   ]
  },
  {
   "cell_type": "code",
   "execution_count": 55,
   "id": "e0dd5b05-6142-4149-801d-1931b70a1971",
   "metadata": {
    "vscode": {
     "languageId": "r"
    }
   },
   "outputs": [
    {
     "ename": "ERROR",
     "evalue": "Error in h(simpleError(msg, call)): error in evaluating the argument 'x' in selecting a method for function 'head': object 'm_values' not found\n",
     "output_type": "error",
     "traceback": [
      "Error in h(simpleError(msg, call)): error in evaluating the argument 'x' in selecting a method for function 'head': object 'm_values' not found\nTraceback:\n",
      "1. head(m_values, 2)",
      "2. .handleSimpleError(function (cond) \n . .Internal(C_tryCatchHelper(addr, 1L, cond)), \"object 'm_values' not found\", \n .     base::quote(eval(expr, envir, enclos)))",
      "3. h(simpleError(msg, call))"
     ]
    }
   ],
   "source": [
    "head(m_values, 2)"
   ]
  },
  {
   "cell_type": "code",
   "execution_count": 71,
   "id": "ff9b1e70-1bc1-4ecf-98df-958337966d01",
   "metadata": {
    "vscode": {
     "languageId": "r"
    }
   },
   "outputs": [
    {
     "data": {
      "text/plain": [
       "class: RangedSummarizedExperiment \n",
       "dim: 485577 427 \n",
       "metadata(1): data_release\n",
       "assays(1): ''\n",
       "rownames(485577): cg13869341 cg14008030 ... cg11478607 cg08417382\n",
       "rowData names(52): address_A address_B ... MASK_extBase MASK_general\n",
       "colnames(427): TCGA-BC-A110-11A-11D-A132-05\n",
       "  TCGA-G3-A3CG-01A-11D-A20Z-05 ... TCGA-ZS-A9CG-01A-11D-A36Y-05\n",
       "  TCGA-ZP-A9D0-01A-11D-A36Y-05\n",
       "colData names(64): barcode patient ... released sample.aux"
      ]
     },
     "metadata": {},
     "output_type": "display_data"
    }
   ],
   "source": [
    "data_met <- readRDS(\"downloaded_data_met.rds\")\n",
    "data_met"
   ]
  },
  {
   "cell_type": "code",
   "execution_count": 65,
   "id": "1875c3fb-9d3b-4d0a-a820-4102c934ec1d",
   "metadata": {
    "vscode": {
     "languageId": "r"
    }
   },
   "outputs": [
    {
     "data": {
      "text/plain": [
       "class: RangedSummarizedExperiment \n",
       "dim: 485577 427 \n",
       "metadata(1): data_release\n",
       "assays(1): ''\n",
       "rownames(485577): cg13869341 cg14008030 ... cg11478607 cg08417382\n",
       "rowData names(52): address_A address_B ... MASK_extBase MASK_general\n",
       "colnames(427): TCGA-BC-A110-11A-11D-A132-05\n",
       "  TCGA-G3-A3CG-01A-11D-A20Z-05 ... TCGA-ZS-A9CG-01A-11D-A36Y-05\n",
       "  TCGA-ZP-A9D0-01A-11D-A36Y-05\n",
       "colData names(64): barcode patient ... released sample.aux"
      ]
     },
     "metadata": {},
     "output_type": "display_data"
    }
   ],
   "source": [
    "data_met <- data_met[, !duplicated(colData(data_met)$sample)]\n",
    "data_met"
   ]
  },
  {
   "cell_type": "code",
   "execution_count": 66,
   "id": "56d68656-b909-4a32-b27e-335f14c3ddca",
   "metadata": {
    "vscode": {
     "languageId": "r"
    }
   },
   "outputs": [
    {
     "data": {
      "text/html": [
       "<table class=\"dataframe\">\n",
       "<caption>A data.frame: 2 × 9</caption>\n",
       "<thead>\n",
       "\t<tr><th></th><th scope=col>sample</th><th scope=col>shortLetterCode</th><th scope=col>ajcc_pathologic_stage</th><th scope=col>age_at_diagnosis</th><th scope=col>gender</th><th scope=col>ethnicity</th><th scope=col>age_at_index</th><th scope=col>race</th><th scope=col>days_to_death</th></tr>\n",
       "\t<tr><th></th><th scope=col>&lt;chr&gt;</th><th scope=col>&lt;chr&gt;</th><th scope=col>&lt;chr&gt;</th><th scope=col>&lt;int&gt;</th><th scope=col>&lt;chr&gt;</th><th scope=col>&lt;chr&gt;</th><th scope=col>&lt;int&gt;</th><th scope=col>&lt;chr&gt;</th><th scope=col>&lt;int&gt;</th></tr>\n",
       "</thead>\n",
       "<tbody>\n",
       "\t<tr><th scope=row>1</th><td>TCGA-BC-A110-11A</td><td>NT</td><td>NA     </td><td>18951</td><td>female</td><td>not hispanic or latino</td><td>51</td><td>black or african american</td><td>2116</td></tr>\n",
       "\t<tr><th scope=row>2</th><td>TCGA-G3-A3CG-01A</td><td>TP</td><td>Stage I</td><td>29432</td><td>male  </td><td>not hispanic or latino</td><td>80</td><td>white                    </td><td>  NA</td></tr>\n",
       "</tbody>\n",
       "</table>\n"
      ],
      "text/latex": [
       "A data.frame: 2 × 9\n",
       "\\begin{tabular}{r|lllllllll}\n",
       "  & sample & shortLetterCode & ajcc\\_pathologic\\_stage & age\\_at\\_diagnosis & gender & ethnicity & age\\_at\\_index & race & days\\_to\\_death\\\\\n",
       "  & <chr> & <chr> & <chr> & <int> & <chr> & <chr> & <int> & <chr> & <int>\\\\\n",
       "\\hline\n",
       "\t1 & TCGA-BC-A110-11A & NT & NA      & 18951 & female & not hispanic or latino & 51 & black or african american & 2116\\\\\n",
       "\t2 & TCGA-G3-A3CG-01A & TP & Stage I & 29432 & male   & not hispanic or latino & 80 & white                     &   NA\\\\\n",
       "\\end{tabular}\n"
      ],
      "text/markdown": [
       "\n",
       "A data.frame: 2 × 9\n",
       "\n",
       "| <!--/--> | sample &lt;chr&gt; | shortLetterCode &lt;chr&gt; | ajcc_pathologic_stage &lt;chr&gt; | age_at_diagnosis &lt;int&gt; | gender &lt;chr&gt; | ethnicity &lt;chr&gt; | age_at_index &lt;int&gt; | race &lt;chr&gt; | days_to_death &lt;int&gt; |\n",
       "|---|---|---|---|---|---|---|---|---|---|\n",
       "| 1 | TCGA-BC-A110-11A | NT | NA      | 18951 | female | not hispanic or latino | 51 | black or african american | 2116 |\n",
       "| 2 | TCGA-G3-A3CG-01A | TP | Stage I | 29432 | male   | not hispanic or latino | 80 | white                     |   NA |\n",
       "\n"
      ],
      "text/plain": [
       "  sample           shortLetterCode ajcc_pathologic_stage age_at_diagnosis\n",
       "1 TCGA-BC-A110-11A NT              NA                    18951           \n",
       "2 TCGA-G3-A3CG-01A TP              Stage I               29432           \n",
       "  gender ethnicity              age_at_index race                     \n",
       "1 female not hispanic or latino 51           black or african american\n",
       "2 male   not hispanic or latino 80           white                    \n",
       "  days_to_death\n",
       "1 2116         \n",
       "2   NA         "
      ]
     },
     "metadata": {},
     "output_type": "display_data"
    }
   ],
   "source": [
    "sample <- colnames(m_values)\n",
    "\n",
    "shortLetterCode <- \"\"\n",
    "shortLetterCode <- apply(as.matrix(sample),1, function (x){data_met$shortLetterCode[which(data_met$sample %in% x)]})\n",
    "\n",
    "ajcc_pathologic_stage <- \"\"\n",
    "ajcc_pathologic_stage <- apply(as.matrix(sample),1, function (x){data_met$ajcc_pathologic_stage[which(data_met$sample %in% x)]})\n",
    "\n",
    "age_at_diagnosis <- \"\"\n",
    "age_at_diagnosis <- apply(as.matrix(sample),1, function (x){data_met$age_at_diagnosis[which(data_met$sample %in% x)]})\n",
    "\n",
    "primary_diagnosis <- \"\"\n",
    "primary_diagnosis <- apply(as.matrix(sample),1, function (x){data_met$primary_diagnosis[which(data_met$sample %in% x)]})\n",
    "\n",
    "gender <- \"\"\n",
    "gender <- apply(as.matrix(sample),1, function (x){data_met$gender[which(data_met$sample %in% x)]})\n",
    "\n",
    "ethnicity <- \"\"\n",
    "ethnicity <- apply(as.matrix(sample),1, function (x){data_met$ethnicity[which(data_met$sample %in% x)]})\n",
    "\n",
    "age_at_index <- \"\"\n",
    "age_at_index <- apply(as.matrix(sample),1, function (x){data_met$age_at_index[which(data_met$sample %in% x)]})\n",
    "\n",
    "race <- \"\"\n",
    "race <- apply(as.matrix(sample),1, function (x){data_met$race[which(data_met$sample %in% x)]})\n",
    "\n",
    "days_to_death <- \"\"\n",
    "days_to_death <- apply(as.matrix(sample),1, function (x){data_met$days_to_death[which(data_met$sample %in% x)]})\n",
    "\n",
    "methylation_samples <- data.frame(sample, shortLetterCode, ajcc_pathologic_stage, age_at_diagnosis, gender, ethnicity, \n",
    "                           age_at_index, race, days_to_death)\n",
    "head(methylation_samples,2)"
   ]
  },
  {
   "cell_type": "markdown",
   "id": "a235d6a8-bf34-40cf-be3b-4784f1bfa654",
   "metadata": {},
   "source": [
    "### Replace barcodes of meth matrix with sample ids"
   ]
  },
  {
   "cell_type": "code",
   "execution_count": 74,
   "id": "e9d3e702-9cc5-4b9e-b02f-4e082da6a70c",
   "metadata": {
    "vscode": {
     "languageId": "r"
    }
   },
   "outputs": [],
   "source": [
    "# colnames(m_values) <- apply(as.matrix(colnames(m_values)),1, function (x){data_met$sample[which(data_met$barcode %in% x)]})\n",
    "# head(m_values, 2)"
   ]
  },
  {
   "cell_type": "markdown",
   "id": "e5263fba-cc73-460a-addc-222ce664cd8e",
   "metadata": {},
   "source": [
    "### Paste \"-1\" at the end of duplicated sample ids to make easier the integration"
   ]
  },
  {
   "cell_type": "code",
   "execution_count": 75,
   "id": "d4b3f2c5-cabc-4c8d-a56a-02107a4f680d",
   "metadata": {
    "vscode": {
     "languageId": "r"
    }
   },
   "outputs": [],
   "source": [
    "# duplicated_meth <- which(duplicated(colnames(m_values)))\n",
    "# colnames(m_values)[duplicated_meth] <- paste0(colnames(m_values)[duplicated_meth], \"-1\")"
   ]
  },
  {
   "cell_type": "markdown",
   "id": "5f75114d-79ef-433d-b750-b61cdfce5443",
   "metadata": {},
   "source": [
    "### Add \"-1\" at the end of duplicate sample ids to modified_sample_ids to make integration easier."
   ]
  },
  {
   "cell_type": "code",
   "execution_count": 76,
   "id": "1c9259b7-b0ee-49ea-9d0b-fa3b8a664459",
   "metadata": {
    "vscode": {
     "languageId": "r"
    }
   },
   "outputs": [],
   "source": [
    "# methylation_samples$modified_sample_ids <- methylation_samples$sample\n",
    "# modified_ids <- which(duplicated(methylation_samples$sample))\n",
    "# methylation_samples$modified_sample_ids[modified_ids] <- paste0(methylation_samples$modified_sample_ids[modified_ids], \"-1\")\n",
    "# head(methylation_samples,2)"
   ]
  },
  {
   "cell_type": "markdown",
   "id": "8ecb3d9a-c861-4e6c-8d04-0ea9e7b07211",
   "metadata": {},
   "source": [
    "### Combine the rownames from the three matrices, keep only unique names (the duplictes have -1) and sort them "
   ]
  },
  {
   "cell_type": "code",
   "execution_count": 77,
   "id": "adaf28ea-aa99-4b98-82a4-c64723d5025b",
   "metadata": {
    "vscode": {
     "languageId": "r"
    }
   },
   "outputs": [],
   "source": [
    "# colnames_normalized_counts <- colnames(normalized_counts)\n",
    "# colnames_normalized_counts_miR <- colnames(normalized_counts_miR)\n",
    "# colnames_m_values <- colnames(m_values)\n",
    "# all_colnames <- c(colnames_normalized_counts, colnames_normalized_counts_miR, colnames_m_values)\n",
    "# unique_colnames <- unique(all_colnames)\n",
    "# head(unique_colnames,10)\n",
    "# sorted_colnames <- sort(unique_colnames)\n",
    "# head(sorted_colnames,10)"
   ]
  },
  {
   "cell_type": "markdown",
   "id": "08e2024f-b205-4495-9ab9-e71a88b631a0",
   "metadata": {},
   "source": [
    "# Input data for MOFA"
   ]
  },
  {
   "cell_type": "code",
   "execution_count": 51,
   "id": "4d4badb3-5cac-4247-813e-bd5e19c0e875",
   "metadata": {
    "vscode": {
     "languageId": "r"
    }
   },
   "outputs": [],
   "source": [
    "sorted_colnames <- sort(colnames(normalized_counts))"
   ]
  },
  {
   "cell_type": "markdown",
   "id": "c4d0b098-83dc-4a02-b921-fdc71d8802d3",
   "metadata": {},
   "source": [
    "### Create matrix with unique sorted colnames with the mRNA data"
   ]
  },
  {
   "cell_type": "code",
   "execution_count": 52,
   "id": "e3d10bba-9507-4f38-ac49-16db767951c1",
   "metadata": {
    "vscode": {
     "languageId": "r"
    }
   },
   "outputs": [
    {
     "data": {
      "text/html": [
       "<table class=\"dataframe\">\n",
       "<caption>A matrix: 2 × 408 of type dbl</caption>\n",
       "<thead>\n",
       "\t<tr><th></th><th scope=col>TCGA-2V-A95S-01A</th><th scope=col>TCGA-2Y-A9GS-01A</th><th scope=col>TCGA-2Y-A9GT-01A</th><th scope=col>TCGA-2Y-A9GU-01A</th><th scope=col>TCGA-2Y-A9GV-01A</th><th scope=col>TCGA-2Y-A9GW-01A</th><th scope=col>TCGA-2Y-A9GX-01A</th><th scope=col>TCGA-2Y-A9GY-01A</th><th scope=col>TCGA-2Y-A9GZ-01A</th><th scope=col>TCGA-2Y-A9H0-01A</th><th scope=col>⋯</th><th scope=col>TCGA-ZP-A9CY-01A</th><th scope=col>TCGA-ZP-A9CZ-01A</th><th scope=col>TCGA-ZP-A9D0-01A</th><th scope=col>TCGA-ZP-A9D1-01A</th><th scope=col>TCGA-ZP-A9D2-01A</th><th scope=col>TCGA-ZP-A9D4-01A</th><th scope=col>TCGA-ZS-A9CD-01A</th><th scope=col>TCGA-ZS-A9CE-01A</th><th scope=col>TCGA-ZS-A9CF-01A</th><th scope=col>TCGA-ZS-A9CG-01A</th></tr>\n",
       "</thead>\n",
       "<tbody>\n",
       "\t<tr><th scope=row>ENSG00000007350</th><td>-1.301180</td><td>-0.5387308</td><td>0.711054</td><td>-1.0437309</td><td>1.96153</td><td>-0.1947851</td><td>-2.225380</td><td>2.692144</td><td>0.4827497</td><td>0.2448743</td><td>⋯</td><td>-0.2072608</td><td>-0.6163695</td><td>-1.132313</td><td>0.5864413</td><td>-5.128186</td><td>-1.8782910</td><td>1.531825</td><td>-5.128186</td><td>-3.3269124</td><td>1.532218</td></tr>\n",
       "\t<tr><th scope=row>ENSG00000019169</th><td> 0.285627</td><td> 3.5578394</td><td>1.855969</td><td> 0.1906038</td><td>4.48738</td><td> 9.1804624</td><td> 7.793188</td><td>8.048852</td><td>2.0583166</td><td>0.7525740</td><td>⋯</td><td> 9.7316176</td><td> 2.1476497</td><td> 2.487169</td><td>0.9428792</td><td> 4.204457</td><td> 0.9180244</td><td>1.161532</td><td> 3.981847</td><td>-0.5955813</td><td>6.327982</td></tr>\n",
       "</tbody>\n",
       "</table>\n"
      ],
      "text/latex": [
       "A matrix: 2 × 408 of type dbl\n",
       "\\begin{tabular}{r|lllllllllllllllllllll}\n",
       "  & TCGA-2V-A95S-01A & TCGA-2Y-A9GS-01A & TCGA-2Y-A9GT-01A & TCGA-2Y-A9GU-01A & TCGA-2Y-A9GV-01A & TCGA-2Y-A9GW-01A & TCGA-2Y-A9GX-01A & TCGA-2Y-A9GY-01A & TCGA-2Y-A9GZ-01A & TCGA-2Y-A9H0-01A & ⋯ & TCGA-ZP-A9CY-01A & TCGA-ZP-A9CZ-01A & TCGA-ZP-A9D0-01A & TCGA-ZP-A9D1-01A & TCGA-ZP-A9D2-01A & TCGA-ZP-A9D4-01A & TCGA-ZS-A9CD-01A & TCGA-ZS-A9CE-01A & TCGA-ZS-A9CF-01A & TCGA-ZS-A9CG-01A\\\\\n",
       "\\hline\n",
       "\tENSG00000007350 & -1.301180 & -0.5387308 & 0.711054 & -1.0437309 & 1.96153 & -0.1947851 & -2.225380 & 2.692144 & 0.4827497 & 0.2448743 & ⋯ & -0.2072608 & -0.6163695 & -1.132313 & 0.5864413 & -5.128186 & -1.8782910 & 1.531825 & -5.128186 & -3.3269124 & 1.532218\\\\\n",
       "\tENSG00000019169 &  0.285627 &  3.5578394 & 1.855969 &  0.1906038 & 4.48738 &  9.1804624 &  7.793188 & 8.048852 & 2.0583166 & 0.7525740 & ⋯ &  9.7316176 &  2.1476497 &  2.487169 & 0.9428792 &  4.204457 &  0.9180244 & 1.161532 &  3.981847 & -0.5955813 & 6.327982\\\\\n",
       "\\end{tabular}\n"
      ],
      "text/markdown": [
       "\n",
       "A matrix: 2 × 408 of type dbl\n",
       "\n",
       "| <!--/--> | TCGA-2V-A95S-01A | TCGA-2Y-A9GS-01A | TCGA-2Y-A9GT-01A | TCGA-2Y-A9GU-01A | TCGA-2Y-A9GV-01A | TCGA-2Y-A9GW-01A | TCGA-2Y-A9GX-01A | TCGA-2Y-A9GY-01A | TCGA-2Y-A9GZ-01A | TCGA-2Y-A9H0-01A | ⋯ | TCGA-ZP-A9CY-01A | TCGA-ZP-A9CZ-01A | TCGA-ZP-A9D0-01A | TCGA-ZP-A9D1-01A | TCGA-ZP-A9D2-01A | TCGA-ZP-A9D4-01A | TCGA-ZS-A9CD-01A | TCGA-ZS-A9CE-01A | TCGA-ZS-A9CF-01A | TCGA-ZS-A9CG-01A |\n",
       "|---|---|---|---|---|---|---|---|---|---|---|---|---|---|---|---|---|---|---|---|---|---|\n",
       "| ENSG00000007350 | -1.301180 | -0.5387308 | 0.711054 | -1.0437309 | 1.96153 | -0.1947851 | -2.225380 | 2.692144 | 0.4827497 | 0.2448743 | ⋯ | -0.2072608 | -0.6163695 | -1.132313 | 0.5864413 | -5.128186 | -1.8782910 | 1.531825 | -5.128186 | -3.3269124 | 1.532218 |\n",
       "| ENSG00000019169 |  0.285627 |  3.5578394 | 1.855969 |  0.1906038 | 4.48738 |  9.1804624 |  7.793188 | 8.048852 | 2.0583166 | 0.7525740 | ⋯ |  9.7316176 |  2.1476497 |  2.487169 | 0.9428792 |  4.204457 |  0.9180244 | 1.161532 |  3.981847 | -0.5955813 | 6.327982 |\n",
       "\n"
      ],
      "text/plain": [
       "                TCGA-2V-A95S-01A TCGA-2Y-A9GS-01A TCGA-2Y-A9GT-01A\n",
       "ENSG00000007350 -1.301180        -0.5387308       0.711054        \n",
       "ENSG00000019169  0.285627         3.5578394       1.855969        \n",
       "                TCGA-2Y-A9GU-01A TCGA-2Y-A9GV-01A TCGA-2Y-A9GW-01A\n",
       "ENSG00000007350 -1.0437309       1.96153          -0.1947851      \n",
       "ENSG00000019169  0.1906038       4.48738           9.1804624      \n",
       "                TCGA-2Y-A9GX-01A TCGA-2Y-A9GY-01A TCGA-2Y-A9GZ-01A\n",
       "ENSG00000007350 -2.225380        2.692144         0.4827497       \n",
       "ENSG00000019169  7.793188        8.048852         2.0583166       \n",
       "                TCGA-2Y-A9H0-01A ⋯ TCGA-ZP-A9CY-01A TCGA-ZP-A9CZ-01A\n",
       "ENSG00000007350 0.2448743        ⋯ -0.2072608       -0.6163695      \n",
       "ENSG00000019169 0.7525740        ⋯  9.7316176        2.1476497      \n",
       "                TCGA-ZP-A9D0-01A TCGA-ZP-A9D1-01A TCGA-ZP-A9D2-01A\n",
       "ENSG00000007350 -1.132313        0.5864413        -5.128186       \n",
       "ENSG00000019169  2.487169        0.9428792         4.204457       \n",
       "                TCGA-ZP-A9D4-01A TCGA-ZS-A9CD-01A TCGA-ZS-A9CE-01A\n",
       "ENSG00000007350 -1.8782910       1.531825         -5.128186       \n",
       "ENSG00000019169  0.9180244       1.161532          3.981847       \n",
       "                TCGA-ZS-A9CF-01A TCGA-ZS-A9CG-01A\n",
       "ENSG00000007350 -3.3269124       1.532218        \n",
       "ENSG00000019169 -0.5955813       6.327982        "
      ]
     },
     "metadata": {},
     "output_type": "display_data"
    }
   ],
   "source": [
    "counts_new_matrix <- matrix(NA, nrow=nrow(normalized_counts), ncol=length(sorted_colnames))\n",
    "\n",
    "colnames(counts_new_matrix) <- sorted_colnames\n",
    "rownames(counts_new_matrix) <- rownames(normalized_counts)\n",
    "\n",
    "cols <- colnames(normalized_counts)\n",
    "\n",
    "counts_new_matrix[, cols] <- normalized_counts[, cols]\n",
    "head(counts_new_matrix, 2)"
   ]
  },
  {
   "cell_type": "markdown",
   "id": "80a38ffc-c014-4a8a-b00a-50b42dcbb9bd",
   "metadata": {},
   "source": [
    "### Create matrix with unique sorted colnames with the miRNA data"
   ]
  },
  {
   "cell_type": "code",
   "execution_count": 53,
   "id": "9ff2e641-4a1e-46bc-b7b7-f7618e7e4482",
   "metadata": {
    "vscode": {
     "languageId": "r"
    }
   },
   "outputs": [
    {
     "data": {
      "text/html": [
       "<table class=\"dataframe\">\n",
       "<caption>A matrix: 2 × 408 of type dbl</caption>\n",
       "<thead>\n",
       "\t<tr><th></th><th scope=col>TCGA-2V-A95S-01A</th><th scope=col>TCGA-2Y-A9GS-01A</th><th scope=col>TCGA-2Y-A9GT-01A</th><th scope=col>TCGA-2Y-A9GU-01A</th><th scope=col>TCGA-2Y-A9GV-01A</th><th scope=col>TCGA-2Y-A9GW-01A</th><th scope=col>TCGA-2Y-A9GX-01A</th><th scope=col>TCGA-2Y-A9GY-01A</th><th scope=col>TCGA-2Y-A9GZ-01A</th><th scope=col>TCGA-2Y-A9H0-01A</th><th scope=col>⋯</th><th scope=col>TCGA-ZP-A9CY-01A</th><th scope=col>TCGA-ZP-A9CZ-01A</th><th scope=col>TCGA-ZP-A9D0-01A</th><th scope=col>TCGA-ZP-A9D1-01A</th><th scope=col>TCGA-ZP-A9D2-01A</th><th scope=col>TCGA-ZP-A9D4-01A</th><th scope=col>TCGA-ZS-A9CD-01A</th><th scope=col>TCGA-ZS-A9CE-01A</th><th scope=col>TCGA-ZS-A9CF-01A</th><th scope=col>TCGA-ZS-A9CG-01A</th></tr>\n",
       "</thead>\n",
       "<tbody>\n",
       "\t<tr><th scope=row>hsa-let-7c</th><td>11.37719</td><td>12.95745</td><td>14.31110</td><td>11.48666</td><td>14.11517</td><td>13.27803</td><td>13.83881</td><td>12.25868</td><td>14.02407</td><td>12.31198</td><td>⋯</td><td>14.33410</td><td>12.84817</td><td>13.47230</td><td>13.54917</td><td>15.02185</td><td>14.53337</td><td>13.50983</td><td>14.12798</td><td>14.37910</td><td>14.37286</td></tr>\n",
       "\t<tr><th scope=row>hsa-mir-101-1</th><td>14.37820</td><td>14.60589</td><td>16.55992</td><td>15.37240</td><td>16.18375</td><td>15.16547</td><td>16.08577</td><td>14.93467</td><td>16.70358</td><td>14.45255</td><td>⋯</td><td>16.17593</td><td>15.39347</td><td>15.38138</td><td>15.43699</td><td>14.87585</td><td>16.89195</td><td>14.76418</td><td>15.39147</td><td>17.24256</td><td>15.44887</td></tr>\n",
       "</tbody>\n",
       "</table>\n"
      ],
      "text/latex": [
       "A matrix: 2 × 408 of type dbl\n",
       "\\begin{tabular}{r|lllllllllllllllllllll}\n",
       "  & TCGA-2V-A95S-01A & TCGA-2Y-A9GS-01A & TCGA-2Y-A9GT-01A & TCGA-2Y-A9GU-01A & TCGA-2Y-A9GV-01A & TCGA-2Y-A9GW-01A & TCGA-2Y-A9GX-01A & TCGA-2Y-A9GY-01A & TCGA-2Y-A9GZ-01A & TCGA-2Y-A9H0-01A & ⋯ & TCGA-ZP-A9CY-01A & TCGA-ZP-A9CZ-01A & TCGA-ZP-A9D0-01A & TCGA-ZP-A9D1-01A & TCGA-ZP-A9D2-01A & TCGA-ZP-A9D4-01A & TCGA-ZS-A9CD-01A & TCGA-ZS-A9CE-01A & TCGA-ZS-A9CF-01A & TCGA-ZS-A9CG-01A\\\\\n",
       "\\hline\n",
       "\thsa-let-7c & 11.37719 & 12.95745 & 14.31110 & 11.48666 & 14.11517 & 13.27803 & 13.83881 & 12.25868 & 14.02407 & 12.31198 & ⋯ & 14.33410 & 12.84817 & 13.47230 & 13.54917 & 15.02185 & 14.53337 & 13.50983 & 14.12798 & 14.37910 & 14.37286\\\\\n",
       "\thsa-mir-101-1 & 14.37820 & 14.60589 & 16.55992 & 15.37240 & 16.18375 & 15.16547 & 16.08577 & 14.93467 & 16.70358 & 14.45255 & ⋯ & 16.17593 & 15.39347 & 15.38138 & 15.43699 & 14.87585 & 16.89195 & 14.76418 & 15.39147 & 17.24256 & 15.44887\\\\\n",
       "\\end{tabular}\n"
      ],
      "text/markdown": [
       "\n",
       "A matrix: 2 × 408 of type dbl\n",
       "\n",
       "| <!--/--> | TCGA-2V-A95S-01A | TCGA-2Y-A9GS-01A | TCGA-2Y-A9GT-01A | TCGA-2Y-A9GU-01A | TCGA-2Y-A9GV-01A | TCGA-2Y-A9GW-01A | TCGA-2Y-A9GX-01A | TCGA-2Y-A9GY-01A | TCGA-2Y-A9GZ-01A | TCGA-2Y-A9H0-01A | ⋯ | TCGA-ZP-A9CY-01A | TCGA-ZP-A9CZ-01A | TCGA-ZP-A9D0-01A | TCGA-ZP-A9D1-01A | TCGA-ZP-A9D2-01A | TCGA-ZP-A9D4-01A | TCGA-ZS-A9CD-01A | TCGA-ZS-A9CE-01A | TCGA-ZS-A9CF-01A | TCGA-ZS-A9CG-01A |\n",
       "|---|---|---|---|---|---|---|---|---|---|---|---|---|---|---|---|---|---|---|---|---|---|\n",
       "| hsa-let-7c | 11.37719 | 12.95745 | 14.31110 | 11.48666 | 14.11517 | 13.27803 | 13.83881 | 12.25868 | 14.02407 | 12.31198 | ⋯ | 14.33410 | 12.84817 | 13.47230 | 13.54917 | 15.02185 | 14.53337 | 13.50983 | 14.12798 | 14.37910 | 14.37286 |\n",
       "| hsa-mir-101-1 | 14.37820 | 14.60589 | 16.55992 | 15.37240 | 16.18375 | 15.16547 | 16.08577 | 14.93467 | 16.70358 | 14.45255 | ⋯ | 16.17593 | 15.39347 | 15.38138 | 15.43699 | 14.87585 | 16.89195 | 14.76418 | 15.39147 | 17.24256 | 15.44887 |\n",
       "\n"
      ],
      "text/plain": [
       "              TCGA-2V-A95S-01A TCGA-2Y-A9GS-01A TCGA-2Y-A9GT-01A\n",
       "hsa-let-7c    11.37719         12.95745         14.31110        \n",
       "hsa-mir-101-1 14.37820         14.60589         16.55992        \n",
       "              TCGA-2Y-A9GU-01A TCGA-2Y-A9GV-01A TCGA-2Y-A9GW-01A\n",
       "hsa-let-7c    11.48666         14.11517         13.27803        \n",
       "hsa-mir-101-1 15.37240         16.18375         15.16547        \n",
       "              TCGA-2Y-A9GX-01A TCGA-2Y-A9GY-01A TCGA-2Y-A9GZ-01A\n",
       "hsa-let-7c    13.83881         12.25868         14.02407        \n",
       "hsa-mir-101-1 16.08577         14.93467         16.70358        \n",
       "              TCGA-2Y-A9H0-01A ⋯ TCGA-ZP-A9CY-01A TCGA-ZP-A9CZ-01A\n",
       "hsa-let-7c    12.31198         ⋯ 14.33410         12.84817        \n",
       "hsa-mir-101-1 14.45255         ⋯ 16.17593         15.39347        \n",
       "              TCGA-ZP-A9D0-01A TCGA-ZP-A9D1-01A TCGA-ZP-A9D2-01A\n",
       "hsa-let-7c    13.47230         13.54917         15.02185        \n",
       "hsa-mir-101-1 15.38138         15.43699         14.87585        \n",
       "              TCGA-ZP-A9D4-01A TCGA-ZS-A9CD-01A TCGA-ZS-A9CE-01A\n",
       "hsa-let-7c    14.53337         13.50983         14.12798        \n",
       "hsa-mir-101-1 16.89195         14.76418         15.39147        \n",
       "              TCGA-ZS-A9CF-01A TCGA-ZS-A9CG-01A\n",
       "hsa-let-7c    14.37910         14.37286        \n",
       "hsa-mir-101-1 17.24256         15.44887        "
      ]
     },
     "metadata": {},
     "output_type": "display_data"
    }
   ],
   "source": [
    "counts_miR_new_matrix <- matrix(NA, nrow=nrow(normalized_counts_miR), ncol=length(sorted_colnames))\n",
    "\n",
    "colnames(counts_miR_new_matrix) <- sorted_colnames\n",
    "rownames(counts_miR_new_matrix) <- rownames(normalized_counts_miR)\n",
    "\n",
    "cols <- colnames(normalized_counts_miR)\n",
    "\n",
    "counts_miR_new_matrix[, cols] <- normalized_counts_miR[, cols]\n",
    "head(counts_miR_new_matrix, 2)"
   ]
  },
  {
   "cell_type": "markdown",
   "id": "2c8f7804-8abc-470f-ab26-545299b7f28c",
   "metadata": {},
   "source": [
    "### Create matrix with unique sorted colnames with the methylation data"
   ]
  },
  {
   "cell_type": "code",
   "execution_count": 81,
   "id": "f3a61fa1-01a1-46af-bb44-7cd16e8242b2",
   "metadata": {
    "vscode": {
     "languageId": "r"
    }
   },
   "outputs": [
    {
     "data": {
      "text/html": [
       "<table class=\"dataframe\">\n",
       "<caption>A matrix: 2 × 408 of type dbl</caption>\n",
       "<thead>\n",
       "\t<tr><th></th><th scope=col>TCGA-2V-A95S-01A</th><th scope=col>TCGA-2Y-A9GS-01A</th><th scope=col>TCGA-2Y-A9GT-01A</th><th scope=col>TCGA-2Y-A9GU-01A</th><th scope=col>TCGA-2Y-A9GV-01A</th><th scope=col>TCGA-2Y-A9GW-01A</th><th scope=col>TCGA-2Y-A9GX-01A</th><th scope=col>TCGA-2Y-A9GY-01A</th><th scope=col>TCGA-2Y-A9GZ-01A</th><th scope=col>TCGA-2Y-A9H0-01A</th><th scope=col>⋯</th><th scope=col>TCGA-ZP-A9CY-01A</th><th scope=col>TCGA-ZP-A9CZ-01A</th><th scope=col>TCGA-ZP-A9D0-01A</th><th scope=col>TCGA-ZP-A9D1-01A</th><th scope=col>TCGA-ZP-A9D2-01A</th><th scope=col>TCGA-ZP-A9D4-01A</th><th scope=col>TCGA-ZS-A9CD-01A</th><th scope=col>TCGA-ZS-A9CE-01A</th><th scope=col>TCGA-ZS-A9CF-01A</th><th scope=col>TCGA-ZS-A9CG-01A</th></tr>\n",
       "</thead>\n",
       "<tbody>\n",
       "\t<tr><th scope=row>ENSG00000010319</th><td>-0.18946410</td><td>-0.4027204</td><td>-0.02789678</td><td>0.02546053</td><td>-0.1244901</td><td>0.08294856</td><td>-0.002678624</td><td>0.03639439</td><td>-0.7622871</td><td>-0.3492547</td><td>⋯</td><td>-0.1593288</td><td>0.1682615</td><td>0.2377414</td><td>-0.04067162</td><td>-0.04050503</td><td>0.1856574</td><td>-0.04788974</td><td>-0.1477604</td><td>-0.1902343</td><td>-0.2666402</td></tr>\n",
       "\t<tr><th scope=row>ENSG00000092607</th><td>-0.03034351</td><td> 0.1288488</td><td> 0.22800753</td><td>1.38352861</td><td>-0.1843136</td><td>0.02110310</td><td>-0.302230768</td><td>0.14780413</td><td> 0.2722933</td><td> 1.4707687</td><td>⋯</td><td> 0.1175350</td><td>0.7007715</td><td>0.5583310</td><td> 0.43160258</td><td> 0.59123893</td><td>0.1776085</td><td>-0.02348397</td><td> 0.1759125</td><td> 1.7133796</td><td>-0.1691787</td></tr>\n",
       "</tbody>\n",
       "</table>\n"
      ],
      "text/latex": [
       "A matrix: 2 × 408 of type dbl\n",
       "\\begin{tabular}{r|lllllllllllllllllllll}\n",
       "  & TCGA-2V-A95S-01A & TCGA-2Y-A9GS-01A & TCGA-2Y-A9GT-01A & TCGA-2Y-A9GU-01A & TCGA-2Y-A9GV-01A & TCGA-2Y-A9GW-01A & TCGA-2Y-A9GX-01A & TCGA-2Y-A9GY-01A & TCGA-2Y-A9GZ-01A & TCGA-2Y-A9H0-01A & ⋯ & TCGA-ZP-A9CY-01A & TCGA-ZP-A9CZ-01A & TCGA-ZP-A9D0-01A & TCGA-ZP-A9D1-01A & TCGA-ZP-A9D2-01A & TCGA-ZP-A9D4-01A & TCGA-ZS-A9CD-01A & TCGA-ZS-A9CE-01A & TCGA-ZS-A9CF-01A & TCGA-ZS-A9CG-01A\\\\\n",
       "\\hline\n",
       "\tENSG00000010319 & -0.18946410 & -0.4027204 & -0.02789678 & 0.02546053 & -0.1244901 & 0.08294856 & -0.002678624 & 0.03639439 & -0.7622871 & -0.3492547 & ⋯ & -0.1593288 & 0.1682615 & 0.2377414 & -0.04067162 & -0.04050503 & 0.1856574 & -0.04788974 & -0.1477604 & -0.1902343 & -0.2666402\\\\\n",
       "\tENSG00000092607 & -0.03034351 &  0.1288488 &  0.22800753 & 1.38352861 & -0.1843136 & 0.02110310 & -0.302230768 & 0.14780413 &  0.2722933 &  1.4707687 & ⋯ &  0.1175350 & 0.7007715 & 0.5583310 &  0.43160258 &  0.59123893 & 0.1776085 & -0.02348397 &  0.1759125 &  1.7133796 & -0.1691787\\\\\n",
       "\\end{tabular}\n"
      ],
      "text/markdown": [
       "\n",
       "A matrix: 2 × 408 of type dbl\n",
       "\n",
       "| <!--/--> | TCGA-2V-A95S-01A | TCGA-2Y-A9GS-01A | TCGA-2Y-A9GT-01A | TCGA-2Y-A9GU-01A | TCGA-2Y-A9GV-01A | TCGA-2Y-A9GW-01A | TCGA-2Y-A9GX-01A | TCGA-2Y-A9GY-01A | TCGA-2Y-A9GZ-01A | TCGA-2Y-A9H0-01A | ⋯ | TCGA-ZP-A9CY-01A | TCGA-ZP-A9CZ-01A | TCGA-ZP-A9D0-01A | TCGA-ZP-A9D1-01A | TCGA-ZP-A9D2-01A | TCGA-ZP-A9D4-01A | TCGA-ZS-A9CD-01A | TCGA-ZS-A9CE-01A | TCGA-ZS-A9CF-01A | TCGA-ZS-A9CG-01A |\n",
       "|---|---|---|---|---|---|---|---|---|---|---|---|---|---|---|---|---|---|---|---|---|---|\n",
       "| ENSG00000010319 | -0.18946410 | -0.4027204 | -0.02789678 | 0.02546053 | -0.1244901 | 0.08294856 | -0.002678624 | 0.03639439 | -0.7622871 | -0.3492547 | ⋯ | -0.1593288 | 0.1682615 | 0.2377414 | -0.04067162 | -0.04050503 | 0.1856574 | -0.04788974 | -0.1477604 | -0.1902343 | -0.2666402 |\n",
       "| ENSG00000092607 | -0.03034351 |  0.1288488 |  0.22800753 | 1.38352861 | -0.1843136 | 0.02110310 | -0.302230768 | 0.14780413 |  0.2722933 |  1.4707687 | ⋯ |  0.1175350 | 0.7007715 | 0.5583310 |  0.43160258 |  0.59123893 | 0.1776085 | -0.02348397 |  0.1759125 |  1.7133796 | -0.1691787 |\n",
       "\n"
      ],
      "text/plain": [
       "                TCGA-2V-A95S-01A TCGA-2Y-A9GS-01A TCGA-2Y-A9GT-01A\n",
       "ENSG00000010319 -0.18946410      -0.4027204       -0.02789678     \n",
       "ENSG00000092607 -0.03034351       0.1288488        0.22800753     \n",
       "                TCGA-2Y-A9GU-01A TCGA-2Y-A9GV-01A TCGA-2Y-A9GW-01A\n",
       "ENSG00000010319 0.02546053       -0.1244901       0.08294856      \n",
       "ENSG00000092607 1.38352861       -0.1843136       0.02110310      \n",
       "                TCGA-2Y-A9GX-01A TCGA-2Y-A9GY-01A TCGA-2Y-A9GZ-01A\n",
       "ENSG00000010319 -0.002678624     0.03639439       -0.7622871      \n",
       "ENSG00000092607 -0.302230768     0.14780413        0.2722933      \n",
       "                TCGA-2Y-A9H0-01A ⋯ TCGA-ZP-A9CY-01A TCGA-ZP-A9CZ-01A\n",
       "ENSG00000010319 -0.3492547       ⋯ -0.1593288       0.1682615       \n",
       "ENSG00000092607  1.4707687       ⋯  0.1175350       0.7007715       \n",
       "                TCGA-ZP-A9D0-01A TCGA-ZP-A9D1-01A TCGA-ZP-A9D2-01A\n",
       "ENSG00000010319 0.2377414        -0.04067162      -0.04050503     \n",
       "ENSG00000092607 0.5583310         0.43160258       0.59123893     \n",
       "                TCGA-ZP-A9D4-01A TCGA-ZS-A9CD-01A TCGA-ZS-A9CE-01A\n",
       "ENSG00000010319 0.1856574        -0.04788974      -0.1477604      \n",
       "ENSG00000092607 0.1776085        -0.02348397       0.1759125      \n",
       "                TCGA-ZS-A9CF-01A TCGA-ZS-A9CG-01A\n",
       "ENSG00000010319 -0.1902343       -0.2666402      \n",
       "ENSG00000092607  1.7133796       -0.1691787      "
      ]
     },
     "metadata": {},
     "output_type": "display_data"
    }
   ],
   "source": [
    "m_values_new_matrix <- matrix(NA, nrow=nrow(m_values), ncol=length(sorted_colnames))\n",
    "\n",
    "colnames(m_values_new_matrix) <- sorted_colnames\n",
    "rownames(m_values_new_matrix) <- rownames(m_values)\n",
    "\n",
    "cols <- colnames(m_values)\n",
    "\n",
    "m_values_new_matrix[, cols] <- m_values[, cols]\n",
    "head(m_values_new_matrix, 2)"
   ]
  },
  {
   "cell_type": "code",
   "execution_count": 82,
   "id": "717878da-2772-4e65-81d8-76568febf361",
   "metadata": {
    "vscode": {
     "languageId": "r"
    }
   },
   "outputs": [],
   "source": [
    "# Add suffix for MOFA\n",
    "rownames(m_values_new_matrix) <- paste0(rownames(m_values_new_matrix), \"_methylation\")"
   ]
  },
  {
   "cell_type": "code",
   "execution_count": 54,
   "id": "303d3454-77a4-48bb-a338-0008c9fb93eb",
   "metadata": {
    "vscode": {
     "languageId": "r"
    }
   },
   "outputs": [
    {
     "data": {
      "text/html": [
       "<style>\n",
       ".list-inline {list-style: none; margin:0; padding: 0}\n",
       ".list-inline>li {display: inline-block}\n",
       ".list-inline>li:not(:last-child)::after {content: \"\\00b7\"; padding: 0 .5ex}\n",
       "</style>\n",
       "<ol class=list-inline><li>150</li><li>408</li></ol>\n"
      ],
      "text/latex": [
       "\\begin{enumerate*}\n",
       "\\item 150\n",
       "\\item 408\n",
       "\\end{enumerate*}\n"
      ],
      "text/markdown": [
       "1. 150\n",
       "2. 408\n",
       "\n",
       "\n"
      ],
      "text/plain": [
       "[1] 150 408"
      ]
     },
     "metadata": {},
     "output_type": "display_data"
    },
    {
     "data": {
      "text/html": [
       "<style>\n",
       ".list-inline {list-style: none; margin:0; padding: 0}\n",
       ".list-inline>li {display: inline-block}\n",
       ".list-inline>li:not(:last-child)::after {content: \"\\00b7\"; padding: 0 .5ex}\n",
       "</style>\n",
       "<ol class=list-inline><li>150</li><li>408</li></ol>\n"
      ],
      "text/latex": [
       "\\begin{enumerate*}\n",
       "\\item 150\n",
       "\\item 408\n",
       "\\end{enumerate*}\n"
      ],
      "text/markdown": [
       "1. 150\n",
       "2. 408\n",
       "\n",
       "\n"
      ],
      "text/plain": [
       "[1] 150 408"
      ]
     },
     "metadata": {},
     "output_type": "display_data"
    },
    {
     "ename": "ERROR",
     "evalue": "Error in eval(expr, envir, enclos): object 'm_values_new_matrix' not found\n",
     "output_type": "error",
     "traceback": [
      "Error in eval(expr, envir, enclos): object 'm_values_new_matrix' not found\nTraceback:\n"
     ]
    }
   ],
   "source": [
    "dim(counts_new_matrix)\n",
    "dim(counts_miR_new_matrix)\n",
    "dim(m_values_new_matrix)"
   ]
  },
  {
   "cell_type": "code",
   "execution_count": 67,
   "id": "d18f907e-e5fd-4117-a8be-b95b85fba3a0",
   "metadata": {
    "vscode": {
     "languageId": "r"
    }
   },
   "outputs": [
    {
     "data": {
      "text/html": [
       "<table class=\"dataframe\">\n",
       "<caption>A data.frame: 1 × 9</caption>\n",
       "<thead>\n",
       "\t<tr><th></th><th scope=col>sample</th><th scope=col>shortLetterCode</th><th scope=col>ajcc_pathologic_stage</th><th scope=col>age_at_diagnosis</th><th scope=col>gender</th><th scope=col>ethnicity</th><th scope=col>age_at_index</th><th scope=col>race</th><th scope=col>days_to_death</th></tr>\n",
       "\t<tr><th></th><th scope=col>&lt;chr&gt;</th><th scope=col>&lt;chr&gt;</th><th scope=col>&lt;chr&gt;</th><th scope=col>&lt;int&gt;</th><th scope=col>&lt;chr&gt;</th><th scope=col>&lt;chr&gt;</th><th scope=col>&lt;int&gt;</th><th scope=col>&lt;chr&gt;</th><th scope=col>&lt;int&gt;</th></tr>\n",
       "</thead>\n",
       "<tbody>\n",
       "\t<tr><th scope=row>1</th><td>TCGA-FV-A3I0-01A</td><td>TP</td><td>Stage II</td><td>28101</td><td>female</td><td>not hispanic or latino</td><td>76</td><td>white</td><td>NA</td></tr>\n",
       "</tbody>\n",
       "</table>\n"
      ],
      "text/latex": [
       "A data.frame: 1 × 9\n",
       "\\begin{tabular}{r|lllllllll}\n",
       "  & sample & shortLetterCode & ajcc\\_pathologic\\_stage & age\\_at\\_diagnosis & gender & ethnicity & age\\_at\\_index & race & days\\_to\\_death\\\\\n",
       "  & <chr> & <chr> & <chr> & <int> & <chr> & <chr> & <int> & <chr> & <int>\\\\\n",
       "\\hline\n",
       "\t1 & TCGA-FV-A3I0-01A & TP & Stage II & 28101 & female & not hispanic or latino & 76 & white & NA\\\\\n",
       "\\end{tabular}\n"
      ],
      "text/markdown": [
       "\n",
       "A data.frame: 1 × 9\n",
       "\n",
       "| <!--/--> | sample &lt;chr&gt; | shortLetterCode &lt;chr&gt; | ajcc_pathologic_stage &lt;chr&gt; | age_at_diagnosis &lt;int&gt; | gender &lt;chr&gt; | ethnicity &lt;chr&gt; | age_at_index &lt;int&gt; | race &lt;chr&gt; | days_to_death &lt;int&gt; |\n",
       "|---|---|---|---|---|---|---|---|---|---|\n",
       "| 1 | TCGA-FV-A3I0-01A | TP | Stage II | 28101 | female | not hispanic or latino | 76 | white | NA |\n",
       "\n"
      ],
      "text/plain": [
       "  sample           shortLetterCode ajcc_pathologic_stage age_at_diagnosis\n",
       "1 TCGA-FV-A3I0-01A TP              Stage II              28101           \n",
       "  gender ethnicity              age_at_index race  days_to_death\n",
       "1 female not hispanic or latino 76           white NA           "
      ]
     },
     "metadata": {},
     "output_type": "display_data"
    }
   ],
   "source": [
    "# Combine the dataframes and keep unique rows based on the ID column\n",
    "combined_samples_df <- bind_rows(mrna_samples, methylation_samples) %>% distinct(sample, .keep_all = TRUE)\n",
    "\n",
    "# Print the result\n",
    "head(combined_samples_df, 1)"
   ]
  },
  {
   "cell_type": "code",
   "execution_count": 68,
   "id": "f7cfd13e-2c0c-42ef-b35a-55a22f44760e",
   "metadata": {
    "vscode": {
     "languageId": "r"
    }
   },
   "outputs": [
    {
     "data": {
      "text/html": [
       "<table class=\"dataframe\">\n",
       "<caption>A data.frame: 2 × 8</caption>\n",
       "<thead>\n",
       "\t<tr><th></th><th scope=col>sample</th><th scope=col>shortLetterCode</th><th scope=col>ajcc_pathologic_stage</th><th scope=col>age_at_diagnosis</th><th scope=col>gender</th><th scope=col>ethnicity</th><th scope=col>race</th><th scope=col>days_to_death</th></tr>\n",
       "\t<tr><th></th><th scope=col>&lt;chr&gt;</th><th scope=col>&lt;chr&gt;</th><th scope=col>&lt;chr&gt;</th><th scope=col>&lt;int&gt;</th><th scope=col>&lt;chr&gt;</th><th scope=col>&lt;chr&gt;</th><th scope=col>&lt;chr&gt;</th><th scope=col>&lt;int&gt;</th></tr>\n",
       "</thead>\n",
       "<tbody>\n",
       "\t<tr><th scope=row>1</th><td>TCGA-2V-A95S-01A</td><td>TP</td><td>Stage II</td><td>   NA</td><td>male</td><td>not hispanic or latino</td><td>asian</td><td> NA</td></tr>\n",
       "\t<tr><th scope=row>2</th><td>TCGA-2Y-A9GS-01A</td><td>TP</td><td>NA      </td><td>21318</td><td>male</td><td>hispanic or latino    </td><td>white</td><td>724</td></tr>\n",
       "</tbody>\n",
       "</table>\n"
      ],
      "text/latex": [
       "A data.frame: 2 × 8\n",
       "\\begin{tabular}{r|llllllll}\n",
       "  & sample & shortLetterCode & ajcc\\_pathologic\\_stage & age\\_at\\_diagnosis & gender & ethnicity & race & days\\_to\\_death\\\\\n",
       "  & <chr> & <chr> & <chr> & <int> & <chr> & <chr> & <chr> & <int>\\\\\n",
       "\\hline\n",
       "\t1 & TCGA-2V-A95S-01A & TP & Stage II &    NA & male & not hispanic or latino & asian &  NA\\\\\n",
       "\t2 & TCGA-2Y-A9GS-01A & TP & NA       & 21318 & male & hispanic or latino     & white & 724\\\\\n",
       "\\end{tabular}\n"
      ],
      "text/markdown": [
       "\n",
       "A data.frame: 2 × 8\n",
       "\n",
       "| <!--/--> | sample &lt;chr&gt; | shortLetterCode &lt;chr&gt; | ajcc_pathologic_stage &lt;chr&gt; | age_at_diagnosis &lt;int&gt; | gender &lt;chr&gt; | ethnicity &lt;chr&gt; | race &lt;chr&gt; | days_to_death &lt;int&gt; |\n",
       "|---|---|---|---|---|---|---|---|---|\n",
       "| 1 | TCGA-2V-A95S-01A | TP | Stage II |    NA | male | not hispanic or latino | asian |  NA |\n",
       "| 2 | TCGA-2Y-A9GS-01A | TP | NA       | 21318 | male | hispanic or latino     | white | 724 |\n",
       "\n"
      ],
      "text/plain": [
       "  sample           shortLetterCode ajcc_pathologic_stage age_at_diagnosis\n",
       "1 TCGA-2V-A95S-01A TP              Stage II                 NA           \n",
       "2 TCGA-2Y-A9GS-01A TP              NA                    21318           \n",
       "  gender ethnicity              race  days_to_death\n",
       "1 male   not hispanic or latino asian  NA          \n",
       "2 male   hispanic or latino     white 724          "
      ]
     },
     "metadata": {},
     "output_type": "display_data"
    }
   ],
   "source": [
    "sample <- sorted_colnames\n",
    "\n",
    "shortLetterCode <- \"\"\n",
    "shortLetterCode <- apply(as.matrix(sample),1, function (x){combined_samples_df$shortLetterCode[which(combined_samples_df$sample %in% x)]})\n",
    "\n",
    "ajcc_pathologic_stage <- \"\"\n",
    "ajcc_pathologic_stage <- apply(as.matrix(sample),1, function (x){combined_samples_df$ajcc_pathologic_stage[which(combined_samples_df$sample %in% x)]})\n",
    "\n",
    "age_at_diagnosis <- \"\"\n",
    "age_at_diagnosis <- apply(as.matrix(sample),1, function (x){combined_samples_df$age_at_diagnosis[which(combined_samples_df$sample %in% x)]})\n",
    "\n",
    "gender <- \"\"\n",
    "gender <- apply(as.matrix(sample),1, function (x){combined_samples_df$gender[which(combined_samples_df$sample %in% x)]})\n",
    "\n",
    "ethnicity <- \"\"\n",
    "ethnicity <- apply(as.matrix(sample),1, function (x){combined_samples_df$ethnicity[which(combined_samples_df$sample %in% x)]})\n",
    "\n",
    "# age_at_index <- \"\"\n",
    "# age_at_index <- apply(as.matrix(sample),1, function (x){combined_samples_df$age_at_index[which(combined_samples_df$sample %in% x)]})\n",
    "\n",
    "race <- \"\"\n",
    "race <- apply(as.matrix(sample),1, function (x){combined_samples_df$race[which(combined_samples_df$sample %in% x)]})\n",
    "\n",
    "days_to_death <- \"\"\n",
    "days_to_death <- apply(as.matrix(sample),1, function (x){combined_samples_df$days_to_death[which(combined_samples_df$sample %in% x)]})\n",
    "\n",
    "sorted_combined_df <- data.frame(sample, shortLetterCode, ajcc_pathologic_stage, age_at_diagnosis, gender, ethnicity, \n",
    "                           race, days_to_death)\n",
    "\n",
    "head(sorted_combined_df, 2)"
   ]
  },
  {
   "cell_type": "code",
   "execution_count": 69,
   "id": "b8944ae9-65c6-44f5-b217-19c85327751d",
   "metadata": {
    "vscode": {
     "languageId": "r"
    }
   },
   "outputs": [
    {
     "data": {
      "text/html": [
       "TRUE"
      ],
      "text/latex": [
       "TRUE"
      ],
      "text/markdown": [
       "TRUE"
      ],
      "text/plain": [
       "[1] TRUE"
      ]
     },
     "metadata": {},
     "output_type": "display_data"
    }
   ],
   "source": [
    "identical(sorted_combined_df$sample, sorted_colnames)"
   ]
  },
  {
   "cell_type": "markdown",
   "id": "ace6e03b-0912-4f20-afe0-c6161faf57f2",
   "metadata": {},
   "source": [
    "# Create MOFA object for NT/TP"
   ]
  },
  {
   "cell_type": "code",
   "execution_count": 87,
   "id": "4dac85df-a5dc-4a24-a826-bd2bb5691016",
   "metadata": {
    "vscode": {
     "languageId": "r"
    }
   },
   "outputs": [
    {
     "data": {
      "text/html": [
       "<style>\n",
       ".list-inline {list-style: none; margin:0; padding: 0}\n",
       ".list-inline>li {display: inline-block}\n",
       ".list-inline>li:not(:last-child)::after {content: \"\\00b7\"; padding: 0 .5ex}\n",
       "</style>\n",
       "<ol class=list-inline><li>150</li><li>408</li></ol>\n"
      ],
      "text/latex": [
       "\\begin{enumerate*}\n",
       "\\item 150\n",
       "\\item 408\n",
       "\\end{enumerate*}\n"
      ],
      "text/markdown": [
       "1. 150\n",
       "2. 408\n",
       "\n",
       "\n"
      ],
      "text/plain": [
       "[1] 150 408"
      ]
     },
     "metadata": {},
     "output_type": "display_data"
    },
    {
     "data": {
      "text/html": [
       "<style>\n",
       ".list-inline {list-style: none; margin:0; padding: 0}\n",
       ".list-inline>li {display: inline-block}\n",
       ".list-inline>li:not(:last-child)::after {content: \"\\00b7\"; padding: 0 .5ex}\n",
       "</style>\n",
       "<ol class=list-inline><li>150</li><li>408</li></ol>\n"
      ],
      "text/latex": [
       "\\begin{enumerate*}\n",
       "\\item 150\n",
       "\\item 408\n",
       "\\end{enumerate*}\n"
      ],
      "text/markdown": [
       "1. 150\n",
       "2. 408\n",
       "\n",
       "\n"
      ],
      "text/plain": [
       "[1] 150 408"
      ]
     },
     "metadata": {},
     "output_type": "display_data"
    },
    {
     "data": {
      "text/html": [
       "<style>\n",
       ".list-inline {list-style: none; margin:0; padding: 0}\n",
       ".list-inline>li {display: inline-block}\n",
       ".list-inline>li:not(:last-child)::after {content: \"\\00b7\"; padding: 0 .5ex}\n",
       "</style>\n",
       "<ol class=list-inline><li>150</li><li>408</li></ol>\n"
      ],
      "text/latex": [
       "\\begin{enumerate*}\n",
       "\\item 150\n",
       "\\item 408\n",
       "\\end{enumerate*}\n"
      ],
      "text/markdown": [
       "1. 150\n",
       "2. 408\n",
       "\n",
       "\n"
      ],
      "text/plain": [
       "[1] 150 408"
      ]
     },
     "metadata": {},
     "output_type": "display_data"
    },
    {
     "name": "stderr",
     "output_type": "stream",
     "text": [
      "Creating MOFA object from a list of matrices (features as rows, sample as columns)...\n",
      "\n",
      "\n"
     ]
    }
   ],
   "source": [
    "dim(counts_new_matrix)\n",
    "dim(counts_miR_new_matrix)\n",
    "dim(m_values_new_matrix)\n",
    "\n",
    "# Combine preprocessed data into a list\n",
    "data_list <- list(\n",
    "  mRNA = counts_new_matrix,\n",
    "  miRNA = counts_miR_new_matrix,\n",
    "  Methylation = m_values_new_matrix\n",
    ")\n",
    "\n",
    "# groups <- sorted_combined_df$shortLetterCode\n",
    "# length(groups)\n",
    "\n",
    "# Create MOFA object\n",
    "# MOFAobject <- create_mofa(data_list, groups = groups)\n",
    "MOFAobject <- create_mofa(data_list)"
   ]
  },
  {
   "cell_type": "code",
   "execution_count": 70,
   "id": "f89a4729",
   "metadata": {
    "vscode": {
     "languageId": "r"
    }
   },
   "outputs": [
    {
     "data": {
      "text/html": [
       "<style>\n",
       ".list-inline {list-style: none; margin:0; padding: 0}\n",
       ".list-inline>li {display: inline-block}\n",
       ".list-inline>li:not(:last-child)::after {content: \"\\00b7\"; padding: 0 .5ex}\n",
       "</style>\n",
       "<ol class=list-inline><li>150</li><li>408</li></ol>\n"
      ],
      "text/latex": [
       "\\begin{enumerate*}\n",
       "\\item 150\n",
       "\\item 408\n",
       "\\end{enumerate*}\n"
      ],
      "text/markdown": [
       "1. 150\n",
       "2. 408\n",
       "\n",
       "\n"
      ],
      "text/plain": [
       "[1] 150 408"
      ]
     },
     "metadata": {},
     "output_type": "display_data"
    },
    {
     "data": {
      "text/html": [
       "<style>\n",
       ".list-inline {list-style: none; margin:0; padding: 0}\n",
       ".list-inline>li {display: inline-block}\n",
       ".list-inline>li:not(:last-child)::after {content: \"\\00b7\"; padding: 0 .5ex}\n",
       "</style>\n",
       "<ol class=list-inline><li>150</li><li>408</li></ol>\n"
      ],
      "text/latex": [
       "\\begin{enumerate*}\n",
       "\\item 150\n",
       "\\item 408\n",
       "\\end{enumerate*}\n"
      ],
      "text/markdown": [
       "1. 150\n",
       "2. 408\n",
       "\n",
       "\n"
      ],
      "text/plain": [
       "[1] 150 408"
      ]
     },
     "metadata": {},
     "output_type": "display_data"
    },
    {
     "name": "stderr",
     "output_type": "stream",
     "text": [
      "Creating MOFA object from a list of matrices (features as rows, sample as columns)...\n",
      "\n",
      "\n"
     ]
    }
   ],
   "source": [
    "dim(counts_new_matrix)\n",
    "dim(counts_miR_new_matrix)\n",
    "\n",
    "# Combine preprocessed data into a list\n",
    "data_list <- list(\n",
    "  mRNA = counts_new_matrix,\n",
    "  miRNA = counts_miR_new_matrix\n",
    ")\n",
    "\n",
    "# groups <- sorted_combined_df$shortLetterCode\n",
    "# length(groups)\n",
    "\n",
    "# Create MOFA object\n",
    "# MOFAobject <- create_mofa(data_list, groups = groups)\n",
    "MOFAobject <- create_mofa(data_list)"
   ]
  },
  {
   "cell_type": "code",
   "execution_count": 71,
   "id": "16538928-d624-4d4a-9904-bba6da840606",
   "metadata": {
    "vscode": {
     "languageId": "r"
    }
   },
   "outputs": [
    {
     "data": {
      "text/plain": [
       "Untrained MOFA model with the following characteristics: \n",
       " Number of views: 2 \n",
       " Views names: mRNA miRNA \n",
       " Number of features (per view): 150 150 \n",
       " Number of groups: 1 \n",
       " Groups names: group1 \n",
       " Number of samples (per group): 408 \n",
       " "
      ]
     },
     "metadata": {},
     "output_type": "display_data"
    }
   ],
   "source": [
    "MOFAobject"
   ]
  },
  {
   "cell_type": "markdown",
   "id": "a77abacc-5ba6-4b55-982f-3397d8094f85",
   "metadata": {
    "jp-MarkdownHeadingCollapsed": true
   },
   "source": [
    "# Create MOFA object for tumor stage"
   ]
  },
  {
   "cell_type": "code",
   "execution_count": 206,
   "id": "dea139de-feae-45ae-bd39-70dfdb678505",
   "metadata": {
    "vscode": {
     "languageId": "r"
    }
   },
   "outputs": [
    {
     "data": {
      "text/html": [
       "<style>\n",
       ".list-inline {list-style: none; margin:0; padding: 0}\n",
       ".list-inline>li {display: inline-block}\n",
       ".list-inline>li:not(:last-child)::after {content: \"\\00b7\"; padding: 0 .5ex}\n",
       "</style>\n",
       "<ol class=list-inline><li>150</li><li>408</li></ol>\n"
      ],
      "text/latex": [
       "\\begin{enumerate*}\n",
       "\\item 150\n",
       "\\item 408\n",
       "\\end{enumerate*}\n"
      ],
      "text/markdown": [
       "1. 150\n",
       "2. 408\n",
       "\n",
       "\n"
      ],
      "text/plain": [
       "[1] 150 408"
      ]
     },
     "metadata": {},
     "output_type": "display_data"
    },
    {
     "data": {
      "text/html": [
       "<style>\n",
       ".list-inline {list-style: none; margin:0; padding: 0}\n",
       ".list-inline>li {display: inline-block}\n",
       ".list-inline>li:not(:last-child)::after {content: \"\\00b7\"; padding: 0 .5ex}\n",
       "</style>\n",
       "<ol class=list-inline><li>150</li><li>408</li></ol>\n"
      ],
      "text/latex": [
       "\\begin{enumerate*}\n",
       "\\item 150\n",
       "\\item 408\n",
       "\\end{enumerate*}\n"
      ],
      "text/markdown": [
       "1. 150\n",
       "2. 408\n",
       "\n",
       "\n"
      ],
      "text/plain": [
       "[1] 150 408"
      ]
     },
     "metadata": {},
     "output_type": "display_data"
    },
    {
     "data": {
      "text/html": [
       "<style>\n",
       ".list-inline {list-style: none; margin:0; padding: 0}\n",
       ".list-inline>li {display: inline-block}\n",
       ".list-inline>li:not(:last-child)::after {content: \"\\00b7\"; padding: 0 .5ex}\n",
       "</style>\n",
       "<ol class=list-inline><li>150</li><li>408</li></ol>\n"
      ],
      "text/latex": [
       "\\begin{enumerate*}\n",
       "\\item 150\n",
       "\\item 408\n",
       "\\end{enumerate*}\n"
      ],
      "text/markdown": [
       "1. 150\n",
       "2. 408\n",
       "\n",
       "\n"
      ],
      "text/plain": [
       "[1] 150 408"
      ]
     },
     "metadata": {},
     "output_type": "display_data"
    },
    {
     "data": {
      "text/html": [
       "408"
      ],
      "text/latex": [
       "408"
      ],
      "text/markdown": [
       "408"
      ],
      "text/plain": [
       "[1] 408"
      ]
     },
     "metadata": {},
     "output_type": "display_data"
    },
    {
     "name": "stderr",
     "output_type": "stream",
     "text": [
      "Creating MOFA object from a list of matrices (features as rows, sample as columns)...\n",
      "\n",
      "\n"
     ]
    },
    {
     "ename": "ERROR",
     "evalue": "Error in data.frame(sample = unname(unlist(foo)), group = unlist(lapply(names(foo), : arguments imply differing number of rows: 408, 376\n",
     "output_type": "error",
     "traceback": [
      "Error in data.frame(sample = unname(unlist(foo)), group = unlist(lapply(names(foo), : arguments imply differing number of rows: 408, 376\nTraceback:\n",
      "1. create_mofa(data_list, groups = groups)",
      "2. create_mofa_from_matrix(data, groups)",
      "3. .create_samples_metadata(object)",
      "4. data.frame(sample = unname(unlist(foo)), group = unlist(lapply(names(foo), \n .     function(x) rep(x, length(foo[[x]])))), stringsAsFactors = FALSE)",
      "5. stop(gettextf(\"arguments imply differing number of rows: %s\", \n .     paste(unique(nrows), collapse = \", \")), domain = NA)"
     ]
    }
   ],
   "source": [
    "dim(counts_new_matrix)\n",
    "dim(counts_miR_new_matrix)\n",
    "dim(m_values_new_matrix)\n",
    "\n",
    "# Combine preprocessed data into a list\n",
    "data_list <- list(\n",
    "  mRNA = counts_new_matrix,\n",
    "  miRNA = counts_miR_new_matrix,\n",
    "  Methylation = m_values_new_matrix\n",
    ")\n",
    "\n",
    "groups <- sorted_combined_df$ajcc_pathologic_stage\n",
    "length(groups)\n",
    "\n",
    "# Create MOFA object\n",
    "MOFAobject <- create_mofa(data_list, groups = groups)"
   ]
  },
  {
   "cell_type": "code",
   "execution_count": 71,
   "id": "2aaff2bd-995e-439c-87d9-2195845ff7bd",
   "metadata": {
    "vscode": {
     "languageId": "r"
    }
   },
   "outputs": [
    {
     "data": {
      "text/plain": [
       "Untrained MOFA model with the following characteristics: \n",
       " Number of views: 3 \n",
       " Views names: mRNA miRNA Methylation \n",
       " Number of features (per view): 2000 412 2000 \n",
       " Number of groups: 4 \n",
       " Groups names: Stage I Stage II Stage III Stage IV \n",
       " Number of samples (per group): 3 129 139 133 \n",
       " "
      ]
     },
     "metadata": {},
     "output_type": "display_data"
    }
   ],
   "source": [
    "MOFAobject"
   ]
  },
  {
   "cell_type": "markdown",
   "id": "07c5b6b3-ae6f-44d0-ae83-0b79f6f0944e",
   "metadata": {},
   "source": [
    "# Define MOFA options"
   ]
  },
  {
   "cell_type": "code",
   "execution_count": 72,
   "id": "9fe4aa70-e171-4c49-89c9-30d04f5079fd",
   "metadata": {
    "vscode": {
     "languageId": "r"
    }
   },
   "outputs": [
    {
     "data": {
      "text/html": [
       "<dl>\n",
       "\t<dt>$scale_views</dt>\n",
       "\t\t<dd>FALSE</dd>\n",
       "\t<dt>$scale_groups</dt>\n",
       "\t\t<dd>FALSE</dd>\n",
       "\t<dt>$center_groups</dt>\n",
       "\t\t<dd>TRUE</dd>\n",
       "\t<dt>$use_float32</dt>\n",
       "\t\t<dd>TRUE</dd>\n",
       "\t<dt>$views</dt>\n",
       "\t\t<dd><style>\n",
       ".list-inline {list-style: none; margin:0; padding: 0}\n",
       ".list-inline>li {display: inline-block}\n",
       ".list-inline>li:not(:last-child)::after {content: \"\\00b7\"; padding: 0 .5ex}\n",
       "</style>\n",
       "<ol class=list-inline><li>'mRNA'</li><li>'miRNA'</li></ol>\n",
       "</dd>\n",
       "\t<dt>$groups</dt>\n",
       "\t\t<dd>'group1'</dd>\n",
       "</dl>\n"
      ],
      "text/latex": [
       "\\begin{description}\n",
       "\\item[\\$scale\\_views] FALSE\n",
       "\\item[\\$scale\\_groups] FALSE\n",
       "\\item[\\$center\\_groups] TRUE\n",
       "\\item[\\$use\\_float32] TRUE\n",
       "\\item[\\$views] \\begin{enumerate*}\n",
       "\\item 'mRNA'\n",
       "\\item 'miRNA'\n",
       "\\end{enumerate*}\n",
       "\n",
       "\\item[\\$groups] 'group1'\n",
       "\\end{description}\n"
      ],
      "text/markdown": [
       "$scale_views\n",
       ":   FALSE\n",
       "$scale_groups\n",
       ":   FALSE\n",
       "$center_groups\n",
       ":   TRUE\n",
       "$use_float32\n",
       ":   TRUE\n",
       "$views\n",
       ":   1. 'mRNA'\n",
       "2. 'miRNA'\n",
       "\n",
       "\n",
       "\n",
       "$groups\n",
       ":   'group1'\n",
       "\n",
       "\n"
      ],
      "text/plain": [
       "$scale_views\n",
       "[1] FALSE\n",
       "\n",
       "$scale_groups\n",
       "[1] FALSE\n",
       "\n",
       "$center_groups\n",
       "[1] TRUE\n",
       "\n",
       "$use_float32\n",
       "[1] TRUE\n",
       "\n",
       "$views\n",
       "[1] \"mRNA\"  \"miRNA\"\n",
       "\n",
       "$groups\n",
       "[1] \"group1\"\n"
      ]
     },
     "metadata": {},
     "output_type": "display_data"
    },
    {
     "data": {
      "text/html": [
       "<dl>\n",
       "\t<dt>$likelihoods</dt>\n",
       "\t\t<dd><style>\n",
       ".dl-inline {width: auto; margin:0; padding: 0}\n",
       ".dl-inline>dt, .dl-inline>dd {float: none; width: auto; display: inline-block}\n",
       ".dl-inline>dt::after {content: \":\\0020\"; padding-right: .5ex}\n",
       ".dl-inline>dt:not(:first-of-type) {padding-left: .5ex}\n",
       "</style><dl class=dl-inline><dt>mRNA</dt><dd>'gaussian'</dd><dt>miRNA</dt><dd>'gaussian'</dd></dl>\n",
       "</dd>\n",
       "\t<dt>$num_factors</dt>\n",
       "\t\t<dd>15</dd>\n",
       "\t<dt>$spikeslab_factors</dt>\n",
       "\t\t<dd>FALSE</dd>\n",
       "\t<dt>$spikeslab_weights</dt>\n",
       "\t\t<dd>FALSE</dd>\n",
       "\t<dt>$ard_factors</dt>\n",
       "\t\t<dd>FALSE</dd>\n",
       "\t<dt>$ard_weights</dt>\n",
       "\t\t<dd>TRUE</dd>\n",
       "</dl>\n"
      ],
      "text/latex": [
       "\\begin{description}\n",
       "\\item[\\$likelihoods] \\begin{description*}\n",
       "\\item[mRNA] 'gaussian'\n",
       "\\item[miRNA] 'gaussian'\n",
       "\\end{description*}\n",
       "\n",
       "\\item[\\$num\\_factors] 15\n",
       "\\item[\\$spikeslab\\_factors] FALSE\n",
       "\\item[\\$spikeslab\\_weights] FALSE\n",
       "\\item[\\$ard\\_factors] FALSE\n",
       "\\item[\\$ard\\_weights] TRUE\n",
       "\\end{description}\n"
      ],
      "text/markdown": [
       "$likelihoods\n",
       ":   mRNA\n",
       ":   'gaussian'miRNA\n",
       ":   'gaussian'\n",
       "\n",
       "\n",
       "$num_factors\n",
       ":   15\n",
       "$spikeslab_factors\n",
       ":   FALSE\n",
       "$spikeslab_weights\n",
       ":   FALSE\n",
       "$ard_factors\n",
       ":   FALSE\n",
       "$ard_weights\n",
       ":   TRUE\n",
       "\n",
       "\n"
      ],
      "text/plain": [
       "$likelihoods\n",
       "      mRNA      miRNA \n",
       "\"gaussian\" \"gaussian\" \n",
       "\n",
       "$num_factors\n",
       "[1] 15\n",
       "\n",
       "$spikeslab_factors\n",
       "[1] FALSE\n",
       "\n",
       "$spikeslab_weights\n",
       "[1] FALSE\n",
       "\n",
       "$ard_factors\n",
       "[1] FALSE\n",
       "\n",
       "$ard_weights\n",
       "[1] TRUE\n"
      ]
     },
     "metadata": {},
     "output_type": "display_data"
    },
    {
     "data": {
      "text/html": [
       "<dl>\n",
       "\t<dt>$maxiter</dt>\n",
       "\t\t<dd>1000</dd>\n",
       "\t<dt>$convergence_mode</dt>\n",
       "\t\t<dd>'fast'</dd>\n",
       "\t<dt>$drop_factor_threshold</dt>\n",
       "\t\t<dd>-1</dd>\n",
       "\t<dt>$verbose</dt>\n",
       "\t\t<dd>FALSE</dd>\n",
       "\t<dt>$startELBO</dt>\n",
       "\t\t<dd>1</dd>\n",
       "\t<dt>$freqELBO</dt>\n",
       "\t\t<dd>5</dd>\n",
       "</dl>\n"
      ],
      "text/latex": [
       "\\begin{description}\n",
       "\\item[\\$maxiter] 1000\n",
       "\\item[\\$convergence\\_mode] 'fast'\n",
       "\\item[\\$drop\\_factor\\_threshold] -1\n",
       "\\item[\\$verbose] FALSE\n",
       "\\item[\\$startELBO] 1\n",
       "\\item[\\$freqELBO] 5\n",
       "\\end{description}\n"
      ],
      "text/markdown": [
       "$maxiter\n",
       ":   1000\n",
       "$convergence_mode\n",
       ":   'fast'\n",
       "$drop_factor_threshold\n",
       ":   -1\n",
       "$verbose\n",
       ":   FALSE\n",
       "$startELBO\n",
       ":   1\n",
       "$freqELBO\n",
       ":   5\n",
       "\n",
       "\n"
      ],
      "text/plain": [
       "$maxiter\n",
       "[1] 1000\n",
       "\n",
       "$convergence_mode\n",
       "[1] \"fast\"\n",
       "\n",
       "$drop_factor_threshold\n",
       "[1] -1\n",
       "\n",
       "$verbose\n",
       "[1] FALSE\n",
       "\n",
       "$startELBO\n",
       "[1] 1\n",
       "\n",
       "$freqELBO\n",
       "[1] 5\n"
      ]
     },
     "metadata": {},
     "output_type": "display_data"
    }
   ],
   "source": [
    "data_opts <- get_default_data_options(MOFAobject)\n",
    "head(data_opts)\n",
    "model_opts <- get_default_model_options(MOFAobject)\n",
    "head(model_opts)\n",
    "train_opts <- get_default_training_options(MOFAobject)\n",
    "head(train_opts)"
   ]
  },
  {
   "cell_type": "code",
   "execution_count": 73,
   "id": "85655554-96fa-4395-b631-3d3d0c35450b",
   "metadata": {
    "vscode": {
     "languageId": "r"
    }
   },
   "outputs": [
    {
     "data": {
      "text/html": [
       "<dl>\n",
       "\t<dt>$likelihoods</dt>\n",
       "\t\t<dd><style>\n",
       ".dl-inline {width: auto; margin:0; padding: 0}\n",
       ".dl-inline>dt, .dl-inline>dd {float: none; width: auto; display: inline-block}\n",
       ".dl-inline>dt::after {content: \":\\0020\"; padding-right: .5ex}\n",
       ".dl-inline>dt:not(:first-of-type) {padding-left: .5ex}\n",
       "</style><dl class=dl-inline><dt>mRNA</dt><dd>'gaussian'</dd><dt>miRNA</dt><dd>'gaussian'</dd></dl>\n",
       "</dd>\n",
       "\t<dt>$num_factors</dt>\n",
       "\t\t<dd>10</dd>\n",
       "\t<dt>$spikeslab_factors</dt>\n",
       "\t\t<dd>FALSE</dd>\n",
       "\t<dt>$spikeslab_weights</dt>\n",
       "\t\t<dd>FALSE</dd>\n",
       "\t<dt>$ard_factors</dt>\n",
       "\t\t<dd>FALSE</dd>\n",
       "\t<dt>$ard_weights</dt>\n",
       "\t\t<dd>TRUE</dd>\n",
       "</dl>\n"
      ],
      "text/latex": [
       "\\begin{description}\n",
       "\\item[\\$likelihoods] \\begin{description*}\n",
       "\\item[mRNA] 'gaussian'\n",
       "\\item[miRNA] 'gaussian'\n",
       "\\end{description*}\n",
       "\n",
       "\\item[\\$num\\_factors] 10\n",
       "\\item[\\$spikeslab\\_factors] FALSE\n",
       "\\item[\\$spikeslab\\_weights] FALSE\n",
       "\\item[\\$ard\\_factors] FALSE\n",
       "\\item[\\$ard\\_weights] TRUE\n",
       "\\end{description}\n"
      ],
      "text/markdown": [
       "$likelihoods\n",
       ":   mRNA\n",
       ":   'gaussian'miRNA\n",
       ":   'gaussian'\n",
       "\n",
       "\n",
       "$num_factors\n",
       ":   10\n",
       "$spikeslab_factors\n",
       ":   FALSE\n",
       "$spikeslab_weights\n",
       ":   FALSE\n",
       "$ard_factors\n",
       ":   FALSE\n",
       "$ard_weights\n",
       ":   TRUE\n",
       "\n",
       "\n"
      ],
      "text/plain": [
       "$likelihoods\n",
       "      mRNA      miRNA \n",
       "\"gaussian\" \"gaussian\" \n",
       "\n",
       "$num_factors\n",
       "[1] 10\n",
       "\n",
       "$spikeslab_factors\n",
       "[1] FALSE\n",
       "\n",
       "$spikeslab_weights\n",
       "[1] FALSE\n",
       "\n",
       "$ard_factors\n",
       "[1] FALSE\n",
       "\n",
       "$ard_weights\n",
       "[1] TRUE\n"
      ]
     },
     "metadata": {},
     "output_type": "display_data"
    },
    {
     "data": {
      "text/html": [
       "<dl>\n",
       "\t<dt>$scale_views</dt>\n",
       "\t\t<dd>FALSE</dd>\n",
       "\t<dt>$scale_groups</dt>\n",
       "\t\t<dd>FALSE</dd>\n",
       "\t<dt>$center_groups</dt>\n",
       "\t\t<dd>TRUE</dd>\n",
       "\t<dt>$use_float32</dt>\n",
       "\t\t<dd>TRUE</dd>\n",
       "\t<dt>$views</dt>\n",
       "\t\t<dd><style>\n",
       ".list-inline {list-style: none; margin:0; padding: 0}\n",
       ".list-inline>li {display: inline-block}\n",
       ".list-inline>li:not(:last-child)::after {content: \"\\00b7\"; padding: 0 .5ex}\n",
       "</style>\n",
       "<ol class=list-inline><li>'mRNA'</li><li>'miRNA'</li></ol>\n",
       "</dd>\n",
       "\t<dt>$groups</dt>\n",
       "\t\t<dd>'group1'</dd>\n",
       "</dl>\n"
      ],
      "text/latex": [
       "\\begin{description}\n",
       "\\item[\\$scale\\_views] FALSE\n",
       "\\item[\\$scale\\_groups] FALSE\n",
       "\\item[\\$center\\_groups] TRUE\n",
       "\\item[\\$use\\_float32] TRUE\n",
       "\\item[\\$views] \\begin{enumerate*}\n",
       "\\item 'mRNA'\n",
       "\\item 'miRNA'\n",
       "\\end{enumerate*}\n",
       "\n",
       "\\item[\\$groups] 'group1'\n",
       "\\end{description}\n"
      ],
      "text/markdown": [
       "$scale_views\n",
       ":   FALSE\n",
       "$scale_groups\n",
       ":   FALSE\n",
       "$center_groups\n",
       ":   TRUE\n",
       "$use_float32\n",
       ":   TRUE\n",
       "$views\n",
       ":   1. 'mRNA'\n",
       "2. 'miRNA'\n",
       "\n",
       "\n",
       "\n",
       "$groups\n",
       ":   'group1'\n",
       "\n",
       "\n"
      ],
      "text/plain": [
       "$scale_views\n",
       "[1] FALSE\n",
       "\n",
       "$scale_groups\n",
       "[1] FALSE\n",
       "\n",
       "$center_groups\n",
       "[1] TRUE\n",
       "\n",
       "$use_float32\n",
       "[1] TRUE\n",
       "\n",
       "$views\n",
       "[1] \"mRNA\"  \"miRNA\"\n",
       "\n",
       "$groups\n",
       "[1] \"group1\"\n"
      ]
     },
     "metadata": {},
     "output_type": "display_data"
    }
   ],
   "source": [
    "train_opts$convergence_mode <- \"slow\"\n",
    "# train_opts$maxiter <- 2000\n",
    "# head(train_opts)\n",
    "model_opts$num_factors <- 10\n",
    "head(model_opts)\n",
    "# data_opts$scale_views <- TRUE\n",
    "# data_opts$scale_groups <- TRUE\n",
    "head(data_opts)"
   ]
  },
  {
   "cell_type": "code",
   "execution_count": 74,
   "id": "153ed519-77de-4a20-8cdf-e42f253e16a6",
   "metadata": {
    "vscode": {
     "languageId": "r"
    }
   },
   "outputs": [
    {
     "name": "stderr",
     "output_type": "stream",
     "text": [
      "Checking data options...\n",
      "\n",
      "Checking training options...\n",
      "\n",
      "Checking model options...\n",
      "\n"
     ]
    }
   ],
   "source": [
    "MOFAobject <- prepare_mofa(\n",
    "  object = MOFAobject,\n",
    "  data_options = data_opts,\n",
    "  model_options = model_opts,\n",
    "  training_options = train_opts\n",
    ")"
   ]
  },
  {
   "cell_type": "code",
   "execution_count": 75,
   "id": "1df25b12-6f87-42d8-a352-776c873597e7",
   "metadata": {
    "vscode": {
     "languageId": "r"
    }
   },
   "outputs": [
    {
     "name": "stderr",
     "output_type": "stream",
     "text": [
      "Connecting to the mofapy2 package using basilisk. \n",
      "    Set 'use_basilisk' to FALSE if you prefer to manually set the python binary using 'reticulate'.\n",
      "\n"
     ]
    }
   ],
   "source": [
    "outfile = file.path(getwd(),\"mRNA_miRNA_model.hdf5\")\n",
    "MOFAobject.trained <- run_mofa(MOFAobject, outfile, use_basilisk=TRUE)"
   ]
  },
  {
   "cell_type": "markdown",
   "id": "91ae9f6e-f7a5-4465-9c4b-746e5e316347",
   "metadata": {},
   "source": [
    "# Load trained model"
   ]
  },
  {
   "cell_type": "code",
   "execution_count": 215,
   "id": "a8e7f517-3118-4009-b922-33f353881854",
   "metadata": {
    "vscode": {
     "languageId": "r"
    }
   },
   "outputs": [
    {
     "name": "stderr",
     "output_type": "stream",
     "text": [
      "Warning message in .quality_control(object, verbose = verbose):\n",
      "“Factor(s) 1, 6 are strongly correlated with the total number of expressed features for at least one of your omics. Such factors appear when there are differences in the total 'levels' between your samples, *sometimes* because of poor normalisation in the preprocessing steps.\n",
      "”\n"
     ]
    }
   ],
   "source": [
    "model <- load_model(\"/home/thlamp/tcga/data/model.hdf5\")\n",
    "# model <- load_model(\"/home/thlamp/tcga/bladder_results/modelStages.hdf5\")\n",
    "# model <- load_model(\"/home/thlamp/tcga/bladder_results/selectedModel.hdf5\")\n",
    "# model <- load_model(\"/home/thlamp/tcga/bladder_results/selectedStageModel.hdf5\")"
   ]
  },
  {
   "cell_type": "code",
   "execution_count": 216,
   "id": "d68894e3-08f9-46e2-adab-7bc396350c9d",
   "metadata": {
    "vscode": {
     "languageId": "r"
    }
   },
   "outputs": [
    {
     "data": {
      "text/html": [
       "<table class=\"dataframe\">\n",
       "<caption>A data.frame: 1 × 2</caption>\n",
       "<thead>\n",
       "\t<tr><th></th><th scope=col>group</th><th scope=col>sample</th></tr>\n",
       "\t<tr><th></th><th scope=col>&lt;fct&gt;</th><th scope=col>&lt;chr&gt;</th></tr>\n",
       "</thead>\n",
       "<tbody>\n",
       "\t<tr><th scope=row>1</th><td>NT</td><td>TCGA-BC-A10Q-11A</td></tr>\n",
       "</tbody>\n",
       "</table>\n"
      ],
      "text/latex": [
       "A data.frame: 1 × 2\n",
       "\\begin{tabular}{r|ll}\n",
       "  & group & sample\\\\\n",
       "  & <fct> & <chr>\\\\\n",
       "\\hline\n",
       "\t1 & NT & TCGA-BC-A10Q-11A\\\\\n",
       "\\end{tabular}\n"
      ],
      "text/markdown": [
       "\n",
       "A data.frame: 1 × 2\n",
       "\n",
       "| <!--/--> | group &lt;fct&gt; | sample &lt;chr&gt; |\n",
       "|---|---|---|\n",
       "| 1 | NT | TCGA-BC-A10Q-11A |\n",
       "\n"
      ],
      "text/plain": [
       "  group sample          \n",
       "1 NT    TCGA-BC-A10Q-11A"
      ]
     },
     "metadata": {},
     "output_type": "display_data"
    }
   ],
   "source": [
    "head(samples_metadata(model), 1)"
   ]
  },
  {
   "cell_type": "code",
   "execution_count": 217,
   "id": "97a1d2e3-6ed8-4c7b-86be-053160e715f4",
   "metadata": {
    "vscode": {
     "languageId": "r"
    }
   },
   "outputs": [
    {
     "data": {
      "text/html": [
       "<table class=\"dataframe\">\n",
       "<caption>A data.frame: 1 × 9</caption>\n",
       "<thead>\n",
       "\t<tr><th></th><th scope=col>group</th><th scope=col>sample</th><th scope=col>shortLetterCode</th><th scope=col>ajcc_pathologic_stage</th><th scope=col>age_at_diagnosis</th><th scope=col>gender</th><th scope=col>ethnicity</th><th scope=col>race</th><th scope=col>days_to_death</th></tr>\n",
       "\t<tr><th></th><th scope=col>&lt;fct&gt;</th><th scope=col>&lt;chr&gt;</th><th scope=col>&lt;chr&gt;</th><th scope=col>&lt;chr&gt;</th><th scope=col>&lt;int&gt;</th><th scope=col>&lt;chr&gt;</th><th scope=col>&lt;chr&gt;</th><th scope=col>&lt;chr&gt;</th><th scope=col>&lt;int&gt;</th></tr>\n",
       "</thead>\n",
       "<tbody>\n",
       "\t<tr><th scope=row>1</th><td>NT</td><td>TCGA-BC-A10Q-11A</td><td>NT</td><td>NA</td><td>26400</td><td>female</td><td>not hispanic or latino</td><td>white</td><td>1135</td></tr>\n",
       "</tbody>\n",
       "</table>\n"
      ],
      "text/latex": [
       "A data.frame: 1 × 9\n",
       "\\begin{tabular}{r|lllllllll}\n",
       "  & group & sample & shortLetterCode & ajcc\\_pathologic\\_stage & age\\_at\\_diagnosis & gender & ethnicity & race & days\\_to\\_death\\\\\n",
       "  & <fct> & <chr> & <chr> & <chr> & <int> & <chr> & <chr> & <chr> & <int>\\\\\n",
       "\\hline\n",
       "\t1 & NT & TCGA-BC-A10Q-11A & NT & NA & 26400 & female & not hispanic or latino & white & 1135\\\\\n",
       "\\end{tabular}\n"
      ],
      "text/markdown": [
       "\n",
       "A data.frame: 1 × 9\n",
       "\n",
       "| <!--/--> | group &lt;fct&gt; | sample &lt;chr&gt; | shortLetterCode &lt;chr&gt; | ajcc_pathologic_stage &lt;chr&gt; | age_at_diagnosis &lt;int&gt; | gender &lt;chr&gt; | ethnicity &lt;chr&gt; | race &lt;chr&gt; | days_to_death &lt;int&gt; |\n",
       "|---|---|---|---|---|---|---|---|---|---|\n",
       "| 1 | NT | TCGA-BC-A10Q-11A | NT | NA | 26400 | female | not hispanic or latino | white | 1135 |\n",
       "\n"
      ],
      "text/plain": [
       "  group sample           shortLetterCode ajcc_pathologic_stage age_at_diagnosis\n",
       "1 NT    TCGA-BC-A10Q-11A NT              NA                    26400           \n",
       "  gender ethnicity              race  days_to_death\n",
       "1 female not hispanic or latino white 1135         "
      ]
     },
     "metadata": {},
     "output_type": "display_data"
    }
   ],
   "source": [
    "samples_metadata(model)$shortLetterCode <- \"\"\n",
    "samples_metadata(model)$shortLetterCode <- apply(as.matrix(samples_metadata(model)$sample),1, function (x){sorted_combined_df$shortLetterCode[which(sorted_combined_df$sample %in% x)]})\n",
    "\n",
    "\n",
    "samples_metadata(model)$ajcc_pathologic_stage <- \"\"\n",
    "samples_metadata(model)$ajcc_pathologic_stage <- apply(as.matrix(samples_metadata(model)$sample),1, function (x){sorted_combined_df$ajcc_pathologic_stage[which(sorted_combined_df$sample %in% x)]})\n",
    "\n",
    "samples_metadata(model)$age_at_diagnosis <- \"\"\n",
    "samples_metadata(model)$age_at_diagnosis <- apply(as.matrix(samples_metadata(model)$sample),1, function (x){sorted_combined_df$age_at_diagnosis[which(sorted_combined_df$sample %in% x)]})\n",
    "\n",
    "samples_metadata(model)$cigarettes_per_day <- \"\"\n",
    "samples_metadata(model)$cigarettes_per_day <- apply(as.matrix(samples_metadata(model)$sample),1, function (x){sorted_combined_df$cigarettes_per_day[which(sorted_combined_df$sample %in% x)]})\n",
    "\n",
    "samples_metadata(model)$gender <- \"\"\n",
    "samples_metadata(model)$gender <- apply(as.matrix(samples_metadata(model)$sample),1, function (x){sorted_combined_df$gender[which(sorted_combined_df$sample %in% x)]})\n",
    "\n",
    "samples_metadata(model)$ethnicity <- \"\"\n",
    "samples_metadata(model)$ethnicity <- apply(as.matrix(samples_metadata(model)$sample),1, function (x){sorted_combined_df$ethnicity[which(sorted_combined_df$sample %in% x)]})\n",
    "\n",
    "samples_metadata(model)$age_at_index <- \"\"\n",
    "samples_metadata(model)$age_at_index <- apply(as.matrix(samples_metadata(model)$sample),1, function (x){sorted_combined_df$age_at_index[which(sorted_combined_df$sample %in% x)]})\n",
    "\n",
    "samples_metadata(model)$race <- \"\"\n",
    "samples_metadata(model)$race <- apply(as.matrix(samples_metadata(model)$sample),1, function (x){sorted_combined_df$race[which(sorted_combined_df$sample %in% x)]})\n",
    "\n",
    "samples_metadata(model)$days_to_death <- \"\"\n",
    "samples_metadata(model)$days_to_death <- apply(as.matrix(samples_metadata(model)$sample),1, function (x){sorted_combined_df$days_to_death[which(sorted_combined_df$sample %in% x)]})\n",
    "\n",
    "head(samples_metadata(model), 1)"
   ]
  },
  {
   "cell_type": "code",
   "execution_count": 218,
   "id": "4e81da69-24b3-4ead-b3b3-26b29d926dd4",
   "metadata": {
    "vscode": {
     "languageId": "r"
    }
   },
   "outputs": [],
   "source": [
    "# saveRDS(model@samples_metadata, \"modelStages_metadata.rds\")\n",
    "# saveRDS(model@samples_metadata, \"model_metadata.rds\")\n",
    "saveRDS(model@samples_metadata, \"model_metadata.rds\")\n",
    "# saveRDS(model@samples_metadata, \"selectedStageModel_metadata.rds\")"
   ]
  },
  {
   "cell_type": "code",
   "execution_count": 219,
   "id": "18ac6af2-0c1f-40ba-9e4d-50e0f14be55c",
   "metadata": {
    "vscode": {
     "languageId": "r"
    }
   },
   "outputs": [],
   "source": [
    "samples_metadata <- readRDS(\"model_metadata.rds\")\n",
    "# samples_metadata <- readRDS(\"modelStages_metadata.rds\")\n",
    "# samples_metadata <- readRDS(\"selectedModel_metadata.rds\")\n",
    "# samples_metadata <- readRDS(\"selectedStageModel_metadata.rds\")"
   ]
  },
  {
   "cell_type": "code",
   "execution_count": 220,
   "id": "b63ffcda-3007-45ff-8d31-058b3e2a5d2f",
   "metadata": {
    "vscode": {
     "languageId": "r"
    }
   },
   "outputs": [
    {
     "data": {
      "text/html": [
       "<style>\n",
       ".list-inline {list-style: none; margin:0; padding: 0}\n",
       ".list-inline>li {display: inline-block}\n",
       ".list-inline>li:not(:last-child)::after {content: \"\\00b7\"; padding: 0 .5ex}\n",
       "</style>\n",
       "<ol class=list-inline><li>408</li><li>9</li></ol>\n"
      ],
      "text/latex": [
       "\\begin{enumerate*}\n",
       "\\item 408\n",
       "\\item 9\n",
       "\\end{enumerate*}\n"
      ],
      "text/markdown": [
       "1. 408\n",
       "2. 9\n",
       "\n",
       "\n"
      ],
      "text/plain": [
       "[1] 408   9"
      ]
     },
     "metadata": {},
     "output_type": "display_data"
    }
   ],
   "source": [
    "dim(samples_metadata)"
   ]
  },
  {
   "cell_type": "code",
   "execution_count": 221,
   "id": "722bb5ca-918b-4826-85f1-2bff27277a9f",
   "metadata": {
    "vscode": {
     "languageId": "r"
    }
   },
   "outputs": [
    {
     "data": {
      "text/html": [
       "<style>\n",
       ".list-inline {list-style: none; margin:0; padding: 0}\n",
       ".list-inline>li {display: inline-block}\n",
       ".list-inline>li:not(:last-child)::after {content: \"\\00b7\"; padding: 0 .5ex}\n",
       "</style>\n",
       "<ol class=list-inline><li>'female'</li><li>'male'</li></ol>\n"
      ],
      "text/latex": [
       "\\begin{enumerate*}\n",
       "\\item 'female'\n",
       "\\item 'male'\n",
       "\\end{enumerate*}\n"
      ],
      "text/markdown": [
       "1. 'female'\n",
       "2. 'male'\n",
       "\n",
       "\n"
      ],
      "text/plain": [
       "[1] \"female\" \"male\"  "
      ]
     },
     "metadata": {},
     "output_type": "display_data"
    }
   ],
   "source": [
    "unique(samples_metadata$gender)"
   ]
  },
  {
   "cell_type": "code",
   "execution_count": 222,
   "id": "a6c02c43-bdd2-4681-8a0a-97e076d9999b",
   "metadata": {
    "vscode": {
     "languageId": "r"
    }
   },
   "outputs": [
    {
     "data": {
      "text/html": [
       "0"
      ],
      "text/latex": [
       "0"
      ],
      "text/markdown": [
       "0"
      ],
      "text/plain": [
       "[1] 0"
      ]
     },
     "metadata": {},
     "output_type": "display_data"
    }
   ],
   "source": [
    "length(which(samples_metadata$group %in% 'Stage IV'))"
   ]
  },
  {
   "cell_type": "code",
   "execution_count": 223,
   "id": "cfd32e87-40ea-4162-9431-de870867ce0c",
   "metadata": {
    "vscode": {
     "languageId": "r"
    }
   },
   "outputs": [
    {
     "data": {
      "text/html": [
       "<table class=\"dataframe\">\n",
       "<caption>A data.frame: 3 × 9</caption>\n",
       "<thead>\n",
       "\t<tr><th></th><th scope=col>group</th><th scope=col>sample</th><th scope=col>shortLetterCode</th><th scope=col>ajcc_pathologic_stage</th><th scope=col>age_at_diagnosis</th><th scope=col>gender</th><th scope=col>ethnicity</th><th scope=col>race</th><th scope=col>days_to_death</th></tr>\n",
       "\t<tr><th></th><th scope=col>&lt;fct&gt;</th><th scope=col>&lt;chr&gt;</th><th scope=col>&lt;chr&gt;</th><th scope=col>&lt;chr&gt;</th><th scope=col>&lt;int&gt;</th><th scope=col>&lt;chr&gt;</th><th scope=col>&lt;chr&gt;</th><th scope=col>&lt;chr&gt;</th><th scope=col>&lt;int&gt;</th></tr>\n",
       "</thead>\n",
       "<tbody>\n",
       "\t<tr><th scope=row>1</th><td>NT</td><td>TCGA-BC-A10Q-11A</td><td>NT</td><td>NA</td><td>26400</td><td>female</td><td>not hispanic or latino</td><td>white</td><td>1135</td></tr>\n",
       "\t<tr><th scope=row>2</th><td>NT</td><td>TCGA-BC-A10R-11A</td><td>NT</td><td>NA</td><td>24274</td><td>female</td><td>not hispanic or latino</td><td>white</td><td> 308</td></tr>\n",
       "\t<tr><th scope=row>3</th><td>NT</td><td>TCGA-BC-A10T-11A</td><td>NT</td><td>NA</td><td>27944</td><td>male  </td><td>not hispanic or latino</td><td>white</td><td> 837</td></tr>\n",
       "</tbody>\n",
       "</table>\n"
      ],
      "text/latex": [
       "A data.frame: 3 × 9\n",
       "\\begin{tabular}{r|lllllllll}\n",
       "  & group & sample & shortLetterCode & ajcc\\_pathologic\\_stage & age\\_at\\_diagnosis & gender & ethnicity & race & days\\_to\\_death\\\\\n",
       "  & <fct> & <chr> & <chr> & <chr> & <int> & <chr> & <chr> & <chr> & <int>\\\\\n",
       "\\hline\n",
       "\t1 & NT & TCGA-BC-A10Q-11A & NT & NA & 26400 & female & not hispanic or latino & white & 1135\\\\\n",
       "\t2 & NT & TCGA-BC-A10R-11A & NT & NA & 24274 & female & not hispanic or latino & white &  308\\\\\n",
       "\t3 & NT & TCGA-BC-A10T-11A & NT & NA & 27944 & male   & not hispanic or latino & white &  837\\\\\n",
       "\\end{tabular}\n"
      ],
      "text/markdown": [
       "\n",
       "A data.frame: 3 × 9\n",
       "\n",
       "| <!--/--> | group &lt;fct&gt; | sample &lt;chr&gt; | shortLetterCode &lt;chr&gt; | ajcc_pathologic_stage &lt;chr&gt; | age_at_diagnosis &lt;int&gt; | gender &lt;chr&gt; | ethnicity &lt;chr&gt; | race &lt;chr&gt; | days_to_death &lt;int&gt; |\n",
       "|---|---|---|---|---|---|---|---|---|---|\n",
       "| 1 | NT | TCGA-BC-A10Q-11A | NT | NA | 26400 | female | not hispanic or latino | white | 1135 |\n",
       "| 2 | NT | TCGA-BC-A10R-11A | NT | NA | 24274 | female | not hispanic or latino | white |  308 |\n",
       "| 3 | NT | TCGA-BC-A10T-11A | NT | NA | 27944 | male   | not hispanic or latino | white |  837 |\n",
       "\n"
      ],
      "text/plain": [
       "  group sample           shortLetterCode ajcc_pathologic_stage age_at_diagnosis\n",
       "1 NT    TCGA-BC-A10Q-11A NT              NA                    26400           \n",
       "2 NT    TCGA-BC-A10R-11A NT              NA                    24274           \n",
       "3 NT    TCGA-BC-A10T-11A NT              NA                    27944           \n",
       "  gender ethnicity              race  days_to_death\n",
       "1 female not hispanic or latino white 1135         \n",
       "2 female not hispanic or latino white  308         \n",
       "3 male   not hispanic or latino white  837         "
      ]
     },
     "metadata": {},
     "output_type": "display_data"
    }
   ],
   "source": [
    "model@samples_metadata <- samples_metadata\n",
    "head(samples_metadata(model), 3)"
   ]
  },
  {
   "cell_type": "markdown",
   "id": "08ea4fb7-dc23-46e6-a2fa-fcf5c0450f64",
   "metadata": {},
   "source": [
    "### check groups in model"
   ]
  },
  {
   "cell_type": "code",
   "execution_count": 77,
   "id": "41d59c39-537d-4479-bdab-9365ed602d81",
   "metadata": {
    "vscode": {
     "languageId": "r"
    }
   },
   "outputs": [],
   "source": [
    "dataPrep <- readRDS(\"downloaded_dataPrep.rds\")\n",
    "data_met <- readRDS(\"downloaded_data_met.rds\")"
   ]
  },
  {
   "cell_type": "code",
   "execution_count": 78,
   "id": "9cd753cf-181d-4754-9d1a-66c40f9a554e",
   "metadata": {
    "vscode": {
     "languageId": "r"
    }
   },
   "outputs": [
    {
     "data": {
      "text/html": [
       "<style>\n",
       ".list-inline {list-style: none; margin:0; padding: 0}\n",
       ".list-inline>li {display: inline-block}\n",
       ".list-inline>li:not(:last-child)::after {content: \"\\00b7\"; padding: 0 .5ex}\n",
       "</style>\n",
       "<ol class=list-inline><li>870</li><li>10</li></ol>\n"
      ],
      "text/latex": [
       "\\begin{enumerate*}\n",
       "\\item 870\n",
       "\\item 10\n",
       "\\end{enumerate*}\n"
      ],
      "text/markdown": [
       "1. 870\n",
       "2. 10\n",
       "\n",
       "\n"
      ],
      "text/plain": [
       "[1] 870  10"
      ]
     },
     "metadata": {},
     "output_type": "display_data"
    },
    {
     "data": {
      "text/plain": [
       "DataFrame with 2 rows and 10 columns\n",
       "                                       sample shortLetterCode\n",
       "                                  <character>     <character>\n",
       "TCGA-CU-A3KJ-01A-11R-A21D-07 TCGA-CU-A3KJ-01A              TP\n",
       "TCGA-K4-A3WU-01B-11R-A23N-07 TCGA-K4-A3WU-01B              TP\n",
       "                             ajcc_pathologic_stage age_at_diagnosis\n",
       "                                       <character>        <integer>\n",
       "TCGA-CU-A3KJ-01A-11R-A21D-07             Stage III            27692\n",
       "TCGA-K4-A3WU-01B-11R-A23N-07             Stage III            32134\n",
       "                             cigarettes_per_day      gender\n",
       "                                      <numeric> <character>\n",
       "TCGA-CU-A3KJ-01A-11R-A21D-07            3.28767        male\n",
       "TCGA-K4-A3WU-01B-11R-A23N-07                 NA        male\n",
       "                                          ethnicity age_at_index        race\n",
       "                                        <character>    <integer> <character>\n",
       "TCGA-CU-A3KJ-01A-11R-A21D-07 not hispanic or latino           75       white\n",
       "TCGA-K4-A3WU-01B-11R-A23N-07 not hispanic or latino           87       white\n",
       "                             days_to_death\n",
       "                                 <integer>\n",
       "TCGA-CU-A3KJ-01A-11R-A21D-07            NA\n",
       "TCGA-K4-A3WU-01B-11R-A23N-07            NA"
      ]
     },
     "metadata": {},
     "output_type": "display_data"
    }
   ],
   "source": [
    "check_data <- rbind(colData(dataPrep)[, c(\"sample\", \"shortLetterCode\", \"ajcc_pathologic_stage\", \"age_at_diagnosis\",\t\n",
    "                                          \"cigarettes_per_day\",\t\"gender\", \"ethnicity\", \"age_at_index\", \"race\", \"days_to_death\")], \n",
    "                    colData(data_met)[, c(\"sample\", \"shortLetterCode\", \"ajcc_pathologic_stage\", \"age_at_diagnosis\",\t\n",
    "                                          \"cigarettes_per_day\",\t\"gender\", \"ethnicity\", \"age_at_index\", \"race\", \"days_to_death\")])\n",
    "dim(check_data)\n",
    "head(check_data, 2)"
   ]
  },
  {
   "cell_type": "code",
   "execution_count": 79,
   "id": "9767f571-2e11-443e-828f-1eb32487c4db",
   "metadata": {
    "vscode": {
     "languageId": "r"
    }
   },
   "outputs": [
    {
     "data": {
      "text/html": [
       "<style>\n",
       ".list-inline {list-style: none; margin:0; padding: 0}\n",
       ".list-inline>li {display: inline-block}\n",
       ".list-inline>li:not(:last-child)::after {content: \"\\00b7\"; padding: 0 .5ex}\n",
       "</style>\n",
       "<ol class=list-inline><li>438</li><li>10</li></ol>\n"
      ],
      "text/latex": [
       "\\begin{enumerate*}\n",
       "\\item 438\n",
       "\\item 10\n",
       "\\end{enumerate*}\n"
      ],
      "text/markdown": [
       "1. 438\n",
       "2. 10\n",
       "\n",
       "\n"
      ],
      "text/plain": [
       "[1] 438  10"
      ]
     },
     "metadata": {},
     "output_type": "display_data"
    },
    {
     "data": {
      "text/plain": [
       "DataFrame with 2 rows and 10 columns\n",
       "                                       sample shortLetterCode\n",
       "                                  <character>     <character>\n",
       "TCGA-CU-A3KJ-01A-11R-A21D-07 TCGA-CU-A3KJ-01A              TP\n",
       "TCGA-K4-A3WU-01B-11R-A23N-07 TCGA-K4-A3WU-01B              TP\n",
       "                             ajcc_pathologic_stage age_at_diagnosis\n",
       "                                       <character>        <integer>\n",
       "TCGA-CU-A3KJ-01A-11R-A21D-07             Stage III            27692\n",
       "TCGA-K4-A3WU-01B-11R-A23N-07             Stage III            32134\n",
       "                             cigarettes_per_day      gender\n",
       "                                      <numeric> <character>\n",
       "TCGA-CU-A3KJ-01A-11R-A21D-07            3.28767        male\n",
       "TCGA-K4-A3WU-01B-11R-A23N-07                 NA        male\n",
       "                                          ethnicity age_at_index        race\n",
       "                                        <character>    <integer> <character>\n",
       "TCGA-CU-A3KJ-01A-11R-A21D-07 not hispanic or latino           75       white\n",
       "TCGA-K4-A3WU-01B-11R-A23N-07 not hispanic or latino           87       white\n",
       "                             days_to_death\n",
       "                                 <integer>\n",
       "TCGA-CU-A3KJ-01A-11R-A21D-07            NA\n",
       "TCGA-K4-A3WU-01B-11R-A23N-07            NA"
      ]
     },
     "metadata": {},
     "output_type": "display_data"
    }
   ],
   "source": [
    "check_data <- check_data[which(!duplicated(check_data$sample)), ]\n",
    "dim(check_data)\n",
    "head(check_data, 2)"
   ]
  },
  {
   "cell_type": "code",
   "execution_count": 80,
   "id": "cd8190da-b613-4d91-9b79-2ad774c005ee",
   "metadata": {
    "vscode": {
     "languageId": "r"
    }
   },
   "outputs": [
    {
     "data": {
      "text/html": [
       "<table class=\"dataframe\">\n",
       "<caption>A data.frame: 5 × 10</caption>\n",
       "<thead>\n",
       "\t<tr><th></th><th scope=col>group</th><th scope=col>sample</th><th scope=col>shortLetterCode</th><th scope=col>ajcc_pathologic_stage</th><th scope=col>age_at_diagnosis</th><th scope=col>cigarettes_per_day</th><th scope=col>gender</th><th scope=col>ethnicity</th><th scope=col>race</th><th scope=col>days_to_death</th></tr>\n",
       "\t<tr><th></th><th scope=col>&lt;fct&gt;</th><th scope=col>&lt;chr&gt;</th><th scope=col>&lt;chr&gt;</th><th scope=col>&lt;chr&gt;</th><th scope=col>&lt;int&gt;</th><th scope=col>&lt;dbl&gt;</th><th scope=col>&lt;chr&gt;</th><th scope=col>&lt;chr&gt;</th><th scope=col>&lt;chr&gt;</th><th scope=col>&lt;int&gt;</th></tr>\n",
       "</thead>\n",
       "<tbody>\n",
       "\t<tr><th scope=row>1</th><td>NT</td><td>TCGA-BL-A13J-11A</td><td>NT</td><td>Stage IV </td><td>23927</td><td>1.315068</td><td>male  </td><td>not hispanic or latino</td><td>white       </td><td> 81</td></tr>\n",
       "\t<tr><th scope=row>2</th><td>NT</td><td>TCGA-BT-A20N-11A</td><td>NT</td><td>Stage III</td><td>26456</td><td>2.739726</td><td>male  </td><td>not reported          </td><td>not reported</td><td>795</td></tr>\n",
       "\t<tr><th scope=row>3</th><td>NT</td><td>TCGA-BT-A20R-11A</td><td>NT</td><td>Stage IV </td><td>28987</td><td>      NA</td><td>female</td><td>not hispanic or latino</td><td>white       </td><td>154</td></tr>\n",
       "\t<tr><th scope=row>4</th><td>NT</td><td>TCGA-BT-A20U-11A</td><td>NT</td><td>Stage III</td><td>25761</td><td>      NA</td><td>female</td><td>not hispanic or latino</td><td>white       </td><td>455</td></tr>\n",
       "\t<tr><th scope=row>5</th><td>NT</td><td>TCGA-BT-A20W-11A</td><td>NT</td><td>Stage II </td><td>26078</td><td>      NA</td><td>male  </td><td>not hispanic or latino</td><td>white       </td><td>254</td></tr>\n",
       "</tbody>\n",
       "</table>\n"
      ],
      "text/latex": [
       "A data.frame: 5 × 10\n",
       "\\begin{tabular}{r|llllllllll}\n",
       "  & group & sample & shortLetterCode & ajcc\\_pathologic\\_stage & age\\_at\\_diagnosis & cigarettes\\_per\\_day & gender & ethnicity & race & days\\_to\\_death\\\\\n",
       "  & <fct> & <chr> & <chr> & <chr> & <int> & <dbl> & <chr> & <chr> & <chr> & <int>\\\\\n",
       "\\hline\n",
       "\t1 & NT & TCGA-BL-A13J-11A & NT & Stage IV  & 23927 & 1.315068 & male   & not hispanic or latino & white        &  81\\\\\n",
       "\t2 & NT & TCGA-BT-A20N-11A & NT & Stage III & 26456 & 2.739726 & male   & not reported           & not reported & 795\\\\\n",
       "\t3 & NT & TCGA-BT-A20R-11A & NT & Stage IV  & 28987 &       NA & female & not hispanic or latino & white        & 154\\\\\n",
       "\t4 & NT & TCGA-BT-A20U-11A & NT & Stage III & 25761 &       NA & female & not hispanic or latino & white        & 455\\\\\n",
       "\t5 & NT & TCGA-BT-A20W-11A & NT & Stage II  & 26078 &       NA & male   & not hispanic or latino & white        & 254\\\\\n",
       "\\end{tabular}\n"
      ],
      "text/markdown": [
       "\n",
       "A data.frame: 5 × 10\n",
       "\n",
       "| <!--/--> | group &lt;fct&gt; | sample &lt;chr&gt; | shortLetterCode &lt;chr&gt; | ajcc_pathologic_stage &lt;chr&gt; | age_at_diagnosis &lt;int&gt; | cigarettes_per_day &lt;dbl&gt; | gender &lt;chr&gt; | ethnicity &lt;chr&gt; | race &lt;chr&gt; | days_to_death &lt;int&gt; |\n",
       "|---|---|---|---|---|---|---|---|---|---|---|\n",
       "| 1 | NT | TCGA-BL-A13J-11A | NT | Stage IV  | 23927 | 1.315068 | male   | not hispanic or latino | white        |  81 |\n",
       "| 2 | NT | TCGA-BT-A20N-11A | NT | Stage III | 26456 | 2.739726 | male   | not reported           | not reported | 795 |\n",
       "| 3 | NT | TCGA-BT-A20R-11A | NT | Stage IV  | 28987 |       NA | female | not hispanic or latino | white        | 154 |\n",
       "| 4 | NT | TCGA-BT-A20U-11A | NT | Stage III | 25761 |       NA | female | not hispanic or latino | white        | 455 |\n",
       "| 5 | NT | TCGA-BT-A20W-11A | NT | Stage II  | 26078 |       NA | male   | not hispanic or latino | white        | 254 |\n",
       "\n"
      ],
      "text/plain": [
       "  group sample           shortLetterCode ajcc_pathologic_stage age_at_diagnosis\n",
       "1 NT    TCGA-BL-A13J-11A NT              Stage IV              23927           \n",
       "2 NT    TCGA-BT-A20N-11A NT              Stage III             26456           \n",
       "3 NT    TCGA-BT-A20R-11A NT              Stage IV              28987           \n",
       "4 NT    TCGA-BT-A20U-11A NT              Stage III             25761           \n",
       "5 NT    TCGA-BT-A20W-11A NT              Stage II              26078           \n",
       "  cigarettes_per_day gender ethnicity              race         days_to_death\n",
       "1 1.315068           male   not hispanic or latino white         81          \n",
       "2 2.739726           male   not reported           not reported 795          \n",
       "3       NA           female not hispanic or latino white        154          \n",
       "4       NA           female not hispanic or latino white        455          \n",
       "5       NA           male   not hispanic or latino white        254          "
      ]
     },
     "metadata": {},
     "output_type": "display_data"
    }
   ],
   "source": [
    "head(samples_metadata(model), 5)"
   ]
  },
  {
   "cell_type": "code",
   "execution_count": 81,
   "id": "91120926-5e60-4c26-8b1c-3aa3be3b38e9",
   "metadata": {
    "vscode": {
     "languageId": "r"
    }
   },
   "outputs": [],
   "source": [
    "index <- c()\n",
    "# length(sorted_combined_df$sample_ids)\n",
    "for (x in 1:length(samples_metadata(model)$sample)) {\n",
    "    index[x] <- which(check_data$sample %in% samples_metadata(model)$sample[x])}"
   ]
  },
  {
   "cell_type": "code",
   "execution_count": 82,
   "id": "7f0f62fe-1785-406f-9e18-b1e131d99f9d",
   "metadata": {
    "vscode": {
     "languageId": "r"
    }
   },
   "outputs": [
    {
     "data": {
      "text/html": [
       "TRUE"
      ],
      "text/latex": [
       "TRUE"
      ],
      "text/markdown": [
       "TRUE"
      ],
      "text/plain": [
       "[1] TRUE"
      ]
     },
     "metadata": {},
     "output_type": "display_data"
    },
    {
     "data": {
      "text/html": [
       "TRUE"
      ],
      "text/latex": [
       "TRUE"
      ],
      "text/markdown": [
       "TRUE"
      ],
      "text/plain": [
       "[1] TRUE"
      ]
     },
     "metadata": {},
     "output_type": "display_data"
    },
    {
     "data": {
      "text/html": [
       "TRUE"
      ],
      "text/latex": [
       "TRUE"
      ],
      "text/markdown": [
       "TRUE"
      ],
      "text/plain": [
       "[1] TRUE"
      ]
     },
     "metadata": {},
     "output_type": "display_data"
    },
    {
     "data": {
      "text/html": [
       "TRUE"
      ],
      "text/latex": [
       "TRUE"
      ],
      "text/markdown": [
       "TRUE"
      ],
      "text/plain": [
       "[1] TRUE"
      ]
     },
     "metadata": {},
     "output_type": "display_data"
    },
    {
     "data": {
      "text/html": [
       "TRUE"
      ],
      "text/latex": [
       "TRUE"
      ],
      "text/markdown": [
       "TRUE"
      ],
      "text/plain": [
       "[1] TRUE"
      ]
     },
     "metadata": {},
     "output_type": "display_data"
    },
    {
     "data": {
      "text/html": [
       "TRUE"
      ],
      "text/latex": [
       "TRUE"
      ],
      "text/markdown": [
       "TRUE"
      ],
      "text/plain": [
       "[1] TRUE"
      ]
     },
     "metadata": {},
     "output_type": "display_data"
    },
    {
     "data": {
      "text/html": [
       "TRUE"
      ],
      "text/latex": [
       "TRUE"
      ],
      "text/markdown": [
       "TRUE"
      ],
      "text/plain": [
       "[1] TRUE"
      ]
     },
     "metadata": {},
     "output_type": "display_data"
    },
    {
     "data": {
      "text/html": [
       "TRUE"
      ],
      "text/latex": [
       "TRUE"
      ],
      "text/markdown": [
       "TRUE"
      ],
      "text/plain": [
       "[1] TRUE"
      ]
     },
     "metadata": {},
     "output_type": "display_data"
    },
    {
     "data": {
      "text/html": [
       "TRUE"
      ],
      "text/latex": [
       "TRUE"
      ],
      "text/markdown": [
       "TRUE"
      ],
      "text/plain": [
       "[1] TRUE"
      ]
     },
     "metadata": {},
     "output_type": "display_data"
    },
    {
     "data": {
      "text/html": [
       "TRUE"
      ],
      "text/latex": [
       "TRUE"
      ],
      "text/markdown": [
       "TRUE"
      ],
      "text/plain": [
       "[1] TRUE"
      ]
     },
     "metadata": {},
     "output_type": "display_data"
    }
   ],
   "source": [
    "identical(check_data$sample[index[x]], samples_metadata(model)$sample[x])\n",
    "\n",
    "# it works only for NT/TP model\n",
    "identical(check_data$shortLetterCode[index[x]], as.character(samples_metadata(model)$group[x]))\n",
    "# identical(check_data$ajcc_pathologic_stage[index[x]], as.character(samples_metadata(model)$group[x]))\n",
    "identical(check_data$shortLetterCode[index[x]], samples_metadata(model)$shortLetterCode[x])\n",
    "identical(check_data$ajcc_pathologic_stage[index[x]], samples_metadata(model)$ajcc_pathologic_stage[x])\n",
    "identical(check_data$age_at_diagnosis[index[x]], samples_metadata(model)$age_at_diagnosis[x])\n",
    "identical(check_data$cigarettes_per_day[index[x]], samples_metadata(model)$cigarettes_per_day[x])\n",
    "identical(check_data$gender[index[x]], samples_metadata(model)$gender[x])\n",
    "identical(check_data$ethnicity[index[x]], samples_metadata(model)$ethnicity[x])\n",
    "# identical(check_data$age_at_index[index[x]], samples_metadata(model)$age_at_index[x])\n",
    "identical(check_data$race[index[x]], samples_metadata(model)$race[x])\n",
    "identical(check_data$days_to_death[index[x]], samples_metadata(model)$days_to_death[x])"
   ]
  },
  {
   "cell_type": "code",
   "execution_count": 224,
   "id": "0f286cec-7a02-4a91-b77b-1660b67bb85c",
   "metadata": {
    "vscode": {
     "languageId": "r"
    }
   },
   "outputs": [
    {
     "data": {
      "text/html": [
       "<table class=\"dataframe\">\n",
       "<caption>A data.frame: 6 × 11</caption>\n",
       "<thead>\n",
       "\t<tr><th></th><th scope=col>group</th><th scope=col>sample</th><th scope=col>shortLetterCode</th><th scope=col>ajcc_pathologic_stage</th><th scope=col>age_at_diagnosis</th><th scope=col>cigarettes_per_day</th><th scope=col>gender</th><th scope=col>ethnicity</th><th scope=col>age_at_index</th><th scope=col>race</th><th scope=col>days_to_death</th></tr>\n",
       "\t<tr><th></th><th scope=col>&lt;fct&gt;</th><th scope=col>&lt;chr&gt;</th><th scope=col>&lt;chr&gt;</th><th scope=col>&lt;chr&gt;</th><th scope=col>&lt;int&gt;</th><th scope=col>&lt;dbl&gt;</th><th scope=col>&lt;chr&gt;</th><th scope=col>&lt;chr&gt;</th><th scope=col>&lt;int&gt;</th><th scope=col>&lt;chr&gt;</th><th scope=col>&lt;int&gt;</th></tr>\n",
       "</thead>\n",
       "<tbody>\n",
       "\t<tr><th scope=row>225</th><td>TP</td><td>TCGA-FD-A6TG-01A</td><td>TP</td><td>Stage IV </td><td>26893</td><td>0.5479452</td><td>male  </td><td>not hispanic or latino</td><td>73</td><td>white</td><td> 93</td></tr>\n",
       "\t<tr><th scope=row>10</th><td>NT</td><td>TCGA-GC-A3WC-11A</td><td>NT</td><td>Stage III</td><td>29295</td><td>0.7671233</td><td>female</td><td>not hispanic or latino</td><td>80</td><td>white</td><td> NA</td></tr>\n",
       "\t<tr><th scope=row>35</th><td>TP</td><td>TCGA-4Z-AA83-01A</td><td>TP</td><td>Stage II </td><td>19280</td><td>       NA</td><td>male  </td><td>not reported          </td><td>52</td><td>white</td><td> NA</td></tr>\n",
       "\t<tr><th scope=row>350</th><td>TP</td><td>TCGA-XF-A9SJ-01A</td><td>TP</td><td>Stage IV </td><td>30362</td><td>3.0136986</td><td>male  </td><td>not hispanic or latino</td><td>83</td><td>white</td><td> 98</td></tr>\n",
       "\t<tr><th scope=row>400</th><td>TP</td><td>TCGA-ZF-A9R9-01A</td><td>TP</td><td>Stage IV </td><td>21491</td><td>0.1643836</td><td>male  </td><td>not hispanic or latino</td><td>58</td><td>white</td><td>864</td></tr>\n",
       "\t<tr><th scope=row>158</th><td>TP</td><td>TCGA-E5-A4TZ-01A</td><td>TP</td><td>Stage IV </td><td>23566</td><td>4.6575342</td><td>male  </td><td>not hispanic or latino</td><td>64</td><td>white</td><td>467</td></tr>\n",
       "</tbody>\n",
       "</table>\n"
      ],
      "text/latex": [
       "A data.frame: 6 × 11\n",
       "\\begin{tabular}{r|lllllllllll}\n",
       "  & group & sample & shortLetterCode & ajcc\\_pathologic\\_stage & age\\_at\\_diagnosis & cigarettes\\_per\\_day & gender & ethnicity & age\\_at\\_index & race & days\\_to\\_death\\\\\n",
       "  & <fct> & <chr> & <chr> & <chr> & <int> & <dbl> & <chr> & <chr> & <int> & <chr> & <int>\\\\\n",
       "\\hline\n",
       "\t225 & TP & TCGA-FD-A6TG-01A & TP & Stage IV  & 26893 & 0.5479452 & male   & not hispanic or latino & 73 & white &  93\\\\\n",
       "\t10 & NT & TCGA-GC-A3WC-11A & NT & Stage III & 29295 & 0.7671233 & female & not hispanic or latino & 80 & white &  NA\\\\\n",
       "\t35 & TP & TCGA-4Z-AA83-01A & TP & Stage II  & 19280 &        NA & male   & not reported           & 52 & white &  NA\\\\\n",
       "\t350 & TP & TCGA-XF-A9SJ-01A & TP & Stage IV  & 30362 & 3.0136986 & male   & not hispanic or latino & 83 & white &  98\\\\\n",
       "\t400 & TP & TCGA-ZF-A9R9-01A & TP & Stage IV  & 21491 & 0.1643836 & male   & not hispanic or latino & 58 & white & 864\\\\\n",
       "\t158 & TP & TCGA-E5-A4TZ-01A & TP & Stage IV  & 23566 & 4.6575342 & male   & not hispanic or latino & 64 & white & 467\\\\\n",
       "\\end{tabular}\n"
      ],
      "text/markdown": [
       "\n",
       "A data.frame: 6 × 11\n",
       "\n",
       "| <!--/--> | group &lt;fct&gt; | sample &lt;chr&gt; | shortLetterCode &lt;chr&gt; | ajcc_pathologic_stage &lt;chr&gt; | age_at_diagnosis &lt;int&gt; | cigarettes_per_day &lt;dbl&gt; | gender &lt;chr&gt; | ethnicity &lt;chr&gt; | age_at_index &lt;int&gt; | race &lt;chr&gt; | days_to_death &lt;int&gt; |\n",
       "|---|---|---|---|---|---|---|---|---|---|---|---|\n",
       "| 225 | TP | TCGA-FD-A6TG-01A | TP | Stage IV  | 26893 | 0.5479452 | male   | not hispanic or latino | 73 | white |  93 |\n",
       "| 10 | NT | TCGA-GC-A3WC-11A | NT | Stage III | 29295 | 0.7671233 | female | not hispanic or latino | 80 | white |  NA |\n",
       "| 35 | TP | TCGA-4Z-AA83-01A | TP | Stage II  | 19280 |        NA | male   | not reported           | 52 | white |  NA |\n",
       "| 350 | TP | TCGA-XF-A9SJ-01A | TP | Stage IV  | 30362 | 3.0136986 | male   | not hispanic or latino | 83 | white |  98 |\n",
       "| 400 | TP | TCGA-ZF-A9R9-01A | TP | Stage IV  | 21491 | 0.1643836 | male   | not hispanic or latino | 58 | white | 864 |\n",
       "| 158 | TP | TCGA-E5-A4TZ-01A | TP | Stage IV  | 23566 | 4.6575342 | male   | not hispanic or latino | 64 | white | 467 |\n",
       "\n"
      ],
      "text/plain": [
       "    group sample           shortLetterCode ajcc_pathologic_stage\n",
       "225 TP    TCGA-FD-A6TG-01A TP              Stage IV             \n",
       "10  NT    TCGA-GC-A3WC-11A NT              Stage III            \n",
       "35  TP    TCGA-4Z-AA83-01A TP              Stage II             \n",
       "350 TP    TCGA-XF-A9SJ-01A TP              Stage IV             \n",
       "400 TP    TCGA-ZF-A9R9-01A TP              Stage IV             \n",
       "158 TP    TCGA-E5-A4TZ-01A TP              Stage IV             \n",
       "    age_at_diagnosis cigarettes_per_day gender ethnicity             \n",
       "225 26893            0.5479452          male   not hispanic or latino\n",
       "10  29295            0.7671233          female not hispanic or latino\n",
       "35  19280                   NA          male   not reported          \n",
       "350 30362            3.0136986          male   not hispanic or latino\n",
       "400 21491            0.1643836          male   not hispanic or latino\n",
       "158 23566            4.6575342          male   not hispanic or latino\n",
       "    age_at_index race  days_to_death\n",
       "225 73           white  93          \n",
       "10  80           white  NA          \n",
       "35  52           white  NA          \n",
       "350 83           white  98          \n",
       "400 58           white 864          \n",
       "158 64           white 467          "
      ]
     },
     "metadata": {},
     "output_type": "display_data"
    }
   ],
   "source": [
    "samples_metadata(model)[c(225,10,35,350,400,158), ]"
   ]
  },
  {
   "cell_type": "code",
   "execution_count": 869,
   "id": "c15af2ed-6770-403b-9a3e-0a3abf81cf8d",
   "metadata": {
    "vscode": {
     "languageId": "r"
    }
   },
   "outputs": [
    {
     "data": {
      "text/plain": [
       "DataFrame with 1 row and 9 columns\n",
       "                                       sample ajcc_pathologic_stage\n",
       "                                  <character>           <character>\n",
       "TCGA-BT-A2LB-01A-11R-A18C-07 TCGA-BT-A2LB-01A             Stage III\n",
       "                             age_at_diagnosis cigarettes_per_day      gender\n",
       "                                    <integer>          <numeric> <character>\n",
       "TCGA-BT-A2LB-01A-11R-A18C-07            26846                 NA      female\n",
       "                                          ethnicity age_at_index        race\n",
       "                                        <character>    <integer> <character>\n",
       "TCGA-BT-A2LB-01A-11R-A18C-07 not hispanic or latino           73       white\n",
       "                             days_to_death\n",
       "                                 <integer>\n",
       "TCGA-BT-A2LB-01A-11R-A18C-07           492"
      ]
     },
     "metadata": {},
     "output_type": "display_data"
    }
   ],
   "source": [
    "check_data[which(check_data$sample %in% \"TCGA-BT-A2LB-01A\"), \n",
    "           c(\"sample\", \"ajcc_pathologic_stage\", \"age_at_diagnosis\", \"cigarettes_per_day\", \"gender\", \"ethnicity\", \"age_at_index\", \"race\", \"days_to_death\")]"
   ]
  }
 ],
 "metadata": {
  "kernelspec": {
   "display_name": "R",
   "language": "R",
   "name": "ir"
  },
  "language_info": {
   "codemirror_mode": "r",
   "file_extension": ".r",
   "mimetype": "text/x-r-source",
   "name": "R",
   "pygments_lexer": "r",
   "version": "4.3.2"
  }
 },
 "nbformat": 4,
 "nbformat_minor": 5
}
