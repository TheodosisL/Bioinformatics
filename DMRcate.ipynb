{
 "cells": [
  {
   "cell_type": "markdown",
   "id": "5124906b",
   "metadata": {},
   "source": [
    "mamba create -n dmrcate r-base=4.0\n",
    "\n",
    "mamba install -c conda-forge -c bioconda bioconductor-dmrcate=2.4.0\n",
    "\n",
    "mamba install -c conda-forge notebook r-irkernel\n",
    "\n",
    "mamba clean --all -y"
   ]
  },
  {
   "cell_type": "code",
   "execution_count": 1,
   "id": "4d2ad673-ebc3-42aa-9759-c03c133fbf11",
   "metadata": {
    "vscode": {
     "languageId": "r"
    }
   },
   "outputs": [
    {
     "name": "stderr",
     "output_type": "stream",
     "text": [
      "Loading required package: minfi\n",
      "\n",
      "Loading required package: BiocGenerics\n",
      "\n",
      "Loading required package: parallel\n",
      "\n",
      "\n",
      "Attaching package: ‘BiocGenerics’\n",
      "\n",
      "\n",
      "The following objects are masked from ‘package:parallel’:\n",
      "\n",
      "    clusterApply, clusterApplyLB, clusterCall, clusterEvalQ,\n",
      "    clusterExport, clusterMap, parApply, parCapply, parLapply,\n",
      "    parLapplyLB, parRapply, parSapply, parSapplyLB\n",
      "\n",
      "\n",
      "The following objects are masked from ‘package:stats’:\n",
      "\n",
      "    IQR, mad, sd, var, xtabs\n",
      "\n",
      "\n",
      "The following objects are masked from ‘package:base’:\n",
      "\n",
      "    anyDuplicated, append, as.data.frame, basename, cbind, colnames,\n",
      "    dirname, do.call, duplicated, eval, evalq, Filter, Find, get, grep,\n",
      "    grepl, intersect, is.unsorted, lapply, Map, mapply, match, mget,\n",
      "    order, paste, pmax, pmax.int, pmin, pmin.int, Position, rank,\n",
      "    rbind, Reduce, rownames, sapply, setdiff, sort, table, tapply,\n",
      "    union, unique, unsplit, which.max, which.min\n",
      "\n",
      "\n",
      "Loading required package: GenomicRanges\n",
      "\n",
      "Loading required package: stats4\n",
      "\n",
      "Loading required package: S4Vectors\n",
      "\n",
      "\n",
      "Attaching package: ‘S4Vectors’\n",
      "\n",
      "\n",
      "The following object is masked from ‘package:base’:\n",
      "\n",
      "    expand.grid\n",
      "\n",
      "\n",
      "Loading required package: IRanges\n",
      "\n",
      "Loading required package: GenomeInfoDb\n",
      "\n",
      "Loading required package: SummarizedExperiment\n",
      "\n",
      "Loading required package: MatrixGenerics\n",
      "\n",
      "Loading required package: matrixStats\n",
      "\n",
      "\n",
      "Attaching package: ‘MatrixGenerics’\n",
      "\n",
      "\n",
      "The following objects are masked from ‘package:matrixStats’:\n",
      "\n",
      "    colAlls, colAnyNAs, colAnys, colAvgsPerRowSet, colCollapse,\n",
      "    colCounts, colCummaxs, colCummins, colCumprods, colCumsums,\n",
      "    colDiffs, colIQRDiffs, colIQRs, colLogSumExps, colMadDiffs,\n",
      "    colMads, colMaxs, colMeans2, colMedians, colMins, colOrderStats,\n",
      "    colProds, colQuantiles, colRanges, colRanks, colSdDiffs, colSds,\n",
      "    colSums2, colTabulates, colVarDiffs, colVars, colWeightedMads,\n",
      "    colWeightedMeans, colWeightedMedians, colWeightedSds,\n",
      "    colWeightedVars, rowAlls, rowAnyNAs, rowAnys, rowAvgsPerColSet,\n",
      "    rowCollapse, rowCounts, rowCummaxs, rowCummins, rowCumprods,\n",
      "    rowCumsums, rowDiffs, rowIQRDiffs, rowIQRs, rowLogSumExps,\n",
      "    rowMadDiffs, rowMads, rowMaxs, rowMeans2, rowMedians, rowMins,\n",
      "    rowOrderStats, rowProds, rowQuantiles, rowRanges, rowRanks,\n",
      "    rowSdDiffs, rowSds, rowSums2, rowTabulates, rowVarDiffs, rowVars,\n",
      "    rowWeightedMads, rowWeightedMeans, rowWeightedMedians,\n",
      "    rowWeightedSds, rowWeightedVars\n",
      "\n",
      "\n",
      "Loading required package: Biobase\n",
      "\n",
      "Welcome to Bioconductor\n",
      "\n",
      "    Vignettes contain introductory material; view with\n",
      "    'browseVignettes()'. To cite Bioconductor, see\n",
      "    'citation(\"Biobase\")', and for packages 'citation(\"pkgname\")'.\n",
      "\n",
      "\n",
      "\n",
      "Attaching package: ‘Biobase’\n",
      "\n",
      "\n",
      "The following object is masked from ‘package:MatrixGenerics’:\n",
      "\n",
      "    rowMedians\n",
      "\n",
      "\n",
      "The following objects are masked from ‘package:matrixStats’:\n",
      "\n",
      "    anyMissing, rowMedians\n",
      "\n",
      "\n",
      "Loading required package: Biostrings\n",
      "\n",
      "Loading required package: XVector\n",
      "\n",
      "\n",
      "Attaching package: ‘Biostrings’\n",
      "\n",
      "\n",
      "The following object is masked from ‘package:base’:\n",
      "\n",
      "    strsplit\n",
      "\n",
      "\n",
      "Loading required package: bumphunter\n",
      "\n",
      "Loading required package: foreach\n",
      "\n",
      "Loading required package: iterators\n",
      "\n",
      "Loading required package: locfit\n",
      "\n",
      "locfit 1.5-9.4 \t 2020-03-24\n",
      "\n",
      "Possible Ensembl SSL connectivity problems detected.\n",
      "Please see the 'Connection Troubleshooting' section of the biomaRt vignette\n",
      "vignette('accessing_ensembl', package = 'biomaRt')Error in curl::curl_fetch_memory(url, handle = handle) : \n",
      "  SSL certificate problem: certificate has expired\n",
      "\n",
      "\n",
      "Setting options('download.file.method.GEOquery'='auto')\n",
      "\n",
      "Setting options('GEOquery.inmemory.gpl'=FALSE)\n",
      "\n",
      "Warning message:\n",
      "\"replacing previous import 'minfi::getMeth' by 'bsseq::getMeth' when loading 'DMRcate'\"\n",
      "\n",
      "\n"
     ]
    }
   ],
   "source": [
    "library(DMRcate)"
   ]
  },
  {
   "cell_type": "code",
   "execution_count": 3,
   "id": "fefc16f3-213a-496e-b55b-9538d1dbdba9",
   "metadata": {
    "vscode": {
     "languageId": "r"
    }
   },
   "outputs": [],
   "source": [
    "setwd('/home/thlamp/tcga/data')"
   ]
  },
  {
   "cell_type": "code",
   "execution_count": 4,
   "id": "db420dd7-ff7b-4166-93f8-7faac84e66cc",
   "metadata": {
    "vscode": {
     "languageId": "r"
    }
   },
   "outputs": [
    {
     "data": {
      "text/html": [
       "<style>\n",
       ".list-inline {list-style: none; margin:0; padding: 0}\n",
       ".list-inline>li {display: inline-block}\n",
       ".list-inline>li:not(:last-child)::after {content: \"\\00b7\"; padding: 0 .5ex}\n",
       "</style>\n",
       "<ol class=list-inline><li>485577</li><li>427</li></ol>\n"
      ],
      "text/latex": [
       "\\begin{enumerate*}\n",
       "\\item 485577\n",
       "\\item 427\n",
       "\\end{enumerate*}\n"
      ],
      "text/markdown": [
       "1. 485577\n",
       "2. 427\n",
       "\n",
       "\n"
      ],
      "text/plain": [
       "[1] 485577    427"
      ]
     },
     "metadata": {},
     "output_type": "display_data"
    }
   ],
   "source": [
    "meth_matrix <- readRDS(\"processed_meth_matrix.rds\")\n",
    "dim(meth_matrix)"
   ]
  },
  {
   "cell_type": "code",
   "execution_count": 5,
   "id": "0a540e8b-3662-421d-95b8-e539e45a1715",
   "metadata": {
    "vscode": {
     "languageId": "r"
    }
   },
   "outputs": [
    {
     "name": "stderr",
     "output_type": "stream",
     "text": [
      "using temporary cache /tmp/RtmpACXtZC/BiocFileCache\n",
      "\n",
      "snapshotDate(): 2020-10-27\n",
      "\n",
      "'getOption(\"repos\")' replaces Bioconductor standard repositories, see\n",
      "'?repositories' for details\n",
      "\n",
      "replacement repositories:\n",
      "    CRAN: https://cran.r-project.org\n",
      "\n",
      "\n",
      "Bioconductor version 3.12 (BiocManager 1.30.18), R 4.0.5 (2021-03-31)\n",
      "\n",
      "Installing package(s) 'DMRcatedata'\n",
      "\n",
      "also installing the dependencies 'rematch', 'cellranger', 'readxl'\n",
      "\n",
      "\n",
      "Updating HTML index of packages in '.Library'\n",
      "\n",
      "Making 'packages.html' ...\n",
      " done\n",
      "\n",
      "Old packages: 'acepack', 'AnnotationHub', 'askpass', 'backports', 'base64',\n",
      "  'BH', 'BiasedUrn', 'bibtex', 'BiocGenerics', 'BiocManager', 'bit', 'bit64',\n",
      "  'bitops', 'blob', 'brio', 'bslib', 'cachem', 'callr', 'checkmate', 'cli',\n",
      "  'cluster', 'codetools', 'colorspace', 'commonmark', 'cpp11', 'crayon',\n",
      "  'crosstalk', 'curl', 'data.table', 'DBI', 'dbplyr', 'deldir', 'desc',\n",
      "  'digest', 'DMRcate', 'doRNG', 'dplyr', 'DT', 'ensembldb', 'evaluate',\n",
      "  'ExperimentHub', 'fansi', 'farver', 'fastmap', 'fontawesome', 'foreign',\n",
      "  'formatR', 'Formula', 'fs', 'GenomeInfoDb', 'GenomicFeatures', 'ggplot2',\n",
      "  'glue', 'gtable', 'gtools', 'highr', 'hms', 'htmltools', 'htmlwidgets',\n",
      "  'httpuv', 'httr', 'interp', 'IRkernel', 'isoband', 'jpeg', 'jsonlite',\n",
      "  'knitr', 'labeling', 'later', 'lattice', 'lifecycle', 'matrixStats',\n",
      "  'mclust', 'mgcv', 'munsell', 'nlme', 'nnet', 'nor1mix', 'openssl', 'pbdZMQ',\n",
      "  'pillar', 'pkgload', 'plyr', 'png', 'prettyunits', 'processx', 'progress',\n",
      "  'promises', 'ps', 'purrr', 'R.oo', 'R.utils', 'Rcpp', 'RcppEigen', 'RCurl',\n",
      "  'readr', 'repr', 'rhdf5filters', 'rlang', 'rpart', 'rprojroot', 'RSQLite',\n",
      "  'rstudioapi', 'sass', 'scales', 'shiny', 'sourcetools', 'statmod', 'stringi',\n",
      "  'stringr', 'survival', 'sys', 'testthat', 'tibble', 'tidyr', 'tidyselect',\n",
      "  'tzdb', 'utf8', 'uuid', 'vctrs', 'viridis', 'viridisLite', 'vroom', 'waldo',\n",
      "  'withr', 'xfun', 'XML', 'xml2', 'yaml'\n",
      "\n",
      "see ?DMRcatedata and browseVignettes('DMRcatedata') for documentation\n",
      "\n",
      "downloading 1 resources\n",
      "\n",
      "retrieving 1 resource\n",
      "\n",
      "loading from cache\n",
      "\n",
      "see ?DMRcatedata and browseVignettes('DMRcatedata') for documentation\n",
      "\n",
      "downloading 1 resources\n",
      "\n",
      "retrieving 1 resource\n",
      "\n",
      "loading from cache\n",
      "\n",
      "see ?DMRcatedata and browseVignettes('DMRcatedata') for documentation\n",
      "\n",
      "downloading 1 resources\n",
      "\n",
      "retrieving 1 resource\n",
      "\n",
      "loading from cache\n",
      "\n"
     ]
    },
    {
     "data": {
      "text/html": [
       "<style>\n",
       ".list-inline {list-style: none; margin:0; padding: 0}\n",
       ".list-inline>li {display: inline-block}\n",
       ".list-inline>li:not(:last-child)::after {content: \"\\00b7\"; padding: 0 .5ex}\n",
       "</style>\n",
       "<ol class=list-inline><li>433660</li><li>427</li></ol>\n"
      ],
      "text/latex": [
       "\\begin{enumerate*}\n",
       "\\item 433660\n",
       "\\item 427\n",
       "\\end{enumerate*}\n"
      ],
      "text/markdown": [
       "1. 433660\n",
       "2. 427\n",
       "\n",
       "\n"
      ],
      "text/plain": [
       "[1] 433660    427"
      ]
     },
     "metadata": {},
     "output_type": "display_data"
    }
   ],
   "source": [
    "meth_matrix <- rmSNPandCH(meth_matrix, dist = 2, mafcut = 0.05, and = TRUE, rmcrosshyb = TRUE, rmXY = TRUE)\n",
    "dim(meth_matrix)"
   ]
  },
  {
   "cell_type": "code",
   "execution_count": 6,
   "id": "b873d059-7ba5-43d9-8849-95d58aebcd17",
   "metadata": {
    "vscode": {
     "languageId": "r"
    }
   },
   "outputs": [],
   "source": [
    "saveRDS(meth_matrix, \"processed_meth_matrix.rds\")"
   ]
  }
 ],
 "metadata": {
  "kernelspec": {
   "display_name": "R",
   "language": "R",
   "name": "ir"
  },
  "language_info": {
   "codemirror_mode": "r",
   "file_extension": ".r",
   "mimetype": "text/x-r-source",
   "name": "R",
   "pygments_lexer": "r",
   "version": "4.0.5"
  }
 },
 "nbformat": 4,
 "nbformat_minor": 5
}
